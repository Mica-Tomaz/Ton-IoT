{
  "nbformat": 4,
  "nbformat_minor": 0,
  "metadata": {
    "colab": {
      "provenance": []
    },
    "kernelspec": {
      "name": "python3",
      "display_name": "Python 3"
    },
    "language_info": {
      "name": "python"
    }
  },
  "cells": [
    {
      "cell_type": "markdown",
      "source": [
        "# Importando Bibliotecas"
      ],
      "metadata": {
        "id": "fuvxubphO2Z_"
      }
    },
    {
      "cell_type": "code",
      "source": [
        "# Bibliotecas\n",
        "import numpy as np\n",
        "import pandas as pd\n",
        "import matplotlib.pyplot as plt\n",
        "import seaborn as sns\n",
        "\n",
        "# Metricas e ferramentas de processamento do SKLEARN\n",
        "\n",
        "from sklearn import metrics  # Métricas adicionais para avaliação de modelos\n",
        "from sklearn.model_selection import train_test_split, KFold  # Funções para dividir dados em conjuntos de treino e teste, e para validação cruzada\n",
        "from sklearn.metrics import accuracy_score, confusion_matrix, classification_report  # Métricas de avaliação de modelos de classificação\n",
        "from sklearn.preprocessing import StandardScaler  # Ferramenta para pré-processamento de dados (escalonamento)\n",
        "from sklearn.model_selection import cross_val_score\n",
        "from sklearn.metrics import recall_score, precision_score, f1_score  # Métricas de avaliação de modelos de classificação\n",
        "\n",
        "\n",
        "# Técnicas de apredizado de máquina\n",
        "\n",
        "from sklearn.linear_model import LinearRegression  # Implementação de regressão linear\n",
        "from sklearn.naive_bayes import GaussianNB  # Implementação do algoritmo Naive Bayes Gaussiano\n",
        "from sklearn import tree  # Implementação de árvores de decisão\n",
        "from sklearn.ensemble import RandomForestClassifier  # Implementação de classificador de floresta aleatória\n",
        "from sklearn.svm import SVC  # Implementação do algoritmo SVM (Support Vector Machine)\n",
        "from sklearn.neighbors import KNeighborsClassifier # Implementação do algoritmo KNN\n",
        "from sklearn.linear_model import LogisticRegression\n",
        "# Bivlioteca TensorFlow\n",
        "\n",
        "from tensorflow.keras.models import Sequential  # Modelo de rede neural sequencial do Keras\n",
        "from tensorflow.keras.layers import *  # Camadas de uma rede neural no Keras\n",
        "from tensorflow.keras.callbacks import ModelCheckpoint  # Callback para salvar o modelo durante o treinamento\n",
        "from tensorflow.keras.losses import MeanSquaredError  # Função de perda para regressão no Keras\n",
        "from tensorflow.keras.metrics import RootMeanSquaredError  # Métrica adicional para avaliação de modelos de regressão\n",
        "from tensorflow.keras.optimizers import Adam  # Otimizador Adam para treinamento de redes neurais no Keras\n"
      ],
      "metadata": {
        "id": "L3CX6WVIEd1b"
      },
      "execution_count": null,
      "outputs": []
    },
    {
      "cell_type": "code",
      "source": [
        "# Importando Base de Dados Fridge\n",
        "weather = pd.read_csv('/content/Train_Test_IoT_Weather.csv')"
      ],
      "metadata": {
        "id": "u_XB4lq6OqYi"
      },
      "execution_count": null,
      "outputs": []
    },
    {
      "cell_type": "code",
      "source": [
        "# Definindo método de normalização de variáveis Max_Min\n",
        "def max_min(x):\n",
        "  return (x- x.min())/(x.max() - x.min())"
      ],
      "metadata": {
        "id": "0icO9SwiOs9Z"
      },
      "execution_count": null,
      "outputs": []
    },
    {
      "cell_type": "code",
      "source": [
        "# Mapeamento das variáveis nominais para numéricas\n",
        "mapeamento = {'normal':0, 'backdoor':1, 'injection':2, 'password':3, 'ransomware':4, 'xss':5, 'default': 0, 'scanning': 6, 'ddos': 7}"
      ],
      "metadata": {
        "id": "NDwtM0EDPV_k"
      },
      "execution_count": null,
      "outputs": []
    },
    {
      "cell_type": "markdown",
      "source": [
        "# Pré-processamento"
      ],
      "metadata": {
        "id": "cURJOgAUOxzJ"
      }
    },
    {
      "cell_type": "markdown",
      "source": [
        "Visão geral do Banco de dados"
      ],
      "metadata": {
        "id": "wmIzo7qePAhy"
      }
    },
    {
      "cell_type": "code",
      "source": [
        "weather.head()"
      ],
      "metadata": {
        "colab": {
          "base_uri": "https://localhost:8080/",
          "height": 206
        },
        "id": "2DboVqDmO7sI",
        "outputId": "db36928c-7956-4e8c-90aa-7a6fcd33d3c4"
      },
      "execution_count": null,
      "outputs": [
        {
          "output_type": "execute_result",
          "data": {
            "text/plain": [
              "           ts       date      time  temperature  pressure   humidity  label  \\\n",
              "0  1556238796  25-Apr-19  17:33:16    40.881866 -0.101806  38.363631      1   \n",
              "1  1556238796  25-Apr-19  17:33:16    44.913806  2.661616  46.141423      1   \n",
              "2  1556238796  25-Apr-19  17:33:16    38.295822 -2.438871  50.850643      1   \n",
              "3  1556238801  25-Apr-19  17:33:21    41.306586 -0.101806  38.363631      1   \n",
              "4  1556238801  25-Apr-19  17:33:21    44.903178  3.080849  46.141423      1   \n",
              "\n",
              "   type  \n",
              "0  ddos  \n",
              "1  ddos  \n",
              "2  ddos  \n",
              "3  ddos  \n",
              "4  ddos  "
            ],
            "text/html": [
              "\n",
              "  <div id=\"df-1feb6d76-16f0-45b1-bebe-c3fce2b0f309\" class=\"colab-df-container\">\n",
              "    <div>\n",
              "<style scoped>\n",
              "    .dataframe tbody tr th:only-of-type {\n",
              "        vertical-align: middle;\n",
              "    }\n",
              "\n",
              "    .dataframe tbody tr th {\n",
              "        vertical-align: top;\n",
              "    }\n",
              "\n",
              "    .dataframe thead th {\n",
              "        text-align: right;\n",
              "    }\n",
              "</style>\n",
              "<table border=\"1\" class=\"dataframe\">\n",
              "  <thead>\n",
              "    <tr style=\"text-align: right;\">\n",
              "      <th></th>\n",
              "      <th>ts</th>\n",
              "      <th>date</th>\n",
              "      <th>time</th>\n",
              "      <th>temperature</th>\n",
              "      <th>pressure</th>\n",
              "      <th>humidity</th>\n",
              "      <th>label</th>\n",
              "      <th>type</th>\n",
              "    </tr>\n",
              "  </thead>\n",
              "  <tbody>\n",
              "    <tr>\n",
              "      <th>0</th>\n",
              "      <td>1556238796</td>\n",
              "      <td>25-Apr-19</td>\n",
              "      <td>17:33:16</td>\n",
              "      <td>40.881866</td>\n",
              "      <td>-0.101806</td>\n",
              "      <td>38.363631</td>\n",
              "      <td>1</td>\n",
              "      <td>ddos</td>\n",
              "    </tr>\n",
              "    <tr>\n",
              "      <th>1</th>\n",
              "      <td>1556238796</td>\n",
              "      <td>25-Apr-19</td>\n",
              "      <td>17:33:16</td>\n",
              "      <td>44.913806</td>\n",
              "      <td>2.661616</td>\n",
              "      <td>46.141423</td>\n",
              "      <td>1</td>\n",
              "      <td>ddos</td>\n",
              "    </tr>\n",
              "    <tr>\n",
              "      <th>2</th>\n",
              "      <td>1556238796</td>\n",
              "      <td>25-Apr-19</td>\n",
              "      <td>17:33:16</td>\n",
              "      <td>38.295822</td>\n",
              "      <td>-2.438871</td>\n",
              "      <td>50.850643</td>\n",
              "      <td>1</td>\n",
              "      <td>ddos</td>\n",
              "    </tr>\n",
              "    <tr>\n",
              "      <th>3</th>\n",
              "      <td>1556238801</td>\n",
              "      <td>25-Apr-19</td>\n",
              "      <td>17:33:21</td>\n",
              "      <td>41.306586</td>\n",
              "      <td>-0.101806</td>\n",
              "      <td>38.363631</td>\n",
              "      <td>1</td>\n",
              "      <td>ddos</td>\n",
              "    </tr>\n",
              "    <tr>\n",
              "      <th>4</th>\n",
              "      <td>1556238801</td>\n",
              "      <td>25-Apr-19</td>\n",
              "      <td>17:33:21</td>\n",
              "      <td>44.903178</td>\n",
              "      <td>3.080849</td>\n",
              "      <td>46.141423</td>\n",
              "      <td>1</td>\n",
              "      <td>ddos</td>\n",
              "    </tr>\n",
              "  </tbody>\n",
              "</table>\n",
              "</div>\n",
              "    <div class=\"colab-df-buttons\">\n",
              "\n",
              "  <div class=\"colab-df-container\">\n",
              "    <button class=\"colab-df-convert\" onclick=\"convertToInteractive('df-1feb6d76-16f0-45b1-bebe-c3fce2b0f309')\"\n",
              "            title=\"Convert this dataframe to an interactive table.\"\n",
              "            style=\"display:none;\">\n",
              "\n",
              "  <svg xmlns=\"http://www.w3.org/2000/svg\" height=\"24px\" viewBox=\"0 -960 960 960\">\n",
              "    <path d=\"M120-120v-720h720v720H120Zm60-500h600v-160H180v160Zm220 220h160v-160H400v160Zm0 220h160v-160H400v160ZM180-400h160v-160H180v160Zm440 0h160v-160H620v160ZM180-180h160v-160H180v160Zm440 0h160v-160H620v160Z\"/>\n",
              "  </svg>\n",
              "    </button>\n",
              "\n",
              "  <style>\n",
              "    .colab-df-container {\n",
              "      display:flex;\n",
              "      gap: 12px;\n",
              "    }\n",
              "\n",
              "    .colab-df-convert {\n",
              "      background-color: #E8F0FE;\n",
              "      border: none;\n",
              "      border-radius: 50%;\n",
              "      cursor: pointer;\n",
              "      display: none;\n",
              "      fill: #1967D2;\n",
              "      height: 32px;\n",
              "      padding: 0 0 0 0;\n",
              "      width: 32px;\n",
              "    }\n",
              "\n",
              "    .colab-df-convert:hover {\n",
              "      background-color: #E2EBFA;\n",
              "      box-shadow: 0px 1px 2px rgba(60, 64, 67, 0.3), 0px 1px 3px 1px rgba(60, 64, 67, 0.15);\n",
              "      fill: #174EA6;\n",
              "    }\n",
              "\n",
              "    .colab-df-buttons div {\n",
              "      margin-bottom: 4px;\n",
              "    }\n",
              "\n",
              "    [theme=dark] .colab-df-convert {\n",
              "      background-color: #3B4455;\n",
              "      fill: #D2E3FC;\n",
              "    }\n",
              "\n",
              "    [theme=dark] .colab-df-convert:hover {\n",
              "      background-color: #434B5C;\n",
              "      box-shadow: 0px 1px 3px 1px rgba(0, 0, 0, 0.15);\n",
              "      filter: drop-shadow(0px 1px 2px rgba(0, 0, 0, 0.3));\n",
              "      fill: #FFFFFF;\n",
              "    }\n",
              "  </style>\n",
              "\n",
              "    <script>\n",
              "      const buttonEl =\n",
              "        document.querySelector('#df-1feb6d76-16f0-45b1-bebe-c3fce2b0f309 button.colab-df-convert');\n",
              "      buttonEl.style.display =\n",
              "        google.colab.kernel.accessAllowed ? 'block' : 'none';\n",
              "\n",
              "      async function convertToInteractive(key) {\n",
              "        const element = document.querySelector('#df-1feb6d76-16f0-45b1-bebe-c3fce2b0f309');\n",
              "        const dataTable =\n",
              "          await google.colab.kernel.invokeFunction('convertToInteractive',\n",
              "                                                    [key], {});\n",
              "        if (!dataTable) return;\n",
              "\n",
              "        const docLinkHtml = 'Like what you see? Visit the ' +\n",
              "          '<a target=\"_blank\" href=https://colab.research.google.com/notebooks/data_table.ipynb>data table notebook</a>'\n",
              "          + ' to learn more about interactive tables.';\n",
              "        element.innerHTML = '';\n",
              "        dataTable['output_type'] = 'display_data';\n",
              "        await google.colab.output.renderOutput(dataTable, element);\n",
              "        const docLink = document.createElement('div');\n",
              "        docLink.innerHTML = docLinkHtml;\n",
              "        element.appendChild(docLink);\n",
              "      }\n",
              "    </script>\n",
              "  </div>\n",
              "\n",
              "\n",
              "<div id=\"df-fc28561e-06a0-4a89-94ea-38bed24bc571\">\n",
              "  <button class=\"colab-df-quickchart\" onclick=\"quickchart('df-fc28561e-06a0-4a89-94ea-38bed24bc571')\"\n",
              "            title=\"Suggest charts\"\n",
              "            style=\"display:none;\">\n",
              "\n",
              "<svg xmlns=\"http://www.w3.org/2000/svg\" height=\"24px\"viewBox=\"0 0 24 24\"\n",
              "     width=\"24px\">\n",
              "    <g>\n",
              "        <path d=\"M19 3H5c-1.1 0-2 .9-2 2v14c0 1.1.9 2 2 2h14c1.1 0 2-.9 2-2V5c0-1.1-.9-2-2-2zM9 17H7v-7h2v7zm4 0h-2V7h2v10zm4 0h-2v-4h2v4z\"/>\n",
              "    </g>\n",
              "</svg>\n",
              "  </button>\n",
              "\n",
              "<style>\n",
              "  .colab-df-quickchart {\n",
              "      --bg-color: #E8F0FE;\n",
              "      --fill-color: #1967D2;\n",
              "      --hover-bg-color: #E2EBFA;\n",
              "      --hover-fill-color: #174EA6;\n",
              "      --disabled-fill-color: #AAA;\n",
              "      --disabled-bg-color: #DDD;\n",
              "  }\n",
              "\n",
              "  [theme=dark] .colab-df-quickchart {\n",
              "      --bg-color: #3B4455;\n",
              "      --fill-color: #D2E3FC;\n",
              "      --hover-bg-color: #434B5C;\n",
              "      --hover-fill-color: #FFFFFF;\n",
              "      --disabled-bg-color: #3B4455;\n",
              "      --disabled-fill-color: #666;\n",
              "  }\n",
              "\n",
              "  .colab-df-quickchart {\n",
              "    background-color: var(--bg-color);\n",
              "    border: none;\n",
              "    border-radius: 50%;\n",
              "    cursor: pointer;\n",
              "    display: none;\n",
              "    fill: var(--fill-color);\n",
              "    height: 32px;\n",
              "    padding: 0;\n",
              "    width: 32px;\n",
              "  }\n",
              "\n",
              "  .colab-df-quickchart:hover {\n",
              "    background-color: var(--hover-bg-color);\n",
              "    box-shadow: 0 1px 2px rgba(60, 64, 67, 0.3), 0 1px 3px 1px rgba(60, 64, 67, 0.15);\n",
              "    fill: var(--button-hover-fill-color);\n",
              "  }\n",
              "\n",
              "  .colab-df-quickchart-complete:disabled,\n",
              "  .colab-df-quickchart-complete:disabled:hover {\n",
              "    background-color: var(--disabled-bg-color);\n",
              "    fill: var(--disabled-fill-color);\n",
              "    box-shadow: none;\n",
              "  }\n",
              "\n",
              "  .colab-df-spinner {\n",
              "    border: 2px solid var(--fill-color);\n",
              "    border-color: transparent;\n",
              "    border-bottom-color: var(--fill-color);\n",
              "    animation:\n",
              "      spin 1s steps(1) infinite;\n",
              "  }\n",
              "\n",
              "  @keyframes spin {\n",
              "    0% {\n",
              "      border-color: transparent;\n",
              "      border-bottom-color: var(--fill-color);\n",
              "      border-left-color: var(--fill-color);\n",
              "    }\n",
              "    20% {\n",
              "      border-color: transparent;\n",
              "      border-left-color: var(--fill-color);\n",
              "      border-top-color: var(--fill-color);\n",
              "    }\n",
              "    30% {\n",
              "      border-color: transparent;\n",
              "      border-left-color: var(--fill-color);\n",
              "      border-top-color: var(--fill-color);\n",
              "      border-right-color: var(--fill-color);\n",
              "    }\n",
              "    40% {\n",
              "      border-color: transparent;\n",
              "      border-right-color: var(--fill-color);\n",
              "      border-top-color: var(--fill-color);\n",
              "    }\n",
              "    60% {\n",
              "      border-color: transparent;\n",
              "      border-right-color: var(--fill-color);\n",
              "    }\n",
              "    80% {\n",
              "      border-color: transparent;\n",
              "      border-right-color: var(--fill-color);\n",
              "      border-bottom-color: var(--fill-color);\n",
              "    }\n",
              "    90% {\n",
              "      border-color: transparent;\n",
              "      border-bottom-color: var(--fill-color);\n",
              "    }\n",
              "  }\n",
              "</style>\n",
              "\n",
              "  <script>\n",
              "    async function quickchart(key) {\n",
              "      const quickchartButtonEl =\n",
              "        document.querySelector('#' + key + ' button');\n",
              "      quickchartButtonEl.disabled = true;  // To prevent multiple clicks.\n",
              "      quickchartButtonEl.classList.add('colab-df-spinner');\n",
              "      try {\n",
              "        const charts = await google.colab.kernel.invokeFunction(\n",
              "            'suggestCharts', [key], {});\n",
              "      } catch (error) {\n",
              "        console.error('Error during call to suggestCharts:', error);\n",
              "      }\n",
              "      quickchartButtonEl.classList.remove('colab-df-spinner');\n",
              "      quickchartButtonEl.classList.add('colab-df-quickchart-complete');\n",
              "    }\n",
              "    (() => {\n",
              "      let quickchartButtonEl =\n",
              "        document.querySelector('#df-fc28561e-06a0-4a89-94ea-38bed24bc571 button');\n",
              "      quickchartButtonEl.style.display =\n",
              "        google.colab.kernel.accessAllowed ? 'block' : 'none';\n",
              "    })();\n",
              "  </script>\n",
              "</div>\n",
              "\n",
              "    </div>\n",
              "  </div>\n"
            ],
            "application/vnd.google.colaboratory.intrinsic+json": {
              "type": "dataframe",
              "variable_name": "weather",
              "summary": "{\n  \"name\": \"weather\",\n  \"rows\": 59260,\n  \"fields\": [\n    {\n      \"column\": \"ts\",\n      \"properties\": {\n        \"dtype\": \"number\",\n        \"std\": 1097970,\n        \"min\": 1554061012,\n        \"max\": 1556485179,\n        \"num_unique_values\": 23978,\n        \"samples\": [\n          1556322825,\n          1554165728,\n          1556453146\n        ],\n        \"semantic_type\": \"\",\n        \"description\": \"\"\n      }\n    },\n    {\n      \"column\": \"date\",\n      \"properties\": {\n        \"dtype\": \"object\",\n        \"num_unique_values\": 7,\n        \"samples\": [\n          \"25-Apr-19\",\n          \"28-Apr-19\",\n          \"27-Apr-19\"\n        ],\n        \"semantic_type\": \"\",\n        \"description\": \"\"\n      }\n    },\n    {\n      \"column\": \"time\",\n      \"properties\": {\n        \"dtype\": \"category\",\n        \"num_unique_values\": 23070,\n        \"samples\": [\n          \"4:02:55\",\n          \" 16:53:24 \",\n          \"12:41:44\"\n        ],\n        \"semantic_type\": \"\",\n        \"description\": \"\"\n      }\n    },\n    {\n      \"column\": \"temperature\",\n      \"properties\": {\n        \"dtype\": \"number\",\n        \"std\": 8.332902804954703,\n        \"min\": 20.52701229,\n        \"max\": 50.0,\n        \"num_unique_values\": 56501,\n        \"samples\": [\n          39.69834382,\n          35.9822142,\n          25.15882961\n        ],\n        \"semantic_type\": \"\",\n        \"description\": \"\"\n      }\n    },\n    {\n      \"column\": \"pressure\",\n      \"properties\": {\n        \"dtype\": \"number\",\n        \"std\": 2.7874939268606913,\n        \"min\": -12.06542597,\n        \"max\": 12.48761347,\n        \"num_unique_values\": 7940,\n        \"samples\": [\n          2.515472173,\n          1.067348729,\n          -6.868706046\n        ],\n        \"semantic_type\": \"\",\n        \"description\": \"\"\n      }\n    },\n    {\n      \"column\": \"humidity\",\n      \"properties\": {\n        \"dtype\": \"number\",\n        \"std\": 28.5500545768676,\n        \"min\": 0.278928199,\n        \"max\": 99.87598223,\n        \"num_unique_values\": 11056,\n        \"samples\": [\n          12.42496331,\n          77.03793091,\n          74.16634925\n        ],\n        \"semantic_type\": \"\",\n        \"description\": \"\"\n      }\n    },\n    {\n      \"column\": \"label\",\n      \"properties\": {\n        \"dtype\": \"number\",\n        \"std\": 0,\n        \"min\": 0,\n        \"max\": 1,\n        \"num_unique_values\": 2,\n        \"samples\": [\n          0,\n          1\n        ],\n        \"semantic_type\": \"\",\n        \"description\": \"\"\n      }\n    },\n    {\n      \"column\": \"type\",\n      \"properties\": {\n        \"dtype\": \"category\",\n        \"num_unique_values\": 8,\n        \"samples\": [\n          \"backdoor\",\n          \"ransomware\"\n        ],\n        \"semantic_type\": \"\",\n        \"description\": \"\"\n      }\n    }\n  ]\n}"
            }
          },
          "metadata": {},
          "execution_count": 18
        }
      ]
    },
    {
      "source": [
        "weather.groupby('type').size().plot(kind='barh', color=sns.palettes.mpl_palette('Dark2'))\n",
        "plt.gca().spines[['top', 'right',]].set_visible(False)\n",
        "plt.title(\"Tipos de ataques antes do mapeamento\")\n",
        "plt.grid()"
      ],
      "cell_type": "code",
      "execution_count": null,
      "outputs": [
        {
          "output_type": "display_data",
          "data": {
            "text/plain": [
              "<Figure size 640x480 with 1 Axes>"
            ],
            "image/png": "[encoded data removed]"
          },
          "metadata": {}
        }
      ],
      "metadata": {
        "colab": {
          "base_uri": "https://localhost:8080/",
          "height": 452
        },
        "id": "ZkjwTkCDPchA",
        "outputId": "41b8cdfc-5b67-4645-a4ae-cdbac8af2271"
      }
    },
    {
      "cell_type": "code",
      "source": [
        "weather = weather.replace(mapeamento)# mapeia as variáveis nominais"
      ],
      "metadata": {
        "id": "Of4huIbAPZvt"
      },
      "execution_count": null,
      "outputs": []
    },
    {
      "cell_type": "markdown",
      "source": [
        "Normatizando o banco de dados"
      ],
      "metadata": {
        "id": "OGxmIn-_PnxK"
      }
    },
    {
      "cell_type": "code",
      "source": [
        "weather['temperature'] = weather['temperature'].transform(max_min)\n",
        "weather['pressure'] = weather['pressure'].transform(max_min)\n",
        "weather['humidity'] = weather['humidity'].transform(max_min)"
      ],
      "metadata": {
        "id": "thXcnefZo9y4"
      },
      "execution_count": null,
      "outputs": []
    },
    {
      "cell_type": "code",
      "source": [
        "weather['ts'] = weather['ts'].transform(max_min)"
      ],
      "metadata": {
        "id": "NXGtSeqZDcFE"
      },
      "execution_count": null,
      "outputs": []
    },
    {
      "cell_type": "code",
      "source": [
        "# colunas = [0]*len(thermostat['type'])\n",
        "# for i in range (len(thermostat['type'])):\n",
        "#      colunas[i] = i\n",
        "# thermostat['coluns'] = colunas"
      ],
      "metadata": {
        "id": "OTQgB0Eir1rY"
      },
      "execution_count": null,
      "outputs": []
    },
    {
      "cell_type": "code",
      "source": [
        "#  thermostat['coluns'] = thermostat['coluns'].transform(max_min)"
      ],
      "metadata": {
        "id": "sKnk1f1wVanH"
      },
      "execution_count": null,
      "outputs": []
    },
    {
      "cell_type": "code",
      "source": [
        "weather.head()"
      ],
      "metadata": {
        "colab": {
          "base_uri": "https://localhost:8080/",
          "height": 206
        },
        "id": "nQmtz2GnmQOl",
        "outputId": "5c544e55-39c8-4473-d141-baccf3f0d9b1"
      },
      "execution_count": null,
      "outputs": [
        {
          "output_type": "execute_result",
          "data": {
            "text/plain": [
              "         ts       date      time  temperature  pressure  humidity  label  type\n",
              "0  0.898364  25-Apr-19  17:33:16     0.690627  0.487256  0.382388      1     7\n",
              "1  0.898364  25-Apr-19  17:33:16     0.827429  0.599805  0.460480      1     7\n",
              "2  0.898364  25-Apr-19  17:33:16     0.602885  0.392072  0.507763      1     7\n",
              "3  0.898366  25-Apr-19  17:33:21     0.705038  0.487256  0.382388      1     7\n",
              "4  0.898366  25-Apr-19  17:33:21     0.827068  0.616880  0.460480      1     7"
            ],
            "text/html": [
              "\n",
              "  <div id=\"df-e037978c-780b-4887-ba5c-538d154e61ff\" class=\"colab-df-container\">\n",
              "    <div>\n",
              "<style scoped>\n",
              "    .dataframe tbody tr th:only-of-type {\n",
              "        vertical-align: middle;\n",
              "    }\n",
              "\n",
              "    .dataframe tbody tr th {\n",
              "        vertical-align: top;\n",
              "    }\n",
              "\n",
              "    .dataframe thead th {\n",
              "        text-align: right;\n",
              "    }\n",
              "</style>\n",
              "<table border=\"1\" class=\"dataframe\">\n",
              "  <thead>\n",
              "    <tr style=\"text-align: right;\">\n",
              "      <th></th>\n",
              "      <th>ts</th>\n",
              "      <th>date</th>\n",
              "      <th>time</th>\n",
              "      <th>temperature</th>\n",
              "      <th>pressure</th>\n",
              "      <th>humidity</th>\n",
              "      <th>label</th>\n",
              "      <th>type</th>\n",
              "    </tr>\n",
              "  </thead>\n",
              "  <tbody>\n",
              "    <tr>\n",
              "      <th>0</th>\n",
              "      <td>0.898364</td>\n",
              "      <td>25-Apr-19</td>\n",
              "      <td>17:33:16</td>\n",
              "      <td>0.690627</td>\n",
              "      <td>0.487256</td>\n",
              "      <td>0.382388</td>\n",
              "      <td>1</td>\n",
              "      <td>7</td>\n",
              "    </tr>\n",
              "    <tr>\n",
              "      <th>1</th>\n",
              "      <td>0.898364</td>\n",
              "      <td>25-Apr-19</td>\n",
              "      <td>17:33:16</td>\n",
              "      <td>0.827429</td>\n",
              "      <td>0.599805</td>\n",
              "      <td>0.460480</td>\n",
              "      <td>1</td>\n",
              "      <td>7</td>\n",
              "    </tr>\n",
              "    <tr>\n",
              "      <th>2</th>\n",
              "      <td>0.898364</td>\n",
              "      <td>25-Apr-19</td>\n",
              "      <td>17:33:16</td>\n",
              "      <td>0.602885</td>\n",
              "      <td>0.392072</td>\n",
              "      <td>0.507763</td>\n",
              "      <td>1</td>\n",
              "      <td>7</td>\n",
              "    </tr>\n",
              "    <tr>\n",
              "      <th>3</th>\n",
              "      <td>0.898366</td>\n",
              "      <td>25-Apr-19</td>\n",
              "      <td>17:33:21</td>\n",
              "      <td>0.705038</td>\n",
              "      <td>0.487256</td>\n",
              "      <td>0.382388</td>\n",
              "      <td>1</td>\n",
              "      <td>7</td>\n",
              "    </tr>\n",
              "    <tr>\n",
              "      <th>4</th>\n",
              "      <td>0.898366</td>\n",
              "      <td>25-Apr-19</td>\n",
              "      <td>17:33:21</td>\n",
              "      <td>0.827068</td>\n",
              "      <td>0.616880</td>\n",
              "      <td>0.460480</td>\n",
              "      <td>1</td>\n",
              "      <td>7</td>\n",
              "    </tr>\n",
              "  </tbody>\n",
              "</table>\n",
              "</div>\n",
              "    <div class=\"colab-df-buttons\">\n",
              "\n",
              "  <div class=\"colab-df-container\">\n",
              "    <button class=\"colab-df-convert\" onclick=\"convertToInteractive('df-e037978c-780b-4887-ba5c-538d154e61ff')\"\n",
              "            title=\"Convert this dataframe to an interactive table.\"\n",
              "            style=\"display:none;\">\n",
              "\n",
              "  <svg xmlns=\"http://www.w3.org/2000/svg\" height=\"24px\" viewBox=\"0 -960 960 960\">\n",
              "    <path d=\"M120-120v-720h720v720H120Zm60-500h600v-160H180v160Zm220 220h160v-160H400v160Zm0 220h160v-160H400v160ZM180-400h160v-160H180v160Zm440 0h160v-160H620v160ZM180-180h160v-160H180v160Zm440 0h160v-160H620v160Z\"/>\n",
              "  </svg>\n",
              "    </button>\n",
              "\n",
              "  <style>\n",
              "    .colab-df-container {\n",
              "      display:flex;\n",
              "      gap: 12px;\n",
              "    }\n",
              "\n",
              "    .colab-df-convert {\n",
              "      background-color: #E8F0FE;\n",
              "      border: none;\n",
              "      border-radius: 50%;\n",
              "      cursor: pointer;\n",
              "      display: none;\n",
              "      fill: #1967D2;\n",
              "      height: 32px;\n",
              "      padding: 0 0 0 0;\n",
              "      width: 32px;\n",
              "    }\n",
              "\n",
              "    .colab-df-convert:hover {\n",
              "      background-color: #E2EBFA;\n",
              "      box-shadow: 0px 1px 2px rgba(60, 64, 67, 0.3), 0px 1px 3px 1px rgba(60, 64, 67, 0.15);\n",
              "      fill: #174EA6;\n",
              "    }\n",
              "\n",
              "    .colab-df-buttons div {\n",
              "      margin-bottom: 4px;\n",
              "    }\n",
              "\n",
              "    [theme=dark] .colab-df-convert {\n",
              "      background-color: #3B4455;\n",
              "      fill: #D2E3FC;\n",
              "    }\n",
              "\n",
              "    [theme=dark] .colab-df-convert:hover {\n",
              "      background-color: #434B5C;\n",
              "      box-shadow: 0px 1px 3px 1px rgba(0, 0, 0, 0.15);\n",
              "      filter: drop-shadow(0px 1px 2px rgba(0, 0, 0, 0.3));\n",
              "      fill: #FFFFFF;\n",
              "    }\n",
              "  </style>\n",
              "\n",
              "    <script>\n",
              "      const buttonEl =\n",
              "        document.querySelector('#df-e037978c-780b-4887-ba5c-538d154e61ff button.colab-df-convert');\n",
              "      buttonEl.style.display =\n",
              "        google.colab.kernel.accessAllowed ? 'block' : 'none';\n",
              "\n",
              "      async function convertToInteractive(key) {\n",
              "        const element = document.querySelector('#df-e037978c-780b-4887-ba5c-538d154e61ff');\n",
              "        const dataTable =\n",
              "          await google.colab.kernel.invokeFunction('convertToInteractive',\n",
              "                                                    [key], {});\n",
              "        if (!dataTable) return;\n",
              "\n",
              "        const docLinkHtml = 'Like what you see? Visit the ' +\n",
              "          '<a target=\"_blank\" href=https://colab.research.google.com/notebooks/data_table.ipynb>data table notebook</a>'\n",
              "          + ' to learn more about interactive tables.';\n",
              "        element.innerHTML = '';\n",
              "        dataTable['output_type'] = 'display_data';\n",
              "        await google.colab.output.renderOutput(dataTable, element);\n",
              "        const docLink = document.createElement('div');\n",
              "        docLink.innerHTML = docLinkHtml;\n",
              "        element.appendChild(docLink);\n",
              "      }\n",
              "    </script>\n",
              "  </div>\n",
              "\n",
              "\n",
              "<div id=\"df-af51b87f-adbb-4f4a-b4dd-04d2301c7f7d\">\n",
              "  <button class=\"colab-df-quickchart\" onclick=\"quickchart('df-af51b87f-adbb-4f4a-b4dd-04d2301c7f7d')\"\n",
              "            title=\"Suggest charts\"\n",
              "            style=\"display:none;\">\n",
              "\n",
              "<svg xmlns=\"http://www.w3.org/2000/svg\" height=\"24px\"viewBox=\"0 0 24 24\"\n",
              "     width=\"24px\">\n",
              "    <g>\n",
              "        <path d=\"M19 3H5c-1.1 0-2 .9-2 2v14c0 1.1.9 2 2 2h14c1.1 0 2-.9 2-2V5c0-1.1-.9-2-2-2zM9 17H7v-7h2v7zm4 0h-2V7h2v10zm4 0h-2v-4h2v4z\"/>\n",
              "    </g>\n",
              "</svg>\n",
              "  </button>\n",
              "\n",
              "<style>\n",
              "  .colab-df-quickchart {\n",
              "      --bg-color: #E8F0FE;\n",
              "      --fill-color: #1967D2;\n",
              "      --hover-bg-color: #E2EBFA;\n",
              "      --hover-fill-color: #174EA6;\n",
              "      --disabled-fill-color: #AAA;\n",
              "      --disabled-bg-color: #DDD;\n",
              "  }\n",
              "\n",
              "  [theme=dark] .colab-df-quickchart {\n",
              "      --bg-color: #3B4455;\n",
              "      --fill-color: #D2E3FC;\n",
              "      --hover-bg-color: #434B5C;\n",
              "      --hover-fill-color: #FFFFFF;\n",
              "      --disabled-bg-color: #3B4455;\n",
              "      --disabled-fill-color: #666;\n",
              "  }\n",
              "\n",
              "  .colab-df-quickchart {\n",
              "    background-color: var(--bg-color);\n",
              "    border: none;\n",
              "    border-radius: 50%;\n",
              "    cursor: pointer;\n",
              "    display: none;\n",
              "    fill: var(--fill-color);\n",
              "    height: 32px;\n",
              "    padding: 0;\n",
              "    width: 32px;\n",
              "  }\n",
              "\n",
              "  .colab-df-quickchart:hover {\n",
              "    background-color: var(--hover-bg-color);\n",
              "    box-shadow: 0 1px 2px rgba(60, 64, 67, 0.3), 0 1px 3px 1px rgba(60, 64, 67, 0.15);\n",
              "    fill: var(--button-hover-fill-color);\n",
              "  }\n",
              "\n",
              "  .colab-df-quickchart-complete:disabled,\n",
              "  .colab-df-quickchart-complete:disabled:hover {\n",
              "    background-color: var(--disabled-bg-color);\n",
              "    fill: var(--disabled-fill-color);\n",
              "    box-shadow: none;\n",
              "  }\n",
              "\n",
              "  .colab-df-spinner {\n",
              "    border: 2px solid var(--fill-color);\n",
              "    border-color: transparent;\n",
              "    border-bottom-color: var(--fill-color);\n",
              "    animation:\n",
              "      spin 1s steps(1) infinite;\n",
              "  }\n",
              "\n",
              "  @keyframes spin {\n",
              "    0% {\n",
              "      border-color: transparent;\n",
              "      border-bottom-color: var(--fill-color);\n",
              "      border-left-color: var(--fill-color);\n",
              "    }\n",
              "    20% {\n",
              "      border-color: transparent;\n",
              "      border-left-color: var(--fill-color);\n",
              "      border-top-color: var(--fill-color);\n",
              "    }\n",
              "    30% {\n",
              "      border-color: transparent;\n",
              "      border-left-color: var(--fill-color);\n",
              "      border-top-color: var(--fill-color);\n",
              "      border-right-color: var(--fill-color);\n",
              "    }\n",
              "    40% {\n",
              "      border-color: transparent;\n",
              "      border-right-color: var(--fill-color);\n",
              "      border-top-color: var(--fill-color);\n",
              "    }\n",
              "    60% {\n",
              "      border-color: transparent;\n",
              "      border-right-color: var(--fill-color);\n",
              "    }\n",
              "    80% {\n",
              "      border-color: transparent;\n",
              "      border-right-color: var(--fill-color);\n",
              "      border-bottom-color: var(--fill-color);\n",
              "    }\n",
              "    90% {\n",
              "      border-color: transparent;\n",
              "      border-bottom-color: var(--fill-color);\n",
              "    }\n",
              "  }\n",
              "</style>\n",
              "\n",
              "  <script>\n",
              "    async function quickchart(key) {\n",
              "      const quickchartButtonEl =\n",
              "        document.querySelector('#' + key + ' button');\n",
              "      quickchartButtonEl.disabled = true;  // To prevent multiple clicks.\n",
              "      quickchartButtonEl.classList.add('colab-df-spinner');\n",
              "      try {\n",
              "        const charts = await google.colab.kernel.invokeFunction(\n",
              "            'suggestCharts', [key], {});\n",
              "      } catch (error) {\n",
              "        console.error('Error during call to suggestCharts:', error);\n",
              "      }\n",
              "      quickchartButtonEl.classList.remove('colab-df-spinner');\n",
              "      quickchartButtonEl.classList.add('colab-df-quickchart-complete');\n",
              "    }\n",
              "    (() => {\n",
              "      let quickchartButtonEl =\n",
              "        document.querySelector('#df-af51b87f-adbb-4f4a-b4dd-04d2301c7f7d button');\n",
              "      quickchartButtonEl.style.display =\n",
              "        google.colab.kernel.accessAllowed ? 'block' : 'none';\n",
              "    })();\n",
              "  </script>\n",
              "</div>\n",
              "\n",
              "    </div>\n",
              "  </div>\n"
            ],
            "application/vnd.google.colaboratory.intrinsic+json": {
              "type": "dataframe",
              "variable_name": "weather",
              "summary": "{\n  \"name\": \"weather\",\n  \"rows\": 59260,\n  \"fields\": [\n    {\n      \"column\": \"ts\",\n      \"properties\": {\n        \"dtype\": \"number\",\n        \"std\": 0.4529268421371809,\n        \"min\": 0.0,\n        \"max\": 1.0,\n        \"num_unique_values\": 23978,\n        \"samples\": [\n          0.9330268912991555,\n          0.04319669395714074,\n          0.98678597637869\n        ],\n        \"semantic_type\": \"\",\n        \"description\": \"\"\n      }\n    },\n    {\n      \"column\": \"date\",\n      \"properties\": {\n        \"dtype\": \"object\",\n        \"num_unique_values\": 7,\n        \"samples\": [\n          \"25-Apr-19\",\n          \"28-Apr-19\",\n          \"27-Apr-19\"\n        ],\n        \"semantic_type\": \"\",\n        \"description\": \"\"\n      }\n    },\n    {\n      \"column\": \"time\",\n      \"properties\": {\n        \"dtype\": \"category\",\n        \"num_unique_values\": 23070,\n        \"samples\": [\n          \"4:02:55\",\n          \" 16:53:24 \",\n          \"12:41:44\"\n        ],\n        \"semantic_type\": \"\",\n        \"description\": \"\"\n      }\n    },\n    {\n      \"column\": \"temperature\",\n      \"properties\": {\n        \"dtype\": \"number\",\n        \"std\": 0.28273016929761075,\n        \"min\": 0.0,\n        \"max\": 1.0,\n        \"num_unique_values\": 56501,\n        \"samples\": [\n          0.6504712626570698,\n          0.5243853138362402,\n          0.15715465854954558\n        ],\n        \"semantic_type\": \"\",\n        \"description\": \"\"\n      }\n    },\n    {\n      \"column\": \"pressure\",\n      \"properties\": {\n        \"dtype\": \"number\",\n        \"std\": 0.11352948516506318,\n        \"min\": 0.0,\n        \"max\": 1.0,\n        \"num_unique_values\": 7940,\n        \"samples\": [\n          0.593853081962874,\n          0.5348736856425625,\n          0.21165281539579525\n        ],\n        \"semantic_type\": \"\",\n        \"description\": \"\"\n      }\n    },\n    {\n      \"column\": \"humidity\",\n      \"properties\": {\n        \"dtype\": \"number\",\n        \"std\": 0.28665561300619663,\n        \"min\": 0.0,\n        \"max\": 1.0,\n        \"num_unique_values\": 11056,\n        \"samples\": [\n          0.12195175077386824,\n          0.7706955136153769,\n          0.7418635196579431\n        ],\n        \"semantic_type\": \"\",\n        \"description\": \"\"\n      }\n    },\n    {\n      \"column\": \"label\",\n      \"properties\": {\n        \"dtype\": \"number\",\n        \"std\": 0,\n        \"min\": 0,\n        \"max\": 1,\n        \"num_unique_values\": 2,\n        \"samples\": [\n          0,\n          1\n        ],\n        \"semantic_type\": \"\",\n        \"description\": \"\"\n      }\n    },\n    {\n      \"column\": \"type\",\n      \"properties\": {\n        \"dtype\": \"number\",\n        \"std\": 2,\n        \"min\": 0,\n        \"max\": 7,\n        \"num_unique_values\": 8,\n        \"samples\": [\n          1,\n          4\n        ],\n        \"semantic_type\": \"\",\n        \"description\": \"\"\n      }\n    }\n  ]\n}"
            }
          },
          "metadata": {},
          "execution_count": 22
        }
      ]
    },
    {
      "cell_type": "markdown",
      "source": [
        "Definindo treinamento e teste"
      ],
      "metadata": {
        "id": "S-KSWCFqP3fJ"
      }
    },
    {
      "cell_type": "code",
      "source": [
        "# Atributos\n",
        "atributos = weather[['ts', 'temperature', 'pressure', 'humidity']]\n",
        "classe = weather['type']"
      ],
      "metadata": {
        "id": "KQ50S_xktpW6"
      },
      "execution_count": null,
      "outputs": []
    },
    {
      "cell_type": "code",
      "source": [
        "# Visualizando Atributos\n",
        "atributos.head()"
      ],
      "metadata": {
        "colab": {
          "base_uri": "https://localhost:8080/",
          "height": 206
        },
        "id": "-O5ltz-7ZZY3",
        "outputId": "f8e9f34a-058c-4212-a236-4bf4384f48c0"
      },
      "execution_count": null,
      "outputs": [
        {
          "output_type": "execute_result",
          "data": {
            "text/plain": [
              "         ts  temperature  pressure  humidity\n",
              "0  0.898364     0.690627  0.487256  0.382388\n",
              "1  0.898364     0.827429  0.599805  0.460480\n",
              "2  0.898364     0.602885  0.392072  0.507763\n",
              "3  0.898366     0.705038  0.487256  0.382388\n",
              "4  0.898366     0.827068  0.616880  0.460480"
            ],
            "text/html": [
              "\n",
              "  <div id=\"df-4c830c7c-a392-45b0-bf24-5c4254c93140\" class=\"colab-df-container\">\n",
              "    <div>\n",
              "<style scoped>\n",
              "    .dataframe tbody tr th:only-of-type {\n",
              "        vertical-align: middle;\n",
              "    }\n",
              "\n",
              "    .dataframe tbody tr th {\n",
              "        vertical-align: top;\n",
              "    }\n",
              "\n",
              "    .dataframe thead th {\n",
              "        text-align: right;\n",
              "    }\n",
              "</style>\n",
              "<table border=\"1\" class=\"dataframe\">\n",
              "  <thead>\n",
              "    <tr style=\"text-align: right;\">\n",
              "      <th></th>\n",
              "      <th>ts</th>\n",
              "      <th>temperature</th>\n",
              "      <th>pressure</th>\n",
              "      <th>humidity</th>\n",
              "    </tr>\n",
              "  </thead>\n",
              "  <tbody>\n",
              "    <tr>\n",
              "      <th>0</th>\n",
              "      <td>0.898364</td>\n",
              "      <td>0.690627</td>\n",
              "      <td>0.487256</td>\n",
              "      <td>0.382388</td>\n",
              "    </tr>\n",
              "    <tr>\n",
              "      <th>1</th>\n",
              "      <td>0.898364</td>\n",
              "      <td>0.827429</td>\n",
              "      <td>0.599805</td>\n",
              "      <td>0.460480</td>\n",
              "    </tr>\n",
              "    <tr>\n",
              "      <th>2</th>\n",
              "      <td>0.898364</td>\n",
              "      <td>0.602885</td>\n",
              "      <td>0.392072</td>\n",
              "      <td>0.507763</td>\n",
              "    </tr>\n",
              "    <tr>\n",
              "      <th>3</th>\n",
              "      <td>0.898366</td>\n",
              "      <td>0.705038</td>\n",
              "      <td>0.487256</td>\n",
              "      <td>0.382388</td>\n",
              "    </tr>\n",
              "    <tr>\n",
              "      <th>4</th>\n",
              "      <td>0.898366</td>\n",
              "      <td>0.827068</td>\n",
              "      <td>0.616880</td>\n",
              "      <td>0.460480</td>\n",
              "    </tr>\n",
              "  </tbody>\n",
              "</table>\n",
              "</div>\n",
              "    <div class=\"colab-df-buttons\">\n",
              "\n",
              "  <div class=\"colab-df-container\">\n",
              "    <button class=\"colab-df-convert\" onclick=\"convertToInteractive('df-4c830c7c-a392-45b0-bf24-5c4254c93140')\"\n",
              "            title=\"Convert this dataframe to an interactive table.\"\n",
              "            style=\"display:none;\">\n",
              "\n",
              "  <svg xmlns=\"http://www.w3.org/2000/svg\" height=\"24px\" viewBox=\"0 -960 960 960\">\n",
              "    <path d=\"M120-120v-720h720v720H120Zm60-500h600v-160H180v160Zm220 220h160v-160H400v160Zm0 220h160v-160H400v160ZM180-400h160v-160H180v160Zm440 0h160v-160H620v160ZM180-180h160v-160H180v160Zm440 0h160v-160H620v160Z\"/>\n",
              "  </svg>\n",
              "    </button>\n",
              "\n",
              "  <style>\n",
              "    .colab-df-container {\n",
              "      display:flex;\n",
              "      gap: 12px;\n",
              "    }\n",
              "\n",
              "    .colab-df-convert {\n",
              "      background-color: #E8F0FE;\n",
              "      border: none;\n",
              "      border-radius: 50%;\n",
              "      cursor: pointer;\n",
              "      display: none;\n",
              "      fill: #1967D2;\n",
              "      height: 32px;\n",
              "      padding: 0 0 0 0;\n",
              "      width: 32px;\n",
              "    }\n",
              "\n",
              "    .colab-df-convert:hover {\n",
              "      background-color: #E2EBFA;\n",
              "      box-shadow: 0px 1px 2px rgba(60, 64, 67, 0.3), 0px 1px 3px 1px rgba(60, 64, 67, 0.15);\n",
              "      fill: #174EA6;\n",
              "    }\n",
              "\n",
              "    .colab-df-buttons div {\n",
              "      margin-bottom: 4px;\n",
              "    }\n",
              "\n",
              "    [theme=dark] .colab-df-convert {\n",
              "      background-color: #3B4455;\n",
              "      fill: #D2E3FC;\n",
              "    }\n",
              "\n",
              "    [theme=dark] .colab-df-convert:hover {\n",
              "      background-color: #434B5C;\n",
              "      box-shadow: 0px 1px 3px 1px rgba(0, 0, 0, 0.15);\n",
              "      filter: drop-shadow(0px 1px 2px rgba(0, 0, 0, 0.3));\n",
              "      fill: #FFFFFF;\n",
              "    }\n",
              "  </style>\n",
              "\n",
              "    <script>\n",
              "      const buttonEl =\n",
              "        document.querySelector('#df-4c830c7c-a392-45b0-bf24-5c4254c93140 button.colab-df-convert');\n",
              "      buttonEl.style.display =\n",
              "        google.colab.kernel.accessAllowed ? 'block' : 'none';\n",
              "\n",
              "      async function convertToInteractive(key) {\n",
              "        const element = document.querySelector('#df-4c830c7c-a392-45b0-bf24-5c4254c93140');\n",
              "        const dataTable =\n",
              "          await google.colab.kernel.invokeFunction('convertToInteractive',\n",
              "                                                    [key], {});\n",
              "        if (!dataTable) return;\n",
              "\n",
              "        const docLinkHtml = 'Like what you see? Visit the ' +\n",
              "          '<a target=\"_blank\" href=https://colab.research.google.com/notebooks/data_table.ipynb>data table notebook</a>'\n",
              "          + ' to learn more about interactive tables.';\n",
              "        element.innerHTML = '';\n",
              "        dataTable['output_type'] = 'display_data';\n",
              "        await google.colab.output.renderOutput(dataTable, element);\n",
              "        const docLink = document.createElement('div');\n",
              "        docLink.innerHTML = docLinkHtml;\n",
              "        element.appendChild(docLink);\n",
              "      }\n",
              "    </script>\n",
              "  </div>\n",
              "\n",
              "\n",
              "<div id=\"df-8f9be75e-2990-4757-b7fd-aed1dadab81e\">\n",
              "  <button class=\"colab-df-quickchart\" onclick=\"quickchart('df-8f9be75e-2990-4757-b7fd-aed1dadab81e')\"\n",
              "            title=\"Suggest charts\"\n",
              "            style=\"display:none;\">\n",
              "\n",
              "<svg xmlns=\"http://www.w3.org/2000/svg\" height=\"24px\"viewBox=\"0 0 24 24\"\n",
              "     width=\"24px\">\n",
              "    <g>\n",
              "        <path d=\"M19 3H5c-1.1 0-2 .9-2 2v14c0 1.1.9 2 2 2h14c1.1 0 2-.9 2-2V5c0-1.1-.9-2-2-2zM9 17H7v-7h2v7zm4 0h-2V7h2v10zm4 0h-2v-4h2v4z\"/>\n",
              "    </g>\n",
              "</svg>\n",
              "  </button>\n",
              "\n",
              "<style>\n",
              "  .colab-df-quickchart {\n",
              "      --bg-color: #E8F0FE;\n",
              "      --fill-color: #1967D2;\n",
              "      --hover-bg-color: #E2EBFA;\n",
              "      --hover-fill-color: #174EA6;\n",
              "      --disabled-fill-color: #AAA;\n",
              "      --disabled-bg-color: #DDD;\n",
              "  }\n",
              "\n",
              "  [theme=dark] .colab-df-quickchart {\n",
              "      --bg-color: #3B4455;\n",
              "      --fill-color: #D2E3FC;\n",
              "      --hover-bg-color: #434B5C;\n",
              "      --hover-fill-color: #FFFFFF;\n",
              "      --disabled-bg-color: #3B4455;\n",
              "      --disabled-fill-color: #666;\n",
              "  }\n",
              "\n",
              "  .colab-df-quickchart {\n",
              "    background-color: var(--bg-color);\n",
              "    border: none;\n",
              "    border-radius: 50%;\n",
              "    cursor: pointer;\n",
              "    display: none;\n",
              "    fill: var(--fill-color);\n",
              "    height: 32px;\n",
              "    padding: 0;\n",
              "    width: 32px;\n",
              "  }\n",
              "\n",
              "  .colab-df-quickchart:hover {\n",
              "    background-color: var(--hover-bg-color);\n",
              "    box-shadow: 0 1px 2px rgba(60, 64, 67, 0.3), 0 1px 3px 1px rgba(60, 64, 67, 0.15);\n",
              "    fill: var(--button-hover-fill-color);\n",
              "  }\n",
              "\n",
              "  .colab-df-quickchart-complete:disabled,\n",
              "  .colab-df-quickchart-complete:disabled:hover {\n",
              "    background-color: var(--disabled-bg-color);\n",
              "    fill: var(--disabled-fill-color);\n",
              "    box-shadow: none;\n",
              "  }\n",
              "\n",
              "  .colab-df-spinner {\n",
              "    border: 2px solid var(--fill-color);\n",
              "    border-color: transparent;\n",
              "    border-bottom-color: var(--fill-color);\n",
              "    animation:\n",
              "      spin 1s steps(1) infinite;\n",
              "  }\n",
              "\n",
              "  @keyframes spin {\n",
              "    0% {\n",
              "      border-color: transparent;\n",
              "      border-bottom-color: var(--fill-color);\n",
              "      border-left-color: var(--fill-color);\n",
              "    }\n",
              "    20% {\n",
              "      border-color: transparent;\n",
              "      border-left-color: var(--fill-color);\n",
              "      border-top-color: var(--fill-color);\n",
              "    }\n",
              "    30% {\n",
              "      border-color: transparent;\n",
              "      border-left-color: var(--fill-color);\n",
              "      border-top-color: var(--fill-color);\n",
              "      border-right-color: var(--fill-color);\n",
              "    }\n",
              "    40% {\n",
              "      border-color: transparent;\n",
              "      border-right-color: var(--fill-color);\n",
              "      border-top-color: var(--fill-color);\n",
              "    }\n",
              "    60% {\n",
              "      border-color: transparent;\n",
              "      border-right-color: var(--fill-color);\n",
              "    }\n",
              "    80% {\n",
              "      border-color: transparent;\n",
              "      border-right-color: var(--fill-color);\n",
              "      border-bottom-color: var(--fill-color);\n",
              "    }\n",
              "    90% {\n",
              "      border-color: transparent;\n",
              "      border-bottom-color: var(--fill-color);\n",
              "    }\n",
              "  }\n",
              "</style>\n",
              "\n",
              "  <script>\n",
              "    async function quickchart(key) {\n",
              "      const quickchartButtonEl =\n",
              "        document.querySelector('#' + key + ' button');\n",
              "      quickchartButtonEl.disabled = true;  // To prevent multiple clicks.\n",
              "      quickchartButtonEl.classList.add('colab-df-spinner');\n",
              "      try {\n",
              "        const charts = await google.colab.kernel.invokeFunction(\n",
              "            'suggestCharts', [key], {});\n",
              "      } catch (error) {\n",
              "        console.error('Error during call to suggestCharts:', error);\n",
              "      }\n",
              "      quickchartButtonEl.classList.remove('colab-df-spinner');\n",
              "      quickchartButtonEl.classList.add('colab-df-quickchart-complete');\n",
              "    }\n",
              "    (() => {\n",
              "      let quickchartButtonEl =\n",
              "        document.querySelector('#df-8f9be75e-2990-4757-b7fd-aed1dadab81e button');\n",
              "      quickchartButtonEl.style.display =\n",
              "        google.colab.kernel.accessAllowed ? 'block' : 'none';\n",
              "    })();\n",
              "  </script>\n",
              "</div>\n",
              "\n",
              "    </div>\n",
              "  </div>\n"
            ],
            "application/vnd.google.colaboratory.intrinsic+json": {
              "type": "dataframe",
              "variable_name": "atributos",
              "summary": "{\n  \"name\": \"atributos\",\n  \"rows\": 59260,\n  \"fields\": [\n    {\n      \"column\": \"ts\",\n      \"properties\": {\n        \"dtype\": \"number\",\n        \"std\": 0.4529268421371809,\n        \"min\": 0.0,\n        \"max\": 1.0,\n        \"num_unique_values\": 23978,\n        \"samples\": [\n          0.9330268912991555,\n          0.04319669395714074,\n          0.98678597637869\n        ],\n        \"semantic_type\": \"\",\n        \"description\": \"\"\n      }\n    },\n    {\n      \"column\": \"temperature\",\n      \"properties\": {\n        \"dtype\": \"number\",\n        \"std\": 0.28273016929761075,\n        \"min\": 0.0,\n        \"max\": 1.0,\n        \"num_unique_values\": 56501,\n        \"samples\": [\n          0.6504712626570698,\n          0.5243853138362402,\n          0.15715465854954558\n        ],\n        \"semantic_type\": \"\",\n        \"description\": \"\"\n      }\n    },\n    {\n      \"column\": \"pressure\",\n      \"properties\": {\n        \"dtype\": \"number\",\n        \"std\": 0.11352948516506318,\n        \"min\": 0.0,\n        \"max\": 1.0,\n        \"num_unique_values\": 7940,\n        \"samples\": [\n          0.593853081962874,\n          0.5348736856425625,\n          0.21165281539579525\n        ],\n        \"semantic_type\": \"\",\n        \"description\": \"\"\n      }\n    },\n    {\n      \"column\": \"humidity\",\n      \"properties\": {\n        \"dtype\": \"number\",\n        \"std\": 0.28665561300619663,\n        \"min\": 0.0,\n        \"max\": 1.0,\n        \"num_unique_values\": 11056,\n        \"samples\": [\n          0.12195175077386824,\n          0.7706955136153769,\n          0.7418635196579431\n        ],\n        \"semantic_type\": \"\",\n        \"description\": \"\"\n      }\n    }\n  ]\n}"
            }
          },
          "metadata": {},
          "execution_count": 24
        }
      ]
    },
    {
      "cell_type": "code",
      "source": [
        "# Separando dados de Treino e Teste em proporção 80% 20%, com random_state = 42\n",
        "X_train, X_test, y_train, y_test = train_test_split(atributos, classe, test_size=0.2, random_state=42)"
      ],
      "metadata": {
        "id": "K2xqSIkJP_ID"
      },
      "execution_count": null,
      "outputs": []
    },
    {
      "cell_type": "markdown",
      "source": [
        "# 1º técnica - Arvore de decisão"
      ],
      "metadata": {
        "id": "Yk036R1zQCWT"
      }
    },
    {
      "cell_type": "code",
      "source": [
        "#definindo um classificador Arvore de decisão\n",
        "clf_AV = tree.DecisionTreeClassifier()\n",
        "\n",
        "#Validação cruzada usando KFold com 4 folds\n",
        "kf = KFold(n_splits=4, shuffle=True, random_state=42)\n",
        "\n",
        "#Acurácia média durante a validação cruzada\n",
        "acuracias_cruzadas = cross_val_score(clf_AV, X_train, y_train, cv=kf, scoring='accuracy')\n",
        "print('Acurácia média durante a validação cruzada: {}'.format(round(acuracias_cruzadas.mean(), 4)))\n",
        "\n",
        "#Modelo com dados de treinamento\n",
        "clf_AV = clf_AV.fit(X_train, y_train)"
      ],
      "metadata": {
        "id": "fEtczDL4QcHW",
        "colab": {
          "base_uri": "https://localhost:8080/"
        },
        "outputId": "62ec6f37-4589-4c4f-c1cc-d20312922b68"
      },
      "execution_count": null,
      "outputs": [
        {
          "output_type": "stream",
          "name": "stdout",
          "text": [
            "Acurácia média durante a validação cruzada: 1.0\n"
          ]
        }
      ]
    },
    {
      "cell_type": "code",
      "source": [
        "#Predição e Acurácia de Teste\n",
        "predicao_1 = clf_AV.predict(X_test)\n",
        "acuracia_1 = accuracy_score(y_test, predicao_1)\n",
        "print('Acurácia da classificação: {}' . format(round(acuracia_1,4)))"
      ],
      "metadata": {
        "colab": {
          "base_uri": "https://localhost:8080/"
        },
        "id": "-_--AY5lTl3Y",
        "outputId": "89bc14ae-dcd0-4476-8efa-30da30cbf3e4"
      },
      "execution_count": null,
      "outputs": [
        {
          "output_type": "stream",
          "name": "stdout",
          "text": [
            "Acurácia da classificação: 1.0\n"
          ]
        }
      ]
    },
    {
      "cell_type": "code",
      "source": [
        "#Matriz de confusão\n",
        "class_labels = ['normal', 'backdoor', 'injection', 'password', 'ransomware', 'xss', 'scanning', 'ddos']\n",
        "\n",
        "sns.heatmap(confusion_matrix(y_test, predicao_1), annot=True, fmt='d', cmap='Blues', xticklabels=class_labels, yticklabels=class_labels)\n",
        "plt.show()"
      ],
      "metadata": {
        "id": "aiq4IZ32dtWA",
        "colab": {
          "base_uri": "https://localhost:8080/",
          "height": 505
        },
        "outputId": "a4b7052b-226a-4e0c-d2c8-66fbf7e5569c"
      },
      "execution_count": null,
      "outputs": [
        {
          "output_type": "display_data",
          "data": {
            "text/plain": [
              "<Figure size 640x480 with 2 Axes>"
            ],
            "image/png": "[encoded data removed]"
          },
          "metadata": {}
        }
      ]
    },
    {
      "cell_type": "code",
      "source": [
        "print(classification_report(y_test, predicao_1))"
      ],
      "metadata": {
        "colab": {
          "base_uri": "https://localhost:8080/"
        },
        "id": "LAimrAat0jrA",
        "outputId": "98a1f18d-fad2-4526-a20a-17fc4a18e433"
      },
      "execution_count": null,
      "outputs": [
        {
          "output_type": "stream",
          "name": "stdout",
          "text": [
            "              precision    recall  f1-score   support\n",
            "\n",
            "           0       1.00      1.00      1.00      7051\n",
            "           1       1.00      1.00      1.00      1003\n",
            "           2       1.00      1.00      1.00       975\n",
            "           3       1.00      1.00      1.00       979\n",
            "           4       1.00      1.00      1.00       568\n",
            "           5       1.00      1.00      1.00       179\n",
            "           6       1.00      1.00      1.00       113\n",
            "           7       1.00      1.00      1.00       984\n",
            "\n",
            "    accuracy                           1.00     11852\n",
            "   macro avg       1.00      1.00      1.00     11852\n",
            "weighted avg       1.00      1.00      1.00     11852\n",
            "\n"
          ]
        }
      ]
    },
    {
      "cell_type": "markdown",
      "source": [
        "# 2º técnica - KNN"
      ],
      "metadata": {
        "id": "NcY2gOACRWO7"
      }
    },
    {
      "cell_type": "code",
      "source": [
        "#definindo um classificador KNN\n",
        "clf_KNN = KNeighborsClassifier(n_neighbors=5, metric='minkowski', p = 2)\n",
        "\n",
        "#Validação cruzada usando KFold com 4 folds\n",
        "kf = KFold(n_splits=4, shuffle=True, random_state=42)\n",
        "\n",
        "#Acurácia média durante a validação cruzada\n",
        "acuracias_cruzadas = cross_val_score(clf_KNN, X_train, y_train, cv=kf, scoring='accuracy')\n",
        "print('Acurácia média durante a validação cruzada: {}'.format(round(acuracias_cruzadas.mean(), 4)))\n",
        "\n",
        "#Modelo com dados de treinamento\n",
        "clf_KNN = clf_KNN.fit(X_train, y_train)"
      ],
      "metadata": {
        "id": "mhEYyqWARd4E",
        "colab": {
          "base_uri": "https://localhost:8080/"
        },
        "outputId": "3b586c07-dbb4-407b-f173-d599f30eb3ae"
      },
      "execution_count": null,
      "outputs": [
        {
          "output_type": "stream",
          "name": "stdout",
          "text": [
            "Acurácia média durante a validação cruzada: 0.9967\n"
          ]
        }
      ]
    },
    {
      "cell_type": "code",
      "source": [
        "#Predição e Acurácia de Teste\n",
        "predicao_2 = clf_KNN.predict(X_test)\n",
        "acuracia_2 = accuracy_score(y_test, predicao_2)\n",
        "print('Acurácia da classificação: {}' . format(round(acuracia_2, 4)))"
      ],
      "metadata": {
        "colab": {
          "base_uri": "https://localhost:8080/"
        },
        "id": "GHlTtXzvRm6i",
        "outputId": "22562750-5f85-4b45-af0a-32827c547d24"
      },
      "execution_count": null,
      "outputs": [
        {
          "output_type": "stream",
          "name": "stdout",
          "text": [
            "Acurácia da classificação: 0.9983\n"
          ]
        }
      ]
    },
    {
      "cell_type": "code",
      "source": [
        "# Matriz de confusão\n",
        "class_labels = ['normal', 'backdoor', 'injection', 'password', 'ransomware', 'xss', 'scanning', 'ddos']\n",
        "\n",
        "sns.heatmap(confusion_matrix(y_test, predicao_2), annot=True, fmt='d', cmap='Blues', xticklabels=class_labels, yticklabels=class_labels)\n",
        "plt.show()"
      ],
      "metadata": {
        "colab": {
          "base_uri": "https://localhost:8080/",
          "height": 505
        },
        "id": "OlG2FpbmvapX",
        "outputId": "9fb17da6-76a5-4354-a6ae-5acfd3e56159"
      },
      "execution_count": null,
      "outputs": [
        {
          "output_type": "display_data",
          "data": {
            "text/plain": [
              "<Figure size 640x480 with 2 Axes>"
            ],
            "image/png": "[encoded data removed]"
          },
          "metadata": {}
        }
      ]
    },
    {
      "cell_type": "code",
      "source": [
        "print(classification_report(y_test, predicao_2))"
      ],
      "metadata": {
        "colab": {
          "base_uri": "https://localhost:8080/"
        },
        "id": "c9-SjoFA2-r7",
        "outputId": "4f937da7-249a-4286-a5fb-485da27dfa56"
      },
      "execution_count": null,
      "outputs": [
        {
          "output_type": "stream",
          "name": "stdout",
          "text": [
            "              precision    recall  f1-score   support\n",
            "\n",
            "           0       1.00      1.00      1.00      7051\n",
            "           1       1.00      1.00      1.00      1003\n",
            "           2       0.99      1.00      0.99       975\n",
            "           3       1.00      1.00      1.00       979\n",
            "           4       1.00      0.99      1.00       568\n",
            "           5       1.00      0.98      0.99       179\n",
            "           6       1.00      1.00      1.00       113\n",
            "           7       1.00      0.99      0.99       984\n",
            "\n",
            "    accuracy                           1.00     11852\n",
            "   macro avg       1.00      0.99      1.00     11852\n",
            "weighted avg       1.00      1.00      1.00     11852\n",
            "\n"
          ]
        }
      ]
    },
    {
      "cell_type": "markdown",
      "source": [
        "# 3º técnica - SVM"
      ],
      "metadata": {
        "id": "_BGlSmXER3ZK"
      }
    },
    {
      "cell_type": "code",
      "source": [
        "#definindo um classificador SVM\n",
        "SVM_rbf = SVC(kernel = 'rbf', gamma = 'auto', C = 1.0 )\n",
        "\n",
        "#Validação cruzada usando KFold com 4 folds\n",
        "kf = KFold(n_splits=4, shuffle=True, random_state=42)\n",
        "\n",
        "#Acurácia média durante a validação cruzada\n",
        "acuracias_cruzadas = cross_val_score(SVM_rbf, X_train, y_train, cv=kf, scoring='accuracy')\n",
        "print('Acurácia média durante a validação cruzada: {}'.format(round(acuracias_cruzadas.mean(), 4)))\n",
        "\n",
        "#Modelo com dados de treinamento\n",
        "SVM_rbf.fit(X_train, y_train)"
      ],
      "metadata": {
        "colab": {
          "base_uri": "https://localhost:8080/",
          "height": 92
        },
        "id": "zDiWnllrSEH1",
        "outputId": "f6ae6b35-cc99-402e-8859-ebddc7bfe939"
      },
      "execution_count": null,
      "outputs": [
        {
          "output_type": "stream",
          "name": "stdout",
          "text": [
            "Acurácia média durante a validação cruzada: 0.934\n"
          ]
        },
        {
          "output_type": "execute_result",
          "data": {
            "text/plain": [
              "SVC(gamma='auto')"
            ],
            "text/html": [
              "<style>#sk-container-id-1 {color: black;background-color: white;}#sk-container-id-1 pre{padding: 0;}#sk-container-id-1 div.sk-toggleable {background-color: white;}#sk-container-id-1 label.sk-toggleable__label {cursor: pointer;display: block;width: 100%;margin-bottom: 0;padding: 0.3em;box-sizing: border-box;text-align: center;}#sk-container-id-1 label.sk-toggleable__label-arrow:before {content: \"▸\";float: left;margin-right: 0.25em;color: #696969;}#sk-container-id-1 label.sk-toggleable__label-arrow:hover:before {color: black;}#sk-container-id-1 div.sk-estimator:hover label.sk-toggleable__label-arrow:before {color: black;}#sk-container-id-1 div.sk-toggleable__content {max-height: 0;max-width: 0;overflow: hidden;text-align: left;background-color: #f0f8ff;}#sk-container-id-1 div.sk-toggleable__content pre {margin: 0.2em;color: black;border-radius: 0.25em;background-color: #f0f8ff;}#sk-container-id-1 input.sk-toggleable__control:checked~div.sk-toggleable__content {max-height: 200px;max-width: 100%;overflow: auto;}#sk-container-id-1 input.sk-toggleable__control:checked~label.sk-toggleable__label-arrow:before {content: \"▾\";}#sk-container-id-1 div.sk-estimator input.sk-toggleable__control:checked~label.sk-toggleable__label {background-color: #d4ebff;}#sk-container-id-1 div.sk-label input.sk-toggleable__control:checked~label.sk-toggleable__label {background-color: #d4ebff;}#sk-container-id-1 input.sk-hidden--visually {border: 0;clip: rect(1px 1px 1px 1px);clip: rect(1px, 1px, 1px, 1px);height: 1px;margin: -1px;overflow: hidden;padding: 0;position: absolute;width: 1px;}#sk-container-id-1 div.sk-estimator {font-family: monospace;background-color: #f0f8ff;border: 1px dotted black;border-radius: 0.25em;box-sizing: border-box;margin-bottom: 0.5em;}#sk-container-id-1 div.sk-estimator:hover {background-color: #d4ebff;}#sk-container-id-1 div.sk-parallel-item::after {content: \"\";width: 100%;border-bottom: 1px solid gray;flex-grow: 1;}#sk-container-id-1 div.sk-label:hover label.sk-toggleable__label {background-color: #d4ebff;}#sk-container-id-1 div.sk-serial::before {content: \"\";position: absolute;border-left: 1px solid gray;box-sizing: border-box;top: 0;bottom: 0;left: 50%;z-index: 0;}#sk-container-id-1 div.sk-serial {display: flex;flex-direction: column;align-items: center;background-color: white;padding-right: 0.2em;padding-left: 0.2em;position: relative;}#sk-container-id-1 div.sk-item {position: relative;z-index: 1;}#sk-container-id-1 div.sk-parallel {display: flex;align-items: stretch;justify-content: center;background-color: white;position: relative;}#sk-container-id-1 div.sk-item::before, #sk-container-id-1 div.sk-parallel-item::before {content: \"\";position: absolute;border-left: 1px solid gray;box-sizing: border-box;top: 0;bottom: 0;left: 50%;z-index: -1;}#sk-container-id-1 div.sk-parallel-item {display: flex;flex-direction: column;z-index: 1;position: relative;background-color: white;}#sk-container-id-1 div.sk-parallel-item:first-child::after {align-self: flex-end;width: 50%;}#sk-container-id-1 div.sk-parallel-item:last-child::after {align-self: flex-start;width: 50%;}#sk-container-id-1 div.sk-parallel-item:only-child::after {width: 0;}#sk-container-id-1 div.sk-dashed-wrapped {border: 1px dashed gray;margin: 0 0.4em 0.5em 0.4em;box-sizing: border-box;padding-bottom: 0.4em;background-color: white;}#sk-container-id-1 div.sk-label label {font-family: monospace;font-weight: bold;display: inline-block;line-height: 1.2em;}#sk-container-id-1 div.sk-label-container {text-align: center;}#sk-container-id-1 div.sk-container {/* jupyter's `normalize.less` sets `[hidden] { display: none; }` but bootstrap.min.css set `[hidden] { display: none !important; }` so we also need the `!important` here to be able to override the default hidden behavior on the sphinx rendered scikit-learn.org. See: https://github.com/scikit-learn/scikit-learn/issues/21755 */display: inline-block !important;position: relative;}#sk-container-id-1 div.sk-text-repr-fallback {display: none;}</style><div id=\"sk-container-id-1\" class=\"sk-top-container\"><div class=\"sk-text-repr-fallback\"><pre>SVC(gamma=&#x27;auto&#x27;)</pre><b>In a Jupyter environment, please rerun this cell to show the HTML representation or trust the notebook. <br />On GitHub, the HTML representation is unable to render, please try loading this page with nbviewer.org.</b></div><div class=\"sk-container\" hidden><div class=\"sk-item\"><div class=\"sk-estimator sk-toggleable\"><input class=\"sk-toggleable__control sk-hidden--visually\" id=\"sk-estimator-id-1\" type=\"checkbox\" checked><label for=\"sk-estimator-id-1\" class=\"sk-toggleable__label sk-toggleable__label-arrow\">SVC</label><div class=\"sk-toggleable__content\"><pre>SVC(gamma=&#x27;auto&#x27;)</pre></div></div></div></div></div>"
            ]
          },
          "metadata": {},
          "execution_count": 34
        }
      ]
    },
    {
      "cell_type": "code",
      "source": [
        "#Predição e Acurácia de Teste\n",
        "predicao_3 = SVM_rbf.predict(X_test)\n",
        "acuracia_3 = accuracy_score(y_test, predicao_3)\n",
        "print('Acurácia da classificação: {}' . format(round(acuracia_3,4)))"
      ],
      "metadata": {
        "id": "Q5v7q29LSHNK",
        "colab": {
          "base_uri": "https://localhost:8080/"
        },
        "outputId": "8e818c14-418f-4b25-f42b-7ded994a3c31"
      },
      "execution_count": null,
      "outputs": [
        {
          "output_type": "stream",
          "name": "stdout",
          "text": [
            "Acurácia da classificação: 0.9427\n"
          ]
        }
      ]
    },
    {
      "cell_type": "code",
      "source": [
        "#Matriz de confusão\n",
        "class_labels = ['normal', 'backdoor', 'injection', 'password', 'ransomware', 'xss', 'scanning', 'ddos']\n",
        "\n",
        "sns.heatmap(confusion_matrix(y_test, predicao_3), annot=True, fmt='d', cmap='Blues', xticklabels=class_labels, yticklabels=class_labels)\n",
        "plt.show()"
      ],
      "metadata": {
        "colab": {
          "base_uri": "https://localhost:8080/",
          "height": 505
        },
        "id": "vK0RVJ7Dxxio",
        "outputId": "272b8f70-f8a8-4775-e34d-85eec57fcc9a"
      },
      "execution_count": null,
      "outputs": [
        {
          "output_type": "display_data",
          "data": {
            "text/plain": [
              "<Figure size 640x480 with 2 Axes>"
            ],
            "image/png": "[encoded data removed]"
          },
          "metadata": {}
        }
      ]
    },
    {
      "cell_type": "code",
      "source": [
        "print(classification_report(y_test, predicao_3))"
      ],
      "metadata": {
        "colab": {
          "base_uri": "https://localhost:8080/"
        },
        "id": "_9Fbz_z_4VOG",
        "outputId": "5d6d974c-84cf-4e36-c1e5-2aa48df510b1"
      },
      "execution_count": null,
      "outputs": [
        {
          "output_type": "stream",
          "name": "stdout",
          "text": [
            "              precision    recall  f1-score   support\n",
            "\n",
            "           0       1.00      1.00      1.00      7051\n",
            "           1       0.94      0.92      0.93      1003\n",
            "           2       0.76      0.82      0.79       975\n",
            "           3       0.90      1.00      0.94       979\n",
            "           4       0.87      0.90      0.88       568\n",
            "           5       1.00      0.36      0.53       179\n",
            "           6       1.00      0.58      0.74       113\n",
            "           7       0.81      0.79      0.80       984\n",
            "\n",
            "    accuracy                           0.94     11852\n",
            "   macro avg       0.91      0.80      0.83     11852\n",
            "weighted avg       0.94      0.94      0.94     11852\n",
            "\n"
          ]
        }
      ]
    },
    {
      "cell_type": "markdown",
      "source": [
        "#4º Regressão Logistica"
      ],
      "metadata": {
        "id": "Vmlw4c-Nu_xt"
      }
    },
    {
      "cell_type": "code",
      "source": [
        "#definindo um classificador Arvore de decisão\n",
        "LR = LogisticRegression(solver='lbfgs', max_iter=1000)\n",
        "\n",
        "#Validação cruzada usando KFold com 4 folds\n",
        "kf = KFold(n_splits=4, shuffle=True, random_state=42)\n",
        "\n",
        "#Acurácia média durante a validação cruzada\n",
        "acuracias_cruzadas = cross_val_score(LR, X_train, y_train, cv=kf, scoring='accuracy')\n",
        "print('Acurácia média durante a validação cruzada: {}'.format(round(acuracias_cruzadas.mean(), 4)))\n",
        "\n",
        "#Modelo com dados de treinamento\n",
        "LR = LR.fit(X_train, y_train)"
      ],
      "metadata": {
        "colab": {
          "base_uri": "https://localhost:8080/"
        },
        "id": "urwgklQTUcm7",
        "outputId": "52d774d1-5488-4196-a310-d1fed69fc0f2"
      },
      "execution_count": null,
      "outputs": [
        {
          "output_type": "stream",
          "name": "stdout",
          "text": [
            "Acurácia média durante a validação cruzada: 0.8514\n"
          ]
        }
      ]
    },
    {
      "cell_type": "code",
      "source": [
        "#Predição e Acurácia de Teste\n",
        "predicao_4 = LR.predict(X_test)\n",
        "acuracia_4 = accuracy_score(y_test, predicao_4)\n",
        "print('Acurácia da classificação: {}' . format(round(acuracia_4,4)))"
      ],
      "metadata": {
        "colab": {
          "base_uri": "https://localhost:8080/"
        },
        "id": "IO15HoJyV_iH",
        "outputId": "4f2621c5-c5b0-4675-a51e-de68daba2337"
      },
      "execution_count": null,
      "outputs": [
        {
          "output_type": "stream",
          "name": "stdout",
          "text": [
            "Acurácia da classificação: 0.8562\n"
          ]
        }
      ]
    },
    {
      "cell_type": "code",
      "source": [
        "# Matriz de confusão\n",
        "class_labels = ['normal', 'backdoor', 'injection', 'password', 'ransomware', 'xss', 'scanning', 'ddos']\n",
        "\n",
        "sns.heatmap(confusion_matrix(y_test, predicao_4), annot=True, fmt='d', cmap='Blues', xticklabels=class_labels, yticklabels=class_labels)\n",
        "plt.show()"
      ],
      "metadata": {
        "colab": {
          "base_uri": "https://localhost:8080/",
          "height": 505
        },
        "id": "ZeovH57RWUM3",
        "outputId": "e8986a5a-6076-4378-b6f6-64eac398db7c"
      },
      "execution_count": null,
      "outputs": [
        {
          "output_type": "display_data",
          "data": {
            "text/plain": [
              "<Figure size 640x480 with 2 Axes>"
            ],
            "image/png": "[encoded data removed]"
          },
          "metadata": {}
        }
      ]
    },
    {
      "cell_type": "code",
      "source": [
        "print(classification_report(y_test, predicao_4))"
      ],
      "metadata": {
        "colab": {
          "base_uri": "https://localhost:8080/"
        },
        "id": "mlCbD61RWo15",
        "outputId": "127252e5-10d9-4d86-e27a-8c8c5bc29665"
      },
      "execution_count": null,
      "outputs": [
        {
          "output_type": "stream",
          "name": "stdout",
          "text": [
            "              precision    recall  f1-score   support\n",
            "\n",
            "           0       1.00      1.00      1.00      7051\n",
            "           1       0.73      0.90      0.81      1003\n",
            "           2       0.57      0.40      0.47       975\n",
            "           3       0.66      0.73      0.70       979\n",
            "           4       0.82      0.72      0.77       568\n",
            "           5       0.00      0.00      0.00       179\n",
            "           6       0.65      0.50      0.57       113\n",
            "           7       0.51      0.62      0.56       984\n",
            "\n",
            "    accuracy                           0.86     11852\n",
            "   macro avg       0.62      0.61      0.61     11852\n",
            "weighted avg       0.85      0.86      0.85     11852\n",
            "\n"
          ]
        },
        {
          "output_type": "stream",
          "name": "stderr",
          "text": [
            "/usr/local/lib/python3.10/dist-packages/sklearn/metrics/_classification.py:1344: UndefinedMetricWarning: Precision and F-score are ill-defined and being set to 0.0 in labels with no predicted samples. Use `zero_division` parameter to control this behavior.\n",
            "  _warn_prf(average, modifier, msg_start, len(result))\n",
            "/usr/local/lib/python3.10/dist-packages/sklearn/metrics/_classification.py:1344: UndefinedMetricWarning: Precision and F-score are ill-defined and being set to 0.0 in labels with no predicted samples. Use `zero_division` parameter to control this behavior.\n",
            "  _warn_prf(average, modifier, msg_start, len(result))\n",
            "/usr/local/lib/python3.10/dist-packages/sklearn/metrics/_classification.py:1344: UndefinedMetricWarning: Precision and F-score are ill-defined and being set to 0.0 in labels with no predicted samples. Use `zero_division` parameter to control this behavior.\n",
            "  _warn_prf(average, modifier, msg_start, len(result))\n"
          ]
        }
      ]
    },
    {
      "cell_type": "markdown",
      "source": [
        "# 5º Técnica - Regressão linear"
      ],
      "metadata": {
        "id": "04mWaHKdQwE3"
      }
    },
    {
      "cell_type": "code",
      "source": [
        "#Definindo um classificador de regreção linear\n",
        "reg = LinearRegression().fit(X_train, y_train)"
      ],
      "metadata": {
        "id": "tq27e2rGRC6Z"
      },
      "execution_count": null,
      "outputs": []
    },
    {
      "cell_type": "code",
      "source": [
        "# Predição e criação de variável auxiliar\n",
        "predicao_4 = reg.predict(X_test)\n",
        "aux = np.zeros(len(X_test))\n",
        "\n",
        "# Aproximando a predição para o inteiro mais próximo e armazenando na variável auxiliar\n",
        "for i in range(len(X_test)):\n",
        "    aux[i] = round(predicao_4[i], 0)\n",
        "\n",
        "# Acurácia de Teste\n",
        "acuracia_5 = accuracy_score(y_test, aux[:].astype(int))\n",
        "print('Acurácia da classificação: {}'.format(round(acuracia_5, 3)))\n"
      ],
      "metadata": {
        "colab": {
          "base_uri": "https://localhost:8080/"
        },
        "id": "Ocom1QSb1gOR",
        "outputId": "6cb5a83a-6b1b-4245-c29c-e35c30045fc0"
      },
      "execution_count": null,
      "outputs": [
        {
          "output_type": "stream",
          "name": "stdout",
          "text": [
            "Acurácia da classificação: 0.706\n"
          ]
        }
      ]
    },
    {
      "cell_type": "code",
      "source": [
        "#Matriz de confusão\n",
        "class_labels = ['normal', 'backdoor', 'injection', 'password', 'ransomware', 'xss', 'scanning', 'ddos']\n",
        "\n",
        "sns.heatmap(confusion_matrix(y_test, aux), annot=True, fmt='d', cmap='Blues', xticklabels=class_labels, yticklabels=class_labels)\n",
        "plt.show()"
      ],
      "metadata": {
        "colab": {
          "base_uri": "https://localhost:8080/",
          "height": 502
        },
        "id": "k6mytwITVcdE",
        "outputId": "8e611f8c-20bd-4852-be4d-aa4765466eff"
      },
      "execution_count": null,
      "outputs": [
        {
          "output_type": "display_data",
          "data": {
            "text/plain": [
              "<Figure size 640x480 with 2 Axes>"
            ],
            "image/png": "[encoded data removed]"
          },
          "metadata": {}
        }
      ]
    },
    {
      "cell_type": "code",
      "source": [
        "print(classification_report(y_test, aux))"
      ],
      "metadata": {
        "colab": {
          "base_uri": "https://localhost:8080/"
        },
        "id": "s3_pNgye5oxB",
        "outputId": "bd61cfe1-8c05-44d6-8ad0-bc0cdc88606b"
      },
      "execution_count": null,
      "outputs": [
        {
          "output_type": "stream",
          "name": "stdout",
          "text": [
            "              precision    recall  f1-score   support\n",
            "\n",
            "           0       1.00      0.99      1.00      7051\n",
            "           1       0.00      0.00      0.00      1003\n",
            "           2       0.00      0.00      0.00       975\n",
            "           3       0.28      0.86      0.42       979\n",
            "           4       0.29      0.92      0.44       568\n",
            "           5       0.00      0.00      0.00       179\n",
            "           6       0.00      0.00      0.00       113\n",
            "           7       0.00      0.00      0.00       984\n",
            "\n",
            "    accuracy                           0.71     11852\n",
            "   macro avg       0.20      0.35      0.23     11852\n",
            "weighted avg       0.63      0.71      0.65     11852\n",
            "\n"
          ]
        },
        {
          "output_type": "stream",
          "name": "stderr",
          "text": [
            "/usr/local/lib/python3.10/dist-packages/sklearn/metrics/_classification.py:1344: UndefinedMetricWarning: Precision and F-score are ill-defined and being set to 0.0 in labels with no predicted samples. Use `zero_division` parameter to control this behavior.\n",
            "  _warn_prf(average, modifier, msg_start, len(result))\n",
            "/usr/local/lib/python3.10/dist-packages/sklearn/metrics/_classification.py:1344: UndefinedMetricWarning: Precision and F-score are ill-defined and being set to 0.0 in labels with no predicted samples. Use `zero_division` parameter to control this behavior.\n",
            "  _warn_prf(average, modifier, msg_start, len(result))\n",
            "/usr/local/lib/python3.10/dist-packages/sklearn/metrics/_classification.py:1344: UndefinedMetricWarning: Precision and F-score are ill-defined and being set to 0.0 in labels with no predicted samples. Use `zero_division` parameter to control this behavior.\n",
            "  _warn_prf(average, modifier, msg_start, len(result))\n"
          ]
        }
      ]
    },
    {
      "cell_type": "markdown",
      "source": [
        "# 6º Técnica - Naïve Bayes (NB)"
      ],
      "metadata": {
        "id": "w3oBg5GwkusY"
      }
    },
    {
      "cell_type": "code",
      "source": [
        "#definindo um classificador NB\n",
        "NB = GaussianNB()\n",
        "\n",
        "#Validação cruzada usando KFold com 4 folds\n",
        "kf = KFold(n_splits=4, shuffle=True, random_state=42)\n",
        "\n",
        "#Acurácia média durante a validação cruzada\n",
        "acuracias_cruzadas = cross_val_score(NB, X_train, y_train, cv=kf, scoring='accuracy')\n",
        "print('Acurácia média durante a validação cruzada: {}'.format(round(acuracias_cruzadas.mean(), 4)))\n",
        "\n",
        "#Modelo com dados de treinamento\n",
        "NB.fit(X_train, y_train)"
      ],
      "metadata": {
        "colab": {
          "base_uri": "https://localhost:8080/",
          "height": 92
        },
        "id": "fTOYySbnlACR",
        "outputId": "51028e36-b457-4708-c172-1aa8d0e9fbcd"
      },
      "execution_count": null,
      "outputs": [
        {
          "output_type": "stream",
          "name": "stdout",
          "text": [
            "Acurácia média durante a validação cruzada: 1.0\n"
          ]
        },
        {
          "output_type": "execute_result",
          "data": {
            "text/plain": [
              "GaussianNB()"
            ],
            "text/html": [
              "<style>#sk-container-id-2 {color: black;background-color: white;}#sk-container-id-2 pre{padding: 0;}#sk-container-id-2 div.sk-toggleable {background-color: white;}#sk-container-id-2 label.sk-toggleable__label {cursor: pointer;display: block;width: 100%;margin-bottom: 0;padding: 0.3em;box-sizing: border-box;text-align: center;}#sk-container-id-2 label.sk-toggleable__label-arrow:before {content: \"▸\";float: left;margin-right: 0.25em;color: #696969;}#sk-container-id-2 label.sk-toggleable__label-arrow:hover:before {color: black;}#sk-container-id-2 div.sk-estimator:hover label.sk-toggleable__label-arrow:before {color: black;}#sk-container-id-2 div.sk-toggleable__content {max-height: 0;max-width: 0;overflow: hidden;text-align: left;background-color: #f0f8ff;}#sk-container-id-2 div.sk-toggleable__content pre {margin: 0.2em;color: black;border-radius: 0.25em;background-color: #f0f8ff;}#sk-container-id-2 input.sk-toggleable__control:checked~div.sk-toggleable__content {max-height: 200px;max-width: 100%;overflow: auto;}#sk-container-id-2 input.sk-toggleable__control:checked~label.sk-toggleable__label-arrow:before {content: \"▾\";}#sk-container-id-2 div.sk-estimator input.sk-toggleable__control:checked~label.sk-toggleable__label {background-color: #d4ebff;}#sk-container-id-2 div.sk-label input.sk-toggleable__control:checked~label.sk-toggleable__label {background-color: #d4ebff;}#sk-container-id-2 input.sk-hidden--visually {border: 0;clip: rect(1px 1px 1px 1px);clip: rect(1px, 1px, 1px, 1px);height: 1px;margin: -1px;overflow: hidden;padding: 0;position: absolute;width: 1px;}#sk-container-id-2 div.sk-estimator {font-family: monospace;background-color: #f0f8ff;border: 1px dotted black;border-radius: 0.25em;box-sizing: border-box;margin-bottom: 0.5em;}#sk-container-id-2 div.sk-estimator:hover {background-color: #d4ebff;}#sk-container-id-2 div.sk-parallel-item::after {content: \"\";width: 100%;border-bottom: 1px solid gray;flex-grow: 1;}#sk-container-id-2 div.sk-label:hover label.sk-toggleable__label {background-color: #d4ebff;}#sk-container-id-2 div.sk-serial::before {content: \"\";position: absolute;border-left: 1px solid gray;box-sizing: border-box;top: 0;bottom: 0;left: 50%;z-index: 0;}#sk-container-id-2 div.sk-serial {display: flex;flex-direction: column;align-items: center;background-color: white;padding-right: 0.2em;padding-left: 0.2em;position: relative;}#sk-container-id-2 div.sk-item {position: relative;z-index: 1;}#sk-container-id-2 div.sk-parallel {display: flex;align-items: stretch;justify-content: center;background-color: white;position: relative;}#sk-container-id-2 div.sk-item::before, #sk-container-id-2 div.sk-parallel-item::before {content: \"\";position: absolute;border-left: 1px solid gray;box-sizing: border-box;top: 0;bottom: 0;left: 50%;z-index: -1;}#sk-container-id-2 div.sk-parallel-item {display: flex;flex-direction: column;z-index: 1;position: relative;background-color: white;}#sk-container-id-2 div.sk-parallel-item:first-child::after {align-self: flex-end;width: 50%;}#sk-container-id-2 div.sk-parallel-item:last-child::after {align-self: flex-start;width: 50%;}#sk-container-id-2 div.sk-parallel-item:only-child::after {width: 0;}#sk-container-id-2 div.sk-dashed-wrapped {border: 1px dashed gray;margin: 0 0.4em 0.5em 0.4em;box-sizing: border-box;padding-bottom: 0.4em;background-color: white;}#sk-container-id-2 div.sk-label label {font-family: monospace;font-weight: bold;display: inline-block;line-height: 1.2em;}#sk-container-id-2 div.sk-label-container {text-align: center;}#sk-container-id-2 div.sk-container {/* jupyter's `normalize.less` sets `[hidden] { display: none; }` but bootstrap.min.css set `[hidden] { display: none !important; }` so we also need the `!important` here to be able to override the default hidden behavior on the sphinx rendered scikit-learn.org. See: https://github.com/scikit-learn/scikit-learn/issues/21755 */display: inline-block !important;position: relative;}#sk-container-id-2 div.sk-text-repr-fallback {display: none;}</style><div id=\"sk-container-id-2\" class=\"sk-top-container\"><div class=\"sk-text-repr-fallback\"><pre>GaussianNB()</pre><b>In a Jupyter environment, please rerun this cell to show the HTML representation or trust the notebook. <br />On GitHub, the HTML representation is unable to render, please try loading this page with nbviewer.org.</b></div><div class=\"sk-container\" hidden><div class=\"sk-item\"><div class=\"sk-estimator sk-toggleable\"><input class=\"sk-toggleable__control sk-hidden--visually\" id=\"sk-estimator-id-2\" type=\"checkbox\" checked><label for=\"sk-estimator-id-2\" class=\"sk-toggleable__label sk-toggleable__label-arrow\">GaussianNB</label><div class=\"sk-toggleable__content\"><pre>GaussianNB()</pre></div></div></div></div></div>"
            ]
          },
          "metadata": {},
          "execution_count": 46
        }
      ]
    },
    {
      "cell_type": "code",
      "source": [
        "#Predição e Acurácia de Teste\n",
        "predicao_6 = NB.predict(X_test)\n",
        "acuracia_6 = accuracy_score(y_test, predicao_6)\n",
        "print('Acurácia da classificação: {}' . format(round(acuracia_6,4)))"
      ],
      "metadata": {
        "colab": {
          "base_uri": "https://localhost:8080/"
        },
        "id": "_oXMcbB4lZlb",
        "outputId": "6c2a87e2-d853-4756-be24-6bc356555e34"
      },
      "execution_count": null,
      "outputs": [
        {
          "output_type": "stream",
          "name": "stdout",
          "text": [
            "Acurácia da classificação: 1.0\n"
          ]
        }
      ]
    },
    {
      "cell_type": "code",
      "source": [
        "#Matriz de confusão\n",
        "class_labels = ['normal', 'backdoor', 'injection', 'password', 'ransomware', 'xss', 'scanning', 'ddos']\n",
        "\n",
        "sns.heatmap(confusion_matrix(y_test, predicao_6), annot=True, fmt='d', cmap='Blues', xticklabels=class_labels, yticklabels=class_labels)\n",
        "plt.show()"
      ],
      "metadata": {
        "colab": {
          "base_uri": "https://localhost:8080/",
          "height": 505
        },
        "id": "VrsCOp0G2O2m",
        "outputId": "3e03d664-f84a-4ac9-82ea-175dcf196b4a"
      },
      "execution_count": null,
      "outputs": [
        {
          "output_type": "display_data",
          "data": {
            "text/plain": [
              "<Figure size 640x480 with 2 Axes>"
            ],
            "image/png": "[encoded data removed]"
          },
          "metadata": {}
        }
      ]
    },
    {
      "cell_type": "code",
      "source": [
        "print(classification_report(y_test, predicao_6))"
      ],
      "metadata": {
        "colab": {
          "base_uri": "https://localhost:8080/"
        },
        "id": "_8_cnbOw53fi",
        "outputId": "e37d839c-18e1-42f9-8836-6096de15ee5a"
      },
      "execution_count": null,
      "outputs": [
        {
          "output_type": "stream",
          "name": "stdout",
          "text": [
            "              precision    recall  f1-score   support\n",
            "\n",
            "           0       1.00      1.00      1.00      7051\n",
            "           1       1.00      1.00      1.00      1003\n",
            "           2       1.00      1.00      1.00       975\n",
            "           3       1.00      1.00      1.00       979\n",
            "           4       1.00      1.00      1.00       568\n",
            "           5       1.00      1.00      1.00       179\n",
            "           6       1.00      1.00      1.00       113\n",
            "           7       1.00      1.00      1.00       984\n",
            "\n",
            "    accuracy                           1.00     11852\n",
            "   macro avg       1.00      1.00      1.00     11852\n",
            "weighted avg       1.00      1.00      1.00     11852\n",
            "\n"
          ]
        }
      ]
    },
    {
      "cell_type": "markdown",
      "source": [
        "# 6º Técnica - Random Forest"
      ],
      "metadata": {
        "id": "9q-ddZTIoQGf"
      }
    },
    {
      "cell_type": "code",
      "source": [
        "#definindo um classificador NB\n",
        "RF = RandomForestClassifier()\n",
        "\n",
        "#Validação cruzada usando KFold com 4 folds\n",
        "kf = KFold(n_splits=4, shuffle=True, random_state=42)\n",
        "\n",
        "#Acurácia média durante a validação cruzada\n",
        "acuracias_cruzadas = cross_val_score(NB, X_train, y_train, cv=kf, scoring='accuracy')\n",
        "print('Acurácia média durante a validação cruzada: {}'.format(round(acuracias_cruzadas.mean(), 4)))\n",
        "\n",
        "#Modelo com dados de treinamento\n",
        "RF.fit(X_train,y_train)"
      ],
      "metadata": {
        "colab": {
          "base_uri": "https://localhost:8080/",
          "height": 92
        },
        "id": "YRkq_h7boizx",
        "outputId": "487a2e6e-d51b-417c-d58c-1de0bd2be394"
      },
      "execution_count": null,
      "outputs": [
        {
          "output_type": "stream",
          "name": "stdout",
          "text": [
            "Acurácia média durante a validação cruzada: 1.0\n"
          ]
        },
        {
          "output_type": "execute_result",
          "data": {
            "text/plain": [
              "RandomForestClassifier()"
            ],
            "text/html": [
              "<style>#sk-container-id-3 {color: black;background-color: white;}#sk-container-id-3 pre{padding: 0;}#sk-container-id-3 div.sk-toggleable {background-color: white;}#sk-container-id-3 label.sk-toggleable__label {cursor: pointer;display: block;width: 100%;margin-bottom: 0;padding: 0.3em;box-sizing: border-box;text-align: center;}#sk-container-id-3 label.sk-toggleable__label-arrow:before {content: \"▸\";float: left;margin-right: 0.25em;color: #696969;}#sk-container-id-3 label.sk-toggleable__label-arrow:hover:before {color: black;}#sk-container-id-3 div.sk-estimator:hover label.sk-toggleable__label-arrow:before {color: black;}#sk-container-id-3 div.sk-toggleable__content {max-height: 0;max-width: 0;overflow: hidden;text-align: left;background-color: #f0f8ff;}#sk-container-id-3 div.sk-toggleable__content pre {margin: 0.2em;color: black;border-radius: 0.25em;background-color: #f0f8ff;}#sk-container-id-3 input.sk-toggleable__control:checked~div.sk-toggleable__content {max-height: 200px;max-width: 100%;overflow: auto;}#sk-container-id-3 input.sk-toggleable__control:checked~label.sk-toggleable__label-arrow:before {content: \"▾\";}#sk-container-id-3 div.sk-estimator input.sk-toggleable__control:checked~label.sk-toggleable__label {background-color: #d4ebff;}#sk-container-id-3 div.sk-label input.sk-toggleable__control:checked~label.sk-toggleable__label {background-color: #d4ebff;}#sk-container-id-3 input.sk-hidden--visually {border: 0;clip: rect(1px 1px 1px 1px);clip: rect(1px, 1px, 1px, 1px);height: 1px;margin: -1px;overflow: hidden;padding: 0;position: absolute;width: 1px;}#sk-container-id-3 div.sk-estimator {font-family: monospace;background-color: #f0f8ff;border: 1px dotted black;border-radius: 0.25em;box-sizing: border-box;margin-bottom: 0.5em;}#sk-container-id-3 div.sk-estimator:hover {background-color: #d4ebff;}#sk-container-id-3 div.sk-parallel-item::after {content: \"\";width: 100%;border-bottom: 1px solid gray;flex-grow: 1;}#sk-container-id-3 div.sk-label:hover label.sk-toggleable__label {background-color: #d4ebff;}#sk-container-id-3 div.sk-serial::before {content: \"\";position: absolute;border-left: 1px solid gray;box-sizing: border-box;top: 0;bottom: 0;left: 50%;z-index: 0;}#sk-container-id-3 div.sk-serial {display: flex;flex-direction: column;align-items: center;background-color: white;padding-right: 0.2em;padding-left: 0.2em;position: relative;}#sk-container-id-3 div.sk-item {position: relative;z-index: 1;}#sk-container-id-3 div.sk-parallel {display: flex;align-items: stretch;justify-content: center;background-color: white;position: relative;}#sk-container-id-3 div.sk-item::before, #sk-container-id-3 div.sk-parallel-item::before {content: \"\";position: absolute;border-left: 1px solid gray;box-sizing: border-box;top: 0;bottom: 0;left: 50%;z-index: -1;}#sk-container-id-3 div.sk-parallel-item {display: flex;flex-direction: column;z-index: 1;position: relative;background-color: white;}#sk-container-id-3 div.sk-parallel-item:first-child::after {align-self: flex-end;width: 50%;}#sk-container-id-3 div.sk-parallel-item:last-child::after {align-self: flex-start;width: 50%;}#sk-container-id-3 div.sk-parallel-item:only-child::after {width: 0;}#sk-container-id-3 div.sk-dashed-wrapped {border: 1px dashed gray;margin: 0 0.4em 0.5em 0.4em;box-sizing: border-box;padding-bottom: 0.4em;background-color: white;}#sk-container-id-3 div.sk-label label {font-family: monospace;font-weight: bold;display: inline-block;line-height: 1.2em;}#sk-container-id-3 div.sk-label-container {text-align: center;}#sk-container-id-3 div.sk-container {/* jupyter's `normalize.less` sets `[hidden] { display: none; }` but bootstrap.min.css set `[hidden] { display: none !important; }` so we also need the `!important` here to be able to override the default hidden behavior on the sphinx rendered scikit-learn.org. See: https://github.com/scikit-learn/scikit-learn/issues/21755 */display: inline-block !important;position: relative;}#sk-container-id-3 div.sk-text-repr-fallback {display: none;}</style><div id=\"sk-container-id-3\" class=\"sk-top-container\"><div class=\"sk-text-repr-fallback\"><pre>RandomForestClassifier()</pre><b>In a Jupyter environment, please rerun this cell to show the HTML representation or trust the notebook. <br />On GitHub, the HTML representation is unable to render, please try loading this page with nbviewer.org.</b></div><div class=\"sk-container\" hidden><div class=\"sk-item\"><div class=\"sk-estimator sk-toggleable\"><input class=\"sk-toggleable__control sk-hidden--visually\" id=\"sk-estimator-id-3\" type=\"checkbox\" checked><label for=\"sk-estimator-id-3\" class=\"sk-toggleable__label sk-toggleable__label-arrow\">RandomForestClassifier</label><div class=\"sk-toggleable__content\"><pre>RandomForestClassifier()</pre></div></div></div></div></div>"
            ]
          },
          "metadata": {},
          "execution_count": 50
        }
      ]
    },
    {
      "cell_type": "code",
      "source": [
        "#Predição e Acurácia de Teste\n",
        "predicao_7 = RF.predict(X_test)\n",
        "acuracia_7 = accuracy_score(y_test, predicao_7)\n",
        "print('Acurácia da classificação: {}' . format(round(acuracia_7,4)))"
      ],
      "metadata": {
        "colab": {
          "base_uri": "https://localhost:8080/"
        },
        "id": "l5Z5TU_ypKUL",
        "outputId": "431aadca-d160-40f3-d7a4-e099570ddad3"
      },
      "execution_count": null,
      "outputs": [
        {
          "output_type": "stream",
          "name": "stdout",
          "text": [
            "Acurácia da classificação: 1.0\n"
          ]
        }
      ]
    },
    {
      "cell_type": "code",
      "source": [
        "#Matriz de confusão\n",
        "class_labels = ['normal', 'backdoor', 'injection', 'password', 'ransomware', 'xss', 'scanning', 'ddos']\n",
        "\n",
        "sns.heatmap(confusion_matrix(y_test, predicao_7), annot=True, fmt='d', cmap='Blues', xticklabels=class_labels, yticklabels=class_labels)\n",
        "plt.show()"
      ],
      "metadata": {
        "colab": {
          "base_uri": "https://localhost:8080/",
          "height": 505
        },
        "id": "aKKreJxz2nVh",
        "outputId": "8f9c8084-e045-42d6-a011-2c42715d44b5"
      },
      "execution_count": null,
      "outputs": [
        {
          "output_type": "display_data",
          "data": {
            "text/plain": [
              "<Figure size 640x480 with 2 Axes>"
            ],
            "image/png": "[encoded data removed]"
          },
          "metadata": {}
        }
      ]
    },
    {
      "cell_type": "code",
      "source": [
        "print(classification_report(y_test, predicao_7))"
      ],
      "metadata": {
        "colab": {
          "base_uri": "https://localhost:8080/"
        },
        "id": "e7QTTyg76CPg",
        "outputId": "1f2a1207-4bad-4b93-e9ed-4ae36abbeeb5"
      },
      "execution_count": null,
      "outputs": [
        {
          "output_type": "stream",
          "name": "stdout",
          "text": [
            "              precision    recall  f1-score   support\n",
            "\n",
            "           0       1.00      1.00      1.00      7051\n",
            "           1       1.00      1.00      1.00      1003\n",
            "           2       1.00      1.00      1.00       975\n",
            "           3       1.00      1.00      1.00       979\n",
            "           4       1.00      1.00      1.00       568\n",
            "           5       1.00      1.00      1.00       179\n",
            "           6       1.00      1.00      1.00       113\n",
            "           7       1.00      1.00      1.00       984\n",
            "\n",
            "    accuracy                           1.00     11852\n",
            "   macro avg       1.00      1.00      1.00     11852\n",
            "weighted avg       1.00      1.00      1.00     11852\n",
            "\n"
          ]
        }
      ]
    },
    {
      "cell_type": "markdown",
      "source": [
        "## LSTM"
      ],
      "metadata": {
        "id": "0awROBnEsJY-"
      }
    },
    {
      "cell_type": "code",
      "source": [
        "atributos"
      ],
      "metadata": {
        "colab": {
          "base_uri": "https://localhost:8080/",
          "height": 424
        },
        "id": "Rjx2SySt0ZRE",
        "outputId": "2566e616-fe10-4e47-f3a5-92a8252acbc9"
      },
      "execution_count": null,
      "outputs": [
        {
          "output_type": "execute_result",
          "data": {
            "text/plain": [
              "             ts  temperature  pressure  humidity\n",
              "0      0.898364     0.690627  0.487256  0.382388\n",
              "1      0.898364     0.827429  0.599805  0.460480\n",
              "2      0.898364     0.602885  0.392072  0.507763\n",
              "3      0.898366     0.705038  0.487256  0.382388\n",
              "4      0.898366     0.827068  0.616880  0.460480\n",
              "...         ...          ...       ...       ...\n",
              "59255  0.043564     0.416396  0.581205  0.368946\n",
              "59256  0.043564     0.302880  0.408702  0.903832\n",
              "59257  0.043564     0.904522  0.526956  0.375601\n",
              "59258  0.043566     0.765787  0.620438  0.937468\n",
              "59259  0.043566     0.405888  0.581205  0.368946\n",
              "\n",
              "[59260 rows x 4 columns]"
            ],
            "text/html": [
              "\n",
              "  <div id=\"df-0f07ce96-ab74-48b1-84cd-9335bdaf3e67\" class=\"colab-df-container\">\n",
              "    <div>\n",
              "<style scoped>\n",
              "    .dataframe tbody tr th:only-of-type {\n",
              "        vertical-align: middle;\n",
              "    }\n",
              "\n",
              "    .dataframe tbody tr th {\n",
              "        vertical-align: top;\n",
              "    }\n",
              "\n",
              "    .dataframe thead th {\n",
              "        text-align: right;\n",
              "    }\n",
              "</style>\n",
              "<table border=\"1\" class=\"dataframe\">\n",
              "  <thead>\n",
              "    <tr style=\"text-align: right;\">\n",
              "      <th></th>\n",
              "      <th>ts</th>\n",
              "      <th>temperature</th>\n",
              "      <th>pressure</th>\n",
              "      <th>humidity</th>\n",
              "    </tr>\n",
              "  </thead>\n",
              "  <tbody>\n",
              "    <tr>\n",
              "      <th>0</th>\n",
              "      <td>0.898364</td>\n",
              "      <td>0.690627</td>\n",
              "      <td>0.487256</td>\n",
              "      <td>0.382388</td>\n",
              "    </tr>\n",
              "    <tr>\n",
              "      <th>1</th>\n",
              "      <td>0.898364</td>\n",
              "      <td>0.827429</td>\n",
              "      <td>0.599805</td>\n",
              "      <td>0.460480</td>\n",
              "    </tr>\n",
              "    <tr>\n",
              "      <th>2</th>\n",
              "      <td>0.898364</td>\n",
              "      <td>0.602885</td>\n",
              "      <td>0.392072</td>\n",
              "      <td>0.507763</td>\n",
              "    </tr>\n",
              "    <tr>\n",
              "      <th>3</th>\n",
              "      <td>0.898366</td>\n",
              "      <td>0.705038</td>\n",
              "      <td>0.487256</td>\n",
              "      <td>0.382388</td>\n",
              "    </tr>\n",
              "    <tr>\n",
              "      <th>4</th>\n",
              "      <td>0.898366</td>\n",
              "      <td>0.827068</td>\n",
              "      <td>0.616880</td>\n",
              "      <td>0.460480</td>\n",
              "    </tr>\n",
              "    <tr>\n",
              "      <th>...</th>\n",
              "      <td>...</td>\n",
              "      <td>...</td>\n",
              "      <td>...</td>\n",
              "      <td>...</td>\n",
              "    </tr>\n",
              "    <tr>\n",
              "      <th>59255</th>\n",
              "      <td>0.043564</td>\n",
              "      <td>0.416396</td>\n",
              "      <td>0.581205</td>\n",
              "      <td>0.368946</td>\n",
              "    </tr>\n",
              "    <tr>\n",
              "      <th>59256</th>\n",
              "      <td>0.043564</td>\n",
              "      <td>0.302880</td>\n",
              "      <td>0.408702</td>\n",
              "      <td>0.903832</td>\n",
              "    </tr>\n",
              "    <tr>\n",
              "      <th>59257</th>\n",
              "      <td>0.043564</td>\n",
              "      <td>0.904522</td>\n",
              "      <td>0.526956</td>\n",
              "      <td>0.375601</td>\n",
              "    </tr>\n",
              "    <tr>\n",
              "      <th>59258</th>\n",
              "      <td>0.043566</td>\n",
              "      <td>0.765787</td>\n",
              "      <td>0.620438</td>\n",
              "      <td>0.937468</td>\n",
              "    </tr>\n",
              "    <tr>\n",
              "      <th>59259</th>\n",
              "      <td>0.043566</td>\n",
              "      <td>0.405888</td>\n",
              "      <td>0.581205</td>\n",
              "      <td>0.368946</td>\n",
              "    </tr>\n",
              "  </tbody>\n",
              "</table>\n",
              "<p>59260 rows × 4 columns</p>\n",
              "</div>\n",
              "    <div class=\"colab-df-buttons\">\n",
              "\n",
              "  <div class=\"colab-df-container\">\n",
              "    <button class=\"colab-df-convert\" onclick=\"convertToInteractive('df-0f07ce96-ab74-48b1-84cd-9335bdaf3e67')\"\n",
              "            title=\"Convert this dataframe to an interactive table.\"\n",
              "            style=\"display:none;\">\n",
              "\n",
              "  <svg xmlns=\"http://www.w3.org/2000/svg\" height=\"24px\" viewBox=\"0 -960 960 960\">\n",
              "    <path d=\"M120-120v-720h720v720H120Zm60-500h600v-160H180v160Zm220 220h160v-160H400v160Zm0 220h160v-160H400v160ZM180-400h160v-160H180v160Zm440 0h160v-160H620v160ZM180-180h160v-160H180v160Zm440 0h160v-160H620v160Z\"/>\n",
              "  </svg>\n",
              "    </button>\n",
              "\n",
              "  <style>\n",
              "    .colab-df-container {\n",
              "      display:flex;\n",
              "      gap: 12px;\n",
              "    }\n",
              "\n",
              "    .colab-df-convert {\n",
              "      background-color: #E8F0FE;\n",
              "      border: none;\n",
              "      border-radius: 50%;\n",
              "      cursor: pointer;\n",
              "      display: none;\n",
              "      fill: #1967D2;\n",
              "      height: 32px;\n",
              "      padding: 0 0 0 0;\n",
              "      width: 32px;\n",
              "    }\n",
              "\n",
              "    .colab-df-convert:hover {\n",
              "      background-color: #E2EBFA;\n",
              "      box-shadow: 0px 1px 2px rgba(60, 64, 67, 0.3), 0px 1px 3px 1px rgba(60, 64, 67, 0.15);\n",
              "      fill: #174EA6;\n",
              "    }\n",
              "\n",
              "    .colab-df-buttons div {\n",
              "      margin-bottom: 4px;\n",
              "    }\n",
              "\n",
              "    [theme=dark] .colab-df-convert {\n",
              "      background-color: #3B4455;\n",
              "      fill: #D2E3FC;\n",
              "    }\n",
              "\n",
              "    [theme=dark] .colab-df-convert:hover {\n",
              "      background-color: #434B5C;\n",
              "      box-shadow: 0px 1px 3px 1px rgba(0, 0, 0, 0.15);\n",
              "      filter: drop-shadow(0px 1px 2px rgba(0, 0, 0, 0.3));\n",
              "      fill: #FFFFFF;\n",
              "    }\n",
              "  </style>\n",
              "\n",
              "    <script>\n",
              "      const buttonEl =\n",
              "        document.querySelector('#df-0f07ce96-ab74-48b1-84cd-9335bdaf3e67 button.colab-df-convert');\n",
              "      buttonEl.style.display =\n",
              "        google.colab.kernel.accessAllowed ? 'block' : 'none';\n",
              "\n",
              "      async function convertToInteractive(key) {\n",
              "        const element = document.querySelector('#df-0f07ce96-ab74-48b1-84cd-9335bdaf3e67');\n",
              "        const dataTable =\n",
              "          await google.colab.kernel.invokeFunction('convertToInteractive',\n",
              "                                                    [key], {});\n",
              "        if (!dataTable) return;\n",
              "\n",
              "        const docLinkHtml = 'Like what you see? Visit the ' +\n",
              "          '<a target=\"_blank\" href=https://colab.research.google.com/notebooks/data_table.ipynb>data table notebook</a>'\n",
              "          + ' to learn more about interactive tables.';\n",
              "        element.innerHTML = '';\n",
              "        dataTable['output_type'] = 'display_data';\n",
              "        await google.colab.output.renderOutput(dataTable, element);\n",
              "        const docLink = document.createElement('div');\n",
              "        docLink.innerHTML = docLinkHtml;\n",
              "        element.appendChild(docLink);\n",
              "      }\n",
              "    </script>\n",
              "  </div>\n",
              "\n",
              "\n",
              "<div id=\"df-6b642224-8a12-4faa-b26c-c8a4aa1116e7\">\n",
              "  <button class=\"colab-df-quickchart\" onclick=\"quickchart('df-6b642224-8a12-4faa-b26c-c8a4aa1116e7')\"\n",
              "            title=\"Suggest charts\"\n",
              "            style=\"display:none;\">\n",
              "\n",
              "<svg xmlns=\"http://www.w3.org/2000/svg\" height=\"24px\"viewBox=\"0 0 24 24\"\n",
              "     width=\"24px\">\n",
              "    <g>\n",
              "        <path d=\"M19 3H5c-1.1 0-2 .9-2 2v14c0 1.1.9 2 2 2h14c1.1 0 2-.9 2-2V5c0-1.1-.9-2-2-2zM9 17H7v-7h2v7zm4 0h-2V7h2v10zm4 0h-2v-4h2v4z\"/>\n",
              "    </g>\n",
              "</svg>\n",
              "  </button>\n",
              "\n",
              "<style>\n",
              "  .colab-df-quickchart {\n",
              "      --bg-color: #E8F0FE;\n",
              "      --fill-color: #1967D2;\n",
              "      --hover-bg-color: #E2EBFA;\n",
              "      --hover-fill-color: #174EA6;\n",
              "      --disabled-fill-color: #AAA;\n",
              "      --disabled-bg-color: #DDD;\n",
              "  }\n",
              "\n",
              "  [theme=dark] .colab-df-quickchart {\n",
              "      --bg-color: #3B4455;\n",
              "      --fill-color: #D2E3FC;\n",
              "      --hover-bg-color: #434B5C;\n",
              "      --hover-fill-color: #FFFFFF;\n",
              "      --disabled-bg-color: #3B4455;\n",
              "      --disabled-fill-color: #666;\n",
              "  }\n",
              "\n",
              "  .colab-df-quickchart {\n",
              "    background-color: var(--bg-color);\n",
              "    border: none;\n",
              "    border-radius: 50%;\n",
              "    cursor: pointer;\n",
              "    display: none;\n",
              "    fill: var(--fill-color);\n",
              "    height: 32px;\n",
              "    padding: 0;\n",
              "    width: 32px;\n",
              "  }\n",
              "\n",
              "  .colab-df-quickchart:hover {\n",
              "    background-color: var(--hover-bg-color);\n",
              "    box-shadow: 0 1px 2px rgba(60, 64, 67, 0.3), 0 1px 3px 1px rgba(60, 64, 67, 0.15);\n",
              "    fill: var(--button-hover-fill-color);\n",
              "  }\n",
              "\n",
              "  .colab-df-quickchart-complete:disabled,\n",
              "  .colab-df-quickchart-complete:disabled:hover {\n",
              "    background-color: var(--disabled-bg-color);\n",
              "    fill: var(--disabled-fill-color);\n",
              "    box-shadow: none;\n",
              "  }\n",
              "\n",
              "  .colab-df-spinner {\n",
              "    border: 2px solid var(--fill-color);\n",
              "    border-color: transparent;\n",
              "    border-bottom-color: var(--fill-color);\n",
              "    animation:\n",
              "      spin 1s steps(1) infinite;\n",
              "  }\n",
              "\n",
              "  @keyframes spin {\n",
              "    0% {\n",
              "      border-color: transparent;\n",
              "      border-bottom-color: var(--fill-color);\n",
              "      border-left-color: var(--fill-color);\n",
              "    }\n",
              "    20% {\n",
              "      border-color: transparent;\n",
              "      border-left-color: var(--fill-color);\n",
              "      border-top-color: var(--fill-color);\n",
              "    }\n",
              "    30% {\n",
              "      border-color: transparent;\n",
              "      border-left-color: var(--fill-color);\n",
              "      border-top-color: var(--fill-color);\n",
              "      border-right-color: var(--fill-color);\n",
              "    }\n",
              "    40% {\n",
              "      border-color: transparent;\n",
              "      border-right-color: var(--fill-color);\n",
              "      border-top-color: var(--fill-color);\n",
              "    }\n",
              "    60% {\n",
              "      border-color: transparent;\n",
              "      border-right-color: var(--fill-color);\n",
              "    }\n",
              "    80% {\n",
              "      border-color: transparent;\n",
              "      border-right-color: var(--fill-color);\n",
              "      border-bottom-color: var(--fill-color);\n",
              "    }\n",
              "    90% {\n",
              "      border-color: transparent;\n",
              "      border-bottom-color: var(--fill-color);\n",
              "    }\n",
              "  }\n",
              "</style>\n",
              "\n",
              "  <script>\n",
              "    async function quickchart(key) {\n",
              "      const quickchartButtonEl =\n",
              "        document.querySelector('#' + key + ' button');\n",
              "      quickchartButtonEl.disabled = true;  // To prevent multiple clicks.\n",
              "      quickchartButtonEl.classList.add('colab-df-spinner');\n",
              "      try {\n",
              "        const charts = await google.colab.kernel.invokeFunction(\n",
              "            'suggestCharts', [key], {});\n",
              "      } catch (error) {\n",
              "        console.error('Error during call to suggestCharts:', error);\n",
              "      }\n",
              "      quickchartButtonEl.classList.remove('colab-df-spinner');\n",
              "      quickchartButtonEl.classList.add('colab-df-quickchart-complete');\n",
              "    }\n",
              "    (() => {\n",
              "      let quickchartButtonEl =\n",
              "        document.querySelector('#df-6b642224-8a12-4faa-b26c-c8a4aa1116e7 button');\n",
              "      quickchartButtonEl.style.display =\n",
              "        google.colab.kernel.accessAllowed ? 'block' : 'none';\n",
              "    })();\n",
              "  </script>\n",
              "</div>\n",
              "\n",
              "  <div id=\"id_bfd00473-25d5-4db3-b3f4-c00d98610456\">\n",
              "    <style>\n",
              "      .colab-df-generate {\n",
              "        background-color: #E8F0FE;\n",
              "        border: none;\n",
              "        border-radius: 50%;\n",
              "        cursor: pointer;\n",
              "        display: none;\n",
              "        fill: #1967D2;\n",
              "        height: 32px;\n",
              "        padding: 0 0 0 0;\n",
              "        width: 32px;\n",
              "      }\n",
              "\n",
              "      .colab-df-generate:hover {\n",
              "        background-color: #E2EBFA;\n",
              "        box-shadow: 0px 1px 2px rgba(60, 64, 67, 0.3), 0px 1px 3px 1px rgba(60, 64, 67, 0.15);\n",
              "        fill: #174EA6;\n",
              "      }\n",
              "\n",
              "      [theme=dark] .colab-df-generate {\n",
              "        background-color: #3B4455;\n",
              "        fill: #D2E3FC;\n",
              "      }\n",
              "\n",
              "      [theme=dark] .colab-df-generate:hover {\n",
              "        background-color: #434B5C;\n",
              "        box-shadow: 0px 1px 3px 1px rgba(0, 0, 0, 0.15);\n",
              "        filter: drop-shadow(0px 1px 2px rgba(0, 0, 0, 0.3));\n",
              "        fill: #FFFFFF;\n",
              "      }\n",
              "    </style>\n",
              "    <button class=\"colab-df-generate\" onclick=\"generateWithVariable('atributos')\"\n",
              "            title=\"Generate code using this dataframe.\"\n",
              "            style=\"display:none;\">\n",
              "\n",
              "  <svg xmlns=\"http://www.w3.org/2000/svg\" height=\"24px\"viewBox=\"0 0 24 24\"\n",
              "       width=\"24px\">\n",
              "    <path d=\"M7,19H8.4L18.45,9,17,7.55,7,17.6ZM5,21V16.75L18.45,3.32a2,2,0,0,1,2.83,0l1.4,1.43a1.91,1.91,0,0,1,.58,1.4,1.91,1.91,0,0,1-.58,1.4L9.25,21ZM18.45,9,17,7.55Zm-12,3A5.31,5.31,0,0,0,4.9,8.1,5.31,5.31,0,0,0,1,6.5,5.31,5.31,0,0,0,4.9,4.9,5.31,5.31,0,0,0,6.5,1,5.31,5.31,0,0,0,8.1,4.9,5.31,5.31,0,0,0,12,6.5,5.46,5.46,0,0,0,6.5,12Z\"/>\n",
              "  </svg>\n",
              "    </button>\n",
              "    <script>\n",
              "      (() => {\n",
              "      const buttonEl =\n",
              "        document.querySelector('#id_bfd00473-25d5-4db3-b3f4-c00d98610456 button.colab-df-generate');\n",
              "      buttonEl.style.display =\n",
              "        google.colab.kernel.accessAllowed ? 'block' : 'none';\n",
              "\n",
              "      buttonEl.onclick = () => {\n",
              "        google.colab.notebook.generateWithVariable('atributos');\n",
              "      }\n",
              "      })();\n",
              "    </script>\n",
              "  </div>\n",
              "\n",
              "    </div>\n",
              "  </div>\n"
            ],
            "application/vnd.google.colaboratory.intrinsic+json": {
              "type": "dataframe",
              "variable_name": "atributos",
              "summary": "{\n  \"name\": \"atributos\",\n  \"rows\": 59260,\n  \"fields\": [\n    {\n      \"column\": \"ts\",\n      \"properties\": {\n        \"dtype\": \"number\",\n        \"std\": 0.4529268421371809,\n        \"min\": 0.0,\n        \"max\": 1.0,\n        \"num_unique_values\": 23978,\n        \"samples\": [\n          0.9330268912991555,\n          0.04319669395714074,\n          0.98678597637869\n        ],\n        \"semantic_type\": \"\",\n        \"description\": \"\"\n      }\n    },\n    {\n      \"column\": \"temperature\",\n      \"properties\": {\n        \"dtype\": \"number\",\n        \"std\": 0.28273016929761075,\n        \"min\": 0.0,\n        \"max\": 1.0,\n        \"num_unique_values\": 56501,\n        \"samples\": [\n          0.6504712626570698,\n          0.5243853138362402,\n          0.15715465854954558\n        ],\n        \"semantic_type\": \"\",\n        \"description\": \"\"\n      }\n    },\n    {\n      \"column\": \"pressure\",\n      \"properties\": {\n        \"dtype\": \"number\",\n        \"std\": 0.11352948516506318,\n        \"min\": 0.0,\n        \"max\": 1.0,\n        \"num_unique_values\": 7940,\n        \"samples\": [\n          0.593853081962874,\n          0.5348736856425625,\n          0.21165281539579525\n        ],\n        \"semantic_type\": \"\",\n        \"description\": \"\"\n      }\n    },\n    {\n      \"column\": \"humidity\",\n      \"properties\": {\n        \"dtype\": \"number\",\n        \"std\": 0.28665561300619663,\n        \"min\": 0.0,\n        \"max\": 1.0,\n        \"num_unique_values\": 11056,\n        \"samples\": [\n          0.12195175077386824,\n          0.7706955136153769,\n          0.7418635196579431\n        ],\n        \"semantic_type\": \"\",\n        \"description\": \"\"\n      }\n    }\n  ]\n}"
            }
          },
          "metadata": {},
          "execution_count": 54
        }
      ]
    },
    {
      "cell_type": "code",
      "source": [
        "# Definindo um modelador de dados para a entrada da rede LSTM\n",
        "def df_to_X_y2(df, window_size = 5):\n",
        "  df_as_np = df.to_numpy()\n",
        "  X = []\n",
        "  y = []\n",
        "  for i in range(len(df_as_np)- window_size):\n",
        "    row = [r for r in df_as_np[i:i+window_size]]\n",
        "    X.append(row)\n",
        "    label = df_as_np[i+window_size][0]\n",
        "    y.append(label)\n",
        "  return np.array(X), np.array(y)"
      ],
      "metadata": {
        "id": "Ce0632ADztmA"
      },
      "execution_count": null,
      "outputs": []
    },
    {
      "cell_type": "code",
      "source": [
        "# Modelando os dados com janela tamanho 5\n",
        "WINDOW_SIZE = 5\n",
        "X1, y1 = df_to_X_y2(atributos, WINDOW_SIZE)"
      ],
      "metadata": {
        "id": "KITJNd1oslQF"
      },
      "execution_count": null,
      "outputs": []
    },
    {
      "cell_type": "code",
      "source": [
        "X1.shape\n"
      ],
      "metadata": {
        "colab": {
          "base_uri": "https://localhost:8080/"
        },
        "id": "XPvecHwDtP4m",
        "outputId": "770c2e73-bdf7-43cc-f7e3-345ee482e077"
      },
      "execution_count": null,
      "outputs": [
        {
          "output_type": "execute_result",
          "data": {
            "text/plain": [
              "(59255, 5, 4)"
            ]
          },
          "metadata": {},
          "execution_count": 57
        }
      ]
    },
    {
      "cell_type": "code",
      "source": [
        "labels_2 = classe[5:]"
      ],
      "metadata": {
        "id": "I0iKcr91tbN3"
      },
      "execution_count": null,
      "outputs": []
    },
    {
      "cell_type": "code",
      "source": [
        "labels_2.shape"
      ],
      "metadata": {
        "colab": {
          "base_uri": "https://localhost:8080/"
        },
        "id": "1nAK7z91tpvH",
        "outputId": "3558a10b-7b76-4712-f4cf-2a57f6054357"
      },
      "execution_count": null,
      "outputs": [
        {
          "output_type": "execute_result",
          "data": {
            "text/plain": [
              "(59255,)"
            ]
          },
          "metadata": {},
          "execution_count": 59
        }
      ]
    },
    {
      "cell_type": "code",
      "source": [
        "# Dividindo dados de treino e teste na proporção 80% e 20%\n",
        "X_train, X_test, y_train, y_test = train_test_split(X1, labels_2, test_size=0.2, random_state=42)"
      ],
      "metadata": {
        "id": "0Hn9ZD0at-uo"
      },
      "execution_count": null,
      "outputs": []
    },
    {
      "cell_type": "code",
      "source": [
        "X_train.shape"
      ],
      "metadata": {
        "colab": {
          "base_uri": "https://localhost:8080/"
        },
        "id": "CFAioJIpuzbV",
        "outputId": "01e27281-a9e0-447b-e1dd-b93d4cfbcd68"
      },
      "execution_count": null,
      "outputs": [
        {
          "output_type": "execute_result",
          "data": {
            "text/plain": [
              "(47404, 5, 4)"
            ]
          },
          "metadata": {},
          "execution_count": 61
        }
      ]
    },
    {
      "cell_type": "code",
      "source": [
        "model1 = Sequential()\n",
        "model1.add(InputLayer(input_shape=(5,4)))  # Adicione input_shape para representar timesteps e features\n",
        "model1.add(LSTM(64))\n",
        "model1.add(Dense(128, activation='tanh'))\n",
        "model1.add(Dropout(0.2))\n",
        "model1.add(Dense(100, activation='tanh'))\n",
        "model1.add(Dropout(0.2))\n",
        "model1.add(Dense(64, activation='tanh'))\n",
        "model1.add(Dropout(0.2))\n",
        "model1.add(Dense(8, activation='sigmoid'))\n",
        "\n",
        "model1.build(input_shape=(None, 1, 2))"
      ],
      "metadata": {
        "id": "6cEmtLEXtA04"
      },
      "execution_count": null,
      "outputs": []
    },
    {
      "cell_type": "code",
      "source": [
        "model1.summary()"
      ],
      "metadata": {
        "colab": {
          "base_uri": "https://localhost:8080/"
        },
        "id": "e85zbMbptLRN",
        "outputId": "6c51e0c2-9c0e-4bf3-bb29-60f2340cb894"
      },
      "execution_count": null,
      "outputs": [
        {
          "output_type": "stream",
          "name": "stdout",
          "text": [
            "Model: \"sequential\"\n",
            "_________________________________________________________________\n",
            " Layer (type)                Output Shape              Param #   \n",
            "=================================================================\n",
            " lstm (LSTM)                 (None, 64)                17664     \n",
            "                                                                 \n",
            " dense (Dense)               (None, 128)               8320      \n",
            "                                                                 \n",
            " dropout (Dropout)           (None, 128)               0         \n",
            "                                                                 \n",
            " dense_1 (Dense)             (None, 100)               12900     \n",
            "                                                                 \n",
            " dropout_1 (Dropout)         (None, 100)               0         \n",
            "                                                                 \n",
            " dense_2 (Dense)             (None, 64)                6464      \n",
            "                                                                 \n",
            " dropout_2 (Dropout)         (None, 64)                0         \n",
            "                                                                 \n",
            " dense_3 (Dense)             (None, 8)                 520       \n",
            "                                                                 \n",
            "=================================================================\n",
            "Total params: 45868 (179.17 KB)\n",
            "Trainable params: 45868 (179.17 KB)\n",
            "Non-trainable params: 0 (0.00 Byte)\n",
            "_________________________________________________________________\n"
          ]
        }
      ]
    },
    {
      "cell_type": "code",
      "source": [
        "cp1 = ModelCheckpoint('model1/', save_best_only=True)\n",
        "model1.compile(loss = 'sparse_categorical_crossentropy' , optimizer = Adam(learning_rate=0.0001), metrics = ['sparse_categorical_accuracy'])"
      ],
      "metadata": {
        "id": "hOxo6hLntOgI"
      },
      "execution_count": null,
      "outputs": []
    },
    {
      "cell_type": "code",
      "source": [
        "history = model1.fit(X_train, y_train, validation_data=(X_test, y_test), epochs=40, callbacks=[cp1])"
      ],
      "metadata": {
        "colab": {
          "base_uri": "https://localhost:8080/"
        },
        "id": "cJjH51zWuKLu",
        "outputId": "57dc63d6-d50c-4cfe-db8c-dcebf1c310ae"
      },
      "execution_count": null,
      "outputs": [
        {
          "output_type": "stream",
          "name": "stdout",
          "text": [
            "Epoch 1/40\n",
            "1482/1482 [==============================] - 12s 7ms/step - loss: 0.6705 - sparse_categorical_accuracy: 0.7465 - val_loss: 0.3982 - val_sparse_categorical_accuracy: 0.8676\n",
            "Epoch 2/40\n",
            "1482/1482 [==============================] - 9s 6ms/step - loss: 0.2987 - sparse_categorical_accuracy: 0.8910 - val_loss: 0.2030 - val_sparse_categorical_accuracy: 0.9294\n",
            "Epoch 3/40\n",
            "1482/1482 [==============================] - 10s 6ms/step - loss: 0.1918 - sparse_categorical_accuracy: 0.9298 - val_loss: 0.1531 - val_sparse_categorical_accuracy: 0.9486\n",
            "Epoch 4/40\n",
            "1482/1482 [==============================] - 10s 7ms/step - loss: 0.1372 - sparse_categorical_accuracy: 0.9518 - val_loss: 0.0931 - val_sparse_categorical_accuracy: 0.9692\n",
            "Epoch 5/40\n",
            "1482/1482 [==============================] - 10s 7ms/step - loss: 0.0988 - sparse_categorical_accuracy: 0.9686 - val_loss: 0.0627 - val_sparse_categorical_accuracy: 0.9828\n",
            "Epoch 6/40\n",
            "1482/1482 [==============================] - 10s 7ms/step - loss: 0.0767 - sparse_categorical_accuracy: 0.9765 - val_loss: 0.0567 - val_sparse_categorical_accuracy: 0.9839\n",
            "Epoch 7/40\n",
            "1482/1482 [==============================] - 6s 4ms/step - loss: 0.0571 - sparse_categorical_accuracy: 0.9843 - val_loss: 0.0790 - val_sparse_categorical_accuracy: 0.9678\n",
            "Epoch 8/40\n",
            "1482/1482 [==============================] - 9s 6ms/step - loss: 0.0461 - sparse_categorical_accuracy: 0.9879 - val_loss: 0.0255 - val_sparse_categorical_accuracy: 0.9964\n",
            "Epoch 9/40\n",
            "1482/1482 [==============================] - 10s 7ms/step - loss: 0.0386 - sparse_categorical_accuracy: 0.9903 - val_loss: 0.0214 - val_sparse_categorical_accuracy: 0.9973\n",
            "Epoch 10/40\n",
            "1482/1482 [==============================] - 10s 7ms/step - loss: 0.0307 - sparse_categorical_accuracy: 0.9929 - val_loss: 0.0184 - val_sparse_categorical_accuracy: 0.9979\n",
            "Epoch 11/40\n",
            "1482/1482 [==============================] - 9s 6ms/step - loss: 0.0293 - sparse_categorical_accuracy: 0.9932 - val_loss: 0.0165 - val_sparse_categorical_accuracy: 0.9981\n",
            "Epoch 12/40\n",
            "1482/1482 [==============================] - 7s 4ms/step - loss: 0.0283 - sparse_categorical_accuracy: 0.9933 - val_loss: 0.0226 - val_sparse_categorical_accuracy: 0.9959\n",
            "Epoch 13/40\n",
            "1482/1482 [==============================] - 6s 4ms/step - loss: 0.0221 - sparse_categorical_accuracy: 0.9955 - val_loss: 0.0226 - val_sparse_categorical_accuracy: 0.9952\n",
            "Epoch 14/40\n",
            "1482/1482 [==============================] - 10s 7ms/step - loss: 0.0202 - sparse_categorical_accuracy: 0.9961 - val_loss: 0.0149 - val_sparse_categorical_accuracy: 0.9982\n",
            "Epoch 15/40\n",
            "1482/1482 [==============================] - 7s 5ms/step - loss: 0.0219 - sparse_categorical_accuracy: 0.9952 - val_loss: 0.0159 - val_sparse_categorical_accuracy: 0.9981\n",
            "Epoch 16/40\n",
            "1482/1482 [==============================] - 6s 4ms/step - loss: 0.0201 - sparse_categorical_accuracy: 0.9958 - val_loss: 0.0731 - val_sparse_categorical_accuracy: 0.9691\n",
            "Epoch 17/40\n",
            "1482/1482 [==============================] - 9s 6ms/step - loss: 0.0220 - sparse_categorical_accuracy: 0.9952 - val_loss: 0.0134 - val_sparse_categorical_accuracy: 0.9985\n",
            "Epoch 18/40\n",
            "1482/1482 [==============================] - 6s 4ms/step - loss: 0.0165 - sparse_categorical_accuracy: 0.9968 - val_loss: 0.0135 - val_sparse_categorical_accuracy: 0.9985\n",
            "Epoch 19/40\n",
            "1482/1482 [==============================] - 7s 4ms/step - loss: 0.0171 - sparse_categorical_accuracy: 0.9962 - val_loss: 0.0137 - val_sparse_categorical_accuracy: 0.9983\n",
            "Epoch 20/40\n",
            "1482/1482 [==============================] - 11s 7ms/step - loss: 0.0180 - sparse_categorical_accuracy: 0.9961 - val_loss: 0.0124 - val_sparse_categorical_accuracy: 0.9986\n",
            "Epoch 21/40\n",
            "1482/1482 [==============================] - 12s 8ms/step - loss: 0.0160 - sparse_categorical_accuracy: 0.9969 - val_loss: 0.0124 - val_sparse_categorical_accuracy: 0.9985\n",
            "Epoch 22/40\n",
            "1482/1482 [==============================] - 10s 7ms/step - loss: 0.0160 - sparse_categorical_accuracy: 0.9964 - val_loss: 0.0123 - val_sparse_categorical_accuracy: 0.9984\n",
            "Epoch 23/40\n",
            "1482/1482 [==============================] - 9s 6ms/step - loss: 0.0176 - sparse_categorical_accuracy: 0.9961 - val_loss: 0.0120 - val_sparse_categorical_accuracy: 0.9983\n",
            "Epoch 24/40\n",
            "1482/1482 [==============================] - 10s 7ms/step - loss: 0.0143 - sparse_categorical_accuracy: 0.9974 - val_loss: 0.0119 - val_sparse_categorical_accuracy: 0.9985\n",
            "Epoch 25/40\n",
            "1482/1482 [==============================] - 7s 5ms/step - loss: 0.0185 - sparse_categorical_accuracy: 0.9958 - val_loss: 0.0125 - val_sparse_categorical_accuracy: 0.9982\n",
            "Epoch 26/40\n",
            "1482/1482 [==============================] - 9s 6ms/step - loss: 0.0162 - sparse_categorical_accuracy: 0.9965 - val_loss: 0.0112 - val_sparse_categorical_accuracy: 0.9986\n",
            "Epoch 27/40\n",
            "1482/1482 [==============================] - 8s 5ms/step - loss: 0.0159 - sparse_categorical_accuracy: 0.9968 - val_loss: 0.0220 - val_sparse_categorical_accuracy: 0.9945\n",
            "Epoch 28/40\n",
            "1482/1482 [==============================] - 10s 7ms/step - loss: 0.0151 - sparse_categorical_accuracy: 0.9970 - val_loss: 0.0111 - val_sparse_categorical_accuracy: 0.9986\n",
            "Epoch 29/40\n",
            "1482/1482 [==============================] - 10s 7ms/step - loss: 0.0159 - sparse_categorical_accuracy: 0.9965 - val_loss: 0.0109 - val_sparse_categorical_accuracy: 0.9984\n",
            "Epoch 30/40\n",
            "1482/1482 [==============================] - 6s 4ms/step - loss: 0.0151 - sparse_categorical_accuracy: 0.9967 - val_loss: 0.0183 - val_sparse_categorical_accuracy: 0.9959\n",
            "Epoch 31/40\n",
            "1482/1482 [==============================] - 7s 5ms/step - loss: 0.0139 - sparse_categorical_accuracy: 0.9970 - val_loss: 0.0118 - val_sparse_categorical_accuracy: 0.9983\n",
            "Epoch 32/40\n",
            "1482/1482 [==============================] - 9s 6ms/step - loss: 0.0134 - sparse_categorical_accuracy: 0.9973 - val_loss: 0.0104 - val_sparse_categorical_accuracy: 0.9986\n",
            "Epoch 33/40\n",
            "1482/1482 [==============================] - 7s 4ms/step - loss: 0.0145 - sparse_categorical_accuracy: 0.9968 - val_loss: 0.0106 - val_sparse_categorical_accuracy: 0.9986\n",
            "Epoch 34/40\n",
            "1482/1482 [==============================] - 7s 4ms/step - loss: 0.0136 - sparse_categorical_accuracy: 0.9971 - val_loss: 0.0106 - val_sparse_categorical_accuracy: 0.9985\n",
            "Epoch 35/40\n",
            "1482/1482 [==============================] - 9s 6ms/step - loss: 0.0174 - sparse_categorical_accuracy: 0.9960 - val_loss: 0.0101 - val_sparse_categorical_accuracy: 0.9986\n",
            "Epoch 36/40\n",
            "1482/1482 [==============================] - 7s 5ms/step - loss: 0.0142 - sparse_categorical_accuracy: 0.9970 - val_loss: 0.0110 - val_sparse_categorical_accuracy: 0.9985\n",
            "Epoch 37/40\n",
            "1482/1482 [==============================] - 6s 4ms/step - loss: 0.0186 - sparse_categorical_accuracy: 0.9957 - val_loss: 0.0102 - val_sparse_categorical_accuracy: 0.9985\n",
            "Epoch 38/40\n",
            "1482/1482 [==============================] - 6s 4ms/step - loss: 0.0120 - sparse_categorical_accuracy: 0.9977 - val_loss: 0.0114 - val_sparse_categorical_accuracy: 0.9982\n",
            "Epoch 39/40\n",
            "1482/1482 [==============================] - 10s 6ms/step - loss: 0.0142 - sparse_categorical_accuracy: 0.9969 - val_loss: 0.0096 - val_sparse_categorical_accuracy: 0.9985\n",
            "Epoch 40/40\n",
            "1482/1482 [==============================] - 6s 4ms/step - loss: 0.0134 - sparse_categorical_accuracy: 0.9973 - val_loss: 0.0096 - val_sparse_categorical_accuracy: 0.9985\n"
          ]
        }
      ]
    },
    {
      "cell_type": "code",
      "source": [
        "# Obtendo a acurácia do histórico\n",
        "accuracy = history.history['sparse_categorical_accuracy']\n",
        "val_accuracy = history.history['val_sparse_categorical_accuracy']\n",
        "\n",
        "# Obtendo as épocas\n",
        "epochs = range(1, len(accuracy) + 1)\n",
        "\n",
        "# Plotando a acurácia\n",
        "plt.plot(epochs, accuracy, '-', label='Accuracy Train')\n",
        "plt.plot(epochs, val_accuracy, '--', label='Accuracy Validation')\n",
        "plt.title('Accuracy of training and validation over time')\n",
        "plt.xlabel('Epoch')\n",
        "plt.ylabel('Accuracy')\n",
        "plt.legend()\n",
        "plt.grid()\n",
        "plt.show()"
      ],
      "metadata": {
        "colab": {
          "base_uri": "https://localhost:8080/",
          "height": 472
        },
        "id": "hQd5eoXk5M5G",
        "outputId": "aacb2751-0627-4527-be36-dab11cb33d95"
      },
      "execution_count": null,
      "outputs": [
        {
          "output_type": "display_data",
          "data": {
            "text/plain": [
              "<Figure size 640x480 with 1 Axes>"
            ],
            "image/png": "[encoded data removed]"
          },
          "metadata": {}
        }
      ]
    },
    {
      "cell_type": "code",
      "source": [
        "test_loss, test_accuracy = model1.evaluate(X_test, y_test)"
      ],
      "metadata": {
        "colab": {
          "base_uri": "https://localhost:8080/"
        },
        "id": "WVh3n-023S7G",
        "outputId": "d2a1af37-61f9-4996-8fe7-89f42d10910e"
      },
      "execution_count": null,
      "outputs": [
        {
          "output_type": "stream",
          "name": "stdout",
          "text": [
            "371/371 [==============================] - 1s 2ms/step - loss: 0.0096 - sparse_categorical_accuracy: 0.9985\n"
          ]
        }
      ]
    },
    {
      "cell_type": "code",
      "source": [
        "# Obtém as previsões do modelo para os dados de teste\n",
        "y_pred = model1.predict(X_test)\n",
        "\n",
        "# Converte as previsões para rótulos binários (0 ou 1) para cada classe individualmente\n",
        "y_pred_binary = np.argmax(y_pred, axis=1)\n",
        "\n",
        "# Calcula o recall para cada classe individualmente\n",
        "recall_per_class = recall_score(y_test, y_pred_binary, average=None)\n",
        "\n",
        "# Calcula a precisão para cada classe individualmente\n",
        "precision_per_class = precision_score(y_test, y_pred_binary, average=None)\n",
        "\n",
        "# Calcula o F-score para cada classe individualmente\n",
        "f_score_per_class = f1_score(y_test, y_pred_binary, average=None)\n",
        "\n",
        "# Calcula a média ponderada dos recalls\n",
        "weighted_recall = recall_score(y_test, y_pred_binary, average='weighted')\n",
        "\n",
        "# Calcula a média ponderada da precisão\n",
        "weighted_precision = precision_score(y_test, y_pred_binary, average='weighted')\n",
        "\n",
        "# Calcula a média ponderada do F-score\n",
        "weighted_f_score = f1_score(y_test, y_pred_binary, average='weighted')\n",
        "\n",
        "# Imprime a Accuracy\n",
        "print(\"Accuracy: {:.4f}\".format(test_accuracy))\n",
        "\n",
        "# Imprime a média ponderada da precisão\n",
        "print(\"Weighted Precision: {:.4f}\".format(weighted_precision))\n",
        "\n",
        "# Imprime a média ponderada do F-score\n",
        "print(\"Weighted F-score: {:.4f}\".format(weighted_f_score))\n",
        "\n",
        "# Imprime a média ponderada dos recalls\n",
        "print(\"Weighted Recall: {:.4f}\".format(weighted_recall))"
      ],
      "metadata": {
        "colab": {
          "base_uri": "https://localhost:8080/"
        },
        "id": "wRxp_zA9g93L",
        "outputId": "f6b45f02-2038-42bf-9e9d-32f0bed02b61"
      },
      "execution_count": null,
      "outputs": [
        {
          "output_type": "stream",
          "name": "stdout",
          "text": [
            "371/371 [==============================] - 1s 2ms/step\n",
            "Accuracy: 0.9985\n",
            "Weighted Precision: 0.9985\n",
            "Weighted F-score: 0.9985\n",
            "Weighted Recall: 0.9985\n"
          ]
        }
      ]
    }
  ]
}