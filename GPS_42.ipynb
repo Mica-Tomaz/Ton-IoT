{
  "nbformat": 4,
  "nbformat_minor": 0,
  "metadata": {
    "colab": {
      "provenance": []
    },
    "kernelspec": {
      "name": "python3",
      "display_name": "Python 3"
    },
    "language_info": {
      "name": "python"
    }
  },
  "cells": [
    {
      "cell_type": "markdown",
      "source": [
        "# Importando Bibliotecas"
      ],
      "metadata": {
        "id": "fuvxubphO2Z_"
      }
    },
    {
      "cell_type": "code",
      "source": [
        "# Bibliotecas\n",
        "import numpy as np\n",
        "import pandas as pd\n",
        "import matplotlib.pyplot as plt\n",
        "import seaborn as sns\n",
        "\n",
        "# Metricas e ferramentas de processamento do SKLEARN\n",
        "\n",
        "from sklearn import metrics  # Métricas adicionais para avaliação de modelos\n",
        "from sklearn.model_selection import train_test_split, KFold  # Funções para dividir dados em conjuntos de treino e teste, e para validação cruzada\n",
        "from sklearn.metrics import accuracy_score, confusion_matrix, classification_report  # Métricas de avaliação de modelos de classificação\n",
        "from sklearn.preprocessing import StandardScaler  # Ferramenta para pré-processamento de dados (escalonamento)\n",
        "from sklearn.model_selection import cross_val_score\n",
        "from sklearn.metrics import recall_score, precision_score, f1_score  # Métricas de avaliação de modelos de classificação\n",
        "\n",
        "\n",
        "# Técnicas de apredizado de máquina\n",
        "\n",
        "from sklearn.linear_model import LinearRegression  # Implementação de regressão linear\n",
        "from sklearn.naive_bayes import GaussianNB  # Implementação do algoritmo Naive Bayes Gaussiano\n",
        "from sklearn import tree  # Implementação de árvores de decisão\n",
        "from sklearn.ensemble import RandomForestClassifier  # Implementação de classificador de floresta aleatória\n",
        "from sklearn.svm import SVC  # Implementação do algoritmo SVM (Support Vector Machine)\n",
        "from sklearn.neighbors import KNeighborsClassifier # Implementação do algoritmo KNN\n",
        "from sklearn.linear_model import LogisticRegression\n",
        "# Bivlioteca TensorFlow\n",
        "\n",
        "from tensorflow.keras.models import Sequential  # Modelo de rede neural sequencial do Keras\n",
        "from tensorflow.keras.layers import *  # Camadas de uma rede neural no Keras\n",
        "from tensorflow.keras.callbacks import ModelCheckpoint  # Callback para salvar o modelo durante o treinamento\n",
        "from tensorflow.keras.losses import MeanSquaredError  # Função de perda para regressão no Keras\n",
        "from tensorflow.keras.metrics import RootMeanSquaredError  # Métrica adicional para avaliação de modelos de regressão\n",
        "from tensorflow.keras.optimizers import Adam  # Otimizador Adam para treinamento de redes neurais no Keras\n"
      ],
      "metadata": {
        "id": "L3CX6WVIEd1b"
      },
      "execution_count": 2,
      "outputs": []
    },
    {
      "cell_type": "code",
      "source": [
        "# Importando Base de Dados Fridge\n",
        "GPS = pd.read_csv('/content/Train_Test_IoT_GPS_Tracker.csv')"
      ],
      "metadata": {
        "id": "u_XB4lq6OqYi"
      },
      "execution_count": 3,
      "outputs": []
    },
    {
      "cell_type": "code",
      "source": [
        "# Definindo método de normalização de variáveis Max_Min\n",
        "def max_min(x):\n",
        "  return (x- x.min())/(x.max() - x.min())"
      ],
      "metadata": {
        "id": "0icO9SwiOs9Z"
      },
      "execution_count": 4,
      "outputs": []
    },
    {
      "cell_type": "code",
      "source": [
        "# Mapeamento das variáveis nominais para numéricas\n",
        "mapeamento = {'high':1, 'low':0, 'normal':0, 'ddos':1, 'backdoor':2, 'injection':3, 'password':4, 'ransomware':5, 'xss':6, 'default': 0, 'scanning': 7, 'closed': 0, 'open': 1, 'true': 2, 'false': 3, '0': 0, '1' : 1}"
      ],
      "metadata": {
        "id": "NDwtM0EDPV_k"
      },
      "execution_count": 5,
      "outputs": []
    },
    {
      "cell_type": "markdown",
      "source": [
        "# Pré-processamento"
      ],
      "metadata": {
        "id": "cURJOgAUOxzJ"
      }
    },
    {
      "cell_type": "markdown",
      "source": [
        "Visão geral do Banco de dados"
      ],
      "metadata": {
        "id": "wmIzo7qePAhy"
      }
    },
    {
      "cell_type": "code",
      "source": [
        "GPS.head()"
      ],
      "metadata": {
        "id": "2DboVqDmO7sI",
        "colab": {
          "base_uri": "https://localhost:8080/",
          "height": 206
        },
        "outputId": "569ba2a1-1f4d-4131-beb0-1ef0aaf3b1e2"
      },
      "execution_count": 6,
      "outputs": [
        {
          "output_type": "execute_result",
          "data": {
            "text/plain": [
              "           ts       date        time    latitude   longitude  label  type\n",
              "0  1556242299  25-Apr-19   18:31:39   116.521704  132.162504      1  ddos\n",
              "1  1556242301  25-Apr-19   18:31:41   121.742933  135.072500      1  ddos\n",
              "2  1556242306  25-Apr-19   18:31:46   121.795929  135.110198      1  ddos\n",
              "3  1556242309  25-Apr-19   18:31:49   116.611216  132.224555      1  ddos\n",
              "4  1556242311  25-Apr-19   18:31:51   121.841526  135.151362      1  ddos"
            ],
            "text/html": [
              "\n",
              "  <div id=\"df-0d40d12d-5677-4ab8-9f98-0209b527bca0\" class=\"colab-df-container\">\n",
              "    <div>\n",
              "<style scoped>\n",
              "    .dataframe tbody tr th:only-of-type {\n",
              "        vertical-align: middle;\n",
              "    }\n",
              "\n",
              "    .dataframe tbody tr th {\n",
              "        vertical-align: top;\n",
              "    }\n",
              "\n",
              "    .dataframe thead th {\n",
              "        text-align: right;\n",
              "    }\n",
              "</style>\n",
              "<table border=\"1\" class=\"dataframe\">\n",
              "  <thead>\n",
              "    <tr style=\"text-align: right;\">\n",
              "      <th></th>\n",
              "      <th>ts</th>\n",
              "      <th>date</th>\n",
              "      <th>time</th>\n",
              "      <th>latitude</th>\n",
              "      <th>longitude</th>\n",
              "      <th>label</th>\n",
              "      <th>type</th>\n",
              "    </tr>\n",
              "  </thead>\n",
              "  <tbody>\n",
              "    <tr>\n",
              "      <th>0</th>\n",
              "      <td>1556242299</td>\n",
              "      <td>25-Apr-19</td>\n",
              "      <td>18:31:39</td>\n",
              "      <td>116.521704</td>\n",
              "      <td>132.162504</td>\n",
              "      <td>1</td>\n",
              "      <td>ddos</td>\n",
              "    </tr>\n",
              "    <tr>\n",
              "      <th>1</th>\n",
              "      <td>1556242301</td>\n",
              "      <td>25-Apr-19</td>\n",
              "      <td>18:31:41</td>\n",
              "      <td>121.742933</td>\n",
              "      <td>135.072500</td>\n",
              "      <td>1</td>\n",
              "      <td>ddos</td>\n",
              "    </tr>\n",
              "    <tr>\n",
              "      <th>2</th>\n",
              "      <td>1556242306</td>\n",
              "      <td>25-Apr-19</td>\n",
              "      <td>18:31:46</td>\n",
              "      <td>121.795929</td>\n",
              "      <td>135.110198</td>\n",
              "      <td>1</td>\n",
              "      <td>ddos</td>\n",
              "    </tr>\n",
              "    <tr>\n",
              "      <th>3</th>\n",
              "      <td>1556242309</td>\n",
              "      <td>25-Apr-19</td>\n",
              "      <td>18:31:49</td>\n",
              "      <td>116.611216</td>\n",
              "      <td>132.224555</td>\n",
              "      <td>1</td>\n",
              "      <td>ddos</td>\n",
              "    </tr>\n",
              "    <tr>\n",
              "      <th>4</th>\n",
              "      <td>1556242311</td>\n",
              "      <td>25-Apr-19</td>\n",
              "      <td>18:31:51</td>\n",
              "      <td>121.841526</td>\n",
              "      <td>135.151362</td>\n",
              "      <td>1</td>\n",
              "      <td>ddos</td>\n",
              "    </tr>\n",
              "  </tbody>\n",
              "</table>\n",
              "</div>\n",
              "    <div class=\"colab-df-buttons\">\n",
              "\n",
              "  <div class=\"colab-df-container\">\n",
              "    <button class=\"colab-df-convert\" onclick=\"convertToInteractive('df-0d40d12d-5677-4ab8-9f98-0209b527bca0')\"\n",
              "            title=\"Convert this dataframe to an interactive table.\"\n",
              "            style=\"display:none;\">\n",
              "\n",
              "  <svg xmlns=\"http://www.w3.org/2000/svg\" height=\"24px\" viewBox=\"0 -960 960 960\">\n",
              "    <path d=\"M120-120v-720h720v720H120Zm60-500h600v-160H180v160Zm220 220h160v-160H400v160Zm0 220h160v-160H400v160ZM180-400h160v-160H180v160Zm440 0h160v-160H620v160ZM180-180h160v-160H180v160Zm440 0h160v-160H620v160Z\"/>\n",
              "  </svg>\n",
              "    </button>\n",
              "\n",
              "  <style>\n",
              "    .colab-df-container {\n",
              "      display:flex;\n",
              "      gap: 12px;\n",
              "    }\n",
              "\n",
              "    .colab-df-convert {\n",
              "      background-color: #E8F0FE;\n",
              "      border: none;\n",
              "      border-radius: 50%;\n",
              "      cursor: pointer;\n",
              "      display: none;\n",
              "      fill: #1967D2;\n",
              "      height: 32px;\n",
              "      padding: 0 0 0 0;\n",
              "      width: 32px;\n",
              "    }\n",
              "\n",
              "    .colab-df-convert:hover {\n",
              "      background-color: #E2EBFA;\n",
              "      box-shadow: 0px 1px 2px rgba(60, 64, 67, 0.3), 0px 1px 3px 1px rgba(60, 64, 67, 0.15);\n",
              "      fill: #174EA6;\n",
              "    }\n",
              "\n",
              "    .colab-df-buttons div {\n",
              "      margin-bottom: 4px;\n",
              "    }\n",
              "\n",
              "    [theme=dark] .colab-df-convert {\n",
              "      background-color: #3B4455;\n",
              "      fill: #D2E3FC;\n",
              "    }\n",
              "\n",
              "    [theme=dark] .colab-df-convert:hover {\n",
              "      background-color: #434B5C;\n",
              "      box-shadow: 0px 1px 3px 1px rgba(0, 0, 0, 0.15);\n",
              "      filter: drop-shadow(0px 1px 2px rgba(0, 0, 0, 0.3));\n",
              "      fill: #FFFFFF;\n",
              "    }\n",
              "  </style>\n",
              "\n",
              "    <script>\n",
              "      const buttonEl =\n",
              "        document.querySelector('#df-0d40d12d-5677-4ab8-9f98-0209b527bca0 button.colab-df-convert');\n",
              "      buttonEl.style.display =\n",
              "        google.colab.kernel.accessAllowed ? 'block' : 'none';\n",
              "\n",
              "      async function convertToInteractive(key) {\n",
              "        const element = document.querySelector('#df-0d40d12d-5677-4ab8-9f98-0209b527bca0');\n",
              "        const dataTable =\n",
              "          await google.colab.kernel.invokeFunction('convertToInteractive',\n",
              "                                                    [key], {});\n",
              "        if (!dataTable) return;\n",
              "\n",
              "        const docLinkHtml = 'Like what you see? Visit the ' +\n",
              "          '<a target=\"_blank\" href=https://colab.research.google.com/notebooks/data_table.ipynb>data table notebook</a>'\n",
              "          + ' to learn more about interactive tables.';\n",
              "        element.innerHTML = '';\n",
              "        dataTable['output_type'] = 'display_data';\n",
              "        await google.colab.output.renderOutput(dataTable, element);\n",
              "        const docLink = document.createElement('div');\n",
              "        docLink.innerHTML = docLinkHtml;\n",
              "        element.appendChild(docLink);\n",
              "      }\n",
              "    </script>\n",
              "  </div>\n",
              "\n",
              "\n",
              "<div id=\"df-2e27dca4-cd13-4229-a93e-251ef28500b7\">\n",
              "  <button class=\"colab-df-quickchart\" onclick=\"quickchart('df-2e27dca4-cd13-4229-a93e-251ef28500b7')\"\n",
              "            title=\"Suggest charts\"\n",
              "            style=\"display:none;\">\n",
              "\n",
              "<svg xmlns=\"http://www.w3.org/2000/svg\" height=\"24px\"viewBox=\"0 0 24 24\"\n",
              "     width=\"24px\">\n",
              "    <g>\n",
              "        <path d=\"M19 3H5c-1.1 0-2 .9-2 2v14c0 1.1.9 2 2 2h14c1.1 0 2-.9 2-2V5c0-1.1-.9-2-2-2zM9 17H7v-7h2v7zm4 0h-2V7h2v10zm4 0h-2v-4h2v4z\"/>\n",
              "    </g>\n",
              "</svg>\n",
              "  </button>\n",
              "\n",
              "<style>\n",
              "  .colab-df-quickchart {\n",
              "      --bg-color: #E8F0FE;\n",
              "      --fill-color: #1967D2;\n",
              "      --hover-bg-color: #E2EBFA;\n",
              "      --hover-fill-color: #174EA6;\n",
              "      --disabled-fill-color: #AAA;\n",
              "      --disabled-bg-color: #DDD;\n",
              "  }\n",
              "\n",
              "  [theme=dark] .colab-df-quickchart {\n",
              "      --bg-color: #3B4455;\n",
              "      --fill-color: #D2E3FC;\n",
              "      --hover-bg-color: #434B5C;\n",
              "      --hover-fill-color: #FFFFFF;\n",
              "      --disabled-bg-color: #3B4455;\n",
              "      --disabled-fill-color: #666;\n",
              "  }\n",
              "\n",
              "  .colab-df-quickchart {\n",
              "    background-color: var(--bg-color);\n",
              "    border: none;\n",
              "    border-radius: 50%;\n",
              "    cursor: pointer;\n",
              "    display: none;\n",
              "    fill: var(--fill-color);\n",
              "    height: 32px;\n",
              "    padding: 0;\n",
              "    width: 32px;\n",
              "  }\n",
              "\n",
              "  .colab-df-quickchart:hover {\n",
              "    background-color: var(--hover-bg-color);\n",
              "    box-shadow: 0 1px 2px rgba(60, 64, 67, 0.3), 0 1px 3px 1px rgba(60, 64, 67, 0.15);\n",
              "    fill: var(--button-hover-fill-color);\n",
              "  }\n",
              "\n",
              "  .colab-df-quickchart-complete:disabled,\n",
              "  .colab-df-quickchart-complete:disabled:hover {\n",
              "    background-color: var(--disabled-bg-color);\n",
              "    fill: var(--disabled-fill-color);\n",
              "    box-shadow: none;\n",
              "  }\n",
              "\n",
              "  .colab-df-spinner {\n",
              "    border: 2px solid var(--fill-color);\n",
              "    border-color: transparent;\n",
              "    border-bottom-color: var(--fill-color);\n",
              "    animation:\n",
              "      spin 1s steps(1) infinite;\n",
              "  }\n",
              "\n",
              "  @keyframes spin {\n",
              "    0% {\n",
              "      border-color: transparent;\n",
              "      border-bottom-color: var(--fill-color);\n",
              "      border-left-color: var(--fill-color);\n",
              "    }\n",
              "    20% {\n",
              "      border-color: transparent;\n",
              "      border-left-color: var(--fill-color);\n",
              "      border-top-color: var(--fill-color);\n",
              "    }\n",
              "    30% {\n",
              "      border-color: transparent;\n",
              "      border-left-color: var(--fill-color);\n",
              "      border-top-color: var(--fill-color);\n",
              "      border-right-color: var(--fill-color);\n",
              "    }\n",
              "    40% {\n",
              "      border-color: transparent;\n",
              "      border-right-color: var(--fill-color);\n",
              "      border-top-color: var(--fill-color);\n",
              "    }\n",
              "    60% {\n",
              "      border-color: transparent;\n",
              "      border-right-color: var(--fill-color);\n",
              "    }\n",
              "    80% {\n",
              "      border-color: transparent;\n",
              "      border-right-color: var(--fill-color);\n",
              "      border-bottom-color: var(--fill-color);\n",
              "    }\n",
              "    90% {\n",
              "      border-color: transparent;\n",
              "      border-bottom-color: var(--fill-color);\n",
              "    }\n",
              "  }\n",
              "</style>\n",
              "\n",
              "  <script>\n",
              "    async function quickchart(key) {\n",
              "      const quickchartButtonEl =\n",
              "        document.querySelector('#' + key + ' button');\n",
              "      quickchartButtonEl.disabled = true;  // To prevent multiple clicks.\n",
              "      quickchartButtonEl.classList.add('colab-df-spinner');\n",
              "      try {\n",
              "        const charts = await google.colab.kernel.invokeFunction(\n",
              "            'suggestCharts', [key], {});\n",
              "      } catch (error) {\n",
              "        console.error('Error during call to suggestCharts:', error);\n",
              "      }\n",
              "      quickchartButtonEl.classList.remove('colab-df-spinner');\n",
              "      quickchartButtonEl.classList.add('colab-df-quickchart-complete');\n",
              "    }\n",
              "    (() => {\n",
              "      let quickchartButtonEl =\n",
              "        document.querySelector('#df-2e27dca4-cd13-4229-a93e-251ef28500b7 button');\n",
              "      quickchartButtonEl.style.display =\n",
              "        google.colab.kernel.accessAllowed ? 'block' : 'none';\n",
              "    })();\n",
              "  </script>\n",
              "</div>\n",
              "\n",
              "    </div>\n",
              "  </div>\n"
            ],
            "application/vnd.google.colaboratory.intrinsic+json": {
              "type": "dataframe",
              "variable_name": "GPS",
              "summary": "{\n  \"name\": \"GPS\",\n  \"rows\": 58960,\n  \"fields\": [\n    {\n      \"column\": \"ts\",\n      \"properties\": {\n        \"dtype\": \"number\",\n        \"std\": 1094042,\n        \"min\": 1554061012,\n        \"max\": 1556477044,\n        \"num_unique_values\": 26898,\n        \"samples\": [\n          1554168514,\n          1554164929,\n          1556248018\n        ],\n        \"semantic_type\": \"\",\n        \"description\": \"\"\n      }\n    },\n    {\n      \"column\": \"date\",\n      \"properties\": {\n        \"dtype\": \"object\",\n        \"num_unique_values\": 8,\n        \"samples\": [\n          \"28-Apr-19\",\n          \"23-Apr-19\",\n          \"25-Apr-19\"\n        ],\n        \"semantic_type\": \"\",\n        \"description\": \"\"\n      }\n    },\n    {\n      \"column\": \"time\",\n      \"properties\": {\n        \"dtype\": \"category\",\n        \"num_unique_values\": 25032,\n        \"samples\": [\n          \" 09:51:04 \",\n          \" 22:34:11 \",\n          \" 23:20:36 \"\n        ],\n        \"semantic_type\": \"\",\n        \"description\": \"\"\n      }\n    },\n    {\n      \"column\": \"latitude\",\n      \"properties\": {\n        \"dtype\": \"number\",\n        \"std\": 74.73551144250312,\n        \"min\": 0.0,\n        \"max\": 549.3819159,\n        \"num_unique_values\": 58341,\n        \"samples\": [\n          0.593266922,\n          91.96296485,\n          24.92868297\n        ],\n        \"semantic_type\": \"\",\n        \"description\": \"\"\n      }\n    },\n    {\n      \"column\": \"longitude\",\n      \"properties\": {\n        \"dtype\": \"number\",\n        \"std\": 75.03236084679963,\n        \"min\": 10.0,\n        \"max\": 555.1336426,\n        \"num_unique_values\": 58341,\n        \"samples\": [\n          10.41779431,\n          102.4816247,\n          34.32983815\n        ],\n        \"semantic_type\": \"\",\n        \"description\": \"\"\n      }\n    },\n    {\n      \"column\": \"label\",\n      \"properties\": {\n        \"dtype\": \"number\",\n        \"std\": 0,\n        \"min\": 0,\n        \"max\": 1,\n        \"num_unique_values\": 2,\n        \"samples\": [\n          0,\n          1\n        ],\n        \"semantic_type\": \"\",\n        \"description\": \"\"\n      }\n    },\n    {\n      \"column\": \"type\",\n      \"properties\": {\n        \"dtype\": \"category\",\n        \"num_unique_values\": 8,\n        \"samples\": [\n          \"backdoor\",\n          \"ransomware\"\n        ],\n        \"semantic_type\": \"\",\n        \"description\": \"\"\n      }\n    }\n  ]\n}"
            }
          },
          "metadata": {},
          "execution_count": 6
        }
      ]
    },
    {
      "source": [
        "GPS.groupby('type').size().plot(kind='barh', color=sns.palettes.mpl_palette('Dark2'))\n",
        "plt.gca().spines[['top', 'right',]].set_visible(False)\n",
        "plt.title(\"Tipos de ataques antes do mapeamento\")\n",
        "plt.grid()"
      ],
      "cell_type": "code",
      "execution_count": 7,
      "outputs": [
        {
          "output_type": "display_data",
          "data": {
            "text/plain": [
              "<Figure size 640x480 with 1 Axes>"
            ],
            "image/png": "[encoded data removed]"
          },
          "metadata": {}
        }
      ],
      "metadata": {
        "id": "ZkjwTkCDPchA",
        "colab": {
          "base_uri": "https://localhost:8080/",
          "height": 452
        },
        "outputId": "c889bcb5-7744-4944-dda7-ee53ce54a241"
      }
    },
    {
      "cell_type": "code",
      "source": [
        "GPS = GPS.replace(mapeamento)# mapeia as variáveis nominais"
      ],
      "metadata": {
        "id": "Of4huIbAPZvt"
      },
      "execution_count": 8,
      "outputs": []
    },
    {
      "cell_type": "markdown",
      "source": [
        "Normatizando o banco de dados"
      ],
      "metadata": {
        "id": "OGxmIn-_PnxK"
      }
    },
    {
      "cell_type": "code",
      "source": [
        "GPS['latitude'] = GPS['latitude'].transform(max_min)\n",
        "GPS['longitude'] = GPS['longitude'].transform(max_min)"
      ],
      "metadata": {
        "id": "L9_a83ujPeow"
      },
      "execution_count": 9,
      "outputs": []
    },
    {
      "cell_type": "code",
      "source": [
        "GPS['ts'] = GPS['ts'].transform(max_min)"
      ],
      "metadata": {
        "id": "thXcnefZo9y4"
      },
      "execution_count": 10,
      "outputs": []
    },
    {
      "cell_type": "code",
      "source": [
        "# colunas = [0]*len(GPS['ts'])\n",
        "# for i in range (len(GPS['ts'])):\n",
        "#      colunas[i] = i\n",
        "# GPS['coluns'] = colunas"
      ],
      "metadata": {
        "id": "OTQgB0Eir1rY"
      },
      "execution_count": 11,
      "outputs": []
    },
    {
      "cell_type": "code",
      "source": [
        "#  GPS['coluns'] = GPS['coluns'].transform(max_min)"
      ],
      "metadata": {
        "id": "sKnk1f1wVanH"
      },
      "execution_count": 12,
      "outputs": []
    },
    {
      "cell_type": "code",
      "source": [
        "GPS.head()"
      ],
      "metadata": {
        "id": "nQmtz2GnmQOl",
        "colab": {
          "base_uri": "https://localhost:8080/",
          "height": 206
        },
        "outputId": "62e224aa-d31f-4113-fec0-dbf079e8475d"
      },
      "execution_count": 13,
      "outputs": [
        {
          "output_type": "execute_result",
          "data": {
            "text/plain": [
              "         ts       date        time  latitude  longitude  label  type\n",
              "0  0.902839  25-Apr-19   18:31:39   0.212096   0.224096      1     1\n",
              "1  0.902839  25-Apr-19   18:31:41   0.221600   0.229435      1     1\n",
              "2  0.902842  25-Apr-19   18:31:46   0.221696   0.229504      1     1\n",
              "3  0.902843  25-Apr-19   18:31:49   0.212259   0.224210      1     1\n",
              "4  0.902844  25-Apr-19   18:31:51   0.221779   0.229579      1     1"
            ],
            "text/html": [
              "\n",
              "  <div id=\"df-69ccdb68-a6e8-4aa4-a78e-3eb4446aaaec\" class=\"colab-df-container\">\n",
              "    <div>\n",
              "<style scoped>\n",
              "    .dataframe tbody tr th:only-of-type {\n",
              "        vertical-align: middle;\n",
              "    }\n",
              "\n",
              "    .dataframe tbody tr th {\n",
              "        vertical-align: top;\n",
              "    }\n",
              "\n",
              "    .dataframe thead th {\n",
              "        text-align: right;\n",
              "    }\n",
              "</style>\n",
              "<table border=\"1\" class=\"dataframe\">\n",
              "  <thead>\n",
              "    <tr style=\"text-align: right;\">\n",
              "      <th></th>\n",
              "      <th>ts</th>\n",
              "      <th>date</th>\n",
              "      <th>time</th>\n",
              "      <th>latitude</th>\n",
              "      <th>longitude</th>\n",
              "      <th>label</th>\n",
              "      <th>type</th>\n",
              "    </tr>\n",
              "  </thead>\n",
              "  <tbody>\n",
              "    <tr>\n",
              "      <th>0</th>\n",
              "      <td>0.902839</td>\n",
              "      <td>25-Apr-19</td>\n",
              "      <td>18:31:39</td>\n",
              "      <td>0.212096</td>\n",
              "      <td>0.224096</td>\n",
              "      <td>1</td>\n",
              "      <td>1</td>\n",
              "    </tr>\n",
              "    <tr>\n",
              "      <th>1</th>\n",
              "      <td>0.902839</td>\n",
              "      <td>25-Apr-19</td>\n",
              "      <td>18:31:41</td>\n",
              "      <td>0.221600</td>\n",
              "      <td>0.229435</td>\n",
              "      <td>1</td>\n",
              "      <td>1</td>\n",
              "    </tr>\n",
              "    <tr>\n",
              "      <th>2</th>\n",
              "      <td>0.902842</td>\n",
              "      <td>25-Apr-19</td>\n",
              "      <td>18:31:46</td>\n",
              "      <td>0.221696</td>\n",
              "      <td>0.229504</td>\n",
              "      <td>1</td>\n",
              "      <td>1</td>\n",
              "    </tr>\n",
              "    <tr>\n",
              "      <th>3</th>\n",
              "      <td>0.902843</td>\n",
              "      <td>25-Apr-19</td>\n",
              "      <td>18:31:49</td>\n",
              "      <td>0.212259</td>\n",
              "      <td>0.224210</td>\n",
              "      <td>1</td>\n",
              "      <td>1</td>\n",
              "    </tr>\n",
              "    <tr>\n",
              "      <th>4</th>\n",
              "      <td>0.902844</td>\n",
              "      <td>25-Apr-19</td>\n",
              "      <td>18:31:51</td>\n",
              "      <td>0.221779</td>\n",
              "      <td>0.229579</td>\n",
              "      <td>1</td>\n",
              "      <td>1</td>\n",
              "    </tr>\n",
              "  </tbody>\n",
              "</table>\n",
              "</div>\n",
              "    <div class=\"colab-df-buttons\">\n",
              "\n",
              "  <div class=\"colab-df-container\">\n",
              "    <button class=\"colab-df-convert\" onclick=\"convertToInteractive('df-69ccdb68-a6e8-4aa4-a78e-3eb4446aaaec')\"\n",
              "            title=\"Convert this dataframe to an interactive table.\"\n",
              "            style=\"display:none;\">\n",
              "\n",
              "  <svg xmlns=\"http://www.w3.org/2000/svg\" height=\"24px\" viewBox=\"0 -960 960 960\">\n",
              "    <path d=\"M120-120v-720h720v720H120Zm60-500h600v-160H180v160Zm220 220h160v-160H400v160Zm0 220h160v-160H400v160ZM180-400h160v-160H180v160Zm440 0h160v-160H620v160ZM180-180h160v-160H180v160Zm440 0h160v-160H620v160Z\"/>\n",
              "  </svg>\n",
              "    </button>\n",
              "\n",
              "  <style>\n",
              "    .colab-df-container {\n",
              "      display:flex;\n",
              "      gap: 12px;\n",
              "    }\n",
              "\n",
              "    .colab-df-convert {\n",
              "      background-color: #E8F0FE;\n",
              "      border: none;\n",
              "      border-radius: 50%;\n",
              "      cursor: pointer;\n",
              "      display: none;\n",
              "      fill: #1967D2;\n",
              "      height: 32px;\n",
              "      padding: 0 0 0 0;\n",
              "      width: 32px;\n",
              "    }\n",
              "\n",
              "    .colab-df-convert:hover {\n",
              "      background-color: #E2EBFA;\n",
              "      box-shadow: 0px 1px 2px rgba(60, 64, 67, 0.3), 0px 1px 3px 1px rgba(60, 64, 67, 0.15);\n",
              "      fill: #174EA6;\n",
              "    }\n",
              "\n",
              "    .colab-df-buttons div {\n",
              "      margin-bottom: 4px;\n",
              "    }\n",
              "\n",
              "    [theme=dark] .colab-df-convert {\n",
              "      background-color: #3B4455;\n",
              "      fill: #D2E3FC;\n",
              "    }\n",
              "\n",
              "    [theme=dark] .colab-df-convert:hover {\n",
              "      background-color: #434B5C;\n",
              "      box-shadow: 0px 1px 3px 1px rgba(0, 0, 0, 0.15);\n",
              "      filter: drop-shadow(0px 1px 2px rgba(0, 0, 0, 0.3));\n",
              "      fill: #FFFFFF;\n",
              "    }\n",
              "  </style>\n",
              "\n",
              "    <script>\n",
              "      const buttonEl =\n",
              "        document.querySelector('#df-69ccdb68-a6e8-4aa4-a78e-3eb4446aaaec button.colab-df-convert');\n",
              "      buttonEl.style.display =\n",
              "        google.colab.kernel.accessAllowed ? 'block' : 'none';\n",
              "\n",
              "      async function convertToInteractive(key) {\n",
              "        const element = document.querySelector('#df-69ccdb68-a6e8-4aa4-a78e-3eb4446aaaec');\n",
              "        const dataTable =\n",
              "          await google.colab.kernel.invokeFunction('convertToInteractive',\n",
              "                                                    [key], {});\n",
              "        if (!dataTable) return;\n",
              "\n",
              "        const docLinkHtml = 'Like what you see? Visit the ' +\n",
              "          '<a target=\"_blank\" href=https://colab.research.google.com/notebooks/data_table.ipynb>data table notebook</a>'\n",
              "          + ' to learn more about interactive tables.';\n",
              "        element.innerHTML = '';\n",
              "        dataTable['output_type'] = 'display_data';\n",
              "        await google.colab.output.renderOutput(dataTable, element);\n",
              "        const docLink = document.createElement('div');\n",
              "        docLink.innerHTML = docLinkHtml;\n",
              "        element.appendChild(docLink);\n",
              "      }\n",
              "    </script>\n",
              "  </div>\n",
              "\n",
              "\n",
              "<div id=\"df-d3f88066-818c-4880-a01c-ae29bf750365\">\n",
              "  <button class=\"colab-df-quickchart\" onclick=\"quickchart('df-d3f88066-818c-4880-a01c-ae29bf750365')\"\n",
              "            title=\"Suggest charts\"\n",
              "            style=\"display:none;\">\n",
              "\n",
              "<svg xmlns=\"http://www.w3.org/2000/svg\" height=\"24px\"viewBox=\"0 0 24 24\"\n",
              "     width=\"24px\">\n",
              "    <g>\n",
              "        <path d=\"M19 3H5c-1.1 0-2 .9-2 2v14c0 1.1.9 2 2 2h14c1.1 0 2-.9 2-2V5c0-1.1-.9-2-2-2zM9 17H7v-7h2v7zm4 0h-2V7h2v10zm4 0h-2v-4h2v4z\"/>\n",
              "    </g>\n",
              "</svg>\n",
              "  </button>\n",
              "\n",
              "<style>\n",
              "  .colab-df-quickchart {\n",
              "      --bg-color: #E8F0FE;\n",
              "      --fill-color: #1967D2;\n",
              "      --hover-bg-color: #E2EBFA;\n",
              "      --hover-fill-color: #174EA6;\n",
              "      --disabled-fill-color: #AAA;\n",
              "      --disabled-bg-color: #DDD;\n",
              "  }\n",
              "\n",
              "  [theme=dark] .colab-df-quickchart {\n",
              "      --bg-color: #3B4455;\n",
              "      --fill-color: #D2E3FC;\n",
              "      --hover-bg-color: #434B5C;\n",
              "      --hover-fill-color: #FFFFFF;\n",
              "      --disabled-bg-color: #3B4455;\n",
              "      --disabled-fill-color: #666;\n",
              "  }\n",
              "\n",
              "  .colab-df-quickchart {\n",
              "    background-color: var(--bg-color);\n",
              "    border: none;\n",
              "    border-radius: 50%;\n",
              "    cursor: pointer;\n",
              "    display: none;\n",
              "    fill: var(--fill-color);\n",
              "    height: 32px;\n",
              "    padding: 0;\n",
              "    width: 32px;\n",
              "  }\n",
              "\n",
              "  .colab-df-quickchart:hover {\n",
              "    background-color: var(--hover-bg-color);\n",
              "    box-shadow: 0 1px 2px rgba(60, 64, 67, 0.3), 0 1px 3px 1px rgba(60, 64, 67, 0.15);\n",
              "    fill: var(--button-hover-fill-color);\n",
              "  }\n",
              "\n",
              "  .colab-df-quickchart-complete:disabled,\n",
              "  .colab-df-quickchart-complete:disabled:hover {\n",
              "    background-color: var(--disabled-bg-color);\n",
              "    fill: var(--disabled-fill-color);\n",
              "    box-shadow: none;\n",
              "  }\n",
              "\n",
              "  .colab-df-spinner {\n",
              "    border: 2px solid var(--fill-color);\n",
              "    border-color: transparent;\n",
              "    border-bottom-color: var(--fill-color);\n",
              "    animation:\n",
              "      spin 1s steps(1) infinite;\n",
              "  }\n",
              "\n",
              "  @keyframes spin {\n",
              "    0% {\n",
              "      border-color: transparent;\n",
              "      border-bottom-color: var(--fill-color);\n",
              "      border-left-color: var(--fill-color);\n",
              "    }\n",
              "    20% {\n",
              "      border-color: transparent;\n",
              "      border-left-color: var(--fill-color);\n",
              "      border-top-color: var(--fill-color);\n",
              "    }\n",
              "    30% {\n",
              "      border-color: transparent;\n",
              "      border-left-color: var(--fill-color);\n",
              "      border-top-color: var(--fill-color);\n",
              "      border-right-color: var(--fill-color);\n",
              "    }\n",
              "    40% {\n",
              "      border-color: transparent;\n",
              "      border-right-color: var(--fill-color);\n",
              "      border-top-color: var(--fill-color);\n",
              "    }\n",
              "    60% {\n",
              "      border-color: transparent;\n",
              "      border-right-color: var(--fill-color);\n",
              "    }\n",
              "    80% {\n",
              "      border-color: transparent;\n",
              "      border-right-color: var(--fill-color);\n",
              "      border-bottom-color: var(--fill-color);\n",
              "    }\n",
              "    90% {\n",
              "      border-color: transparent;\n",
              "      border-bottom-color: var(--fill-color);\n",
              "    }\n",
              "  }\n",
              "</style>\n",
              "\n",
              "  <script>\n",
              "    async function quickchart(key) {\n",
              "      const quickchartButtonEl =\n",
              "        document.querySelector('#' + key + ' button');\n",
              "      quickchartButtonEl.disabled = true;  // To prevent multiple clicks.\n",
              "      quickchartButtonEl.classList.add('colab-df-spinner');\n",
              "      try {\n",
              "        const charts = await google.colab.kernel.invokeFunction(\n",
              "            'suggestCharts', [key], {});\n",
              "      } catch (error) {\n",
              "        console.error('Error during call to suggestCharts:', error);\n",
              "      }\n",
              "      quickchartButtonEl.classList.remove('colab-df-spinner');\n",
              "      quickchartButtonEl.classList.add('colab-df-quickchart-complete');\n",
              "    }\n",
              "    (() => {\n",
              "      let quickchartButtonEl =\n",
              "        document.querySelector('#df-d3f88066-818c-4880-a01c-ae29bf750365 button');\n",
              "      quickchartButtonEl.style.display =\n",
              "        google.colab.kernel.accessAllowed ? 'block' : 'none';\n",
              "    })();\n",
              "  </script>\n",
              "</div>\n",
              "\n",
              "    </div>\n",
              "  </div>\n"
            ],
            "application/vnd.google.colaboratory.intrinsic+json": {
              "type": "dataframe",
              "variable_name": "GPS",
              "summary": "{\n  \"name\": \"GPS\",\n  \"rows\": 58960,\n  \"fields\": [\n    {\n      \"column\": \"ts\",\n      \"properties\": {\n        \"dtype\": \"number\",\n        \"std\": 0.45282625936078635,\n        \"min\": 0.0,\n        \"max\": 1.0,\n        \"num_unique_values\": 26898,\n        \"samples\": [\n          0.04449527158580681,\n          0.04301143362339572,\n          0.9052057257519768\n        ],\n        \"semantic_type\": \"\",\n        \"description\": \"\"\n      }\n    },\n    {\n      \"column\": \"date\",\n      \"properties\": {\n        \"dtype\": \"object\",\n        \"num_unique_values\": 8,\n        \"samples\": [\n          \"28-Apr-19\",\n          \"23-Apr-19\",\n          \"25-Apr-19\"\n        ],\n        \"semantic_type\": \"\",\n        \"description\": \"\"\n      }\n    },\n    {\n      \"column\": \"time\",\n      \"properties\": {\n        \"dtype\": \"category\",\n        \"num_unique_values\": 25032,\n        \"samples\": [\n          \" 09:51:04 \",\n          \" 22:34:11 \",\n          \" 23:20:36 \"\n        ],\n        \"semantic_type\": \"\",\n        \"description\": \"\"\n      }\n    },\n    {\n      \"column\": \"latitude\",\n      \"properties\": {\n        \"dtype\": \"number\",\n        \"std\": 0.13603562345162212,\n        \"min\": 0.0,\n        \"max\": 1.0,\n        \"num_unique_values\": 58341,\n        \"samples\": [\n          0.001079880689243488,\n          0.16739350566235123,\n          0.04537587104439308\n        ],\n        \"semantic_type\": \"\",\n        \"description\": \"\"\n      }\n    },\n    {\n      \"column\": \"longitude\",\n      \"properties\": {\n        \"dtype\": \"number\",\n        \"std\": 0.1376403050249015,\n        \"min\": 0.0,\n        \"max\": 1.0,\n        \"num_unique_values\": 58341,\n        \"samples\": [\n          0.000766407129098364,\n          0.1696494537723106,\n          0.04463096064656641\n        ],\n        \"semantic_type\": \"\",\n        \"description\": \"\"\n      }\n    },\n    {\n      \"column\": \"label\",\n      \"properties\": {\n        \"dtype\": \"number\",\n        \"std\": 0,\n        \"min\": 0,\n        \"max\": 1,\n        \"num_unique_values\": 2,\n        \"samples\": [\n          0,\n          1\n        ],\n        \"semantic_type\": \"\",\n        \"description\": \"\"\n      }\n    },\n    {\n      \"column\": \"type\",\n      \"properties\": {\n        \"dtype\": \"number\",\n        \"std\": 1,\n        \"min\": 0,\n        \"max\": 7,\n        \"num_unique_values\": 8,\n        \"samples\": [\n          2,\n          5\n        ],\n        \"semantic_type\": \"\",\n        \"description\": \"\"\n      }\n    }\n  ]\n}"
            }
          },
          "metadata": {},
          "execution_count": 13
        }
      ]
    },
    {
      "cell_type": "markdown",
      "source": [
        "Definindo treinamento e teste"
      ],
      "metadata": {
        "id": "S-KSWCFqP3fJ"
      }
    },
    {
      "cell_type": "code",
      "source": [
        "# Atributos\n",
        "atributos = GPS[['ts', 'latitude', 'longitude']]\n",
        "classe = GPS['type']"
      ],
      "metadata": {
        "id": "KQ50S_xktpW6"
      },
      "execution_count": 14,
      "outputs": []
    },
    {
      "cell_type": "code",
      "source": [
        "# Visualizando Atributos\n",
        "atributos.head()"
      ],
      "metadata": {
        "id": "-O5ltz-7ZZY3",
        "colab": {
          "base_uri": "https://localhost:8080/",
          "height": 206
        },
        "outputId": "d668c4d1-bcd3-4b09-96c7-fb801a7b5e32"
      },
      "execution_count": 15,
      "outputs": [
        {
          "output_type": "execute_result",
          "data": {
            "text/plain": [
              "         ts  latitude  longitude\n",
              "0  0.902839  0.212096   0.224096\n",
              "1  0.902839  0.221600   0.229435\n",
              "2  0.902842  0.221696   0.229504\n",
              "3  0.902843  0.212259   0.224210\n",
              "4  0.902844  0.221779   0.229579"
            ],
            "text/html": [
              "\n",
              "  <div id=\"df-426278f1-efdf-474a-b7ab-84f8782bfa9c\" class=\"colab-df-container\">\n",
              "    <div>\n",
              "<style scoped>\n",
              "    .dataframe tbody tr th:only-of-type {\n",
              "        vertical-align: middle;\n",
              "    }\n",
              "\n",
              "    .dataframe tbody tr th {\n",
              "        vertical-align: top;\n",
              "    }\n",
              "\n",
              "    .dataframe thead th {\n",
              "        text-align: right;\n",
              "    }\n",
              "</style>\n",
              "<table border=\"1\" class=\"dataframe\">\n",
              "  <thead>\n",
              "    <tr style=\"text-align: right;\">\n",
              "      <th></th>\n",
              "      <th>ts</th>\n",
              "      <th>latitude</th>\n",
              "      <th>longitude</th>\n",
              "    </tr>\n",
              "  </thead>\n",
              "  <tbody>\n",
              "    <tr>\n",
              "      <th>0</th>\n",
              "      <td>0.902839</td>\n",
              "      <td>0.212096</td>\n",
              "      <td>0.224096</td>\n",
              "    </tr>\n",
              "    <tr>\n",
              "      <th>1</th>\n",
              "      <td>0.902839</td>\n",
              "      <td>0.221600</td>\n",
              "      <td>0.229435</td>\n",
              "    </tr>\n",
              "    <tr>\n",
              "      <th>2</th>\n",
              "      <td>0.902842</td>\n",
              "      <td>0.221696</td>\n",
              "      <td>0.229504</td>\n",
              "    </tr>\n",
              "    <tr>\n",
              "      <th>3</th>\n",
              "      <td>0.902843</td>\n",
              "      <td>0.212259</td>\n",
              "      <td>0.224210</td>\n",
              "    </tr>\n",
              "    <tr>\n",
              "      <th>4</th>\n",
              "      <td>0.902844</td>\n",
              "      <td>0.221779</td>\n",
              "      <td>0.229579</td>\n",
              "    </tr>\n",
              "  </tbody>\n",
              "</table>\n",
              "</div>\n",
              "    <div class=\"colab-df-buttons\">\n",
              "\n",
              "  <div class=\"colab-df-container\">\n",
              "    <button class=\"colab-df-convert\" onclick=\"convertToInteractive('df-426278f1-efdf-474a-b7ab-84f8782bfa9c')\"\n",
              "            title=\"Convert this dataframe to an interactive table.\"\n",
              "            style=\"display:none;\">\n",
              "\n",
              "  <svg xmlns=\"http://www.w3.org/2000/svg\" height=\"24px\" viewBox=\"0 -960 960 960\">\n",
              "    <path d=\"M120-120v-720h720v720H120Zm60-500h600v-160H180v160Zm220 220h160v-160H400v160Zm0 220h160v-160H400v160ZM180-400h160v-160H180v160Zm440 0h160v-160H620v160ZM180-180h160v-160H180v160Zm440 0h160v-160H620v160Z\"/>\n",
              "  </svg>\n",
              "    </button>\n",
              "\n",
              "  <style>\n",
              "    .colab-df-container {\n",
              "      display:flex;\n",
              "      gap: 12px;\n",
              "    }\n",
              "\n",
              "    .colab-df-convert {\n",
              "      background-color: #E8F0FE;\n",
              "      border: none;\n",
              "      border-radius: 50%;\n",
              "      cursor: pointer;\n",
              "      display: none;\n",
              "      fill: #1967D2;\n",
              "      height: 32px;\n",
              "      padding: 0 0 0 0;\n",
              "      width: 32px;\n",
              "    }\n",
              "\n",
              "    .colab-df-convert:hover {\n",
              "      background-color: #E2EBFA;\n",
              "      box-shadow: 0px 1px 2px rgba(60, 64, 67, 0.3), 0px 1px 3px 1px rgba(60, 64, 67, 0.15);\n",
              "      fill: #174EA6;\n",
              "    }\n",
              "\n",
              "    .colab-df-buttons div {\n",
              "      margin-bottom: 4px;\n",
              "    }\n",
              "\n",
              "    [theme=dark] .colab-df-convert {\n",
              "      background-color: #3B4455;\n",
              "      fill: #D2E3FC;\n",
              "    }\n",
              "\n",
              "    [theme=dark] .colab-df-convert:hover {\n",
              "      background-color: #434B5C;\n",
              "      box-shadow: 0px 1px 3px 1px rgba(0, 0, 0, 0.15);\n",
              "      filter: drop-shadow(0px 1px 2px rgba(0, 0, 0, 0.3));\n",
              "      fill: #FFFFFF;\n",
              "    }\n",
              "  </style>\n",
              "\n",
              "    <script>\n",
              "      const buttonEl =\n",
              "        document.querySelector('#df-426278f1-efdf-474a-b7ab-84f8782bfa9c button.colab-df-convert');\n",
              "      buttonEl.style.display =\n",
              "        google.colab.kernel.accessAllowed ? 'block' : 'none';\n",
              "\n",
              "      async function convertToInteractive(key) {\n",
              "        const element = document.querySelector('#df-426278f1-efdf-474a-b7ab-84f8782bfa9c');\n",
              "        const dataTable =\n",
              "          await google.colab.kernel.invokeFunction('convertToInteractive',\n",
              "                                                    [key], {});\n",
              "        if (!dataTable) return;\n",
              "\n",
              "        const docLinkHtml = 'Like what you see? Visit the ' +\n",
              "          '<a target=\"_blank\" href=https://colab.research.google.com/notebooks/data_table.ipynb>data table notebook</a>'\n",
              "          + ' to learn more about interactive tables.';\n",
              "        element.innerHTML = '';\n",
              "        dataTable['output_type'] = 'display_data';\n",
              "        await google.colab.output.renderOutput(dataTable, element);\n",
              "        const docLink = document.createElement('div');\n",
              "        docLink.innerHTML = docLinkHtml;\n",
              "        element.appendChild(docLink);\n",
              "      }\n",
              "    </script>\n",
              "  </div>\n",
              "\n",
              "\n",
              "<div id=\"df-b4cf76b2-59d1-4480-9cfe-4cac116227b8\">\n",
              "  <button class=\"colab-df-quickchart\" onclick=\"quickchart('df-b4cf76b2-59d1-4480-9cfe-4cac116227b8')\"\n",
              "            title=\"Suggest charts\"\n",
              "            style=\"display:none;\">\n",
              "\n",
              "<svg xmlns=\"http://www.w3.org/2000/svg\" height=\"24px\"viewBox=\"0 0 24 24\"\n",
              "     width=\"24px\">\n",
              "    <g>\n",
              "        <path d=\"M19 3H5c-1.1 0-2 .9-2 2v14c0 1.1.9 2 2 2h14c1.1 0 2-.9 2-2V5c0-1.1-.9-2-2-2zM9 17H7v-7h2v7zm4 0h-2V7h2v10zm4 0h-2v-4h2v4z\"/>\n",
              "    </g>\n",
              "</svg>\n",
              "  </button>\n",
              "\n",
              "<style>\n",
              "  .colab-df-quickchart {\n",
              "      --bg-color: #E8F0FE;\n",
              "      --fill-color: #1967D2;\n",
              "      --hover-bg-color: #E2EBFA;\n",
              "      --hover-fill-color: #174EA6;\n",
              "      --disabled-fill-color: #AAA;\n",
              "      --disabled-bg-color: #DDD;\n",
              "  }\n",
              "\n",
              "  [theme=dark] .colab-df-quickchart {\n",
              "      --bg-color: #3B4455;\n",
              "      --fill-color: #D2E3FC;\n",
              "      --hover-bg-color: #434B5C;\n",
              "      --hover-fill-color: #FFFFFF;\n",
              "      --disabled-bg-color: #3B4455;\n",
              "      --disabled-fill-color: #666;\n",
              "  }\n",
              "\n",
              "  .colab-df-quickchart {\n",
              "    background-color: var(--bg-color);\n",
              "    border: none;\n",
              "    border-radius: 50%;\n",
              "    cursor: pointer;\n",
              "    display: none;\n",
              "    fill: var(--fill-color);\n",
              "    height: 32px;\n",
              "    padding: 0;\n",
              "    width: 32px;\n",
              "  }\n",
              "\n",
              "  .colab-df-quickchart:hover {\n",
              "    background-color: var(--hover-bg-color);\n",
              "    box-shadow: 0 1px 2px rgba(60, 64, 67, 0.3), 0 1px 3px 1px rgba(60, 64, 67, 0.15);\n",
              "    fill: var(--button-hover-fill-color);\n",
              "  }\n",
              "\n",
              "  .colab-df-quickchart-complete:disabled,\n",
              "  .colab-df-quickchart-complete:disabled:hover {\n",
              "    background-color: var(--disabled-bg-color);\n",
              "    fill: var(--disabled-fill-color);\n",
              "    box-shadow: none;\n",
              "  }\n",
              "\n",
              "  .colab-df-spinner {\n",
              "    border: 2px solid var(--fill-color);\n",
              "    border-color: transparent;\n",
              "    border-bottom-color: var(--fill-color);\n",
              "    animation:\n",
              "      spin 1s steps(1) infinite;\n",
              "  }\n",
              "\n",
              "  @keyframes spin {\n",
              "    0% {\n",
              "      border-color: transparent;\n",
              "      border-bottom-color: var(--fill-color);\n",
              "      border-left-color: var(--fill-color);\n",
              "    }\n",
              "    20% {\n",
              "      border-color: transparent;\n",
              "      border-left-color: var(--fill-color);\n",
              "      border-top-color: var(--fill-color);\n",
              "    }\n",
              "    30% {\n",
              "      border-color: transparent;\n",
              "      border-left-color: var(--fill-color);\n",
              "      border-top-color: var(--fill-color);\n",
              "      border-right-color: var(--fill-color);\n",
              "    }\n",
              "    40% {\n",
              "      border-color: transparent;\n",
              "      border-right-color: var(--fill-color);\n",
              "      border-top-color: var(--fill-color);\n",
              "    }\n",
              "    60% {\n",
              "      border-color: transparent;\n",
              "      border-right-color: var(--fill-color);\n",
              "    }\n",
              "    80% {\n",
              "      border-color: transparent;\n",
              "      border-right-color: var(--fill-color);\n",
              "      border-bottom-color: var(--fill-color);\n",
              "    }\n",
              "    90% {\n",
              "      border-color: transparent;\n",
              "      border-bottom-color: var(--fill-color);\n",
              "    }\n",
              "  }\n",
              "</style>\n",
              "\n",
              "  <script>\n",
              "    async function quickchart(key) {\n",
              "      const quickchartButtonEl =\n",
              "        document.querySelector('#' + key + ' button');\n",
              "      quickchartButtonEl.disabled = true;  // To prevent multiple clicks.\n",
              "      quickchartButtonEl.classList.add('colab-df-spinner');\n",
              "      try {\n",
              "        const charts = await google.colab.kernel.invokeFunction(\n",
              "            'suggestCharts', [key], {});\n",
              "      } catch (error) {\n",
              "        console.error('Error during call to suggestCharts:', error);\n",
              "      }\n",
              "      quickchartButtonEl.classList.remove('colab-df-spinner');\n",
              "      quickchartButtonEl.classList.add('colab-df-quickchart-complete');\n",
              "    }\n",
              "    (() => {\n",
              "      let quickchartButtonEl =\n",
              "        document.querySelector('#df-b4cf76b2-59d1-4480-9cfe-4cac116227b8 button');\n",
              "      quickchartButtonEl.style.display =\n",
              "        google.colab.kernel.accessAllowed ? 'block' : 'none';\n",
              "    })();\n",
              "  </script>\n",
              "</div>\n",
              "\n",
              "    </div>\n",
              "  </div>\n"
            ],
            "application/vnd.google.colaboratory.intrinsic+json": {
              "type": "dataframe",
              "variable_name": "atributos",
              "summary": "{\n  \"name\": \"atributos\",\n  \"rows\": 58960,\n  \"fields\": [\n    {\n      \"column\": \"ts\",\n      \"properties\": {\n        \"dtype\": \"number\",\n        \"std\": 0.45282625936078635,\n        \"min\": 0.0,\n        \"max\": 1.0,\n        \"num_unique_values\": 26898,\n        \"samples\": [\n          0.04449527158580681,\n          0.04301143362339572,\n          0.9052057257519768\n        ],\n        \"semantic_type\": \"\",\n        \"description\": \"\"\n      }\n    },\n    {\n      \"column\": \"latitude\",\n      \"properties\": {\n        \"dtype\": \"number\",\n        \"std\": 0.13603562345162212,\n        \"min\": 0.0,\n        \"max\": 1.0,\n        \"num_unique_values\": 58341,\n        \"samples\": [\n          0.001079880689243488,\n          0.16739350566235123,\n          0.04537587104439308\n        ],\n        \"semantic_type\": \"\",\n        \"description\": \"\"\n      }\n    },\n    {\n      \"column\": \"longitude\",\n      \"properties\": {\n        \"dtype\": \"number\",\n        \"std\": 0.1376403050249015,\n        \"min\": 0.0,\n        \"max\": 1.0,\n        \"num_unique_values\": 58341,\n        \"samples\": [\n          0.000766407129098364,\n          0.1696494537723106,\n          0.04463096064656641\n        ],\n        \"semantic_type\": \"\",\n        \"description\": \"\"\n      }\n    }\n  ]\n}"
            }
          },
          "metadata": {},
          "execution_count": 15
        }
      ]
    },
    {
      "cell_type": "code",
      "source": [
        "# Separando dados de Treino e Teste em proporção 80% 20%, com random_state = 42\n",
        "X_train, X_test, y_train, y_test = train_test_split(atributos, classe, test_size=0.2, random_state=42)"
      ],
      "metadata": {
        "id": "K2xqSIkJP_ID"
      },
      "execution_count": 16,
      "outputs": []
    },
    {
      "cell_type": "markdown",
      "source": [
        "# 1º técnica - Arvore de decisão"
      ],
      "metadata": {
        "id": "Yk036R1zQCWT"
      }
    },
    {
      "cell_type": "code",
      "source": [
        "#definindo um classificador Arvore de decisão\n",
        "clf_AV = tree.DecisionTreeClassifier()\n",
        "\n",
        "#Validação cruzada usando KFold com 4 folds\n",
        "kf = KFold(n_splits=4, shuffle=True, random_state=42)\n",
        "\n",
        "#Acurácia média durante a validação cruzada\n",
        "acuracias_cruzadas = cross_val_score(clf_AV, X_train, y_train, cv=kf, scoring='accuracy')\n",
        "print('Acurácia média durante a validação cruzada: {}'.format(round(acuracias_cruzadas.mean(), 4)))\n",
        "\n",
        "#Modelo com dados de treinamento\n",
        "clf_AV = clf_AV.fit(X_train, y_train)"
      ],
      "metadata": {
        "id": "fEtczDL4QcHW",
        "colab": {
          "base_uri": "https://localhost:8080/"
        },
        "outputId": "f960a85e-00b8-474a-fa53-d7c8b2f49f67"
      },
      "execution_count": 17,
      "outputs": [
        {
          "output_type": "stream",
          "name": "stdout",
          "text": [
            "Acurácia média durante a validação cruzada: 1.0\n"
          ]
        }
      ]
    },
    {
      "cell_type": "code",
      "source": [
        "#Predição e Acurácia de Teste\n",
        "predicao_1 = clf_AV.predict(X_test)\n",
        "acuracia_1 = accuracy_score(y_test, predicao_1)\n",
        "print('Acurácia da classificação: {}' . format(round(acuracia_1,4)))"
      ],
      "metadata": {
        "id": "-_--AY5lTl3Y",
        "colab": {
          "base_uri": "https://localhost:8080/"
        },
        "outputId": "17336717-7627-4550-a57b-86b130280763"
      },
      "execution_count": 18,
      "outputs": [
        {
          "output_type": "stream",
          "name": "stdout",
          "text": [
            "Acurácia da classificação: 1.0\n"
          ]
        }
      ]
    },
    {
      "cell_type": "code",
      "source": [
        "#Matriz de confusão\n",
        "class_labels = ['normal', 'ddos', 'backdoor' , 'injection', 'password', 'ransomware', 'xss', 'scanning']\n",
        "\n",
        "sns.heatmap(confusion_matrix(y_test, predicao_1), annot=True, fmt='d', cmap='Blues', xticklabels=class_labels, yticklabels=class_labels)\n",
        "plt.show()"
      ],
      "metadata": {
        "id": "aiq4IZ32dtWA",
        "colab": {
          "base_uri": "https://localhost:8080/",
          "height": 502
        },
        "outputId": "7a218183-1537-4edf-bbf3-618472d495cd"
      },
      "execution_count": 19,
      "outputs": [
        {
          "output_type": "display_data",
          "data": {
            "text/plain": [
              "<Figure size 640x480 with 2 Axes>"
            ],
            "image/png": "[encoded data removed]"
          },
          "metadata": {}
        }
      ]
    },
    {
      "cell_type": "code",
      "source": [
        "print(classification_report(y_test, predicao_1))"
      ],
      "metadata": {
        "id": "LAimrAat0jrA",
        "colab": {
          "base_uri": "https://localhost:8080/"
        },
        "outputId": "0971f2ec-36af-4900-9782-d730089d584f"
      },
      "execution_count": 20,
      "outputs": [
        {
          "output_type": "stream",
          "name": "stdout",
          "text": [
            "              precision    recall  f1-score   support\n",
            "\n",
            "           0       1.00      1.00      1.00      6988\n",
            "           1       1.00      1.00      1.00       993\n",
            "           2       1.00      1.00      1.00      1004\n",
            "           3       1.00      1.00      1.00      1032\n",
            "           4       1.00      1.00      1.00       976\n",
            "           5       1.00      1.00      1.00       569\n",
            "           6       1.00      1.00      1.00       117\n",
            "           7       1.00      1.00      1.00       113\n",
            "\n",
            "    accuracy                           1.00     11792\n",
            "   macro avg       1.00      1.00      1.00     11792\n",
            "weighted avg       1.00      1.00      1.00     11792\n",
            "\n"
          ]
        }
      ]
    },
    {
      "cell_type": "markdown",
      "source": [
        "# 2º técnica - KNN"
      ],
      "metadata": {
        "id": "NcY2gOACRWO7"
      }
    },
    {
      "cell_type": "code",
      "source": [
        "#definindo um classificador KNN\n",
        "clf_KNN = KNeighborsClassifier(n_neighbors=5, metric='minkowski', p = 2)\n",
        "\n",
        "#Validação cruzada usando KFold com 4 folds\n",
        "kf = KFold(n_splits=4, shuffle=True, random_state=42)\n",
        "\n",
        "#Acurácia média durante a validação cruzada\n",
        "acuracias_cruzadas = cross_val_score(clf_KNN, X_train, y_train, cv=kf, scoring='accuracy')\n",
        "print('Acurácia média durante a validação cruzada: {}'.format(round(acuracias_cruzadas.mean(), 4)))\n",
        "\n",
        "#Modelo com dados de treinamento\n",
        "clf_KNN = clf_KNN.fit(X_train, y_train)"
      ],
      "metadata": {
        "id": "mhEYyqWARd4E",
        "colab": {
          "base_uri": "https://localhost:8080/"
        },
        "outputId": "cde531bc-4816-435c-e393-3d66f1260c7b"
      },
      "execution_count": 21,
      "outputs": [
        {
          "output_type": "stream",
          "name": "stdout",
          "text": [
            "Acurácia média durante a validação cruzada: 1.0\n"
          ]
        }
      ]
    },
    {
      "cell_type": "code",
      "source": [
        "#Predição e Acurácia de Teste\n",
        "predicao_2 = clf_KNN.predict(X_test)\n",
        "acuracia_2 = accuracy_score(y_test, predicao_2)\n",
        "print('Acurácia da classificação: {}' . format(round(acuracia_2, 4)))"
      ],
      "metadata": {
        "id": "GHlTtXzvRm6i",
        "colab": {
          "base_uri": "https://localhost:8080/"
        },
        "outputId": "68efdd6b-0e07-48c0-f6bc-9c7d276a1b04"
      },
      "execution_count": 22,
      "outputs": [
        {
          "output_type": "stream",
          "name": "stdout",
          "text": [
            "Acurácia da classificação: 1.0\n"
          ]
        }
      ]
    },
    {
      "cell_type": "code",
      "source": [
        "# Matriz de confusão\n",
        "class_labels = ['normal', 'ddos', 'backdoor' , 'injection', 'password', 'ransomware', 'xss', 'scanning']\n",
        "\n",
        "sns.heatmap(confusion_matrix(y_test, predicao_2), annot=True, fmt='d', cmap='Blues', xticklabels=class_labels, yticklabels=class_labels)\n",
        "plt.show()"
      ],
      "metadata": {
        "id": "OlG2FpbmvapX",
        "colab": {
          "base_uri": "https://localhost:8080/",
          "height": 502
        },
        "outputId": "7c9ba406-0932-4e86-90f2-c9bcda4e0c7f"
      },
      "execution_count": 23,
      "outputs": [
        {
          "output_type": "display_data",
          "data": {
            "text/plain": [
              "<Figure size 640x480 with 2 Axes>"
            ],
            "image/png": "[encoded data removed]"
          },
          "metadata": {}
        }
      ]
    },
    {
      "cell_type": "code",
      "source": [
        "print(classification_report(y_test, predicao_2))"
      ],
      "metadata": {
        "id": "c9-SjoFA2-r7",
        "colab": {
          "base_uri": "https://localhost:8080/"
        },
        "outputId": "1d46b68c-154e-497e-a15a-8faa2b65032e"
      },
      "execution_count": 24,
      "outputs": [
        {
          "output_type": "stream",
          "name": "stdout",
          "text": [
            "              precision    recall  f1-score   support\n",
            "\n",
            "           0       1.00      1.00      1.00      6988\n",
            "           1       1.00      1.00      1.00       993\n",
            "           2       1.00      1.00      1.00      1004\n",
            "           3       1.00      1.00      1.00      1032\n",
            "           4       1.00      1.00      1.00       976\n",
            "           5       1.00      1.00      1.00       569\n",
            "           6       1.00      1.00      1.00       117\n",
            "           7       1.00      1.00      1.00       113\n",
            "\n",
            "    accuracy                           1.00     11792\n",
            "   macro avg       1.00      1.00      1.00     11792\n",
            "weighted avg       1.00      1.00      1.00     11792\n",
            "\n"
          ]
        }
      ]
    },
    {
      "cell_type": "markdown",
      "source": [
        "# 3º técnica - SVM"
      ],
      "metadata": {
        "id": "_BGlSmXER3ZK"
      }
    },
    {
      "cell_type": "code",
      "source": [
        "#definindo um classificador SVM\n",
        "SVM_rbf = SVC(kernel = 'rbf', gamma = 'auto', C = 1.0 )\n",
        "\n",
        "#Validação cruzada usando KFold com 4 folds\n",
        "kf = KFold(n_splits=4, shuffle=True, random_state=42)\n",
        "\n",
        "#Acurácia média durante a validação cruzada\n",
        "acuracias_cruzadas = cross_val_score(SVM_rbf, X_train, y_train, cv=kf, scoring='accuracy')\n",
        "print('Acurácia média durante a validação cruzada: {}'.format(round(acuracias_cruzadas.mean(), 4)))\n",
        "\n",
        "#Modelo com dados de treinamento\n",
        "SVM_rbf.fit(X_train, y_train)"
      ],
      "metadata": {
        "id": "zDiWnllrSEH1",
        "colab": {
          "base_uri": "https://localhost:8080/",
          "height": 92
        },
        "outputId": "866213ad-40fc-425c-abd1-c2349b0d86d7"
      },
      "execution_count": 25,
      "outputs": [
        {
          "output_type": "stream",
          "name": "stdout",
          "text": [
            "Acurácia média durante a validação cruzada: 0.9459\n"
          ]
        },
        {
          "output_type": "execute_result",
          "data": {
            "text/plain": [
              "SVC(gamma='auto')"
            ],
            "text/html": [
              "<style>#sk-container-id-1 {color: black;background-color: white;}#sk-container-id-1 pre{padding: 0;}#sk-container-id-1 div.sk-toggleable {background-color: white;}#sk-container-id-1 label.sk-toggleable__label {cursor: pointer;display: block;width: 100%;margin-bottom: 0;padding: 0.3em;box-sizing: border-box;text-align: center;}#sk-container-id-1 label.sk-toggleable__label-arrow:before {content: \"▸\";float: left;margin-right: 0.25em;color: #696969;}#sk-container-id-1 label.sk-toggleable__label-arrow:hover:before {color: black;}#sk-container-id-1 div.sk-estimator:hover label.sk-toggleable__label-arrow:before {color: black;}#sk-container-id-1 div.sk-toggleable__content {max-height: 0;max-width: 0;overflow: hidden;text-align: left;background-color: #f0f8ff;}#sk-container-id-1 div.sk-toggleable__content pre {margin: 0.2em;color: black;border-radius: 0.25em;background-color: #f0f8ff;}#sk-container-id-1 input.sk-toggleable__control:checked~div.sk-toggleable__content {max-height: 200px;max-width: 100%;overflow: auto;}#sk-container-id-1 input.sk-toggleable__control:checked~label.sk-toggleable__label-arrow:before {content: \"▾\";}#sk-container-id-1 div.sk-estimator input.sk-toggleable__control:checked~label.sk-toggleable__label {background-color: #d4ebff;}#sk-container-id-1 div.sk-label input.sk-toggleable__control:checked~label.sk-toggleable__label {background-color: #d4ebff;}#sk-container-id-1 input.sk-hidden--visually {border: 0;clip: rect(1px 1px 1px 1px);clip: rect(1px, 1px, 1px, 1px);height: 1px;margin: -1px;overflow: hidden;padding: 0;position: absolute;width: 1px;}#sk-container-id-1 div.sk-estimator {font-family: monospace;background-color: #f0f8ff;border: 1px dotted black;border-radius: 0.25em;box-sizing: border-box;margin-bottom: 0.5em;}#sk-container-id-1 div.sk-estimator:hover {background-color: #d4ebff;}#sk-container-id-1 div.sk-parallel-item::after {content: \"\";width: 100%;border-bottom: 1px solid gray;flex-grow: 1;}#sk-container-id-1 div.sk-label:hover label.sk-toggleable__label {background-color: #d4ebff;}#sk-container-id-1 div.sk-serial::before {content: \"\";position: absolute;border-left: 1px solid gray;box-sizing: border-box;top: 0;bottom: 0;left: 50%;z-index: 0;}#sk-container-id-1 div.sk-serial {display: flex;flex-direction: column;align-items: center;background-color: white;padding-right: 0.2em;padding-left: 0.2em;position: relative;}#sk-container-id-1 div.sk-item {position: relative;z-index: 1;}#sk-container-id-1 div.sk-parallel {display: flex;align-items: stretch;justify-content: center;background-color: white;position: relative;}#sk-container-id-1 div.sk-item::before, #sk-container-id-1 div.sk-parallel-item::before {content: \"\";position: absolute;border-left: 1px solid gray;box-sizing: border-box;top: 0;bottom: 0;left: 50%;z-index: -1;}#sk-container-id-1 div.sk-parallel-item {display: flex;flex-direction: column;z-index: 1;position: relative;background-color: white;}#sk-container-id-1 div.sk-parallel-item:first-child::after {align-self: flex-end;width: 50%;}#sk-container-id-1 div.sk-parallel-item:last-child::after {align-self: flex-start;width: 50%;}#sk-container-id-1 div.sk-parallel-item:only-child::after {width: 0;}#sk-container-id-1 div.sk-dashed-wrapped {border: 1px dashed gray;margin: 0 0.4em 0.5em 0.4em;box-sizing: border-box;padding-bottom: 0.4em;background-color: white;}#sk-container-id-1 div.sk-label label {font-family: monospace;font-weight: bold;display: inline-block;line-height: 1.2em;}#sk-container-id-1 div.sk-label-container {text-align: center;}#sk-container-id-1 div.sk-container {/* jupyter's `normalize.less` sets `[hidden] { display: none; }` but bootstrap.min.css set `[hidden] { display: none !important; }` so we also need the `!important` here to be able to override the default hidden behavior on the sphinx rendered scikit-learn.org. See: https://github.com/scikit-learn/scikit-learn/issues/21755 */display: inline-block !important;position: relative;}#sk-container-id-1 div.sk-text-repr-fallback {display: none;}</style><div id=\"sk-container-id-1\" class=\"sk-top-container\"><div class=\"sk-text-repr-fallback\"><pre>SVC(gamma=&#x27;auto&#x27;)</pre><b>In a Jupyter environment, please rerun this cell to show the HTML representation or trust the notebook. <br />On GitHub, the HTML representation is unable to render, please try loading this page with nbviewer.org.</b></div><div class=\"sk-container\" hidden><div class=\"sk-item\"><div class=\"sk-estimator sk-toggleable\"><input class=\"sk-toggleable__control sk-hidden--visually\" id=\"sk-estimator-id-1\" type=\"checkbox\" checked><label for=\"sk-estimator-id-1\" class=\"sk-toggleable__label sk-toggleable__label-arrow\">SVC</label><div class=\"sk-toggleable__content\"><pre>SVC(gamma=&#x27;auto&#x27;)</pre></div></div></div></div></div>"
            ]
          },
          "metadata": {},
          "execution_count": 25
        }
      ]
    },
    {
      "cell_type": "code",
      "source": [
        "#Predição e Acurácia de Teste\n",
        "predicao_3 = SVM_rbf.predict(X_test)\n",
        "acuracia_3 = accuracy_score(y_test, predicao_3)\n",
        "print('Acurácia da classificação: {}' . format(round(acuracia_3,4)))"
      ],
      "metadata": {
        "id": "Q5v7q29LSHNK",
        "colab": {
          "base_uri": "https://localhost:8080/"
        },
        "outputId": "a4a82848-677c-48bd-cf05-1038002132f2"
      },
      "execution_count": 26,
      "outputs": [
        {
          "output_type": "stream",
          "name": "stdout",
          "text": [
            "Acurácia da classificação: 0.9459\n"
          ]
        }
      ]
    },
    {
      "cell_type": "code",
      "source": [
        "#Matriz de confusão\n",
        "class_labels = ['normal', 'ddos', 'backdoor', 'injection', 'password', 'ransomware', 'xss', 'scanning']\n",
        "\n",
        "sns.heatmap(confusion_matrix(y_test, predicao_3), annot=True, fmt='d', cmap='Blues', xticklabels=class_labels, yticklabels=class_labels)\n",
        "plt.show()"
      ],
      "metadata": {
        "id": "vK0RVJ7Dxxio",
        "colab": {
          "base_uri": "https://localhost:8080/",
          "height": 502
        },
        "outputId": "7af432d2-f85b-478d-9f81-b4a3cb97cf89"
      },
      "execution_count": 27,
      "outputs": [
        {
          "output_type": "display_data",
          "data": {
            "text/plain": [
              "<Figure size 640x480 with 2 Axes>"
            ],
            "image/png": "[encoded data removed]"
          },
          "metadata": {}
        }
      ]
    },
    {
      "cell_type": "code",
      "source": [
        "print(classification_report(y_test, predicao_3))"
      ],
      "metadata": {
        "id": "_9Fbz_z_4VOG",
        "colab": {
          "base_uri": "https://localhost:8080/"
        },
        "outputId": "57f7dcb4-36a5-40f5-ea01-3f6b02d8f2c4"
      },
      "execution_count": 28,
      "outputs": [
        {
          "output_type": "stream",
          "name": "stdout",
          "text": [
            "              precision    recall  f1-score   support\n",
            "\n",
            "           0       1.00      1.00      1.00      6988\n",
            "           1       1.00      0.58      0.73       993\n",
            "           2       0.98      0.93      0.95      1004\n",
            "           3       0.71      1.00      0.83      1032\n",
            "           4       0.89      1.00      0.94       976\n",
            "           5       0.89      0.96      0.92       569\n",
            "           6       0.00      0.00      0.00       117\n",
            "           7       1.00      0.92      0.96       113\n",
            "\n",
            "    accuracy                           0.95     11792\n",
            "   macro avg       0.81      0.80      0.79     11792\n",
            "weighted avg       0.95      0.95      0.94     11792\n",
            "\n"
          ]
        },
        {
          "output_type": "stream",
          "name": "stderr",
          "text": [
            "/usr/local/lib/python3.10/dist-packages/sklearn/metrics/_classification.py:1344: UndefinedMetricWarning: Precision and F-score are ill-defined and being set to 0.0 in labels with no predicted samples. Use `zero_division` parameter to control this behavior.\n",
            "  _warn_prf(average, modifier, msg_start, len(result))\n",
            "/usr/local/lib/python3.10/dist-packages/sklearn/metrics/_classification.py:1344: UndefinedMetricWarning: Precision and F-score are ill-defined and being set to 0.0 in labels with no predicted samples. Use `zero_division` parameter to control this behavior.\n",
            "  _warn_prf(average, modifier, msg_start, len(result))\n",
            "/usr/local/lib/python3.10/dist-packages/sklearn/metrics/_classification.py:1344: UndefinedMetricWarning: Precision and F-score are ill-defined and being set to 0.0 in labels with no predicted samples. Use `zero_division` parameter to control this behavior.\n",
            "  _warn_prf(average, modifier, msg_start, len(result))\n"
          ]
        }
      ]
    },
    {
      "cell_type": "markdown",
      "source": [
        "#4º Regressão Logistica"
      ],
      "metadata": {
        "id": "Vmlw4c-Nu_xt"
      }
    },
    {
      "cell_type": "code",
      "source": [
        "#definindo um classificador Arvore de decisão\n",
        "LR = LogisticRegression(solver='lbfgs', max_iter=1000)\n",
        "\n",
        "#Validação cruzada usando KFold com 4 folds\n",
        "kf = KFold(n_splits=4, shuffle=True, random_state=42)\n",
        "\n",
        "#Acurácia média durante a validação cruzada\n",
        "acuracias_cruzadas = cross_val_score(LR, X_train, y_train, cv=kf, scoring='accuracy')\n",
        "print('Acurácia média durante a validação cruzada: {}'.format(round(acuracias_cruzadas.mean(), 4)))\n",
        "\n",
        "#Modelo com dados de treinamento\n",
        "LR = LR.fit(X_train, y_train)"
      ],
      "metadata": {
        "id": "urwgklQTUcm7",
        "colab": {
          "base_uri": "https://localhost:8080/"
        },
        "outputId": "48dc9135-1abf-419b-b096-54cfa613ccfb"
      },
      "execution_count": 29,
      "outputs": [
        {
          "output_type": "stream",
          "name": "stdout",
          "text": [
            "Acurácia média durante a validação cruzada: 0.9089\n"
          ]
        }
      ]
    },
    {
      "cell_type": "code",
      "source": [
        "#Predição e Acurácia de Teste\n",
        "predicao_40 = LR.predict(X_test)\n",
        "acuracia_40 = accuracy_score(y_test, predicao_40)\n",
        "print('Acurácia da classificação: {}' . format(round(acuracia_40,4)))"
      ],
      "metadata": {
        "id": "IO15HoJyV_iH",
        "colab": {
          "base_uri": "https://localhost:8080/"
        },
        "outputId": "aae38410-89de-464f-8eb6-b44caf834240"
      },
      "execution_count": 30,
      "outputs": [
        {
          "output_type": "stream",
          "name": "stdout",
          "text": [
            "Acurácia da classificação: 0.9135\n"
          ]
        }
      ]
    },
    {
      "cell_type": "code",
      "source": [
        "# Matriz de confusão\n",
        "class_labels = ['normal', 'ddos', 'backdoor', 'injection', 'password', 'ransomware', 'xss', 'scanning']\n",
        "\n",
        "sns.heatmap(confusion_matrix(y_test, predicao_40), annot=True, fmt='d', cmap='Blues', xticklabels=class_labels, yticklabels=class_labels)\n",
        "plt.show()"
      ],
      "metadata": {
        "id": "ZeovH57RWUM3",
        "colab": {
          "base_uri": "https://localhost:8080/",
          "height": 502
        },
        "outputId": "6a33db50-cf1a-476c-f541-48043de3ec07"
      },
      "execution_count": 31,
      "outputs": [
        {
          "output_type": "display_data",
          "data": {
            "text/plain": [
              "<Figure size 640x480 with 2 Axes>"
            ],
            "image/png": "[encoded data removed]"
          },
          "metadata": {}
        }
      ]
    },
    {
      "cell_type": "code",
      "source": [
        "print(classification_report(y_test, predicao_40))"
      ],
      "metadata": {
        "id": "mlCbD61RWo15",
        "colab": {
          "base_uri": "https://localhost:8080/"
        },
        "outputId": "ba05d1c1-cb6c-438b-c8f6-364d084851fd"
      },
      "execution_count": 32,
      "outputs": [
        {
          "output_type": "stream",
          "name": "stdout",
          "text": [
            "              precision    recall  f1-score   support\n",
            "\n",
            "           0       1.00      1.00      1.00      6988\n",
            "           1       0.60      0.55      0.57       993\n",
            "           2       0.95      0.98      0.96      1004\n",
            "           3       0.76      0.87      0.81      1032\n",
            "           4       0.79      0.87      0.83       976\n",
            "           5       0.84      0.91      0.87       569\n",
            "           6       0.00      0.00      0.00       117\n",
            "           7       0.00      0.00      0.00       113\n",
            "\n",
            "    accuracy                           0.91     11792\n",
            "   macro avg       0.62      0.65      0.63     11792\n",
            "weighted avg       0.90      0.91      0.90     11792\n",
            "\n"
          ]
        },
        {
          "output_type": "stream",
          "name": "stderr",
          "text": [
            "/usr/local/lib/python3.10/dist-packages/sklearn/metrics/_classification.py:1344: UndefinedMetricWarning: Precision and F-score are ill-defined and being set to 0.0 in labels with no predicted samples. Use `zero_division` parameter to control this behavior.\n",
            "  _warn_prf(average, modifier, msg_start, len(result))\n",
            "/usr/local/lib/python3.10/dist-packages/sklearn/metrics/_classification.py:1344: UndefinedMetricWarning: Precision and F-score are ill-defined and being set to 0.0 in labels with no predicted samples. Use `zero_division` parameter to control this behavior.\n",
            "  _warn_prf(average, modifier, msg_start, len(result))\n",
            "/usr/local/lib/python3.10/dist-packages/sklearn/metrics/_classification.py:1344: UndefinedMetricWarning: Precision and F-score are ill-defined and being set to 0.0 in labels with no predicted samples. Use `zero_division` parameter to control this behavior.\n",
            "  _warn_prf(average, modifier, msg_start, len(result))\n"
          ]
        }
      ]
    },
    {
      "cell_type": "markdown",
      "source": [
        "# 5º Técnica - Regressão linear"
      ],
      "metadata": {
        "id": "04mWaHKdQwE3"
      }
    },
    {
      "cell_type": "code",
      "source": [
        "#Definindo um classificador de regreção linear\n",
        "reg = LinearRegression().fit(X_train, y_train)"
      ],
      "metadata": {
        "id": "tq27e2rGRC6Z"
      },
      "execution_count": 33,
      "outputs": []
    },
    {
      "cell_type": "code",
      "source": [
        "# Predição e criação de variável auxiliar\n",
        "predicao_4 = reg.predict(X_test)\n",
        "aux = np.zeros(len(X_test))\n",
        "\n",
        "# Aproximando a predição para o inteiro mais próximo e armazenando na variável auxiliar\n",
        "for i in range(len(X_test)):\n",
        "    aux[i] = round(predicao_4[i], 0)\n",
        "\n",
        "# Acurácia de Teste\n",
        "acuracia_4 = accuracy_score(y_test, aux[:].astype(int))\n",
        "print('Acurácia da classificação: {}'.format(round(acuracia_4, 3)))\n"
      ],
      "metadata": {
        "id": "Ocom1QSb1gOR",
        "colab": {
          "base_uri": "https://localhost:8080/"
        },
        "outputId": "b61a450d-a747-40d8-8310-55e542b73c92"
      },
      "execution_count": 34,
      "outputs": [
        {
          "output_type": "stream",
          "name": "stdout",
          "text": [
            "Acurácia da classificação: 0.658\n"
          ]
        }
      ]
    },
    {
      "cell_type": "code",
      "source": [
        "#Matriz de confusão\n",
        "class_labels = ['normal', 'ddos', 'backdoor', 'injection', 'password', 'ransomware', 'xss', 'scanning']\n",
        "\n",
        "sns.heatmap(confusion_matrix(y_test, aux), annot=True, fmt='d', cmap='Blues', xticklabels=class_labels, yticklabels=class_labels)\n",
        "plt.show()"
      ],
      "metadata": {
        "id": "k6mytwITVcdE",
        "colab": {
          "base_uri": "https://localhost:8080/",
          "height": 502
        },
        "outputId": "1f22f2eb-a95b-4a3c-83d6-ebe957098221"
      },
      "execution_count": 35,
      "outputs": [
        {
          "output_type": "display_data",
          "data": {
            "text/plain": [
              "<Figure size 640x480 with 2 Axes>"
            ],
            "image/png": "[encoded data removed]"
          },
          "metadata": {}
        }
      ]
    },
    {
      "cell_type": "code",
      "source": [
        "print(classification_report(y_test, aux))"
      ],
      "metadata": {
        "id": "s3_pNgye5oxB",
        "colab": {
          "base_uri": "https://localhost:8080/"
        },
        "outputId": "25e12155-c42f-443d-8021-f09e1a0ab9fc"
      },
      "execution_count": 36,
      "outputs": [
        {
          "output_type": "stream",
          "name": "stdout",
          "text": [
            "              precision    recall  f1-score   support\n",
            "\n",
            "        -1.0       0.00      0.00      0.00         0\n",
            "         0.0       0.99      0.94      0.97      6988\n",
            "         1.0       0.25      0.03      0.05       993\n",
            "         2.0       0.12      0.07      0.09      1004\n",
            "         3.0       0.25      0.89      0.39      1032\n",
            "         4.0       0.29      0.15      0.20       976\n",
            "         5.0       0.00      0.00      0.00       569\n",
            "         6.0       0.00      0.00      0.00       117\n",
            "         7.0       0.00      0.00      0.00       113\n",
            "\n",
            "    accuracy                           0.66     11792\n",
            "   macro avg       0.21      0.23      0.19     11792\n",
            "weighted avg       0.67      0.66      0.64     11792\n",
            "\n"
          ]
        },
        {
          "output_type": "stream",
          "name": "stderr",
          "text": [
            "/usr/local/lib/python3.10/dist-packages/sklearn/metrics/_classification.py:1344: UndefinedMetricWarning: Precision and F-score are ill-defined and being set to 0.0 in labels with no predicted samples. Use `zero_division` parameter to control this behavior.\n",
            "  _warn_prf(average, modifier, msg_start, len(result))\n",
            "/usr/local/lib/python3.10/dist-packages/sklearn/metrics/_classification.py:1344: UndefinedMetricWarning: Recall and F-score are ill-defined and being set to 0.0 in labels with no true samples. Use `zero_division` parameter to control this behavior.\n",
            "  _warn_prf(average, modifier, msg_start, len(result))\n",
            "/usr/local/lib/python3.10/dist-packages/sklearn/metrics/_classification.py:1344: UndefinedMetricWarning: Precision and F-score are ill-defined and being set to 0.0 in labels with no predicted samples. Use `zero_division` parameter to control this behavior.\n",
            "  _warn_prf(average, modifier, msg_start, len(result))\n",
            "/usr/local/lib/python3.10/dist-packages/sklearn/metrics/_classification.py:1344: UndefinedMetricWarning: Recall and F-score are ill-defined and being set to 0.0 in labels with no true samples. Use `zero_division` parameter to control this behavior.\n",
            "  _warn_prf(average, modifier, msg_start, len(result))\n",
            "/usr/local/lib/python3.10/dist-packages/sklearn/metrics/_classification.py:1344: UndefinedMetricWarning: Precision and F-score are ill-defined and being set to 0.0 in labels with no predicted samples. Use `zero_division` parameter to control this behavior.\n",
            "  _warn_prf(average, modifier, msg_start, len(result))\n",
            "/usr/local/lib/python3.10/dist-packages/sklearn/metrics/_classification.py:1344: UndefinedMetricWarning: Recall and F-score are ill-defined and being set to 0.0 in labels with no true samples. Use `zero_division` parameter to control this behavior.\n",
            "  _warn_prf(average, modifier, msg_start, len(result))\n"
          ]
        }
      ]
    },
    {
      "cell_type": "markdown",
      "source": [
        "# 6º Técnica - Naïve Bayes (NB)"
      ],
      "metadata": {
        "id": "w3oBg5GwkusY"
      }
    },
    {
      "cell_type": "code",
      "source": [
        "#definindo um classificador NB\n",
        "NB = GaussianNB()\n",
        "\n",
        "#Validação cruzada usando KFold com 4 folds\n",
        "kf = KFold(n_splits=4, shuffle=True, random_state=42)\n",
        "\n",
        "#Acurácia média durante a validação cruzada\n",
        "acuracias_cruzadas = cross_val_score(NB, X_train, y_train, cv=kf, scoring='accuracy')\n",
        "print('Acurácia média durante a validação cruzada: {}'.format(round(acuracias_cruzadas.mean(), 4)))\n",
        "\n",
        "#Modelo com dados de treinamento\n",
        "NB.fit(X_train, y_train)"
      ],
      "metadata": {
        "id": "fTOYySbnlACR",
        "colab": {
          "base_uri": "https://localhost:8080/",
          "height": 92
        },
        "outputId": "84c18c13-ba30-4e1d-bfc3-5028264585b7"
      },
      "execution_count": 37,
      "outputs": [
        {
          "output_type": "stream",
          "name": "stdout",
          "text": [
            "Acurácia média durante a validação cruzada: 0.9993\n"
          ]
        },
        {
          "output_type": "execute_result",
          "data": {
            "text/plain": [
              "GaussianNB()"
            ],
            "text/html": [
              "<style>#sk-container-id-2 {color: black;background-color: white;}#sk-container-id-2 pre{padding: 0;}#sk-container-id-2 div.sk-toggleable {background-color: white;}#sk-container-id-2 label.sk-toggleable__label {cursor: pointer;display: block;width: 100%;margin-bottom: 0;padding: 0.3em;box-sizing: border-box;text-align: center;}#sk-container-id-2 label.sk-toggleable__label-arrow:before {content: \"▸\";float: left;margin-right: 0.25em;color: #696969;}#sk-container-id-2 label.sk-toggleable__label-arrow:hover:before {color: black;}#sk-container-id-2 div.sk-estimator:hover label.sk-toggleable__label-arrow:before {color: black;}#sk-container-id-2 div.sk-toggleable__content {max-height: 0;max-width: 0;overflow: hidden;text-align: left;background-color: #f0f8ff;}#sk-container-id-2 div.sk-toggleable__content pre {margin: 0.2em;color: black;border-radius: 0.25em;background-color: #f0f8ff;}#sk-container-id-2 input.sk-toggleable__control:checked~div.sk-toggleable__content {max-height: 200px;max-width: 100%;overflow: auto;}#sk-container-id-2 input.sk-toggleable__control:checked~label.sk-toggleable__label-arrow:before {content: \"▾\";}#sk-container-id-2 div.sk-estimator input.sk-toggleable__control:checked~label.sk-toggleable__label {background-color: #d4ebff;}#sk-container-id-2 div.sk-label input.sk-toggleable__control:checked~label.sk-toggleable__label {background-color: #d4ebff;}#sk-container-id-2 input.sk-hidden--visually {border: 0;clip: rect(1px 1px 1px 1px);clip: rect(1px, 1px, 1px, 1px);height: 1px;margin: -1px;overflow: hidden;padding: 0;position: absolute;width: 1px;}#sk-container-id-2 div.sk-estimator {font-family: monospace;background-color: #f0f8ff;border: 1px dotted black;border-radius: 0.25em;box-sizing: border-box;margin-bottom: 0.5em;}#sk-container-id-2 div.sk-estimator:hover {background-color: #d4ebff;}#sk-container-id-2 div.sk-parallel-item::after {content: \"\";width: 100%;border-bottom: 1px solid gray;flex-grow: 1;}#sk-container-id-2 div.sk-label:hover label.sk-toggleable__label {background-color: #d4ebff;}#sk-container-id-2 div.sk-serial::before {content: \"\";position: absolute;border-left: 1px solid gray;box-sizing: border-box;top: 0;bottom: 0;left: 50%;z-index: 0;}#sk-container-id-2 div.sk-serial {display: flex;flex-direction: column;align-items: center;background-color: white;padding-right: 0.2em;padding-left: 0.2em;position: relative;}#sk-container-id-2 div.sk-item {position: relative;z-index: 1;}#sk-container-id-2 div.sk-parallel {display: flex;align-items: stretch;justify-content: center;background-color: white;position: relative;}#sk-container-id-2 div.sk-item::before, #sk-container-id-2 div.sk-parallel-item::before {content: \"\";position: absolute;border-left: 1px solid gray;box-sizing: border-box;top: 0;bottom: 0;left: 50%;z-index: -1;}#sk-container-id-2 div.sk-parallel-item {display: flex;flex-direction: column;z-index: 1;position: relative;background-color: white;}#sk-container-id-2 div.sk-parallel-item:first-child::after {align-self: flex-end;width: 50%;}#sk-container-id-2 div.sk-parallel-item:last-child::after {align-self: flex-start;width: 50%;}#sk-container-id-2 div.sk-parallel-item:only-child::after {width: 0;}#sk-container-id-2 div.sk-dashed-wrapped {border: 1px dashed gray;margin: 0 0.4em 0.5em 0.4em;box-sizing: border-box;padding-bottom: 0.4em;background-color: white;}#sk-container-id-2 div.sk-label label {font-family: monospace;font-weight: bold;display: inline-block;line-height: 1.2em;}#sk-container-id-2 div.sk-label-container {text-align: center;}#sk-container-id-2 div.sk-container {/* jupyter's `normalize.less` sets `[hidden] { display: none; }` but bootstrap.min.css set `[hidden] { display: none !important; }` so we also need the `!important` here to be able to override the default hidden behavior on the sphinx rendered scikit-learn.org. See: https://github.com/scikit-learn/scikit-learn/issues/21755 */display: inline-block !important;position: relative;}#sk-container-id-2 div.sk-text-repr-fallback {display: none;}</style><div id=\"sk-container-id-2\" class=\"sk-top-container\"><div class=\"sk-text-repr-fallback\"><pre>GaussianNB()</pre><b>In a Jupyter environment, please rerun this cell to show the HTML representation or trust the notebook. <br />On GitHub, the HTML representation is unable to render, please try loading this page with nbviewer.org.</b></div><div class=\"sk-container\" hidden><div class=\"sk-item\"><div class=\"sk-estimator sk-toggleable\"><input class=\"sk-toggleable__control sk-hidden--visually\" id=\"sk-estimator-id-2\" type=\"checkbox\" checked><label for=\"sk-estimator-id-2\" class=\"sk-toggleable__label sk-toggleable__label-arrow\">GaussianNB</label><div class=\"sk-toggleable__content\"><pre>GaussianNB()</pre></div></div></div></div></div>"
            ]
          },
          "metadata": {},
          "execution_count": 37
        }
      ]
    },
    {
      "cell_type": "code",
      "source": [
        "#Predição e Acurácia de Teste\n",
        "predicao_5 = NB.predict(X_test)\n",
        "acuracia_5 = accuracy_score(y_test, predicao_5)\n",
        "print('Acurácia da classificação: {}' . format(round(acuracia_5,4)))"
      ],
      "metadata": {
        "id": "_oXMcbB4lZlb",
        "colab": {
          "base_uri": "https://localhost:8080/"
        },
        "outputId": "f347afc0-eafb-4638-82e3-98414b78a8d4"
      },
      "execution_count": 38,
      "outputs": [
        {
          "output_type": "stream",
          "name": "stdout",
          "text": [
            "Acurácia da classificação: 0.9997\n"
          ]
        }
      ]
    },
    {
      "cell_type": "code",
      "source": [
        "#Matriz de confusão\n",
        "class_labels = ['normal', 'ddos', 'backdoor', 'injection', 'password', 'ransomware', 'xss', 'scanning']\n",
        "\n",
        "sns.heatmap(confusion_matrix(y_test, predicao_5), annot=True, fmt='d', cmap='Blues', xticklabels=class_labels, yticklabels=class_labels)\n",
        "plt.show()"
      ],
      "metadata": {
        "id": "VrsCOp0G2O2m",
        "colab": {
          "base_uri": "https://localhost:8080/",
          "height": 502
        },
        "outputId": "27b11858-8a80-4d53-ca74-e3457b1144db"
      },
      "execution_count": 39,
      "outputs": [
        {
          "output_type": "display_data",
          "data": {
            "text/plain": [
              "<Figure size 640x480 with 2 Axes>"
            ],
            "image/png": "[encoded data removed]"
          },
          "metadata": {}
        }
      ]
    },
    {
      "cell_type": "code",
      "source": [
        "print(classification_report(y_test, predicao_5))"
      ],
      "metadata": {
        "id": "_8_cnbOw53fi",
        "colab": {
          "base_uri": "https://localhost:8080/"
        },
        "outputId": "5193884f-e709-4cae-a812-464fbabaad71"
      },
      "execution_count": 40,
      "outputs": [
        {
          "output_type": "stream",
          "name": "stdout",
          "text": [
            "              precision    recall  f1-score   support\n",
            "\n",
            "           0       1.00      1.00      1.00      6988\n",
            "           1       1.00      1.00      1.00       993\n",
            "           2       1.00      1.00      1.00      1004\n",
            "           3       1.00      1.00      1.00      1032\n",
            "           4       1.00      1.00      1.00       976\n",
            "           5       1.00      1.00      1.00       569\n",
            "           6       1.00      1.00      1.00       117\n",
            "           7       1.00      1.00      1.00       113\n",
            "\n",
            "    accuracy                           1.00     11792\n",
            "   macro avg       1.00      1.00      1.00     11792\n",
            "weighted avg       1.00      1.00      1.00     11792\n",
            "\n"
          ]
        }
      ]
    },
    {
      "cell_type": "markdown",
      "source": [
        "# 7º Técnica - Random Forest"
      ],
      "metadata": {
        "id": "9q-ddZTIoQGf"
      }
    },
    {
      "cell_type": "code",
      "source": [
        "#definindo um classificador NB\n",
        "RF = RandomForestClassifier()\n",
        "\n",
        "#Validação cruzada usando KFold com 4 folds\n",
        "kf = KFold(n_splits=4, shuffle=True, random_state=42)\n",
        "\n",
        "#Acurácia média durante a validação cruzada\n",
        "acuracias_cruzadas = cross_val_score(NB, X_train, y_train, cv=kf, scoring='accuracy')\n",
        "print('Acurácia média durante a validação cruzada: {}'.format(round(acuracias_cruzadas.mean(), 4)))\n",
        "\n",
        "#Modelo com dados de treinamento\n",
        "RF.fit(X_train,y_train)"
      ],
      "metadata": {
        "id": "YRkq_h7boizx",
        "colab": {
          "base_uri": "https://localhost:8080/",
          "height": 92
        },
        "outputId": "c0830690-f9f9-41af-ddd6-a2f54570a368"
      },
      "execution_count": 41,
      "outputs": [
        {
          "output_type": "stream",
          "name": "stdout",
          "text": [
            "Acurácia média durante a validação cruzada: 0.9993\n"
          ]
        },
        {
          "output_type": "execute_result",
          "data": {
            "text/plain": [
              "RandomForestClassifier()"
            ],
            "text/html": [
              "<style>#sk-container-id-3 {color: black;background-color: white;}#sk-container-id-3 pre{padding: 0;}#sk-container-id-3 div.sk-toggleable {background-color: white;}#sk-container-id-3 label.sk-toggleable__label {cursor: pointer;display: block;width: 100%;margin-bottom: 0;padding: 0.3em;box-sizing: border-box;text-align: center;}#sk-container-id-3 label.sk-toggleable__label-arrow:before {content: \"▸\";float: left;margin-right: 0.25em;color: #696969;}#sk-container-id-3 label.sk-toggleable__label-arrow:hover:before {color: black;}#sk-container-id-3 div.sk-estimator:hover label.sk-toggleable__label-arrow:before {color: black;}#sk-container-id-3 div.sk-toggleable__content {max-height: 0;max-width: 0;overflow: hidden;text-align: left;background-color: #f0f8ff;}#sk-container-id-3 div.sk-toggleable__content pre {margin: 0.2em;color: black;border-radius: 0.25em;background-color: #f0f8ff;}#sk-container-id-3 input.sk-toggleable__control:checked~div.sk-toggleable__content {max-height: 200px;max-width: 100%;overflow: auto;}#sk-container-id-3 input.sk-toggleable__control:checked~label.sk-toggleable__label-arrow:before {content: \"▾\";}#sk-container-id-3 div.sk-estimator input.sk-toggleable__control:checked~label.sk-toggleable__label {background-color: #d4ebff;}#sk-container-id-3 div.sk-label input.sk-toggleable__control:checked~label.sk-toggleable__label {background-color: #d4ebff;}#sk-container-id-3 input.sk-hidden--visually {border: 0;clip: rect(1px 1px 1px 1px);clip: rect(1px, 1px, 1px, 1px);height: 1px;margin: -1px;overflow: hidden;padding: 0;position: absolute;width: 1px;}#sk-container-id-3 div.sk-estimator {font-family: monospace;background-color: #f0f8ff;border: 1px dotted black;border-radius: 0.25em;box-sizing: border-box;margin-bottom: 0.5em;}#sk-container-id-3 div.sk-estimator:hover {background-color: #d4ebff;}#sk-container-id-3 div.sk-parallel-item::after {content: \"\";width: 100%;border-bottom: 1px solid gray;flex-grow: 1;}#sk-container-id-3 div.sk-label:hover label.sk-toggleable__label {background-color: #d4ebff;}#sk-container-id-3 div.sk-serial::before {content: \"\";position: absolute;border-left: 1px solid gray;box-sizing: border-box;top: 0;bottom: 0;left: 50%;z-index: 0;}#sk-container-id-3 div.sk-serial {display: flex;flex-direction: column;align-items: center;background-color: white;padding-right: 0.2em;padding-left: 0.2em;position: relative;}#sk-container-id-3 div.sk-item {position: relative;z-index: 1;}#sk-container-id-3 div.sk-parallel {display: flex;align-items: stretch;justify-content: center;background-color: white;position: relative;}#sk-container-id-3 div.sk-item::before, #sk-container-id-3 div.sk-parallel-item::before {content: \"\";position: absolute;border-left: 1px solid gray;box-sizing: border-box;top: 0;bottom: 0;left: 50%;z-index: -1;}#sk-container-id-3 div.sk-parallel-item {display: flex;flex-direction: column;z-index: 1;position: relative;background-color: white;}#sk-container-id-3 div.sk-parallel-item:first-child::after {align-self: flex-end;width: 50%;}#sk-container-id-3 div.sk-parallel-item:last-child::after {align-self: flex-start;width: 50%;}#sk-container-id-3 div.sk-parallel-item:only-child::after {width: 0;}#sk-container-id-3 div.sk-dashed-wrapped {border: 1px dashed gray;margin: 0 0.4em 0.5em 0.4em;box-sizing: border-box;padding-bottom: 0.4em;background-color: white;}#sk-container-id-3 div.sk-label label {font-family: monospace;font-weight: bold;display: inline-block;line-height: 1.2em;}#sk-container-id-3 div.sk-label-container {text-align: center;}#sk-container-id-3 div.sk-container {/* jupyter's `normalize.less` sets `[hidden] { display: none; }` but bootstrap.min.css set `[hidden] { display: none !important; }` so we also need the `!important` here to be able to override the default hidden behavior on the sphinx rendered scikit-learn.org. See: https://github.com/scikit-learn/scikit-learn/issues/21755 */display: inline-block !important;position: relative;}#sk-container-id-3 div.sk-text-repr-fallback {display: none;}</style><div id=\"sk-container-id-3\" class=\"sk-top-container\"><div class=\"sk-text-repr-fallback\"><pre>RandomForestClassifier()</pre><b>In a Jupyter environment, please rerun this cell to show the HTML representation or trust the notebook. <br />On GitHub, the HTML representation is unable to render, please try loading this page with nbviewer.org.</b></div><div class=\"sk-container\" hidden><div class=\"sk-item\"><div class=\"sk-estimator sk-toggleable\"><input class=\"sk-toggleable__control sk-hidden--visually\" id=\"sk-estimator-id-3\" type=\"checkbox\" checked><label for=\"sk-estimator-id-3\" class=\"sk-toggleable__label sk-toggleable__label-arrow\">RandomForestClassifier</label><div class=\"sk-toggleable__content\"><pre>RandomForestClassifier()</pre></div></div></div></div></div>"
            ]
          },
          "metadata": {},
          "execution_count": 41
        }
      ]
    },
    {
      "cell_type": "code",
      "source": [
        "#Predição e Acurácia de Teste\n",
        "predicao_6 = RF.predict(X_test)\n",
        "acuracia_6 = accuracy_score(y_test, predicao_6)\n",
        "print('Acurácia da classificação: {}' . format(round(acuracia_6,4)))"
      ],
      "metadata": {
        "id": "l5Z5TU_ypKUL",
        "colab": {
          "base_uri": "https://localhost:8080/"
        },
        "outputId": "1e9bd16f-151b-4b34-b44f-fe73f3cdbc92"
      },
      "execution_count": 42,
      "outputs": [
        {
          "output_type": "stream",
          "name": "stdout",
          "text": [
            "Acurácia da classificação: 1.0\n"
          ]
        }
      ]
    },
    {
      "cell_type": "code",
      "source": [
        "#Matriz de confusão\n",
        "class_labels = ['normal', 'ddos', 'backdoor', 'injection', 'password', 'ransomware', 'xss', 'scanning']\n",
        "\n",
        "sns.heatmap(confusion_matrix(y_test, predicao_6), annot=True, fmt='d', cmap='Blues', xticklabels=class_labels, yticklabels=class_labels)\n",
        "plt.show()"
      ],
      "metadata": {
        "colab": {
          "base_uri": "https://localhost:8080/",
          "height": 502
        },
        "id": "aKKreJxz2nVh",
        "outputId": "8577ae0b-d6ca-4345-bed9-995d08417273"
      },
      "execution_count": 43,
      "outputs": [
        {
          "output_type": "display_data",
          "data": {
            "text/plain": [
              "<Figure size 640x480 with 2 Axes>"
            ],
            "image/png": "[encoded data removed]"
          },
          "metadata": {}
        }
      ]
    },
    {
      "cell_type": "code",
      "source": [
        "print(classification_report(y_test, predicao_6))"
      ],
      "metadata": {
        "id": "e7QTTyg76CPg",
        "colab": {
          "base_uri": "https://localhost:8080/"
        },
        "outputId": "1d9bb858-d4e0-450e-ec68-460ec23ad863"
      },
      "execution_count": 44,
      "outputs": [
        {
          "output_type": "stream",
          "name": "stdout",
          "text": [
            "              precision    recall  f1-score   support\n",
            "\n",
            "           0       1.00      1.00      1.00      6988\n",
            "           1       1.00      1.00      1.00       993\n",
            "           2       1.00      1.00      1.00      1004\n",
            "           3       1.00      1.00      1.00      1032\n",
            "           4       1.00      1.00      1.00       976\n",
            "           5       1.00      1.00      1.00       569\n",
            "           6       1.00      1.00      1.00       117\n",
            "           7       1.00      1.00      1.00       113\n",
            "\n",
            "    accuracy                           1.00     11792\n",
            "   macro avg       1.00      1.00      1.00     11792\n",
            "weighted avg       1.00      1.00      1.00     11792\n",
            "\n"
          ]
        }
      ]
    },
    {
      "cell_type": "markdown",
      "source": [
        "## LSTM"
      ],
      "metadata": {
        "id": "0awROBnEsJY-"
      }
    },
    {
      "cell_type": "code",
      "source": [
        "atributos"
      ],
      "metadata": {
        "id": "Rjx2SySt0ZRE",
        "colab": {
          "base_uri": "https://localhost:8080/",
          "height": 424
        },
        "outputId": "4ce49a9f-7d14-42f2-f5d6-5acb5de90068"
      },
      "execution_count": 45,
      "outputs": [
        {
          "output_type": "execute_result",
          "data": {
            "text/plain": [
              "             ts  latitude  longitude\n",
              "0      0.902839  0.212096   0.224096\n",
              "1      0.902839  0.221600   0.229435\n",
              "2      0.902842  0.221696   0.229504\n",
              "3      0.902843  0.212259   0.224210\n",
              "4      0.902844  0.221779   0.229579\n",
              "...         ...       ...        ...\n",
              "58955  0.058739  0.001872   0.001487\n",
              "58956  0.058739  0.000629   0.001335\n",
              "58957  0.058739  0.000771   0.000932\n",
              "58958  0.058739  0.000811   0.000700\n",
              "58959  0.058739  0.000970   0.000635\n",
              "\n",
              "[58960 rows x 3 columns]"
            ],
            "text/html": [
              "\n",
              "  <div id=\"df-7771ba08-9a8f-465e-92a0-235661efe3f9\" class=\"colab-df-container\">\n",
              "    <div>\n",
              "<style scoped>\n",
              "    .dataframe tbody tr th:only-of-type {\n",
              "        vertical-align: middle;\n",
              "    }\n",
              "\n",
              "    .dataframe tbody tr th {\n",
              "        vertical-align: top;\n",
              "    }\n",
              "\n",
              "    .dataframe thead th {\n",
              "        text-align: right;\n",
              "    }\n",
              "</style>\n",
              "<table border=\"1\" class=\"dataframe\">\n",
              "  <thead>\n",
              "    <tr style=\"text-align: right;\">\n",
              "      <th></th>\n",
              "      <th>ts</th>\n",
              "      <th>latitude</th>\n",
              "      <th>longitude</th>\n",
              "    </tr>\n",
              "  </thead>\n",
              "  <tbody>\n",
              "    <tr>\n",
              "      <th>0</th>\n",
              "      <td>0.902839</td>\n",
              "      <td>0.212096</td>\n",
              "      <td>0.224096</td>\n",
              "    </tr>\n",
              "    <tr>\n",
              "      <th>1</th>\n",
              "      <td>0.902839</td>\n",
              "      <td>0.221600</td>\n",
              "      <td>0.229435</td>\n",
              "    </tr>\n",
              "    <tr>\n",
              "      <th>2</th>\n",
              "      <td>0.902842</td>\n",
              "      <td>0.221696</td>\n",
              "      <td>0.229504</td>\n",
              "    </tr>\n",
              "    <tr>\n",
              "      <th>3</th>\n",
              "      <td>0.902843</td>\n",
              "      <td>0.212259</td>\n",
              "      <td>0.224210</td>\n",
              "    </tr>\n",
              "    <tr>\n",
              "      <th>4</th>\n",
              "      <td>0.902844</td>\n",
              "      <td>0.221779</td>\n",
              "      <td>0.229579</td>\n",
              "    </tr>\n",
              "    <tr>\n",
              "      <th>...</th>\n",
              "      <td>...</td>\n",
              "      <td>...</td>\n",
              "      <td>...</td>\n",
              "    </tr>\n",
              "    <tr>\n",
              "      <th>58955</th>\n",
              "      <td>0.058739</td>\n",
              "      <td>0.001872</td>\n",
              "      <td>0.001487</td>\n",
              "    </tr>\n",
              "    <tr>\n",
              "      <th>58956</th>\n",
              "      <td>0.058739</td>\n",
              "      <td>0.000629</td>\n",
              "      <td>0.001335</td>\n",
              "    </tr>\n",
              "    <tr>\n",
              "      <th>58957</th>\n",
              "      <td>0.058739</td>\n",
              "      <td>0.000771</td>\n",
              "      <td>0.000932</td>\n",
              "    </tr>\n",
              "    <tr>\n",
              "      <th>58958</th>\n",
              "      <td>0.058739</td>\n",
              "      <td>0.000811</td>\n",
              "      <td>0.000700</td>\n",
              "    </tr>\n",
              "    <tr>\n",
              "      <th>58959</th>\n",
              "      <td>0.058739</td>\n",
              "      <td>0.000970</td>\n",
              "      <td>0.000635</td>\n",
              "    </tr>\n",
              "  </tbody>\n",
              "</table>\n",
              "<p>58960 rows × 3 columns</p>\n",
              "</div>\n",
              "    <div class=\"colab-df-buttons\">\n",
              "\n",
              "  <div class=\"colab-df-container\">\n",
              "    <button class=\"colab-df-convert\" onclick=\"convertToInteractive('df-7771ba08-9a8f-465e-92a0-235661efe3f9')\"\n",
              "            title=\"Convert this dataframe to an interactive table.\"\n",
              "            style=\"display:none;\">\n",
              "\n",
              "  <svg xmlns=\"http://www.w3.org/2000/svg\" height=\"24px\" viewBox=\"0 -960 960 960\">\n",
              "    <path d=\"M120-120v-720h720v720H120Zm60-500h600v-160H180v160Zm220 220h160v-160H400v160Zm0 220h160v-160H400v160ZM180-400h160v-160H180v160Zm440 0h160v-160H620v160ZM180-180h160v-160H180v160Zm440 0h160v-160H620v160Z\"/>\n",
              "  </svg>\n",
              "    </button>\n",
              "\n",
              "  <style>\n",
              "    .colab-df-container {\n",
              "      display:flex;\n",
              "      gap: 12px;\n",
              "    }\n",
              "\n",
              "    .colab-df-convert {\n",
              "      background-color: #E8F0FE;\n",
              "      border: none;\n",
              "      border-radius: 50%;\n",
              "      cursor: pointer;\n",
              "      display: none;\n",
              "      fill: #1967D2;\n",
              "      height: 32px;\n",
              "      padding: 0 0 0 0;\n",
              "      width: 32px;\n",
              "    }\n",
              "\n",
              "    .colab-df-convert:hover {\n",
              "      background-color: #E2EBFA;\n",
              "      box-shadow: 0px 1px 2px rgba(60, 64, 67, 0.3), 0px 1px 3px 1px rgba(60, 64, 67, 0.15);\n",
              "      fill: #174EA6;\n",
              "    }\n",
              "\n",
              "    .colab-df-buttons div {\n",
              "      margin-bottom: 4px;\n",
              "    }\n",
              "\n",
              "    [theme=dark] .colab-df-convert {\n",
              "      background-color: #3B4455;\n",
              "      fill: #D2E3FC;\n",
              "    }\n",
              "\n",
              "    [theme=dark] .colab-df-convert:hover {\n",
              "      background-color: #434B5C;\n",
              "      box-shadow: 0px 1px 3px 1px rgba(0, 0, 0, 0.15);\n",
              "      filter: drop-shadow(0px 1px 2px rgba(0, 0, 0, 0.3));\n",
              "      fill: #FFFFFF;\n",
              "    }\n",
              "  </style>\n",
              "\n",
              "    <script>\n",
              "      const buttonEl =\n",
              "        document.querySelector('#df-7771ba08-9a8f-465e-92a0-235661efe3f9 button.colab-df-convert');\n",
              "      buttonEl.style.display =\n",
              "        google.colab.kernel.accessAllowed ? 'block' : 'none';\n",
              "\n",
              "      async function convertToInteractive(key) {\n",
              "        const element = document.querySelector('#df-7771ba08-9a8f-465e-92a0-235661efe3f9');\n",
              "        const dataTable =\n",
              "          await google.colab.kernel.invokeFunction('convertToInteractive',\n",
              "                                                    [key], {});\n",
              "        if (!dataTable) return;\n",
              "\n",
              "        const docLinkHtml = 'Like what you see? Visit the ' +\n",
              "          '<a target=\"_blank\" href=https://colab.research.google.com/notebooks/data_table.ipynb>data table notebook</a>'\n",
              "          + ' to learn more about interactive tables.';\n",
              "        element.innerHTML = '';\n",
              "        dataTable['output_type'] = 'display_data';\n",
              "        await google.colab.output.renderOutput(dataTable, element);\n",
              "        const docLink = document.createElement('div');\n",
              "        docLink.innerHTML = docLinkHtml;\n",
              "        element.appendChild(docLink);\n",
              "      }\n",
              "    </script>\n",
              "  </div>\n",
              "\n",
              "\n",
              "<div id=\"df-f694a7df-1b53-445f-b89c-127de6814ea6\">\n",
              "  <button class=\"colab-df-quickchart\" onclick=\"quickchart('df-f694a7df-1b53-445f-b89c-127de6814ea6')\"\n",
              "            title=\"Suggest charts\"\n",
              "            style=\"display:none;\">\n",
              "\n",
              "<svg xmlns=\"http://www.w3.org/2000/svg\" height=\"24px\"viewBox=\"0 0 24 24\"\n",
              "     width=\"24px\">\n",
              "    <g>\n",
              "        <path d=\"M19 3H5c-1.1 0-2 .9-2 2v14c0 1.1.9 2 2 2h14c1.1 0 2-.9 2-2V5c0-1.1-.9-2-2-2zM9 17H7v-7h2v7zm4 0h-2V7h2v10zm4 0h-2v-4h2v4z\"/>\n",
              "    </g>\n",
              "</svg>\n",
              "  </button>\n",
              "\n",
              "<style>\n",
              "  .colab-df-quickchart {\n",
              "      --bg-color: #E8F0FE;\n",
              "      --fill-color: #1967D2;\n",
              "      --hover-bg-color: #E2EBFA;\n",
              "      --hover-fill-color: #174EA6;\n",
              "      --disabled-fill-color: #AAA;\n",
              "      --disabled-bg-color: #DDD;\n",
              "  }\n",
              "\n",
              "  [theme=dark] .colab-df-quickchart {\n",
              "      --bg-color: #3B4455;\n",
              "      --fill-color: #D2E3FC;\n",
              "      --hover-bg-color: #434B5C;\n",
              "      --hover-fill-color: #FFFFFF;\n",
              "      --disabled-bg-color: #3B4455;\n",
              "      --disabled-fill-color: #666;\n",
              "  }\n",
              "\n",
              "  .colab-df-quickchart {\n",
              "    background-color: var(--bg-color);\n",
              "    border: none;\n",
              "    border-radius: 50%;\n",
              "    cursor: pointer;\n",
              "    display: none;\n",
              "    fill: var(--fill-color);\n",
              "    height: 32px;\n",
              "    padding: 0;\n",
              "    width: 32px;\n",
              "  }\n",
              "\n",
              "  .colab-df-quickchart:hover {\n",
              "    background-color: var(--hover-bg-color);\n",
              "    box-shadow: 0 1px 2px rgba(60, 64, 67, 0.3), 0 1px 3px 1px rgba(60, 64, 67, 0.15);\n",
              "    fill: var(--button-hover-fill-color);\n",
              "  }\n",
              "\n",
              "  .colab-df-quickchart-complete:disabled,\n",
              "  .colab-df-quickchart-complete:disabled:hover {\n",
              "    background-color: var(--disabled-bg-color);\n",
              "    fill: var(--disabled-fill-color);\n",
              "    box-shadow: none;\n",
              "  }\n",
              "\n",
              "  .colab-df-spinner {\n",
              "    border: 2px solid var(--fill-color);\n",
              "    border-color: transparent;\n",
              "    border-bottom-color: var(--fill-color);\n",
              "    animation:\n",
              "      spin 1s steps(1) infinite;\n",
              "  }\n",
              "\n",
              "  @keyframes spin {\n",
              "    0% {\n",
              "      border-color: transparent;\n",
              "      border-bottom-color: var(--fill-color);\n",
              "      border-left-color: var(--fill-color);\n",
              "    }\n",
              "    20% {\n",
              "      border-color: transparent;\n",
              "      border-left-color: var(--fill-color);\n",
              "      border-top-color: var(--fill-color);\n",
              "    }\n",
              "    30% {\n",
              "      border-color: transparent;\n",
              "      border-left-color: var(--fill-color);\n",
              "      border-top-color: var(--fill-color);\n",
              "      border-right-color: var(--fill-color);\n",
              "    }\n",
              "    40% {\n",
              "      border-color: transparent;\n",
              "      border-right-color: var(--fill-color);\n",
              "      border-top-color: var(--fill-color);\n",
              "    }\n",
              "    60% {\n",
              "      border-color: transparent;\n",
              "      border-right-color: var(--fill-color);\n",
              "    }\n",
              "    80% {\n",
              "      border-color: transparent;\n",
              "      border-right-color: var(--fill-color);\n",
              "      border-bottom-color: var(--fill-color);\n",
              "    }\n",
              "    90% {\n",
              "      border-color: transparent;\n",
              "      border-bottom-color: var(--fill-color);\n",
              "    }\n",
              "  }\n",
              "</style>\n",
              "\n",
              "  <script>\n",
              "    async function quickchart(key) {\n",
              "      const quickchartButtonEl =\n",
              "        document.querySelector('#' + key + ' button');\n",
              "      quickchartButtonEl.disabled = true;  // To prevent multiple clicks.\n",
              "      quickchartButtonEl.classList.add('colab-df-spinner');\n",
              "      try {\n",
              "        const charts = await google.colab.kernel.invokeFunction(\n",
              "            'suggestCharts', [key], {});\n",
              "      } catch (error) {\n",
              "        console.error('Error during call to suggestCharts:', error);\n",
              "      }\n",
              "      quickchartButtonEl.classList.remove('colab-df-spinner');\n",
              "      quickchartButtonEl.classList.add('colab-df-quickchart-complete');\n",
              "    }\n",
              "    (() => {\n",
              "      let quickchartButtonEl =\n",
              "        document.querySelector('#df-f694a7df-1b53-445f-b89c-127de6814ea6 button');\n",
              "      quickchartButtonEl.style.display =\n",
              "        google.colab.kernel.accessAllowed ? 'block' : 'none';\n",
              "    })();\n",
              "  </script>\n",
              "</div>\n",
              "\n",
              "  <div id=\"id_893fd9db-862c-40b3-b6f4-30d20d596be1\">\n",
              "    <style>\n",
              "      .colab-df-generate {\n",
              "        background-color: #E8F0FE;\n",
              "        border: none;\n",
              "        border-radius: 50%;\n",
              "        cursor: pointer;\n",
              "        display: none;\n",
              "        fill: #1967D2;\n",
              "        height: 32px;\n",
              "        padding: 0 0 0 0;\n",
              "        width: 32px;\n",
              "      }\n",
              "\n",
              "      .colab-df-generate:hover {\n",
              "        background-color: #E2EBFA;\n",
              "        box-shadow: 0px 1px 2px rgba(60, 64, 67, 0.3), 0px 1px 3px 1px rgba(60, 64, 67, 0.15);\n",
              "        fill: #174EA6;\n",
              "      }\n",
              "\n",
              "      [theme=dark] .colab-df-generate {\n",
              "        background-color: #3B4455;\n",
              "        fill: #D2E3FC;\n",
              "      }\n",
              "\n",
              "      [theme=dark] .colab-df-generate:hover {\n",
              "        background-color: #434B5C;\n",
              "        box-shadow: 0px 1px 3px 1px rgba(0, 0, 0, 0.15);\n",
              "        filter: drop-shadow(0px 1px 2px rgba(0, 0, 0, 0.3));\n",
              "        fill: #FFFFFF;\n",
              "      }\n",
              "    </style>\n",
              "    <button class=\"colab-df-generate\" onclick=\"generateWithVariable('atributos')\"\n",
              "            title=\"Generate code using this dataframe.\"\n",
              "            style=\"display:none;\">\n",
              "\n",
              "  <svg xmlns=\"http://www.w3.org/2000/svg\" height=\"24px\"viewBox=\"0 0 24 24\"\n",
              "       width=\"24px\">\n",
              "    <path d=\"M7,19H8.4L18.45,9,17,7.55,7,17.6ZM5,21V16.75L18.45,3.32a2,2,0,0,1,2.83,0l1.4,1.43a1.91,1.91,0,0,1,.58,1.4,1.91,1.91,0,0,1-.58,1.4L9.25,21ZM18.45,9,17,7.55Zm-12,3A5.31,5.31,0,0,0,4.9,8.1,5.31,5.31,0,0,0,1,6.5,5.31,5.31,0,0,0,4.9,4.9,5.31,5.31,0,0,0,6.5,1,5.31,5.31,0,0,0,8.1,4.9,5.31,5.31,0,0,0,12,6.5,5.46,5.46,0,0,0,6.5,12Z\"/>\n",
              "  </svg>\n",
              "    </button>\n",
              "    <script>\n",
              "      (() => {\n",
              "      const buttonEl =\n",
              "        document.querySelector('#id_893fd9db-862c-40b3-b6f4-30d20d596be1 button.colab-df-generate');\n",
              "      buttonEl.style.display =\n",
              "        google.colab.kernel.accessAllowed ? 'block' : 'none';\n",
              "\n",
              "      buttonEl.onclick = () => {\n",
              "        google.colab.notebook.generateWithVariable('atributos');\n",
              "      }\n",
              "      })();\n",
              "    </script>\n",
              "  </div>\n",
              "\n",
              "    </div>\n",
              "  </div>\n"
            ],
            "application/vnd.google.colaboratory.intrinsic+json": {
              "type": "dataframe",
              "variable_name": "atributos",
              "summary": "{\n  \"name\": \"atributos\",\n  \"rows\": 58960,\n  \"fields\": [\n    {\n      \"column\": \"ts\",\n      \"properties\": {\n        \"dtype\": \"number\",\n        \"std\": 0.45282625936078635,\n        \"min\": 0.0,\n        \"max\": 1.0,\n        \"num_unique_values\": 26898,\n        \"samples\": [\n          0.04449527158580681,\n          0.04301143362339572,\n          0.9052057257519768\n        ],\n        \"semantic_type\": \"\",\n        \"description\": \"\"\n      }\n    },\n    {\n      \"column\": \"latitude\",\n      \"properties\": {\n        \"dtype\": \"number\",\n        \"std\": 0.13603562345162212,\n        \"min\": 0.0,\n        \"max\": 1.0,\n        \"num_unique_values\": 58341,\n        \"samples\": [\n          0.001079880689243488,\n          0.16739350566235123,\n          0.04537587104439308\n        ],\n        \"semantic_type\": \"\",\n        \"description\": \"\"\n      }\n    },\n    {\n      \"column\": \"longitude\",\n      \"properties\": {\n        \"dtype\": \"number\",\n        \"std\": 0.1376403050249015,\n        \"min\": 0.0,\n        \"max\": 1.0,\n        \"num_unique_values\": 58341,\n        \"samples\": [\n          0.000766407129098364,\n          0.1696494537723106,\n          0.04463096064656641\n        ],\n        \"semantic_type\": \"\",\n        \"description\": \"\"\n      }\n    }\n  ]\n}"
            }
          },
          "metadata": {},
          "execution_count": 45
        }
      ]
    },
    {
      "cell_type": "code",
      "source": [
        "# Definindo um modelador de dados para a entrada da rede LSTM\n",
        "def df_to_X_y2(df, window_size = 5):\n",
        "  df_as_np = df.to_numpy()\n",
        "  X = []\n",
        "  y = []\n",
        "  for i in range(len(df_as_np)- window_size):\n",
        "    row = [r for r in df_as_np[i:i+window_size]]\n",
        "    X.append(row)\n",
        "    label = df_as_np[i+window_size][0]\n",
        "    y.append(label)\n",
        "  return np.array(X), np.array(y)"
      ],
      "metadata": {
        "id": "Ce0632ADztmA"
      },
      "execution_count": 46,
      "outputs": []
    },
    {
      "cell_type": "code",
      "source": [
        "# Modelando os dados com janela tamanho 5\n",
        "WINDOW_SIZE = 5\n",
        "X1, y1 = df_to_X_y2(atributos, WINDOW_SIZE)"
      ],
      "metadata": {
        "id": "KITJNd1oslQF"
      },
      "execution_count": 47,
      "outputs": []
    },
    {
      "cell_type": "code",
      "source": [
        "X1.shape\n"
      ],
      "metadata": {
        "id": "XPvecHwDtP4m",
        "colab": {
          "base_uri": "https://localhost:8080/"
        },
        "outputId": "5b42aed4-2cfb-431d-c03d-f139bbcd8e44"
      },
      "execution_count": 48,
      "outputs": [
        {
          "output_type": "execute_result",
          "data": {
            "text/plain": [
              "(58955, 5, 3)"
            ]
          },
          "metadata": {},
          "execution_count": 48
        }
      ]
    },
    {
      "cell_type": "code",
      "source": [
        "labels_2 = classe[5:]"
      ],
      "metadata": {
        "id": "I0iKcr91tbN3"
      },
      "execution_count": 49,
      "outputs": []
    },
    {
      "cell_type": "code",
      "source": [
        "labels_2.shape"
      ],
      "metadata": {
        "id": "1nAK7z91tpvH",
        "colab": {
          "base_uri": "https://localhost:8080/"
        },
        "outputId": "f1c4b91e-afed-4d9d-c8cc-1b3be0e4702e"
      },
      "execution_count": 50,
      "outputs": [
        {
          "output_type": "execute_result",
          "data": {
            "text/plain": [
              "(58955,)"
            ]
          },
          "metadata": {},
          "execution_count": 50
        }
      ]
    },
    {
      "cell_type": "code",
      "source": [
        "# Dividindo dados de treino e teste na proporção 80% e 20%\n",
        "X_train, X_test, y_train, y_test = train_test_split(X1, labels_2, test_size=0.2, random_state=42)"
      ],
      "metadata": {
        "id": "0Hn9ZD0at-uo"
      },
      "execution_count": 51,
      "outputs": []
    },
    {
      "cell_type": "code",
      "source": [
        "X_train.shape"
      ],
      "metadata": {
        "id": "CFAioJIpuzbV",
        "colab": {
          "base_uri": "https://localhost:8080/"
        },
        "outputId": "193d76c5-3261-4fbf-ca6d-01de85110388"
      },
      "execution_count": 52,
      "outputs": [
        {
          "output_type": "execute_result",
          "data": {
            "text/plain": [
              "(47164, 5, 3)"
            ]
          },
          "metadata": {},
          "execution_count": 52
        }
      ]
    },
    {
      "cell_type": "code",
      "source": [
        "model1 = Sequential()\n",
        "model1.add(InputLayer(input_shape=(5,3)))  # Adicione input_shape para representar timesteps e features\n",
        "model1.add(LSTM(64))\n",
        "model1.add(Dense(128, activation='tanh'))\n",
        "model1.add(Dropout(0.2))\n",
        "model1.add(Dense(100, activation='tanh'))\n",
        "model1.add(Dropout(0.2))\n",
        "model1.add(Dense(64, activation='tanh'))\n",
        "model1.add(Dropout(0.2))\n",
        "model1.add(Dense(8, activation='sigmoid'))\n",
        "\n",
        "model1.build(input_shape=(None, 1, 2))"
      ],
      "metadata": {
        "id": "6cEmtLEXtA04"
      },
      "execution_count": 53,
      "outputs": []
    },
    {
      "cell_type": "code",
      "source": [
        "model1.summary()"
      ],
      "metadata": {
        "id": "e85zbMbptLRN",
        "colab": {
          "base_uri": "https://localhost:8080/"
        },
        "outputId": "ae1051b8-92e4-4eff-cffd-ce45f640b5dc"
      },
      "execution_count": 54,
      "outputs": [
        {
          "output_type": "stream",
          "name": "stdout",
          "text": [
            "Model: \"sequential\"\n",
            "_________________________________________________________________\n",
            " Layer (type)                Output Shape              Param #   \n",
            "=================================================================\n",
            " lstm (LSTM)                 (None, 64)                17408     \n",
            "                                                                 \n",
            " dense (Dense)               (None, 128)               8320      \n",
            "                                                                 \n",
            " dropout (Dropout)           (None, 128)               0         \n",
            "                                                                 \n",
            " dense_1 (Dense)             (None, 100)               12900     \n",
            "                                                                 \n",
            " dropout_1 (Dropout)         (None, 100)               0         \n",
            "                                                                 \n",
            " dense_2 (Dense)             (None, 64)                6464      \n",
            "                                                                 \n",
            " dropout_2 (Dropout)         (None, 64)                0         \n",
            "                                                                 \n",
            " dense_3 (Dense)             (None, 8)                 520       \n",
            "                                                                 \n",
            "=================================================================\n",
            "Total params: 45612 (178.17 KB)\n",
            "Trainable params: 45612 (178.17 KB)\n",
            "Non-trainable params: 0 (0.00 Byte)\n",
            "_________________________________________________________________\n"
          ]
        }
      ]
    },
    {
      "cell_type": "code",
      "source": [
        "cp1 = ModelCheckpoint('model1/', save_best_only=True)\n",
        "model1.compile(loss = 'sparse_categorical_crossentropy' , optimizer = Adam(learning_rate=0.0001), metrics = ['sparse_categorical_accuracy'])"
      ],
      "metadata": {
        "id": "hOxo6hLntOgI"
      },
      "execution_count": 55,
      "outputs": []
    },
    {
      "cell_type": "code",
      "source": [
        "history = model1.fit(X_train, y_train, validation_data=(X_test, y_test), epochs=40, callbacks=[cp1])"
      ],
      "metadata": {
        "id": "cJjH51zWuKLu",
        "colab": {
          "base_uri": "https://localhost:8080/"
        },
        "outputId": "151f0373-dfdc-43a5-cad9-6b98c2d6417e"
      },
      "execution_count": 56,
      "outputs": [
        {
          "output_type": "stream",
          "name": "stdout",
          "text": [
            "Epoch 1/40\n",
            "1474/1474 [==============================] - 19s 11ms/step - loss: 0.7024 - sparse_categorical_accuracy: 0.7641 - val_loss: 0.3740 - val_sparse_categorical_accuracy: 0.9231\n",
            "Epoch 2/40\n",
            "1474/1474 [==============================] - 15s 10ms/step - loss: 0.2445 - sparse_categorical_accuracy: 0.9242 - val_loss: 0.1048 - val_sparse_categorical_accuracy: 0.9737\n",
            "Epoch 3/40\n",
            "1474/1474 [==============================] - 17s 12ms/step - loss: 0.0935 - sparse_categorical_accuracy: 0.9778 - val_loss: 0.0359 - val_sparse_categorical_accuracy: 0.9984\n",
            "Epoch 4/40\n",
            "1474/1474 [==============================] - 16s 11ms/step - loss: 0.0507 - sparse_categorical_accuracy: 0.9898 - val_loss: 0.0205 - val_sparse_categorical_accuracy: 0.9984\n",
            "Epoch 5/40\n",
            "1474/1474 [==============================] - 16s 11ms/step - loss: 0.0364 - sparse_categorical_accuracy: 0.9927 - val_loss: 0.0151 - val_sparse_categorical_accuracy: 0.9992\n",
            "Epoch 6/40\n",
            "1474/1474 [==============================] - 17s 11ms/step - loss: 0.0300 - sparse_categorical_accuracy: 0.9941 - val_loss: 0.0145 - val_sparse_categorical_accuracy: 0.9984\n",
            "Epoch 7/40\n",
            "1474/1474 [==============================] - 14s 9ms/step - loss: 0.0256 - sparse_categorical_accuracy: 0.9948 - val_loss: 0.0251 - val_sparse_categorical_accuracy: 0.9942\n",
            "Epoch 8/40\n",
            "1474/1474 [==============================] - 16s 11ms/step - loss: 0.0246 - sparse_categorical_accuracy: 0.9950 - val_loss: 0.0111 - val_sparse_categorical_accuracy: 0.9992\n",
            "Epoch 9/40\n",
            "1474/1474 [==============================] - 12s 8ms/step - loss: 0.0227 - sparse_categorical_accuracy: 0.9952 - val_loss: 0.0125 - val_sparse_categorical_accuracy: 0.9980\n",
            "Epoch 10/40\n",
            "1474/1474 [==============================] - 16s 11ms/step - loss: 0.0208 - sparse_categorical_accuracy: 0.9959 - val_loss: 0.0107 - val_sparse_categorical_accuracy: 0.9988\n",
            "Epoch 11/40\n",
            "1474/1474 [==============================] - 17s 11ms/step - loss: 0.0218 - sparse_categorical_accuracy: 0.9953 - val_loss: 0.0102 - val_sparse_categorical_accuracy: 0.9989\n",
            "Epoch 12/40\n",
            "1474/1474 [==============================] - 12s 8ms/step - loss: 0.0177 - sparse_categorical_accuracy: 0.9968 - val_loss: 0.0104 - val_sparse_categorical_accuracy: 0.9988\n",
            "Epoch 13/40\n",
            "1474/1474 [==============================] - 16s 11ms/step - loss: 0.0189 - sparse_categorical_accuracy: 0.9962 - val_loss: 0.0095 - val_sparse_categorical_accuracy: 0.9992\n",
            "Epoch 14/40\n",
            "1474/1474 [==============================] - 11s 8ms/step - loss: 0.0170 - sparse_categorical_accuracy: 0.9969 - val_loss: 0.0126 - val_sparse_categorical_accuracy: 0.9978\n",
            "Epoch 15/40\n",
            "1474/1474 [==============================] - 12s 8ms/step - loss: 0.0185 - sparse_categorical_accuracy: 0.9962 - val_loss: 0.0098 - val_sparse_categorical_accuracy: 0.9991\n",
            "Epoch 16/40\n",
            "1474/1474 [==============================] - 16s 11ms/step - loss: 0.0178 - sparse_categorical_accuracy: 0.9966 - val_loss: 0.0094 - val_sparse_categorical_accuracy: 0.9991\n",
            "Epoch 17/40\n",
            "1474/1474 [==============================] - 13s 9ms/step - loss: 0.0196 - sparse_categorical_accuracy: 0.9961 - val_loss: 0.0102 - val_sparse_categorical_accuracy: 0.9986\n",
            "Epoch 18/40\n",
            "1474/1474 [==============================] - 13s 9ms/step - loss: 0.0158 - sparse_categorical_accuracy: 0.9970 - val_loss: 0.0266 - val_sparse_categorical_accuracy: 0.9925\n",
            "Epoch 19/40\n",
            "1474/1474 [==============================] - 13s 9ms/step - loss: 0.0183 - sparse_categorical_accuracy: 0.9964 - val_loss: 0.0104 - val_sparse_categorical_accuracy: 0.9986\n",
            "Epoch 20/40\n",
            "1474/1474 [==============================] - 14s 9ms/step - loss: 0.0155 - sparse_categorical_accuracy: 0.9968 - val_loss: 0.0460 - val_sparse_categorical_accuracy: 0.9855\n",
            "Epoch 21/40\n",
            "1474/1474 [==============================] - 17s 12ms/step - loss: 0.0148 - sparse_categorical_accuracy: 0.9974 - val_loss: 0.0089 - val_sparse_categorical_accuracy: 0.9992\n",
            "Epoch 22/40\n",
            "1474/1474 [==============================] - 12s 8ms/step - loss: 0.0168 - sparse_categorical_accuracy: 0.9967 - val_loss: 0.0136 - val_sparse_categorical_accuracy: 0.9971\n",
            "Epoch 23/40\n",
            "1474/1474 [==============================] - 14s 10ms/step - loss: 0.0160 - sparse_categorical_accuracy: 0.9970 - val_loss: 0.0107 - val_sparse_categorical_accuracy: 0.9982\n",
            "Epoch 24/40\n",
            "1474/1474 [==============================] - 17s 11ms/step - loss: 0.0164 - sparse_categorical_accuracy: 0.9969 - val_loss: 0.0087 - val_sparse_categorical_accuracy: 0.9991\n",
            "Epoch 25/40\n",
            "1474/1474 [==============================] - 13s 9ms/step - loss: 0.0142 - sparse_categorical_accuracy: 0.9976 - val_loss: 0.0088 - val_sparse_categorical_accuracy: 0.9990\n",
            "Epoch 26/40\n",
            "1474/1474 [==============================] - 13s 9ms/step - loss: 0.0179 - sparse_categorical_accuracy: 0.9964 - val_loss: 0.0089 - val_sparse_categorical_accuracy: 0.9990\n",
            "Epoch 27/40\n",
            "1474/1474 [==============================] - 17s 11ms/step - loss: 0.0173 - sparse_categorical_accuracy: 0.9964 - val_loss: 0.0084 - val_sparse_categorical_accuracy: 0.9991\n",
            "Epoch 28/40\n",
            "1474/1474 [==============================] - 12s 8ms/step - loss: 0.0159 - sparse_categorical_accuracy: 0.9970 - val_loss: 0.0134 - val_sparse_categorical_accuracy: 0.9966\n",
            "Epoch 29/40\n",
            "1474/1474 [==============================] - 12s 8ms/step - loss: 0.0145 - sparse_categorical_accuracy: 0.9973 - val_loss: 0.0087 - val_sparse_categorical_accuracy: 0.9988\n",
            "Epoch 30/40\n",
            "1474/1474 [==============================] - 11s 8ms/step - loss: 0.0158 - sparse_categorical_accuracy: 0.9968 - val_loss: 0.0130 - val_sparse_categorical_accuracy: 0.9978\n",
            "Epoch 31/40\n",
            "1474/1474 [==============================] - 17s 12ms/step - loss: 0.0165 - sparse_categorical_accuracy: 0.9967 - val_loss: 0.0082 - val_sparse_categorical_accuracy: 0.9992\n",
            "Epoch 32/40\n",
            "1474/1474 [==============================] - 12s 8ms/step - loss: 0.0163 - sparse_categorical_accuracy: 0.9965 - val_loss: 0.0084 - val_sparse_categorical_accuracy: 0.9989\n",
            "Epoch 33/40\n",
            "1474/1474 [==============================] - 11s 7ms/step - loss: 0.0142 - sparse_categorical_accuracy: 0.9973 - val_loss: 0.0083 - val_sparse_categorical_accuracy: 0.9992\n",
            "Epoch 34/40\n",
            "1474/1474 [==============================] - 12s 8ms/step - loss: 0.0137 - sparse_categorical_accuracy: 0.9975 - val_loss: 0.0107 - val_sparse_categorical_accuracy: 0.9983\n",
            "Epoch 35/40\n",
            "1474/1474 [==============================] - 12s 8ms/step - loss: 0.0143 - sparse_categorical_accuracy: 0.9969 - val_loss: 0.0083 - val_sparse_categorical_accuracy: 0.9991\n",
            "Epoch 36/40\n",
            "1474/1474 [==============================] - 16s 11ms/step - loss: 0.0131 - sparse_categorical_accuracy: 0.9975 - val_loss: 0.0081 - val_sparse_categorical_accuracy: 0.9991\n",
            "Epoch 37/40\n",
            "1474/1474 [==============================] - 13s 9ms/step - loss: 0.0137 - sparse_categorical_accuracy: 0.9974 - val_loss: 0.0141 - val_sparse_categorical_accuracy: 0.9973\n",
            "Epoch 38/40\n",
            "1474/1474 [==============================] - 13s 8ms/step - loss: 0.0143 - sparse_categorical_accuracy: 0.9972 - val_loss: 0.0099 - val_sparse_categorical_accuracy: 0.9981\n",
            "Epoch 39/40\n",
            "1474/1474 [==============================] - 18s 12ms/step - loss: 0.0125 - sparse_categorical_accuracy: 0.9978 - val_loss: 0.0078 - val_sparse_categorical_accuracy: 0.9991\n",
            "Epoch 40/40\n",
            "1474/1474 [==============================] - 12s 8ms/step - loss: 0.0140 - sparse_categorical_accuracy: 0.9973 - val_loss: 0.0098 - val_sparse_categorical_accuracy: 0.9981\n"
          ]
        }
      ]
    },
    {
      "cell_type": "code",
      "source": [
        "# Obtendo a acurácia do histórico\n",
        "accuracy = history.history['sparse_categorical_accuracy']\n",
        "val_accuracy = history.history['val_sparse_categorical_accuracy']\n",
        "\n",
        "# Obtendo as épocas\n",
        "epochs = range(1, len(accuracy) + 1)\n",
        "\n",
        "# Plotando a acurácia\n",
        "plt.plot(epochs, accuracy, '-', label='Accuracy Train')\n",
        "plt.plot(epochs, val_accuracy, '--', label='Accuracy Validation')\n",
        "plt.title('Accuracy of training and validation over time')\n",
        "plt.xlabel('Epoch')\n",
        "plt.ylabel('Accuracy')\n",
        "plt.legend()\n",
        "plt.grid()\n",
        "plt.show()"
      ],
      "metadata": {
        "id": "TSFNgojYb5OS",
        "colab": {
          "base_uri": "https://localhost:8080/",
          "height": 472
        },
        "outputId": "de4bcff9-4ded-458f-dc1f-9077a3196581"
      },
      "execution_count": 57,
      "outputs": [
        {
          "output_type": "display_data",
          "data": {
            "text/plain": [
              "<Figure size 640x480 with 1 Axes>"
            ],
            "image/png": "[encoded data removed]"
          },
          "metadata": {}
        }
      ]
    },
    {
      "cell_type": "code",
      "source": [
        "test_loss, test_accuracy = model1.evaluate(X_test, y_test)"
      ],
      "metadata": {
        "id": "WVh3n-023S7G",
        "colab": {
          "base_uri": "https://localhost:8080/"
        },
        "outputId": "0bc5f09a-85a8-4e96-bed3-864c17ee84e7"
      },
      "execution_count": 58,
      "outputs": [
        {
          "output_type": "stream",
          "name": "stdout",
          "text": [
            "369/369 [==============================] - 1s 3ms/step - loss: 0.0098 - sparse_categorical_accuracy: 0.9981\n"
          ]
        }
      ]
    },
    {
      "cell_type": "code",
      "source": [
        "# Obtém as previsões do modelo para os dados de teste\n",
        "y_pred = model1.predict(X_test)\n",
        "\n",
        "# Converte as previsões para rótulos binários (0 ou 1) para cada classe individualmente\n",
        "y_pred_binary = np.argmax(y_pred, axis=1)\n",
        "\n",
        "# Calcula o recall para cada classe individualmente\n",
        "recall_per_class = recall_score(y_test, y_pred_binary, average=None)\n",
        "\n",
        "# Calcula a precisão para cada classe individualmente\n",
        "precision_per_class = precision_score(y_test, y_pred_binary, average=None)\n",
        "\n",
        "# Calcula o F-score para cada classe individualmente\n",
        "f_score_per_class = f1_score(y_test, y_pred_binary, average=None)\n",
        "\n",
        "# Calcula a média ponderada dos recalls\n",
        "weighted_recall = recall_score(y_test, y_pred_binary, average='weighted')\n",
        "\n",
        "# Calcula a média ponderada da precisão\n",
        "weighted_precision = precision_score(y_test, y_pred_binary, average='weighted')\n",
        "\n",
        "# Calcula a média ponderada do F-score\n",
        "weighted_f_score = f1_score(y_test, y_pred_binary, average='weighted')\n",
        "\n",
        "# Imprime a Accuracy\n",
        "print(\"Accuracy: {:.4f}\".format(test_accuracy))\n",
        "\n",
        "# Imprime a média ponderada da precisão\n",
        "print(\"Weighted Precision: {:.4f}\".format(weighted_precision))\n",
        "\n",
        "# Imprime a média ponderada do F-score\n",
        "print(\"Weighted F-score: {:.4f}\".format(weighted_f_score))\n",
        "\n",
        "# Imprime a média ponderada dos recalls\n",
        "print(\"Weighted Recall: {:.4f}\".format(weighted_recall))"
      ],
      "metadata": {
        "id": "wRxp_zA9g93L",
        "colab": {
          "base_uri": "https://localhost:8080/"
        },
        "outputId": "5774be07-6a8c-45cd-e2ec-d42ca4e62512"
      },
      "execution_count": 59,
      "outputs": [
        {
          "output_type": "stream",
          "name": "stdout",
          "text": [
            "369/369 [==============================] - 2s 3ms/step\n",
            "Accuracy: 0.9981\n",
            "Weighted Precision: 0.9981\n",
            "Weighted F-score: 0.9981\n",
            "Weighted Recall: 0.9981\n"
          ]
        }
      ]
    }
  ]
}