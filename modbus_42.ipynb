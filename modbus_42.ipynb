{
  "nbformat": 4,
  "nbformat_minor": 0,
  "metadata": {
    "colab": {
      "provenance": []
    },
    "kernelspec": {
      "name": "python3",
      "display_name": "Python 3"
    },
    "language_info": {
      "name": "python"
    }
  },
  "cells": [
    {
      "cell_type": "markdown",
      "source": [
        "# Importando Bibliotecas"
      ],
      "metadata": {
        "id": "fuvxubphO2Z_"
      }
    },
    {
      "cell_type": "code",
      "source": [
        "# Bibliotecas\n",
        "import numpy as np\n",
        "import pandas as pd\n",
        "import matplotlib.pyplot as plt\n",
        "import seaborn as sns\n",
        "\n",
        "# Metricas e ferramentas de processamento do SKLEARN\n",
        "\n",
        "from sklearn import metrics  # Métricas adicionais para avaliação de modelos\n",
        "from sklearn.model_selection import train_test_split, KFold  # Funções para dividir dados em conjuntos de treino e teste, e para validação cruzada\n",
        "from sklearn.metrics import accuracy_score, confusion_matrix, classification_report  # Métricas de avaliação de modelos de classificação\n",
        "from sklearn.preprocessing import StandardScaler  # Ferramenta para pré-processamento de dados (escalonamento)\n",
        "from sklearn.model_selection import cross_val_score\n",
        "from sklearn.metrics import recall_score, precision_score, f1_score  # Métricas de avaliação de modelos de classificação\n",
        "\n",
        "\n",
        "# Técnicas de apredizado de máquina\n",
        "\n",
        "from sklearn.linear_model import LinearRegression  # Implementação de regressão linear\n",
        "from sklearn.naive_bayes import GaussianNB  # Implementação do algoritmo Naive Bayes Gaussiano\n",
        "from sklearn import tree  # Implementação de árvores de decisão\n",
        "from sklearn.ensemble import RandomForestClassifier  # Implementação de classificador de floresta aleatória\n",
        "from sklearn.svm import SVC  # Implementação do algoritmo SVM (Support Vector Machine)\n",
        "from sklearn.neighbors import KNeighborsClassifier # Implementação do algoritmo KNN\n",
        "from sklearn.linear_model import LogisticRegression\n",
        "# Bivlioteca TensorFlow\n",
        "\n",
        "from tensorflow.keras.models import Sequential  # Modelo de rede neural sequencial do Keras\n",
        "from tensorflow.keras.layers import *  # Camadas de uma rede neural no Keras\n",
        "from tensorflow.keras.callbacks import ModelCheckpoint  # Callback para salvar o modelo durante o treinamento\n",
        "from tensorflow.keras.losses import MeanSquaredError  # Função de perda para regressão no Keras\n",
        "from tensorflow.keras.metrics import RootMeanSquaredError  # Métrica adicional para avaliação de modelos de regressão\n",
        "from tensorflow.keras.optimizers import Adam  # Otimizador Adam para treinamento de redes neurais no Keras\n"
      ],
      "metadata": {
        "id": "L3CX6WVIEd1b"
      },
      "execution_count": 3,
      "outputs": []
    },
    {
      "cell_type": "code",
      "source": [
        "# Importando Base de Dados Fridge\n",
        "modbus = pd.read_csv('/content/Train_Test_IoT_Modbus.csv')"
      ],
      "metadata": {
        "id": "u_XB4lq6OqYi"
      },
      "execution_count": 4,
      "outputs": []
    },
    {
      "cell_type": "code",
      "source": [
        "# Definindo método de normalização de variáveis Max_Min\n",
        "def max_min(x):\n",
        "  return (x- x.min())/(x.max() - x.min())"
      ],
      "metadata": {
        "id": "0icO9SwiOs9Z"
      },
      "execution_count": 5,
      "outputs": []
    },
    {
      "cell_type": "code",
      "source": [
        "# mapeando as variáveis nominais para as numéricas\n",
        "mapeamento = {'normal':0, 'backdoor':1, 'injection':2, 'password':3, 'xss':4, 'scanning': 5}"
      ],
      "metadata": {
        "id": "NkZu4Hp_1AzT"
      },
      "execution_count": 6,
      "outputs": []
    },
    {
      "cell_type": "markdown",
      "source": [
        "# Pré-processamento"
      ],
      "metadata": {
        "id": "cURJOgAUOxzJ"
      }
    },
    {
      "cell_type": "markdown",
      "source": [
        "Visão geral do Banco de dados"
      ],
      "metadata": {
        "id": "wmIzo7qePAhy"
      }
    },
    {
      "cell_type": "code",
      "source": [
        "modbus.head()"
      ],
      "metadata": {
        "colab": {
          "base_uri": "https://localhost:8080/",
          "height": 400
        },
        "id": "2DboVqDmO7sI",
        "outputId": "5e58a0a7-fc50-4ada-fb3c-a718e438fe83"
      },
      "execution_count": 7,
      "outputs": [
        {
          "output_type": "execute_result",
          "data": {
            "text/plain": [
              "           ts       date        time  FC1_Read_Input_Register  \\\n",
              "0  1556208840  25-Apr-19   09:14:00                     49389   \n",
              "1  1556208840  25-Apr-19   09:14:00                     49389   \n",
              "2  1556208841  25-Apr-19   09:14:01                     49389   \n",
              "3  1556208842  25-Apr-19   09:14:02                     49389   \n",
              "4  1556208844  25-Apr-19   09:14:04                     40665   \n",
              "\n",
              "   FC2_Read_Discrete_Value  FC3_Read_Holding_Register  FC4_Read_Coil  label  \\\n",
              "0                    52921                      25770          13625      1   \n",
              "1                    52921                      25770          13625      1   \n",
              "2                    52921                      25770          13625      1   \n",
              "3                    52921                      25770          13625      1   \n",
              "4                    44748                      21098          35371      1   \n",
              "\n",
              "        type  \n",
              "0  injection  \n",
              "1  injection  \n",
              "2  injection  \n",
              "3  injection  \n",
              "4  injection  "
            ],
            "text/html": [
              "\n",
              "  <div id=\"df-9565748c-b088-49e7-a78a-f759c22c3619\" class=\"colab-df-container\">\n",
              "    <div>\n",
              "<style scoped>\n",
              "    .dataframe tbody tr th:only-of-type {\n",
              "        vertical-align: middle;\n",
              "    }\n",
              "\n",
              "    .dataframe tbody tr th {\n",
              "        vertical-align: top;\n",
              "    }\n",
              "\n",
              "    .dataframe thead th {\n",
              "        text-align: right;\n",
              "    }\n",
              "</style>\n",
              "<table border=\"1\" class=\"dataframe\">\n",
              "  <thead>\n",
              "    <tr style=\"text-align: right;\">\n",
              "      <th></th>\n",
              "      <th>ts</th>\n",
              "      <th>date</th>\n",
              "      <th>time</th>\n",
              "      <th>FC1_Read_Input_Register</th>\n",
              "      <th>FC2_Read_Discrete_Value</th>\n",
              "      <th>FC3_Read_Holding_Register</th>\n",
              "      <th>FC4_Read_Coil</th>\n",
              "      <th>label</th>\n",
              "      <th>type</th>\n",
              "    </tr>\n",
              "  </thead>\n",
              "  <tbody>\n",
              "    <tr>\n",
              "      <th>0</th>\n",
              "      <td>1556208840</td>\n",
              "      <td>25-Apr-19</td>\n",
              "      <td>09:14:00</td>\n",
              "      <td>49389</td>\n",
              "      <td>52921</td>\n",
              "      <td>25770</td>\n",
              "      <td>13625</td>\n",
              "      <td>1</td>\n",
              "      <td>injection</td>\n",
              "    </tr>\n",
              "    <tr>\n",
              "      <th>1</th>\n",
              "      <td>1556208840</td>\n",
              "      <td>25-Apr-19</td>\n",
              "      <td>09:14:00</td>\n",
              "      <td>49389</td>\n",
              "      <td>52921</td>\n",
              "      <td>25770</td>\n",
              "      <td>13625</td>\n",
              "      <td>1</td>\n",
              "      <td>injection</td>\n",
              "    </tr>\n",
              "    <tr>\n",
              "      <th>2</th>\n",
              "      <td>1556208841</td>\n",
              "      <td>25-Apr-19</td>\n",
              "      <td>09:14:01</td>\n",
              "      <td>49389</td>\n",
              "      <td>52921</td>\n",
              "      <td>25770</td>\n",
              "      <td>13625</td>\n",
              "      <td>1</td>\n",
              "      <td>injection</td>\n",
              "    </tr>\n",
              "    <tr>\n",
              "      <th>3</th>\n",
              "      <td>1556208842</td>\n",
              "      <td>25-Apr-19</td>\n",
              "      <td>09:14:02</td>\n",
              "      <td>49389</td>\n",
              "      <td>52921</td>\n",
              "      <td>25770</td>\n",
              "      <td>13625</td>\n",
              "      <td>1</td>\n",
              "      <td>injection</td>\n",
              "    </tr>\n",
              "    <tr>\n",
              "      <th>4</th>\n",
              "      <td>1556208844</td>\n",
              "      <td>25-Apr-19</td>\n",
              "      <td>09:14:04</td>\n",
              "      <td>40665</td>\n",
              "      <td>44748</td>\n",
              "      <td>21098</td>\n",
              "      <td>35371</td>\n",
              "      <td>1</td>\n",
              "      <td>injection</td>\n",
              "    </tr>\n",
              "  </tbody>\n",
              "</table>\n",
              "</div>\n",
              "    <div class=\"colab-df-buttons\">\n",
              "\n",
              "  <div class=\"colab-df-container\">\n",
              "    <button class=\"colab-df-convert\" onclick=\"convertToInteractive('df-9565748c-b088-49e7-a78a-f759c22c3619')\"\n",
              "            title=\"Convert this dataframe to an interactive table.\"\n",
              "            style=\"display:none;\">\n",
              "\n",
              "  <svg xmlns=\"http://www.w3.org/2000/svg\" height=\"24px\" viewBox=\"0 -960 960 960\">\n",
              "    <path d=\"M120-120v-720h720v720H120Zm60-500h600v-160H180v160Zm220 220h160v-160H400v160Zm0 220h160v-160H400v160ZM180-400h160v-160H180v160Zm440 0h160v-160H620v160ZM180-180h160v-160H180v160Zm440 0h160v-160H620v160Z\"/>\n",
              "  </svg>\n",
              "    </button>\n",
              "\n",
              "  <style>\n",
              "    .colab-df-container {\n",
              "      display:flex;\n",
              "      gap: 12px;\n",
              "    }\n",
              "\n",
              "    .colab-df-convert {\n",
              "      background-color: #E8F0FE;\n",
              "      border: none;\n",
              "      border-radius: 50%;\n",
              "      cursor: pointer;\n",
              "      display: none;\n",
              "      fill: #1967D2;\n",
              "      height: 32px;\n",
              "      padding: 0 0 0 0;\n",
              "      width: 32px;\n",
              "    }\n",
              "\n",
              "    .colab-df-convert:hover {\n",
              "      background-color: #E2EBFA;\n",
              "      box-shadow: 0px 1px 2px rgba(60, 64, 67, 0.3), 0px 1px 3px 1px rgba(60, 64, 67, 0.15);\n",
              "      fill: #174EA6;\n",
              "    }\n",
              "\n",
              "    .colab-df-buttons div {\n",
              "      margin-bottom: 4px;\n",
              "    }\n",
              "\n",
              "    [theme=dark] .colab-df-convert {\n",
              "      background-color: #3B4455;\n",
              "      fill: #D2E3FC;\n",
              "    }\n",
              "\n",
              "    [theme=dark] .colab-df-convert:hover {\n",
              "      background-color: #434B5C;\n",
              "      box-shadow: 0px 1px 3px 1px rgba(0, 0, 0, 0.15);\n",
              "      filter: drop-shadow(0px 1px 2px rgba(0, 0, 0, 0.3));\n",
              "      fill: #FFFFFF;\n",
              "    }\n",
              "  </style>\n",
              "\n",
              "    <script>\n",
              "      const buttonEl =\n",
              "        document.querySelector('#df-9565748c-b088-49e7-a78a-f759c22c3619 button.colab-df-convert');\n",
              "      buttonEl.style.display =\n",
              "        google.colab.kernel.accessAllowed ? 'block' : 'none';\n",
              "\n",
              "      async function convertToInteractive(key) {\n",
              "        const element = document.querySelector('#df-9565748c-b088-49e7-a78a-f759c22c3619');\n",
              "        const dataTable =\n",
              "          await google.colab.kernel.invokeFunction('convertToInteractive',\n",
              "                                                    [key], {});\n",
              "        if (!dataTable) return;\n",
              "\n",
              "        const docLinkHtml = 'Like what you see? Visit the ' +\n",
              "          '<a target=\"_blank\" href=https://colab.research.google.com/notebooks/data_table.ipynb>data table notebook</a>'\n",
              "          + ' to learn more about interactive tables.';\n",
              "        element.innerHTML = '';\n",
              "        dataTable['output_type'] = 'display_data';\n",
              "        await google.colab.output.renderOutput(dataTable, element);\n",
              "        const docLink = document.createElement('div');\n",
              "        docLink.innerHTML = docLinkHtml;\n",
              "        element.appendChild(docLink);\n",
              "      }\n",
              "    </script>\n",
              "  </div>\n",
              "\n",
              "\n",
              "<div id=\"df-6f4bee23-29b1-4b90-a3ff-6f8c1fa9f49e\">\n",
              "  <button class=\"colab-df-quickchart\" onclick=\"quickchart('df-6f4bee23-29b1-4b90-a3ff-6f8c1fa9f49e')\"\n",
              "            title=\"Suggest charts\"\n",
              "            style=\"display:none;\">\n",
              "\n",
              "<svg xmlns=\"http://www.w3.org/2000/svg\" height=\"24px\"viewBox=\"0 0 24 24\"\n",
              "     width=\"24px\">\n",
              "    <g>\n",
              "        <path d=\"M19 3H5c-1.1 0-2 .9-2 2v14c0 1.1.9 2 2 2h14c1.1 0 2-.9 2-2V5c0-1.1-.9-2-2-2zM9 17H7v-7h2v7zm4 0h-2V7h2v10zm4 0h-2v-4h2v4z\"/>\n",
              "    </g>\n",
              "</svg>\n",
              "  </button>\n",
              "\n",
              "<style>\n",
              "  .colab-df-quickchart {\n",
              "      --bg-color: #E8F0FE;\n",
              "      --fill-color: #1967D2;\n",
              "      --hover-bg-color: #E2EBFA;\n",
              "      --hover-fill-color: #174EA6;\n",
              "      --disabled-fill-color: #AAA;\n",
              "      --disabled-bg-color: #DDD;\n",
              "  }\n",
              "\n",
              "  [theme=dark] .colab-df-quickchart {\n",
              "      --bg-color: #3B4455;\n",
              "      --fill-color: #D2E3FC;\n",
              "      --hover-bg-color: #434B5C;\n",
              "      --hover-fill-color: #FFFFFF;\n",
              "      --disabled-bg-color: #3B4455;\n",
              "      --disabled-fill-color: #666;\n",
              "  }\n",
              "\n",
              "  .colab-df-quickchart {\n",
              "    background-color: var(--bg-color);\n",
              "    border: none;\n",
              "    border-radius: 50%;\n",
              "    cursor: pointer;\n",
              "    display: none;\n",
              "    fill: var(--fill-color);\n",
              "    height: 32px;\n",
              "    padding: 0;\n",
              "    width: 32px;\n",
              "  }\n",
              "\n",
              "  .colab-df-quickchart:hover {\n",
              "    background-color: var(--hover-bg-color);\n",
              "    box-shadow: 0 1px 2px rgba(60, 64, 67, 0.3), 0 1px 3px 1px rgba(60, 64, 67, 0.15);\n",
              "    fill: var(--button-hover-fill-color);\n",
              "  }\n",
              "\n",
              "  .colab-df-quickchart-complete:disabled,\n",
              "  .colab-df-quickchart-complete:disabled:hover {\n",
              "    background-color: var(--disabled-bg-color);\n",
              "    fill: var(--disabled-fill-color);\n",
              "    box-shadow: none;\n",
              "  }\n",
              "\n",
              "  .colab-df-spinner {\n",
              "    border: 2px solid var(--fill-color);\n",
              "    border-color: transparent;\n",
              "    border-bottom-color: var(--fill-color);\n",
              "    animation:\n",
              "      spin 1s steps(1) infinite;\n",
              "  }\n",
              "\n",
              "  @keyframes spin {\n",
              "    0% {\n",
              "      border-color: transparent;\n",
              "      border-bottom-color: var(--fill-color);\n",
              "      border-left-color: var(--fill-color);\n",
              "    }\n",
              "    20% {\n",
              "      border-color: transparent;\n",
              "      border-left-color: var(--fill-color);\n",
              "      border-top-color: var(--fill-color);\n",
              "    }\n",
              "    30% {\n",
              "      border-color: transparent;\n",
              "      border-left-color: var(--fill-color);\n",
              "      border-top-color: var(--fill-color);\n",
              "      border-right-color: var(--fill-color);\n",
              "    }\n",
              "    40% {\n",
              "      border-color: transparent;\n",
              "      border-right-color: var(--fill-color);\n",
              "      border-top-color: var(--fill-color);\n",
              "    }\n",
              "    60% {\n",
              "      border-color: transparent;\n",
              "      border-right-color: var(--fill-color);\n",
              "    }\n",
              "    80% {\n",
              "      border-color: transparent;\n",
              "      border-right-color: var(--fill-color);\n",
              "      border-bottom-color: var(--fill-color);\n",
              "    }\n",
              "    90% {\n",
              "      border-color: transparent;\n",
              "      border-bottom-color: var(--fill-color);\n",
              "    }\n",
              "  }\n",
              "</style>\n",
              "\n",
              "  <script>\n",
              "    async function quickchart(key) {\n",
              "      const quickchartButtonEl =\n",
              "        document.querySelector('#' + key + ' button');\n",
              "      quickchartButtonEl.disabled = true;  // To prevent multiple clicks.\n",
              "      quickchartButtonEl.classList.add('colab-df-spinner');\n",
              "      try {\n",
              "        const charts = await google.colab.kernel.invokeFunction(\n",
              "            'suggestCharts', [key], {});\n",
              "      } catch (error) {\n",
              "        console.error('Error during call to suggestCharts:', error);\n",
              "      }\n",
              "      quickchartButtonEl.classList.remove('colab-df-spinner');\n",
              "      quickchartButtonEl.classList.add('colab-df-quickchart-complete');\n",
              "    }\n",
              "    (() => {\n",
              "      let quickchartButtonEl =\n",
              "        document.querySelector('#df-6f4bee23-29b1-4b90-a3ff-6f8c1fa9f49e button');\n",
              "      quickchartButtonEl.style.display =\n",
              "        google.colab.kernel.accessAllowed ? 'block' : 'none';\n",
              "    })();\n",
              "  </script>\n",
              "</div>\n",
              "\n",
              "    </div>\n",
              "  </div>\n"
            ],
            "application/vnd.google.colaboratory.intrinsic+json": {
              "type": "dataframe",
              "variable_name": "modbus",
              "summary": "{\n  \"name\": \"modbus\",\n  \"rows\": 51106,\n  \"fields\": [\n    {\n      \"column\": \"ts\",\n      \"properties\": {\n        \"dtype\": \"number\",\n        \"std\": 1038530,\n        \"min\": 1554061012,\n        \"max\": 1556480418,\n        \"num_unique_values\": 24889,\n        \"samples\": [\n          1554156102,\n          1554162928,\n          1556205945\n        ],\n        \"semantic_type\": \"\",\n        \"description\": \"\"\n      }\n    },\n    {\n      \"column\": \"date\",\n      \"properties\": {\n        \"dtype\": \"object\",\n        \"num_unique_values\": 8,\n        \"samples\": [\n          \"28-Apr-19\",\n          \"27-Apr-19\",\n          \"25-Apr-19\"\n        ],\n        \"semantic_type\": \"\",\n        \"description\": \"\"\n      }\n    },\n    {\n      \"column\": \"time\",\n      \"properties\": {\n        \"dtype\": \"category\",\n        \"num_unique_values\": 23600,\n        \"samples\": [\n          \" 16:20:05 \",\n          \" 14:24:14 \",\n          \" 15:15:07 \"\n        ],\n        \"semantic_type\": \"\",\n        \"description\": \"\"\n      }\n    },\n    {\n      \"column\": \"FC1_Read_Input_Register\",\n      \"properties\": {\n        \"dtype\": \"number\",\n        \"std\": 18882,\n        \"min\": 0,\n        \"max\": 65527,\n        \"num_unique_values\": 12478,\n        \"samples\": [\n          26324,\n          32813,\n          30082\n        ],\n        \"semantic_type\": \"\",\n        \"description\": \"\"\n      }\n    },\n    {\n      \"column\": \"FC2_Read_Discrete_Value\",\n      \"properties\": {\n        \"dtype\": \"number\",\n        \"std\": 19013,\n        \"min\": 0,\n        \"max\": 65535,\n        \"num_unique_values\": 12511,\n        \"samples\": [\n          19070,\n          7144,\n          48480\n        ],\n        \"semantic_type\": \"\",\n        \"description\": \"\"\n      }\n    },\n    {\n      \"column\": \"FC3_Read_Holding_Register\",\n      \"properties\": {\n        \"dtype\": \"number\",\n        \"std\": 18917,\n        \"min\": 0,\n        \"max\": 65525,\n        \"num_unique_values\": 12465,\n        \"samples\": [\n          14564,\n          36128,\n          17800\n        ],\n        \"semantic_type\": \"\",\n        \"description\": \"\"\n      }\n    },\n    {\n      \"column\": \"FC4_Read_Coil\",\n      \"properties\": {\n        \"dtype\": \"number\",\n        \"std\": 18864,\n        \"min\": 0,\n        \"max\": 65534,\n        \"num_unique_values\": 12503,\n        \"samples\": [\n          62776,\n          28333,\n          19445\n        ],\n        \"semantic_type\": \"\",\n        \"description\": \"\"\n      }\n    },\n    {\n      \"column\": \"label\",\n      \"properties\": {\n        \"dtype\": \"number\",\n        \"std\": 0,\n        \"min\": 0,\n        \"max\": 1,\n        \"num_unique_values\": 2,\n        \"samples\": [\n          0,\n          1\n        ],\n        \"semantic_type\": \"\",\n        \"description\": \"\"\n      }\n    },\n    {\n      \"column\": \"type\",\n      \"properties\": {\n        \"dtype\": \"category\",\n        \"num_unique_values\": 6,\n        \"samples\": [\n          \"injection\",\n          \"backdoor\"\n        ],\n        \"semantic_type\": \"\",\n        \"description\": \"\"\n      }\n    }\n  ]\n}"
            }
          },
          "metadata": {},
          "execution_count": 7
        }
      ]
    },
    {
      "source": [
        "modbus.groupby('type').size().plot(kind='barh', color=sns.palettes.mpl_palette('Dark2'))\n",
        "plt.gca().spines[['top', 'right',]].set_visible(False)\n",
        "plt.title(\"Tipos de ataques antes do mapeamento\")\n",
        "plt.grid()"
      ],
      "cell_type": "code",
      "execution_count": 8,
      "outputs": [
        {
          "output_type": "display_data",
          "data": {
            "text/plain": [
              "<Figure size 640x480 with 1 Axes>"
            ],
            "image/png": "[encoded data removed]"
          },
          "metadata": {}
        }
      ],
      "metadata": {
        "colab": {
          "base_uri": "https://localhost:8080/",
          "height": 452
        },
        "id": "ZkjwTkCDPchA",
        "outputId": "8030c6ab-5990-462e-bfeb-01d400a78752"
      }
    },
    {
      "cell_type": "code",
      "source": [
        "modbus = modbus.replace(mapeamento)# mapeia as variáveis nominais"
      ],
      "metadata": {
        "id": "Of4huIbAPZvt"
      },
      "execution_count": 9,
      "outputs": []
    },
    {
      "cell_type": "markdown",
      "source": [
        "Normatizando o banco de dados"
      ],
      "metadata": {
        "id": "OGxmIn-_PnxK"
      }
    },
    {
      "cell_type": "code",
      "source": [
        "modbus['FC1_Read_Input_Register'] = modbus['FC1_Read_Input_Register'].transform(max_min)\n",
        "modbus['FC2_Read_Discrete_Value'] = modbus['FC2_Read_Discrete_Value'].transform(max_min)\n",
        "modbus['FC3_Read_Holding_Register'] = modbus['FC3_Read_Holding_Register'].transform(max_min)\n",
        "modbus['FC4_Read_Coil'] = modbus['FC4_Read_Coil'].transform(max_min)"
      ],
      "metadata": {
        "id": "L9_a83ujPeow"
      },
      "execution_count": 10,
      "outputs": []
    },
    {
      "cell_type": "code",
      "source": [
        "modbus['ts'] = modbus['ts'].transform(max_min)"
      ],
      "metadata": {
        "id": "thXcnefZo9y4"
      },
      "execution_count": 11,
      "outputs": []
    },
    {
      "cell_type": "code",
      "source": [
        "# colunas = [0]*len(modbus['ts'])\n",
        "# for i in range (len(modbus['ts'])):\n",
        "#      colunas[i] = i\n",
        "# modbus['coluns'] = colunas"
      ],
      "metadata": {
        "id": "OTQgB0Eir1rY"
      },
      "execution_count": 12,
      "outputs": []
    },
    {
      "cell_type": "code",
      "source": [
        "# modbus['coluns'] = modbus['coluns'].transform(max_min)"
      ],
      "metadata": {
        "id": "sKnk1f1wVanH"
      },
      "execution_count": 13,
      "outputs": []
    },
    {
      "cell_type": "code",
      "source": [
        "modbus.head()"
      ],
      "metadata": {
        "colab": {
          "base_uri": "https://localhost:8080/",
          "height": 400
        },
        "id": "nQmtz2GnmQOl",
        "outputId": "3c1988b1-fe68-4547-b7ef-db05ffd7205a"
      },
      "execution_count": 14,
      "outputs": [
        {
          "output_type": "execute_result",
          "data": {
            "text/plain": [
              "         ts       date        time  FC1_Read_Input_Register  \\\n",
              "0  0.887750  25-Apr-19   09:14:00                  0.753720   \n",
              "1  0.887750  25-Apr-19   09:14:00                  0.753720   \n",
              "2  0.887751  25-Apr-19   09:14:01                  0.753720   \n",
              "3  0.887751  25-Apr-19   09:14:02                  0.753720   \n",
              "4  0.887752  25-Apr-19   09:14:04                  0.620584   \n",
              "\n",
              "   FC2_Read_Discrete_Value  FC3_Read_Holding_Register  FC4_Read_Coil  label  \\\n",
              "0                 0.807523                   0.393285       0.207907      1   \n",
              "1                 0.807523                   0.393285       0.207907      1   \n",
              "2                 0.807523                   0.393285       0.207907      1   \n",
              "3                 0.807523                   0.393285       0.207907      1   \n",
              "4                 0.682811                   0.321984       0.539735      1   \n",
              "\n",
              "   type  \n",
              "0     2  \n",
              "1     2  \n",
              "2     2  \n",
              "3     2  \n",
              "4     2  "
            ],
            "text/html": [
              "\n",
              "  <div id=\"df-c98937cd-74b2-4cd8-804d-a5334c1dac4d\" class=\"colab-df-container\">\n",
              "    <div>\n",
              "<style scoped>\n",
              "    .dataframe tbody tr th:only-of-type {\n",
              "        vertical-align: middle;\n",
              "    }\n",
              "\n",
              "    .dataframe tbody tr th {\n",
              "        vertical-align: top;\n",
              "    }\n",
              "\n",
              "    .dataframe thead th {\n",
              "        text-align: right;\n",
              "    }\n",
              "</style>\n",
              "<table border=\"1\" class=\"dataframe\">\n",
              "  <thead>\n",
              "    <tr style=\"text-align: right;\">\n",
              "      <th></th>\n",
              "      <th>ts</th>\n",
              "      <th>date</th>\n",
              "      <th>time</th>\n",
              "      <th>FC1_Read_Input_Register</th>\n",
              "      <th>FC2_Read_Discrete_Value</th>\n",
              "      <th>FC3_Read_Holding_Register</th>\n",
              "      <th>FC4_Read_Coil</th>\n",
              "      <th>label</th>\n",
              "      <th>type</th>\n",
              "    </tr>\n",
              "  </thead>\n",
              "  <tbody>\n",
              "    <tr>\n",
              "      <th>0</th>\n",
              "      <td>0.887750</td>\n",
              "      <td>25-Apr-19</td>\n",
              "      <td>09:14:00</td>\n",
              "      <td>0.753720</td>\n",
              "      <td>0.807523</td>\n",
              "      <td>0.393285</td>\n",
              "      <td>0.207907</td>\n",
              "      <td>1</td>\n",
              "      <td>2</td>\n",
              "    </tr>\n",
              "    <tr>\n",
              "      <th>1</th>\n",
              "      <td>0.887750</td>\n",
              "      <td>25-Apr-19</td>\n",
              "      <td>09:14:00</td>\n",
              "      <td>0.753720</td>\n",
              "      <td>0.807523</td>\n",
              "      <td>0.393285</td>\n",
              "      <td>0.207907</td>\n",
              "      <td>1</td>\n",
              "      <td>2</td>\n",
              "    </tr>\n",
              "    <tr>\n",
              "      <th>2</th>\n",
              "      <td>0.887751</td>\n",
              "      <td>25-Apr-19</td>\n",
              "      <td>09:14:01</td>\n",
              "      <td>0.753720</td>\n",
              "      <td>0.807523</td>\n",
              "      <td>0.393285</td>\n",
              "      <td>0.207907</td>\n",
              "      <td>1</td>\n",
              "      <td>2</td>\n",
              "    </tr>\n",
              "    <tr>\n",
              "      <th>3</th>\n",
              "      <td>0.887751</td>\n",
              "      <td>25-Apr-19</td>\n",
              "      <td>09:14:02</td>\n",
              "      <td>0.753720</td>\n",
              "      <td>0.807523</td>\n",
              "      <td>0.393285</td>\n",
              "      <td>0.207907</td>\n",
              "      <td>1</td>\n",
              "      <td>2</td>\n",
              "    </tr>\n",
              "    <tr>\n",
              "      <th>4</th>\n",
              "      <td>0.887752</td>\n",
              "      <td>25-Apr-19</td>\n",
              "      <td>09:14:04</td>\n",
              "      <td>0.620584</td>\n",
              "      <td>0.682811</td>\n",
              "      <td>0.321984</td>\n",
              "      <td>0.539735</td>\n",
              "      <td>1</td>\n",
              "      <td>2</td>\n",
              "    </tr>\n",
              "  </tbody>\n",
              "</table>\n",
              "</div>\n",
              "    <div class=\"colab-df-buttons\">\n",
              "\n",
              "  <div class=\"colab-df-container\">\n",
              "    <button class=\"colab-df-convert\" onclick=\"convertToInteractive('df-c98937cd-74b2-4cd8-804d-a5334c1dac4d')\"\n",
              "            title=\"Convert this dataframe to an interactive table.\"\n",
              "            style=\"display:none;\">\n",
              "\n",
              "  <svg xmlns=\"http://www.w3.org/2000/svg\" height=\"24px\" viewBox=\"0 -960 960 960\">\n",
              "    <path d=\"M120-120v-720h720v720H120Zm60-500h600v-160H180v160Zm220 220h160v-160H400v160Zm0 220h160v-160H400v160ZM180-400h160v-160H180v160Zm440 0h160v-160H620v160ZM180-180h160v-160H180v160Zm440 0h160v-160H620v160Z\"/>\n",
              "  </svg>\n",
              "    </button>\n",
              "\n",
              "  <style>\n",
              "    .colab-df-container {\n",
              "      display:flex;\n",
              "      gap: 12px;\n",
              "    }\n",
              "\n",
              "    .colab-df-convert {\n",
              "      background-color: #E8F0FE;\n",
              "      border: none;\n",
              "      border-radius: 50%;\n",
              "      cursor: pointer;\n",
              "      display: none;\n",
              "      fill: #1967D2;\n",
              "      height: 32px;\n",
              "      padding: 0 0 0 0;\n",
              "      width: 32px;\n",
              "    }\n",
              "\n",
              "    .colab-df-convert:hover {\n",
              "      background-color: #E2EBFA;\n",
              "      box-shadow: 0px 1px 2px rgba(60, 64, 67, 0.3), 0px 1px 3px 1px rgba(60, 64, 67, 0.15);\n",
              "      fill: #174EA6;\n",
              "    }\n",
              "\n",
              "    .colab-df-buttons div {\n",
              "      margin-bottom: 4px;\n",
              "    }\n",
              "\n",
              "    [theme=dark] .colab-df-convert {\n",
              "      background-color: #3B4455;\n",
              "      fill: #D2E3FC;\n",
              "    }\n",
              "\n",
              "    [theme=dark] .colab-df-convert:hover {\n",
              "      background-color: #434B5C;\n",
              "      box-shadow: 0px 1px 3px 1px rgba(0, 0, 0, 0.15);\n",
              "      filter: drop-shadow(0px 1px 2px rgba(0, 0, 0, 0.3));\n",
              "      fill: #FFFFFF;\n",
              "    }\n",
              "  </style>\n",
              "\n",
              "    <script>\n",
              "      const buttonEl =\n",
              "        document.querySelector('#df-c98937cd-74b2-4cd8-804d-a5334c1dac4d button.colab-df-convert');\n",
              "      buttonEl.style.display =\n",
              "        google.colab.kernel.accessAllowed ? 'block' : 'none';\n",
              "\n",
              "      async function convertToInteractive(key) {\n",
              "        const element = document.querySelector('#df-c98937cd-74b2-4cd8-804d-a5334c1dac4d');\n",
              "        const dataTable =\n",
              "          await google.colab.kernel.invokeFunction('convertToInteractive',\n",
              "                                                    [key], {});\n",
              "        if (!dataTable) return;\n",
              "\n",
              "        const docLinkHtml = 'Like what you see? Visit the ' +\n",
              "          '<a target=\"_blank\" href=https://colab.research.google.com/notebooks/data_table.ipynb>data table notebook</a>'\n",
              "          + ' to learn more about interactive tables.';\n",
              "        element.innerHTML = '';\n",
              "        dataTable['output_type'] = 'display_data';\n",
              "        await google.colab.output.renderOutput(dataTable, element);\n",
              "        const docLink = document.createElement('div');\n",
              "        docLink.innerHTML = docLinkHtml;\n",
              "        element.appendChild(docLink);\n",
              "      }\n",
              "    </script>\n",
              "  </div>\n",
              "\n",
              "\n",
              "<div id=\"df-5d64123c-364b-40d7-aa0d-f3e1b4aaf50d\">\n",
              "  <button class=\"colab-df-quickchart\" onclick=\"quickchart('df-5d64123c-364b-40d7-aa0d-f3e1b4aaf50d')\"\n",
              "            title=\"Suggest charts\"\n",
              "            style=\"display:none;\">\n",
              "\n",
              "<svg xmlns=\"http://www.w3.org/2000/svg\" height=\"24px\"viewBox=\"0 0 24 24\"\n",
              "     width=\"24px\">\n",
              "    <g>\n",
              "        <path d=\"M19 3H5c-1.1 0-2 .9-2 2v14c0 1.1.9 2 2 2h14c1.1 0 2-.9 2-2V5c0-1.1-.9-2-2-2zM9 17H7v-7h2v7zm4 0h-2V7h2v10zm4 0h-2v-4h2v4z\"/>\n",
              "    </g>\n",
              "</svg>\n",
              "  </button>\n",
              "\n",
              "<style>\n",
              "  .colab-df-quickchart {\n",
              "      --bg-color: #E8F0FE;\n",
              "      --fill-color: #1967D2;\n",
              "      --hover-bg-color: #E2EBFA;\n",
              "      --hover-fill-color: #174EA6;\n",
              "      --disabled-fill-color: #AAA;\n",
              "      --disabled-bg-color: #DDD;\n",
              "  }\n",
              "\n",
              "  [theme=dark] .colab-df-quickchart {\n",
              "      --bg-color: #3B4455;\n",
              "      --fill-color: #D2E3FC;\n",
              "      --hover-bg-color: #434B5C;\n",
              "      --hover-fill-color: #FFFFFF;\n",
              "      --disabled-bg-color: #3B4455;\n",
              "      --disabled-fill-color: #666;\n",
              "  }\n",
              "\n",
              "  .colab-df-quickchart {\n",
              "    background-color: var(--bg-color);\n",
              "    border: none;\n",
              "    border-radius: 50%;\n",
              "    cursor: pointer;\n",
              "    display: none;\n",
              "    fill: var(--fill-color);\n",
              "    height: 32px;\n",
              "    padding: 0;\n",
              "    width: 32px;\n",
              "  }\n",
              "\n",
              "  .colab-df-quickchart:hover {\n",
              "    background-color: var(--hover-bg-color);\n",
              "    box-shadow: 0 1px 2px rgba(60, 64, 67, 0.3), 0 1px 3px 1px rgba(60, 64, 67, 0.15);\n",
              "    fill: var(--button-hover-fill-color);\n",
              "  }\n",
              "\n",
              "  .colab-df-quickchart-complete:disabled,\n",
              "  .colab-df-quickchart-complete:disabled:hover {\n",
              "    background-color: var(--disabled-bg-color);\n",
              "    fill: var(--disabled-fill-color);\n",
              "    box-shadow: none;\n",
              "  }\n",
              "\n",
              "  .colab-df-spinner {\n",
              "    border: 2px solid var(--fill-color);\n",
              "    border-color: transparent;\n",
              "    border-bottom-color: var(--fill-color);\n",
              "    animation:\n",
              "      spin 1s steps(1) infinite;\n",
              "  }\n",
              "\n",
              "  @keyframes spin {\n",
              "    0% {\n",
              "      border-color: transparent;\n",
              "      border-bottom-color: var(--fill-color);\n",
              "      border-left-color: var(--fill-color);\n",
              "    }\n",
              "    20% {\n",
              "      border-color: transparent;\n",
              "      border-left-color: var(--fill-color);\n",
              "      border-top-color: var(--fill-color);\n",
              "    }\n",
              "    30% {\n",
              "      border-color: transparent;\n",
              "      border-left-color: var(--fill-color);\n",
              "      border-top-color: var(--fill-color);\n",
              "      border-right-color: var(--fill-color);\n",
              "    }\n",
              "    40% {\n",
              "      border-color: transparent;\n",
              "      border-right-color: var(--fill-color);\n",
              "      border-top-color: var(--fill-color);\n",
              "    }\n",
              "    60% {\n",
              "      border-color: transparent;\n",
              "      border-right-color: var(--fill-color);\n",
              "    }\n",
              "    80% {\n",
              "      border-color: transparent;\n",
              "      border-right-color: var(--fill-color);\n",
              "      border-bottom-color: var(--fill-color);\n",
              "    }\n",
              "    90% {\n",
              "      border-color: transparent;\n",
              "      border-bottom-color: var(--fill-color);\n",
              "    }\n",
              "  }\n",
              "</style>\n",
              "\n",
              "  <script>\n",
              "    async function quickchart(key) {\n",
              "      const quickchartButtonEl =\n",
              "        document.querySelector('#' + key + ' button');\n",
              "      quickchartButtonEl.disabled = true;  // To prevent multiple clicks.\n",
              "      quickchartButtonEl.classList.add('colab-df-spinner');\n",
              "      try {\n",
              "        const charts = await google.colab.kernel.invokeFunction(\n",
              "            'suggestCharts', [key], {});\n",
              "      } catch (error) {\n",
              "        console.error('Error during call to suggestCharts:', error);\n",
              "      }\n",
              "      quickchartButtonEl.classList.remove('colab-df-spinner');\n",
              "      quickchartButtonEl.classList.add('colab-df-quickchart-complete');\n",
              "    }\n",
              "    (() => {\n",
              "      let quickchartButtonEl =\n",
              "        document.querySelector('#df-5d64123c-364b-40d7-aa0d-f3e1b4aaf50d button');\n",
              "      quickchartButtonEl.style.display =\n",
              "        google.colab.kernel.accessAllowed ? 'block' : 'none';\n",
              "    })();\n",
              "  </script>\n",
              "</div>\n",
              "\n",
              "    </div>\n",
              "  </div>\n"
            ],
            "application/vnd.google.colaboratory.intrinsic+json": {
              "type": "dataframe",
              "variable_name": "modbus",
              "summary": "{\n  \"name\": \"modbus\",\n  \"rows\": 51106,\n  \"fields\": [\n    {\n      \"column\": \"ts\",\n      \"properties\": {\n        \"dtype\": \"number\",\n        \"std\": 0.42925015325790433,\n        \"min\": 0.0,\n        \"max\": 1.0,\n        \"num_unique_values\": 24889,\n        \"samples\": [\n          0.039303035538475146,\n          0.04212438920958285,\n          0.8865535590140721\n        ],\n        \"semantic_type\": \"\",\n        \"description\": \"\"\n      }\n    },\n    {\n      \"column\": \"date\",\n      \"properties\": {\n        \"dtype\": \"object\",\n        \"num_unique_values\": 8,\n        \"samples\": [\n          \"28-Apr-19\",\n          \"27-Apr-19\",\n          \"25-Apr-19\"\n        ],\n        \"semantic_type\": \"\",\n        \"description\": \"\"\n      }\n    },\n    {\n      \"column\": \"time\",\n      \"properties\": {\n        \"dtype\": \"category\",\n        \"num_unique_values\": 23600,\n        \"samples\": [\n          \" 16:20:05 \",\n          \" 14:24:14 \",\n          \" 15:15:07 \"\n        ],\n        \"semantic_type\": \"\",\n        \"description\": \"\"\n      }\n    },\n    {\n      \"column\": \"FC1_Read_Input_Register\",\n      \"properties\": {\n        \"dtype\": \"number\",\n        \"std\": 0.28816892966136304,\n        \"min\": 0.0,\n        \"max\": 1.0,\n        \"num_unique_values\": 12478,\n        \"samples\": [\n          0.40172753216231477,\n          0.5007554137988921,\n          0.4590779373388069\n        ],\n        \"semantic_type\": \"\",\n        \"description\": \"\"\n      }\n    },\n    {\n      \"column\": \"FC2_Read_Discrete_Value\",\n      \"properties\": {\n        \"dtype\": \"number\",\n        \"std\": 0.2901253958446972,\n        \"min\": 0.0,\n        \"max\": 1.0,\n        \"num_unique_values\": 12511,\n        \"samples\": [\n          0.2909895475700008,\n          0.10901045242999924,\n          0.7397573815518426\n        ],\n        \"semantic_type\": \"\",\n        \"description\": \"\"\n      }\n    },\n    {\n      \"column\": \"FC3_Read_Holding_Register\",\n      \"properties\": {\n        \"dtype\": \"number\",\n        \"std\": 0.28869972535431604,\n        \"min\": 0.0,\n        \"max\": 1.0,\n        \"num_unique_values\": 12465,\n        \"samples\": [\n          0.2222663105684853,\n          0.5513620755436857,\n          0.2716520412056467\n        ],\n        \"semantic_type\": \"\",\n        \"description\": \"\"\n      }\n    },\n    {\n      \"column\": \"FC4_Read_Coil\",\n      \"properties\": {\n        \"dtype\": \"number\",\n        \"std\": 0.287851638904275,\n        \"min\": 0.0,\n        \"max\": 1.0,\n        \"num_unique_values\": 12503,\n        \"samples\": [\n          0.9579149754325998,\n          0.4323404644917142,\n          0.2967162083803827\n        ],\n        \"semantic_type\": \"\",\n        \"description\": \"\"\n      }\n    },\n    {\n      \"column\": \"label\",\n      \"properties\": {\n        \"dtype\": \"number\",\n        \"std\": 0,\n        \"min\": 0,\n        \"max\": 1,\n        \"num_unique_values\": 2,\n        \"samples\": [\n          0,\n          1\n        ],\n        \"semantic_type\": \"\",\n        \"description\": \"\"\n      }\n    },\n    {\n      \"column\": \"type\",\n      \"properties\": {\n        \"dtype\": \"number\",\n        \"std\": 1,\n        \"min\": 0,\n        \"max\": 5,\n        \"num_unique_values\": 6,\n        \"samples\": [\n          2,\n          1\n        ],\n        \"semantic_type\": \"\",\n        \"description\": \"\"\n      }\n    }\n  ]\n}"
            }
          },
          "metadata": {},
          "execution_count": 14
        }
      ]
    },
    {
      "cell_type": "markdown",
      "source": [
        "Definindo treinamento e teste"
      ],
      "metadata": {
        "id": "S-KSWCFqP3fJ"
      }
    },
    {
      "cell_type": "code",
      "source": [
        "# Atributos\n",
        "atributos = modbus[['ts', 'FC1_Read_Input_Register', 'FC2_Read_Discrete_Value', 'FC3_Read_Holding_Register', 'FC4_Read_Coil']]\n",
        "classe = modbus['type']"
      ],
      "metadata": {
        "id": "KQ50S_xktpW6"
      },
      "execution_count": 15,
      "outputs": []
    },
    {
      "cell_type": "code",
      "source": [
        "# Visualizando Atributos\n",
        "atributos.head()"
      ],
      "metadata": {
        "colab": {
          "base_uri": "https://localhost:8080/",
          "height": 206
        },
        "id": "-O5ltz-7ZZY3",
        "outputId": "d92acddf-119f-4024-c0ac-488c6901a4d3"
      },
      "execution_count": 16,
      "outputs": [
        {
          "output_type": "execute_result",
          "data": {
            "text/plain": [
              "         ts  FC1_Read_Input_Register  FC2_Read_Discrete_Value  \\\n",
              "0  0.887750                 0.753720                 0.807523   \n",
              "1  0.887750                 0.753720                 0.807523   \n",
              "2  0.887751                 0.753720                 0.807523   \n",
              "3  0.887751                 0.753720                 0.807523   \n",
              "4  0.887752                 0.620584                 0.682811   \n",
              "\n",
              "   FC3_Read_Holding_Register  FC4_Read_Coil  \n",
              "0                   0.393285       0.207907  \n",
              "1                   0.393285       0.207907  \n",
              "2                   0.393285       0.207907  \n",
              "3                   0.393285       0.207907  \n",
              "4                   0.321984       0.539735  "
            ],
            "text/html": [
              "\n",
              "  <div id=\"df-d89b5da1-40fa-434c-bf5d-e76a1d9a70d5\" class=\"colab-df-container\">\n",
              "    <div>\n",
              "<style scoped>\n",
              "    .dataframe tbody tr th:only-of-type {\n",
              "        vertical-align: middle;\n",
              "    }\n",
              "\n",
              "    .dataframe tbody tr th {\n",
              "        vertical-align: top;\n",
              "    }\n",
              "\n",
              "    .dataframe thead th {\n",
              "        text-align: right;\n",
              "    }\n",
              "</style>\n",
              "<table border=\"1\" class=\"dataframe\">\n",
              "  <thead>\n",
              "    <tr style=\"text-align: right;\">\n",
              "      <th></th>\n",
              "      <th>ts</th>\n",
              "      <th>FC1_Read_Input_Register</th>\n",
              "      <th>FC2_Read_Discrete_Value</th>\n",
              "      <th>FC3_Read_Holding_Register</th>\n",
              "      <th>FC4_Read_Coil</th>\n",
              "    </tr>\n",
              "  </thead>\n",
              "  <tbody>\n",
              "    <tr>\n",
              "      <th>0</th>\n",
              "      <td>0.887750</td>\n",
              "      <td>0.753720</td>\n",
              "      <td>0.807523</td>\n",
              "      <td>0.393285</td>\n",
              "      <td>0.207907</td>\n",
              "    </tr>\n",
              "    <tr>\n",
              "      <th>1</th>\n",
              "      <td>0.887750</td>\n",
              "      <td>0.753720</td>\n",
              "      <td>0.807523</td>\n",
              "      <td>0.393285</td>\n",
              "      <td>0.207907</td>\n",
              "    </tr>\n",
              "    <tr>\n",
              "      <th>2</th>\n",
              "      <td>0.887751</td>\n",
              "      <td>0.753720</td>\n",
              "      <td>0.807523</td>\n",
              "      <td>0.393285</td>\n",
              "      <td>0.207907</td>\n",
              "    </tr>\n",
              "    <tr>\n",
              "      <th>3</th>\n",
              "      <td>0.887751</td>\n",
              "      <td>0.753720</td>\n",
              "      <td>0.807523</td>\n",
              "      <td>0.393285</td>\n",
              "      <td>0.207907</td>\n",
              "    </tr>\n",
              "    <tr>\n",
              "      <th>4</th>\n",
              "      <td>0.887752</td>\n",
              "      <td>0.620584</td>\n",
              "      <td>0.682811</td>\n",
              "      <td>0.321984</td>\n",
              "      <td>0.539735</td>\n",
              "    </tr>\n",
              "  </tbody>\n",
              "</table>\n",
              "</div>\n",
              "    <div class=\"colab-df-buttons\">\n",
              "\n",
              "  <div class=\"colab-df-container\">\n",
              "    <button class=\"colab-df-convert\" onclick=\"convertToInteractive('df-d89b5da1-40fa-434c-bf5d-e76a1d9a70d5')\"\n",
              "            title=\"Convert this dataframe to an interactive table.\"\n",
              "            style=\"display:none;\">\n",
              "\n",
              "  <svg xmlns=\"http://www.w3.org/2000/svg\" height=\"24px\" viewBox=\"0 -960 960 960\">\n",
              "    <path d=\"M120-120v-720h720v720H120Zm60-500h600v-160H180v160Zm220 220h160v-160H400v160Zm0 220h160v-160H400v160ZM180-400h160v-160H180v160Zm440 0h160v-160H620v160ZM180-180h160v-160H180v160Zm440 0h160v-160H620v160Z\"/>\n",
              "  </svg>\n",
              "    </button>\n",
              "\n",
              "  <style>\n",
              "    .colab-df-container {\n",
              "      display:flex;\n",
              "      gap: 12px;\n",
              "    }\n",
              "\n",
              "    .colab-df-convert {\n",
              "      background-color: #E8F0FE;\n",
              "      border: none;\n",
              "      border-radius: 50%;\n",
              "      cursor: pointer;\n",
              "      display: none;\n",
              "      fill: #1967D2;\n",
              "      height: 32px;\n",
              "      padding: 0 0 0 0;\n",
              "      width: 32px;\n",
              "    }\n",
              "\n",
              "    .colab-df-convert:hover {\n",
              "      background-color: #E2EBFA;\n",
              "      box-shadow: 0px 1px 2px rgba(60, 64, 67, 0.3), 0px 1px 3px 1px rgba(60, 64, 67, 0.15);\n",
              "      fill: #174EA6;\n",
              "    }\n",
              "\n",
              "    .colab-df-buttons div {\n",
              "      margin-bottom: 4px;\n",
              "    }\n",
              "\n",
              "    [theme=dark] .colab-df-convert {\n",
              "      background-color: #3B4455;\n",
              "      fill: #D2E3FC;\n",
              "    }\n",
              "\n",
              "    [theme=dark] .colab-df-convert:hover {\n",
              "      background-color: #434B5C;\n",
              "      box-shadow: 0px 1px 3px 1px rgba(0, 0, 0, 0.15);\n",
              "      filter: drop-shadow(0px 1px 2px rgba(0, 0, 0, 0.3));\n",
              "      fill: #FFFFFF;\n",
              "    }\n",
              "  </style>\n",
              "\n",
              "    <script>\n",
              "      const buttonEl =\n",
              "        document.querySelector('#df-d89b5da1-40fa-434c-bf5d-e76a1d9a70d5 button.colab-df-convert');\n",
              "      buttonEl.style.display =\n",
              "        google.colab.kernel.accessAllowed ? 'block' : 'none';\n",
              "\n",
              "      async function convertToInteractive(key) {\n",
              "        const element = document.querySelector('#df-d89b5da1-40fa-434c-bf5d-e76a1d9a70d5');\n",
              "        const dataTable =\n",
              "          await google.colab.kernel.invokeFunction('convertToInteractive',\n",
              "                                                    [key], {});\n",
              "        if (!dataTable) return;\n",
              "\n",
              "        const docLinkHtml = 'Like what you see? Visit the ' +\n",
              "          '<a target=\"_blank\" href=https://colab.research.google.com/notebooks/data_table.ipynb>data table notebook</a>'\n",
              "          + ' to learn more about interactive tables.';\n",
              "        element.innerHTML = '';\n",
              "        dataTable['output_type'] = 'display_data';\n",
              "        await google.colab.output.renderOutput(dataTable, element);\n",
              "        const docLink = document.createElement('div');\n",
              "        docLink.innerHTML = docLinkHtml;\n",
              "        element.appendChild(docLink);\n",
              "      }\n",
              "    </script>\n",
              "  </div>\n",
              "\n",
              "\n",
              "<div id=\"df-512d3f32-eb87-4cfd-9eb3-df0a90a7424e\">\n",
              "  <button class=\"colab-df-quickchart\" onclick=\"quickchart('df-512d3f32-eb87-4cfd-9eb3-df0a90a7424e')\"\n",
              "            title=\"Suggest charts\"\n",
              "            style=\"display:none;\">\n",
              "\n",
              "<svg xmlns=\"http://www.w3.org/2000/svg\" height=\"24px\"viewBox=\"0 0 24 24\"\n",
              "     width=\"24px\">\n",
              "    <g>\n",
              "        <path d=\"M19 3H5c-1.1 0-2 .9-2 2v14c0 1.1.9 2 2 2h14c1.1 0 2-.9 2-2V5c0-1.1-.9-2-2-2zM9 17H7v-7h2v7zm4 0h-2V7h2v10zm4 0h-2v-4h2v4z\"/>\n",
              "    </g>\n",
              "</svg>\n",
              "  </button>\n",
              "\n",
              "<style>\n",
              "  .colab-df-quickchart {\n",
              "      --bg-color: #E8F0FE;\n",
              "      --fill-color: #1967D2;\n",
              "      --hover-bg-color: #E2EBFA;\n",
              "      --hover-fill-color: #174EA6;\n",
              "      --disabled-fill-color: #AAA;\n",
              "      --disabled-bg-color: #DDD;\n",
              "  }\n",
              "\n",
              "  [theme=dark] .colab-df-quickchart {\n",
              "      --bg-color: #3B4455;\n",
              "      --fill-color: #D2E3FC;\n",
              "      --hover-bg-color: #434B5C;\n",
              "      --hover-fill-color: #FFFFFF;\n",
              "      --disabled-bg-color: #3B4455;\n",
              "      --disabled-fill-color: #666;\n",
              "  }\n",
              "\n",
              "  .colab-df-quickchart {\n",
              "    background-color: var(--bg-color);\n",
              "    border: none;\n",
              "    border-radius: 50%;\n",
              "    cursor: pointer;\n",
              "    display: none;\n",
              "    fill: var(--fill-color);\n",
              "    height: 32px;\n",
              "    padding: 0;\n",
              "    width: 32px;\n",
              "  }\n",
              "\n",
              "  .colab-df-quickchart:hover {\n",
              "    background-color: var(--hover-bg-color);\n",
              "    box-shadow: 0 1px 2px rgba(60, 64, 67, 0.3), 0 1px 3px 1px rgba(60, 64, 67, 0.15);\n",
              "    fill: var(--button-hover-fill-color);\n",
              "  }\n",
              "\n",
              "  .colab-df-quickchart-complete:disabled,\n",
              "  .colab-df-quickchart-complete:disabled:hover {\n",
              "    background-color: var(--disabled-bg-color);\n",
              "    fill: var(--disabled-fill-color);\n",
              "    box-shadow: none;\n",
              "  }\n",
              "\n",
              "  .colab-df-spinner {\n",
              "    border: 2px solid var(--fill-color);\n",
              "    border-color: transparent;\n",
              "    border-bottom-color: var(--fill-color);\n",
              "    animation:\n",
              "      spin 1s steps(1) infinite;\n",
              "  }\n",
              "\n",
              "  @keyframes spin {\n",
              "    0% {\n",
              "      border-color: transparent;\n",
              "      border-bottom-color: var(--fill-color);\n",
              "      border-left-color: var(--fill-color);\n",
              "    }\n",
              "    20% {\n",
              "      border-color: transparent;\n",
              "      border-left-color: var(--fill-color);\n",
              "      border-top-color: var(--fill-color);\n",
              "    }\n",
              "    30% {\n",
              "      border-color: transparent;\n",
              "      border-left-color: var(--fill-color);\n",
              "      border-top-color: var(--fill-color);\n",
              "      border-right-color: var(--fill-color);\n",
              "    }\n",
              "    40% {\n",
              "      border-color: transparent;\n",
              "      border-right-color: var(--fill-color);\n",
              "      border-top-color: var(--fill-color);\n",
              "    }\n",
              "    60% {\n",
              "      border-color: transparent;\n",
              "      border-right-color: var(--fill-color);\n",
              "    }\n",
              "    80% {\n",
              "      border-color: transparent;\n",
              "      border-right-color: var(--fill-color);\n",
              "      border-bottom-color: var(--fill-color);\n",
              "    }\n",
              "    90% {\n",
              "      border-color: transparent;\n",
              "      border-bottom-color: var(--fill-color);\n",
              "    }\n",
              "  }\n",
              "</style>\n",
              "\n",
              "  <script>\n",
              "    async function quickchart(key) {\n",
              "      const quickchartButtonEl =\n",
              "        document.querySelector('#' + key + ' button');\n",
              "      quickchartButtonEl.disabled = true;  // To prevent multiple clicks.\n",
              "      quickchartButtonEl.classList.add('colab-df-spinner');\n",
              "      try {\n",
              "        const charts = await google.colab.kernel.invokeFunction(\n",
              "            'suggestCharts', [key], {});\n",
              "      } catch (error) {\n",
              "        console.error('Error during call to suggestCharts:', error);\n",
              "      }\n",
              "      quickchartButtonEl.classList.remove('colab-df-spinner');\n",
              "      quickchartButtonEl.classList.add('colab-df-quickchart-complete');\n",
              "    }\n",
              "    (() => {\n",
              "      let quickchartButtonEl =\n",
              "        document.querySelector('#df-512d3f32-eb87-4cfd-9eb3-df0a90a7424e button');\n",
              "      quickchartButtonEl.style.display =\n",
              "        google.colab.kernel.accessAllowed ? 'block' : 'none';\n",
              "    })();\n",
              "  </script>\n",
              "</div>\n",
              "\n",
              "    </div>\n",
              "  </div>\n"
            ],
            "application/vnd.google.colaboratory.intrinsic+json": {
              "type": "dataframe",
              "variable_name": "atributos",
              "summary": "{\n  \"name\": \"atributos\",\n  \"rows\": 51106,\n  \"fields\": [\n    {\n      \"column\": \"ts\",\n      \"properties\": {\n        \"dtype\": \"number\",\n        \"std\": 0.42925015325790433,\n        \"min\": 0.0,\n        \"max\": 1.0,\n        \"num_unique_values\": 24889,\n        \"samples\": [\n          0.039303035538475146,\n          0.04212438920958285,\n          0.8865535590140721\n        ],\n        \"semantic_type\": \"\",\n        \"description\": \"\"\n      }\n    },\n    {\n      \"column\": \"FC1_Read_Input_Register\",\n      \"properties\": {\n        \"dtype\": \"number\",\n        \"std\": 0.28816892966136304,\n        \"min\": 0.0,\n        \"max\": 1.0,\n        \"num_unique_values\": 12478,\n        \"samples\": [\n          0.40172753216231477,\n          0.5007554137988921,\n          0.4590779373388069\n        ],\n        \"semantic_type\": \"\",\n        \"description\": \"\"\n      }\n    },\n    {\n      \"column\": \"FC2_Read_Discrete_Value\",\n      \"properties\": {\n        \"dtype\": \"number\",\n        \"std\": 0.2901253958446972,\n        \"min\": 0.0,\n        \"max\": 1.0,\n        \"num_unique_values\": 12511,\n        \"samples\": [\n          0.2909895475700008,\n          0.10901045242999924,\n          0.7397573815518426\n        ],\n        \"semantic_type\": \"\",\n        \"description\": \"\"\n      }\n    },\n    {\n      \"column\": \"FC3_Read_Holding_Register\",\n      \"properties\": {\n        \"dtype\": \"number\",\n        \"std\": 0.28869972535431604,\n        \"min\": 0.0,\n        \"max\": 1.0,\n        \"num_unique_values\": 12465,\n        \"samples\": [\n          0.2222663105684853,\n          0.5513620755436857,\n          0.2716520412056467\n        ],\n        \"semantic_type\": \"\",\n        \"description\": \"\"\n      }\n    },\n    {\n      \"column\": \"FC4_Read_Coil\",\n      \"properties\": {\n        \"dtype\": \"number\",\n        \"std\": 0.287851638904275,\n        \"min\": 0.0,\n        \"max\": 1.0,\n        \"num_unique_values\": 12503,\n        \"samples\": [\n          0.9579149754325998,\n          0.4323404644917142,\n          0.2967162083803827\n        ],\n        \"semantic_type\": \"\",\n        \"description\": \"\"\n      }\n    }\n  ]\n}"
            }
          },
          "metadata": {},
          "execution_count": 16
        }
      ]
    },
    {
      "cell_type": "code",
      "source": [
        "# Separando dados de Treino e Teste em proporção 80% 20%, com random_state = 42\n",
        "X_train, X_test, y_train, y_test = train_test_split(atributos, classe, test_size=0.2, random_state=42)"
      ],
      "metadata": {
        "id": "K2xqSIkJP_ID"
      },
      "execution_count": 17,
      "outputs": []
    },
    {
      "cell_type": "markdown",
      "source": [
        "# 1º técnica - Arvore de decisão"
      ],
      "metadata": {
        "id": "Yk036R1zQCWT"
      }
    },
    {
      "cell_type": "code",
      "source": [
        "#definindo um classificador Arvore de decisão\n",
        "clf_AV = tree.DecisionTreeClassifier()\n",
        "\n",
        "#Validação cruzada usando KFold com 4 folds\n",
        "kf = KFold(n_splits=4, shuffle=True, random_state=42)\n",
        "\n",
        "#Acurácia média durante a validação cruzada\n",
        "acuracias_cruzadas = cross_val_score(clf_AV, X_train, y_train, cv=kf, scoring='accuracy')\n",
        "print('Acurácia média durante a validação cruzada: {}'.format(round(acuracias_cruzadas.mean(), 4)))\n",
        "\n",
        "#Modelo com dados de treinamento\n",
        "clf_AV = clf_AV.fit(X_train, y_train)"
      ],
      "metadata": {
        "id": "fEtczDL4QcHW",
        "colab": {
          "base_uri": "https://localhost:8080/"
        },
        "outputId": "3292a195-8c8e-4961-c012-fe80370c9039"
      },
      "execution_count": 18,
      "outputs": [
        {
          "output_type": "stream",
          "name": "stdout",
          "text": [
            "Acurácia média durante a validação cruzada: 1.0\n"
          ]
        }
      ]
    },
    {
      "cell_type": "code",
      "source": [
        "#Predição e Acurácia de Teste\n",
        "predicao_1 = clf_AV.predict(X_test)\n",
        "acuracia_1 = accuracy_score(y_test, predicao_1)\n",
        "print('Acurácia da classificação: {}' . format(round(acuracia_1,4)))"
      ],
      "metadata": {
        "colab": {
          "base_uri": "https://localhost:8080/"
        },
        "id": "-_--AY5lTl3Y",
        "outputId": "1cf5ccda-1d6d-4a0f-de99-33b767706465"
      },
      "execution_count": 19,
      "outputs": [
        {
          "output_type": "stream",
          "name": "stdout",
          "text": [
            "Acurácia da classificação: 1.0\n"
          ]
        }
      ]
    },
    {
      "cell_type": "code",
      "source": [
        "#Matriz de confusão\n",
        "class_labels = ['normal', 'backdoor', 'injection', 'password', 'xss', 'scanning']\n",
        "\n",
        "sns.heatmap(confusion_matrix(y_test, predicao_1), annot=True, fmt='d', cmap='Blues', xticklabels=class_labels, yticklabels=class_labels)\n",
        "plt.show()"
      ],
      "metadata": {
        "id": "aiq4IZ32dtWA",
        "colab": {
          "base_uri": "https://localhost:8080/",
          "height": 433
        },
        "outputId": "bba768d4-8ce1-4ea4-a8b5-6c668fca7661"
      },
      "execution_count": 20,
      "outputs": [
        {
          "output_type": "display_data",
          "data": {
            "text/plain": [
              "<Figure size 640x480 with 2 Axes>"
            ],
            "image/png": "[encoded data removed]"
          },
          "metadata": {}
        }
      ]
    },
    {
      "cell_type": "code",
      "source": [
        "print(classification_report(y_test, predicao_1))"
      ],
      "metadata": {
        "colab": {
          "base_uri": "https://localhost:8080/"
        },
        "id": "LAimrAat0jrA",
        "outputId": "04cbda78-c594-4d40-b1ea-8c9b81e80c20"
      },
      "execution_count": 21,
      "outputs": [
        {
          "output_type": "stream",
          "name": "stdout",
          "text": [
            "              precision    recall  f1-score   support\n",
            "\n",
            "           0       1.00      1.00      1.00      7037\n",
            "           1       1.00      1.00      1.00      1007\n",
            "           2       1.00      1.00      1.00      1009\n",
            "           3       1.00      1.00      1.00       963\n",
            "           4       1.00      1.00      1.00        97\n",
            "           5       1.00      1.00      1.00       109\n",
            "\n",
            "    accuracy                           1.00     10222\n",
            "   macro avg       1.00      1.00      1.00     10222\n",
            "weighted avg       1.00      1.00      1.00     10222\n",
            "\n"
          ]
        }
      ]
    },
    {
      "cell_type": "markdown",
      "source": [
        "# 2º técnica - KNN"
      ],
      "metadata": {
        "id": "NcY2gOACRWO7"
      }
    },
    {
      "cell_type": "code",
      "source": [
        "#definindo um classificador KNN\n",
        "clf_KNN = KNeighborsClassifier(n_neighbors=5, metric='minkowski', p = 2)\n",
        "\n",
        "#Validação cruzada usando KFold com 4 folds\n",
        "kf = KFold(n_splits=4, shuffle=True, random_state=42)\n",
        "\n",
        "#Acurácia média durante a validação cruzada\n",
        "acuracias_cruzadas = cross_val_score(clf_KNN, X_train, y_train, cv=kf, scoring='accuracy')\n",
        "print('Acurácia média durante a validação cruzada: {}'.format(round(acuracias_cruzadas.mean(), 4)))\n",
        "\n",
        "#Modelo com dados de treinamento\n",
        "clf_KNN = clf_KNN.fit(X_train, y_train)"
      ],
      "metadata": {
        "id": "mhEYyqWARd4E",
        "colab": {
          "base_uri": "https://localhost:8080/"
        },
        "outputId": "77b352ce-3c71-48d7-8001-f189e2972dc2"
      },
      "execution_count": 22,
      "outputs": [
        {
          "output_type": "stream",
          "name": "stdout",
          "text": [
            "Acurácia média durante a validação cruzada: 0.895\n"
          ]
        }
      ]
    },
    {
      "cell_type": "code",
      "source": [
        "#Predição e Acurácia de Teste\n",
        "predicao_2 = clf_KNN.predict(X_test)\n",
        "acuracia_2 = accuracy_score(y_test, predicao_2)\n",
        "print('Acurácia da classificação: {}' . format(round(acuracia_2, 4)))"
      ],
      "metadata": {
        "colab": {
          "base_uri": "https://localhost:8080/"
        },
        "id": "GHlTtXzvRm6i",
        "outputId": "3fcf2277-9f2a-420a-ddb1-daa4a5bae804"
      },
      "execution_count": 23,
      "outputs": [
        {
          "output_type": "stream",
          "name": "stdout",
          "text": [
            "Acurácia da classificação: 0.9139\n"
          ]
        }
      ]
    },
    {
      "cell_type": "code",
      "source": [
        "# Matriz de confusão\n",
        "class_labels = ['normal', 'backdoor', 'injection', 'password', 'xss', 'scanning']\n",
        "\n",
        "sns.heatmap(confusion_matrix(y_test, predicao_2), annot=True, fmt='d', cmap='Blues', xticklabels=class_labels, yticklabels=class_labels)\n",
        "plt.show()"
      ],
      "metadata": {
        "colab": {
          "base_uri": "https://localhost:8080/",
          "height": 433
        },
        "id": "OlG2FpbmvapX",
        "outputId": "222246eb-9045-4247-882a-f8411780837b"
      },
      "execution_count": 24,
      "outputs": [
        {
          "output_type": "display_data",
          "data": {
            "text/plain": [
              "<Figure size 640x480 with 2 Axes>"
            ],
            "image/png": "[encoded data removed]"
          },
          "metadata": {}
        }
      ]
    },
    {
      "cell_type": "code",
      "source": [
        "print(classification_report(y_test, predicao_2))"
      ],
      "metadata": {
        "colab": {
          "base_uri": "https://localhost:8080/"
        },
        "id": "c9-SjoFA2-r7",
        "outputId": "37d7a0ac-148e-477b-9ae6-c9d908d707dd"
      },
      "execution_count": 25,
      "outputs": [
        {
          "output_type": "stream",
          "name": "stdout",
          "text": [
            "              precision    recall  f1-score   support\n",
            "\n",
            "           0       1.00      1.00      1.00      7037\n",
            "           1       0.84      0.80      0.82      1007\n",
            "           2       0.74      0.80      0.77      1009\n",
            "           3       0.62      0.68      0.65       963\n",
            "           4       0.28      0.15      0.20        97\n",
            "           5       0.81      0.19      0.31       109\n",
            "\n",
            "    accuracy                           0.91     10222\n",
            "   macro avg       0.72      0.60      0.62     10222\n",
            "weighted avg       0.91      0.91      0.91     10222\n",
            "\n"
          ]
        }
      ]
    },
    {
      "cell_type": "markdown",
      "source": [
        "# 3º técnica - SVM"
      ],
      "metadata": {
        "id": "_BGlSmXER3ZK"
      }
    },
    {
      "cell_type": "code",
      "source": [
        "#definindo um classificador SVM\n",
        "SVM_rbf = SVC(kernel = 'rbf', gamma = 'auto', C = 1.0 )\n",
        "\n",
        "#Validação cruzada usando KFold com 4 folds\n",
        "kf = KFold(n_splits=4, shuffle=True, random_state=42)\n",
        "\n",
        "#Acurácia média durante a validação cruzada\n",
        "acuracias_cruzadas = cross_val_score(SVM_rbf, X_train, y_train, cv=kf, scoring='accuracy')\n",
        "print('Acurácia média durante a validação cruzada: {}'.format(round(acuracias_cruzadas.mean(), 4)))\n",
        "\n",
        "#Modelo com dados de treinamento\n",
        "SVM_rbf.fit(X_train, y_train)"
      ],
      "metadata": {
        "colab": {
          "base_uri": "https://localhost:8080/",
          "height": 92
        },
        "id": "zDiWnllrSEH1",
        "outputId": "f9d8425c-eff7-4d1d-ada7-355090b80640"
      },
      "execution_count": 26,
      "outputs": [
        {
          "output_type": "stream",
          "name": "stdout",
          "text": [
            "Acurácia média durante a validação cruzada: 0.978\n"
          ]
        },
        {
          "output_type": "execute_result",
          "data": {
            "text/plain": [
              "SVC(gamma='auto')"
            ],
            "text/html": [
              "<style>#sk-container-id-1 {color: black;background-color: white;}#sk-container-id-1 pre{padding: 0;}#sk-container-id-1 div.sk-toggleable {background-color: white;}#sk-container-id-1 label.sk-toggleable__label {cursor: pointer;display: block;width: 100%;margin-bottom: 0;padding: 0.3em;box-sizing: border-box;text-align: center;}#sk-container-id-1 label.sk-toggleable__label-arrow:before {content: \"▸\";float: left;margin-right: 0.25em;color: #696969;}#sk-container-id-1 label.sk-toggleable__label-arrow:hover:before {color: black;}#sk-container-id-1 div.sk-estimator:hover label.sk-toggleable__label-arrow:before {color: black;}#sk-container-id-1 div.sk-toggleable__content {max-height: 0;max-width: 0;overflow: hidden;text-align: left;background-color: #f0f8ff;}#sk-container-id-1 div.sk-toggleable__content pre {margin: 0.2em;color: black;border-radius: 0.25em;background-color: #f0f8ff;}#sk-container-id-1 input.sk-toggleable__control:checked~div.sk-toggleable__content {max-height: 200px;max-width: 100%;overflow: auto;}#sk-container-id-1 input.sk-toggleable__control:checked~label.sk-toggleable__label-arrow:before {content: \"▾\";}#sk-container-id-1 div.sk-estimator input.sk-toggleable__control:checked~label.sk-toggleable__label {background-color: #d4ebff;}#sk-container-id-1 div.sk-label input.sk-toggleable__control:checked~label.sk-toggleable__label {background-color: #d4ebff;}#sk-container-id-1 input.sk-hidden--visually {border: 0;clip: rect(1px 1px 1px 1px);clip: rect(1px, 1px, 1px, 1px);height: 1px;margin: -1px;overflow: hidden;padding: 0;position: absolute;width: 1px;}#sk-container-id-1 div.sk-estimator {font-family: monospace;background-color: #f0f8ff;border: 1px dotted black;border-radius: 0.25em;box-sizing: border-box;margin-bottom: 0.5em;}#sk-container-id-1 div.sk-estimator:hover {background-color: #d4ebff;}#sk-container-id-1 div.sk-parallel-item::after {content: \"\";width: 100%;border-bottom: 1px solid gray;flex-grow: 1;}#sk-container-id-1 div.sk-label:hover label.sk-toggleable__label {background-color: #d4ebff;}#sk-container-id-1 div.sk-serial::before {content: \"\";position: absolute;border-left: 1px solid gray;box-sizing: border-box;top: 0;bottom: 0;left: 50%;z-index: 0;}#sk-container-id-1 div.sk-serial {display: flex;flex-direction: column;align-items: center;background-color: white;padding-right: 0.2em;padding-left: 0.2em;position: relative;}#sk-container-id-1 div.sk-item {position: relative;z-index: 1;}#sk-container-id-1 div.sk-parallel {display: flex;align-items: stretch;justify-content: center;background-color: white;position: relative;}#sk-container-id-1 div.sk-item::before, #sk-container-id-1 div.sk-parallel-item::before {content: \"\";position: absolute;border-left: 1px solid gray;box-sizing: border-box;top: 0;bottom: 0;left: 50%;z-index: -1;}#sk-container-id-1 div.sk-parallel-item {display: flex;flex-direction: column;z-index: 1;position: relative;background-color: white;}#sk-container-id-1 div.sk-parallel-item:first-child::after {align-self: flex-end;width: 50%;}#sk-container-id-1 div.sk-parallel-item:last-child::after {align-self: flex-start;width: 50%;}#sk-container-id-1 div.sk-parallel-item:only-child::after {width: 0;}#sk-container-id-1 div.sk-dashed-wrapped {border: 1px dashed gray;margin: 0 0.4em 0.5em 0.4em;box-sizing: border-box;padding-bottom: 0.4em;background-color: white;}#sk-container-id-1 div.sk-label label {font-family: monospace;font-weight: bold;display: inline-block;line-height: 1.2em;}#sk-container-id-1 div.sk-label-container {text-align: center;}#sk-container-id-1 div.sk-container {/* jupyter's `normalize.less` sets `[hidden] { display: none; }` but bootstrap.min.css set `[hidden] { display: none !important; }` so we also need the `!important` here to be able to override the default hidden behavior on the sphinx rendered scikit-learn.org. See: https://github.com/scikit-learn/scikit-learn/issues/21755 */display: inline-block !important;position: relative;}#sk-container-id-1 div.sk-text-repr-fallback {display: none;}</style><div id=\"sk-container-id-1\" class=\"sk-top-container\"><div class=\"sk-text-repr-fallback\"><pre>SVC(gamma=&#x27;auto&#x27;)</pre><b>In a Jupyter environment, please rerun this cell to show the HTML representation or trust the notebook. <br />On GitHub, the HTML representation is unable to render, please try loading this page with nbviewer.org.</b></div><div class=\"sk-container\" hidden><div class=\"sk-item\"><div class=\"sk-estimator sk-toggleable\"><input class=\"sk-toggleable__control sk-hidden--visually\" id=\"sk-estimator-id-1\" type=\"checkbox\" checked><label for=\"sk-estimator-id-1\" class=\"sk-toggleable__label sk-toggleable__label-arrow\">SVC</label><div class=\"sk-toggleable__content\"><pre>SVC(gamma=&#x27;auto&#x27;)</pre></div></div></div></div></div>"
            ]
          },
          "metadata": {},
          "execution_count": 26
        }
      ]
    },
    {
      "cell_type": "code",
      "source": [
        "#Predição e Acurácia de Teste\n",
        "predicao_3 = SVM_rbf.predict(X_test)\n",
        "acuracia_3 = accuracy_score(y_test, predicao_3)\n",
        "print('Acurácia da classificação: {}' . format(round(acuracia_3,4)))"
      ],
      "metadata": {
        "id": "Q5v7q29LSHNK",
        "colab": {
          "base_uri": "https://localhost:8080/"
        },
        "outputId": "01804664-b2bd-4b12-818b-d39147983cb6"
      },
      "execution_count": 27,
      "outputs": [
        {
          "output_type": "stream",
          "name": "stdout",
          "text": [
            "Acurácia da classificação: 0.9798\n"
          ]
        }
      ]
    },
    {
      "cell_type": "code",
      "source": [
        "#Matriz de confusão\n",
        "class_labels = ['normal', 'backdoor', 'injection', 'password', 'xss', 'scanning']\n",
        "\n",
        "sns.heatmap(confusion_matrix(y_test, predicao_3), annot=True, fmt='d', cmap='Blues', xticklabels=class_labels, yticklabels=class_labels)\n",
        "plt.show()"
      ],
      "metadata": {
        "colab": {
          "base_uri": "https://localhost:8080/",
          "height": 433
        },
        "id": "vK0RVJ7Dxxio",
        "outputId": "793cbbfd-26a2-482e-9deb-d96ab28f9127"
      },
      "execution_count": 28,
      "outputs": [
        {
          "output_type": "display_data",
          "data": {
            "text/plain": [
              "<Figure size 640x480 with 2 Axes>"
            ],
            "image/png": "[encoded data removed]"
          },
          "metadata": {}
        }
      ]
    },
    {
      "cell_type": "code",
      "source": [
        "print(classification_report(y_test, predicao_3))"
      ],
      "metadata": {
        "colab": {
          "base_uri": "https://localhost:8080/"
        },
        "id": "_9Fbz_z_4VOG",
        "outputId": "27fde194-998c-4a4f-801f-0abd5d6ef91a"
      },
      "execution_count": 29,
      "outputs": [
        {
          "output_type": "stream",
          "name": "stdout",
          "text": [
            "              precision    recall  f1-score   support\n",
            "\n",
            "           0       1.00      1.00      1.00      7037\n",
            "           1       1.00      1.00      1.00      1007\n",
            "           2       0.90      1.00      0.95      1009\n",
            "           3       0.91      1.00      0.95       963\n",
            "           4       0.00      0.00      0.00        97\n",
            "           5       0.00      0.00      0.00       109\n",
            "\n",
            "    accuracy                           0.98     10222\n",
            "   macro avg       0.64      0.67      0.65     10222\n",
            "weighted avg       0.96      0.98      0.97     10222\n",
            "\n"
          ]
        },
        {
          "output_type": "stream",
          "name": "stderr",
          "text": [
            "/usr/local/lib/python3.10/dist-packages/sklearn/metrics/_classification.py:1344: UndefinedMetricWarning: Precision and F-score are ill-defined and being set to 0.0 in labels with no predicted samples. Use `zero_division` parameter to control this behavior.\n",
            "  _warn_prf(average, modifier, msg_start, len(result))\n",
            "/usr/local/lib/python3.10/dist-packages/sklearn/metrics/_classification.py:1344: UndefinedMetricWarning: Precision and F-score are ill-defined and being set to 0.0 in labels with no predicted samples. Use `zero_division` parameter to control this behavior.\n",
            "  _warn_prf(average, modifier, msg_start, len(result))\n",
            "/usr/local/lib/python3.10/dist-packages/sklearn/metrics/_classification.py:1344: UndefinedMetricWarning: Precision and F-score are ill-defined and being set to 0.0 in labels with no predicted samples. Use `zero_division` parameter to control this behavior.\n",
            "  _warn_prf(average, modifier, msg_start, len(result))\n"
          ]
        }
      ]
    },
    {
      "cell_type": "markdown",
      "source": [
        "#4º Regressão Logistica"
      ],
      "metadata": {
        "id": "Vmlw4c-Nu_xt"
      }
    },
    {
      "cell_type": "code",
      "source": [
        "#definindo um classificador Arvore de decisão\n",
        "LR = LogisticRegression(solver='lbfgs', max_iter=1000)\n",
        "\n",
        "#Validação cruzada usando KFold com 4 folds\n",
        "kf = KFold(n_splits=4, shuffle=True, random_state=42)\n",
        "\n",
        "#Acurácia média durante a validação cruzada\n",
        "acuracias_cruzadas = cross_val_score(LR, X_train, y_train, cv=kf, scoring='accuracy')\n",
        "print('Acurácia média durante a validação cruzada: {}'.format(round(acuracias_cruzadas.mean(), 4)))\n",
        "\n",
        "#Modelo com dados de treinamento\n",
        "LR = LR.fit(X_train, y_train)"
      ],
      "metadata": {
        "colab": {
          "base_uri": "https://localhost:8080/"
        },
        "id": "urwgklQTUcm7",
        "outputId": "c0a77798-f690-4cf4-b973-7737fc0c8cbd"
      },
      "execution_count": 30,
      "outputs": [
        {
          "output_type": "stream",
          "name": "stdout",
          "text": [
            "Acurácia média durante a validação cruzada: 0.978\n"
          ]
        }
      ]
    },
    {
      "cell_type": "code",
      "source": [
        "#Predição e Acurácia de Teste\n",
        "predicao_40 = LR.predict(X_test)\n",
        "acuracia_40 = accuracy_score(y_test, predicao_40)\n",
        "print('Acurácia da classificação: {}' . format(round(acuracia_40,4)))"
      ],
      "metadata": {
        "colab": {
          "base_uri": "https://localhost:8080/"
        },
        "id": "IO15HoJyV_iH",
        "outputId": "da750ec0-a213-4f62-a3f8-a8be26180759"
      },
      "execution_count": 31,
      "outputs": [
        {
          "output_type": "stream",
          "name": "stdout",
          "text": [
            "Acurácia da classificação: 0.9798\n"
          ]
        }
      ]
    },
    {
      "cell_type": "code",
      "source": [
        "# Matriz de confusão\n",
        "class_labels = ['normal', 'backdoor', 'injection', 'password', 'xss', 'scanning']\n",
        "\n",
        "sns.heatmap(confusion_matrix(y_test, predicao_40), annot=True, fmt='d', cmap='Blues', xticklabels=class_labels, yticklabels=class_labels)\n",
        "plt.show()"
      ],
      "metadata": {
        "colab": {
          "base_uri": "https://localhost:8080/",
          "height": 433
        },
        "id": "ZeovH57RWUM3",
        "outputId": "ff5c430b-8a26-4a0e-8e61-030c945b9ae2"
      },
      "execution_count": 32,
      "outputs": [
        {
          "output_type": "display_data",
          "data": {
            "text/plain": [
              "<Figure size 640x480 with 2 Axes>"
            ],
            "image/png": "[encoded data removed]"
          },
          "metadata": {}
        }
      ]
    },
    {
      "cell_type": "code",
      "source": [
        "print(classification_report(y_test, predicao_40))"
      ],
      "metadata": {
        "colab": {
          "base_uri": "https://localhost:8080/"
        },
        "id": "mlCbD61RWo15",
        "outputId": "68ad2248-7006-4ab5-ed99-91403f2d5608"
      },
      "execution_count": 33,
      "outputs": [
        {
          "output_type": "stream",
          "name": "stdout",
          "text": [
            "              precision    recall  f1-score   support\n",
            "\n",
            "           0       1.00      1.00      1.00      7037\n",
            "           1       1.00      1.00      1.00      1007\n",
            "           2       0.90      1.00      0.95      1009\n",
            "           3       0.91      1.00      0.95       963\n",
            "           4       0.00      0.00      0.00        97\n",
            "           5       0.00      0.00      0.00       109\n",
            "\n",
            "    accuracy                           0.98     10222\n",
            "   macro avg       0.64      0.67      0.65     10222\n",
            "weighted avg       0.96      0.98      0.97     10222\n",
            "\n"
          ]
        },
        {
          "output_type": "stream",
          "name": "stderr",
          "text": [
            "/usr/local/lib/python3.10/dist-packages/sklearn/metrics/_classification.py:1344: UndefinedMetricWarning: Precision and F-score are ill-defined and being set to 0.0 in labels with no predicted samples. Use `zero_division` parameter to control this behavior.\n",
            "  _warn_prf(average, modifier, msg_start, len(result))\n",
            "/usr/local/lib/python3.10/dist-packages/sklearn/metrics/_classification.py:1344: UndefinedMetricWarning: Precision and F-score are ill-defined and being set to 0.0 in labels with no predicted samples. Use `zero_division` parameter to control this behavior.\n",
            "  _warn_prf(average, modifier, msg_start, len(result))\n",
            "/usr/local/lib/python3.10/dist-packages/sklearn/metrics/_classification.py:1344: UndefinedMetricWarning: Precision and F-score are ill-defined and being set to 0.0 in labels with no predicted samples. Use `zero_division` parameter to control this behavior.\n",
            "  _warn_prf(average, modifier, msg_start, len(result))\n"
          ]
        }
      ]
    },
    {
      "cell_type": "markdown",
      "source": [
        "# 5º Técnica - Regressão linear"
      ],
      "metadata": {
        "id": "04mWaHKdQwE3"
      }
    },
    {
      "cell_type": "code",
      "source": [
        "#Definindo um classificador de regreção linear\n",
        "reg = LinearRegression().fit(X_train, y_train)"
      ],
      "metadata": {
        "id": "tq27e2rGRC6Z"
      },
      "execution_count": 34,
      "outputs": []
    },
    {
      "cell_type": "code",
      "source": [
        "# Predição e criação de variável auxiliar\n",
        "predicao_4 = reg.predict(X_test)\n",
        "aux = np.zeros(len(X_test))\n",
        "\n",
        "# Aproximando a predição para o inteiro mais próximo e armazenando na variável auxiliar\n",
        "for i in range(len(X_test)):\n",
        "    aux[i] = round(predicao_4[i], 0)\n",
        "\n",
        "# Acurácia de Teste\n",
        "acuracia_4 = accuracy_score(y_test, aux[:].astype(int))\n",
        "print('Acurácia da classificação: {}'.format(round(acuracia_4, 3)))\n"
      ],
      "metadata": {
        "colab": {
          "base_uri": "https://localhost:8080/"
        },
        "id": "Ocom1QSb1gOR",
        "outputId": "fc2f0a20-565b-471d-d908-aadcc51b8a9f"
      },
      "execution_count": 35,
      "outputs": [
        {
          "output_type": "stream",
          "name": "stdout",
          "text": [
            "Acurácia da classificação: 0.787\n"
          ]
        }
      ]
    },
    {
      "cell_type": "code",
      "source": [
        "#Matriz de confusão\n",
        "class_labels = ['normal', 'backdoor', 'injection', 'password', 'xss', 'scanning']\n",
        "\n",
        "sns.heatmap(confusion_matrix(y_test, aux), annot=True, fmt='d', cmap='Blues', xticklabels=class_labels, yticklabels=class_labels)\n",
        "plt.show()"
      ],
      "metadata": {
        "colab": {
          "base_uri": "https://localhost:8080/",
          "height": 433
        },
        "id": "k6mytwITVcdE",
        "outputId": "0f90bc55-fe53-4908-a1b8-ab315d815527"
      },
      "execution_count": 36,
      "outputs": [
        {
          "output_type": "display_data",
          "data": {
            "text/plain": [
              "<Figure size 640x480 with 2 Axes>"
            ],
            "image/png": "[encoded data removed]"
          },
          "metadata": {}
        }
      ]
    },
    {
      "cell_type": "code",
      "source": [
        "print(classification_report(y_test, aux))"
      ],
      "metadata": {
        "colab": {
          "base_uri": "https://localhost:8080/"
        },
        "id": "s3_pNgye5oxB",
        "outputId": "1f2dd622-feb5-45b4-b745-1694b61a9c2a"
      },
      "execution_count": 37,
      "outputs": [
        {
          "output_type": "stream",
          "name": "stdout",
          "text": [
            "              precision    recall  f1-score   support\n",
            "\n",
            "           0       1.00      1.00      1.00      7037\n",
            "           1       0.00      0.00      0.00      1007\n",
            "           2       0.32      1.00      0.48      1009\n",
            "           3       0.00      0.00      0.00       963\n",
            "           4       0.00      0.00      0.00        97\n",
            "           5       0.00      0.00      0.00       109\n",
            "\n",
            "    accuracy                           0.79     10222\n",
            "   macro avg       0.22      0.33      0.25     10222\n",
            "weighted avg       0.72      0.79      0.74     10222\n",
            "\n"
          ]
        },
        {
          "output_type": "stream",
          "name": "stderr",
          "text": [
            "/usr/local/lib/python3.10/dist-packages/sklearn/metrics/_classification.py:1344: UndefinedMetricWarning: Precision and F-score are ill-defined and being set to 0.0 in labels with no predicted samples. Use `zero_division` parameter to control this behavior.\n",
            "  _warn_prf(average, modifier, msg_start, len(result))\n",
            "/usr/local/lib/python3.10/dist-packages/sklearn/metrics/_classification.py:1344: UndefinedMetricWarning: Precision and F-score are ill-defined and being set to 0.0 in labels with no predicted samples. Use `zero_division` parameter to control this behavior.\n",
            "  _warn_prf(average, modifier, msg_start, len(result))\n",
            "/usr/local/lib/python3.10/dist-packages/sklearn/metrics/_classification.py:1344: UndefinedMetricWarning: Precision and F-score are ill-defined and being set to 0.0 in labels with no predicted samples. Use `zero_division` parameter to control this behavior.\n",
            "  _warn_prf(average, modifier, msg_start, len(result))\n"
          ]
        }
      ]
    },
    {
      "cell_type": "markdown",
      "source": [
        "# 6º Técnica - Naïve Bayes (NB)"
      ],
      "metadata": {
        "id": "w3oBg5GwkusY"
      }
    },
    {
      "cell_type": "code",
      "source": [
        "#definindo um classificador NB\n",
        "NB = GaussianNB()\n",
        "\n",
        "#Validação cruzada usando KFold com 4 folds\n",
        "kf = KFold(n_splits=4, shuffle=True, random_state=42)\n",
        "\n",
        "#Acurácia média durante a validação cruzada\n",
        "acuracias_cruzadas = cross_val_score(NB, X_train, y_train, cv=kf, scoring='accuracy')\n",
        "print('Acurácia média durante a validação cruzada: {}'.format(round(acuracias_cruzadas.mean(), 4)))\n",
        "\n",
        "#Modelo com dados de treinamento\n",
        "NB.fit(X_train, y_train)"
      ],
      "metadata": {
        "colab": {
          "base_uri": "https://localhost:8080/",
          "height": 92
        },
        "id": "fTOYySbnlACR",
        "outputId": "b767cbef-49c1-4102-d01a-f6b52be8f301"
      },
      "execution_count": 38,
      "outputs": [
        {
          "output_type": "stream",
          "name": "stdout",
          "text": [
            "Acurácia média durante a validação cruzada: 1.0\n"
          ]
        },
        {
          "output_type": "execute_result",
          "data": {
            "text/plain": [
              "GaussianNB()"
            ],
            "text/html": [
              "<style>#sk-container-id-2 {color: black;background-color: white;}#sk-container-id-2 pre{padding: 0;}#sk-container-id-2 div.sk-toggleable {background-color: white;}#sk-container-id-2 label.sk-toggleable__label {cursor: pointer;display: block;width: 100%;margin-bottom: 0;padding: 0.3em;box-sizing: border-box;text-align: center;}#sk-container-id-2 label.sk-toggleable__label-arrow:before {content: \"▸\";float: left;margin-right: 0.25em;color: #696969;}#sk-container-id-2 label.sk-toggleable__label-arrow:hover:before {color: black;}#sk-container-id-2 div.sk-estimator:hover label.sk-toggleable__label-arrow:before {color: black;}#sk-container-id-2 div.sk-toggleable__content {max-height: 0;max-width: 0;overflow: hidden;text-align: left;background-color: #f0f8ff;}#sk-container-id-2 div.sk-toggleable__content pre {margin: 0.2em;color: black;border-radius: 0.25em;background-color: #f0f8ff;}#sk-container-id-2 input.sk-toggleable__control:checked~div.sk-toggleable__content {max-height: 200px;max-width: 100%;overflow: auto;}#sk-container-id-2 input.sk-toggleable__control:checked~label.sk-toggleable__label-arrow:before {content: \"▾\";}#sk-container-id-2 div.sk-estimator input.sk-toggleable__control:checked~label.sk-toggleable__label {background-color: #d4ebff;}#sk-container-id-2 div.sk-label input.sk-toggleable__control:checked~label.sk-toggleable__label {background-color: #d4ebff;}#sk-container-id-2 input.sk-hidden--visually {border: 0;clip: rect(1px 1px 1px 1px);clip: rect(1px, 1px, 1px, 1px);height: 1px;margin: -1px;overflow: hidden;padding: 0;position: absolute;width: 1px;}#sk-container-id-2 div.sk-estimator {font-family: monospace;background-color: #f0f8ff;border: 1px dotted black;border-radius: 0.25em;box-sizing: border-box;margin-bottom: 0.5em;}#sk-container-id-2 div.sk-estimator:hover {background-color: #d4ebff;}#sk-container-id-2 div.sk-parallel-item::after {content: \"\";width: 100%;border-bottom: 1px solid gray;flex-grow: 1;}#sk-container-id-2 div.sk-label:hover label.sk-toggleable__label {background-color: #d4ebff;}#sk-container-id-2 div.sk-serial::before {content: \"\";position: absolute;border-left: 1px solid gray;box-sizing: border-box;top: 0;bottom: 0;left: 50%;z-index: 0;}#sk-container-id-2 div.sk-serial {display: flex;flex-direction: column;align-items: center;background-color: white;padding-right: 0.2em;padding-left: 0.2em;position: relative;}#sk-container-id-2 div.sk-item {position: relative;z-index: 1;}#sk-container-id-2 div.sk-parallel {display: flex;align-items: stretch;justify-content: center;background-color: white;position: relative;}#sk-container-id-2 div.sk-item::before, #sk-container-id-2 div.sk-parallel-item::before {content: \"\";position: absolute;border-left: 1px solid gray;box-sizing: border-box;top: 0;bottom: 0;left: 50%;z-index: -1;}#sk-container-id-2 div.sk-parallel-item {display: flex;flex-direction: column;z-index: 1;position: relative;background-color: white;}#sk-container-id-2 div.sk-parallel-item:first-child::after {align-self: flex-end;width: 50%;}#sk-container-id-2 div.sk-parallel-item:last-child::after {align-self: flex-start;width: 50%;}#sk-container-id-2 div.sk-parallel-item:only-child::after {width: 0;}#sk-container-id-2 div.sk-dashed-wrapped {border: 1px dashed gray;margin: 0 0.4em 0.5em 0.4em;box-sizing: border-box;padding-bottom: 0.4em;background-color: white;}#sk-container-id-2 div.sk-label label {font-family: monospace;font-weight: bold;display: inline-block;line-height: 1.2em;}#sk-container-id-2 div.sk-label-container {text-align: center;}#sk-container-id-2 div.sk-container {/* jupyter's `normalize.less` sets `[hidden] { display: none; }` but bootstrap.min.css set `[hidden] { display: none !important; }` so we also need the `!important` here to be able to override the default hidden behavior on the sphinx rendered scikit-learn.org. See: https://github.com/scikit-learn/scikit-learn/issues/21755 */display: inline-block !important;position: relative;}#sk-container-id-2 div.sk-text-repr-fallback {display: none;}</style><div id=\"sk-container-id-2\" class=\"sk-top-container\"><div class=\"sk-text-repr-fallback\"><pre>GaussianNB()</pre><b>In a Jupyter environment, please rerun this cell to show the HTML representation or trust the notebook. <br />On GitHub, the HTML representation is unable to render, please try loading this page with nbviewer.org.</b></div><div class=\"sk-container\" hidden><div class=\"sk-item\"><div class=\"sk-estimator sk-toggleable\"><input class=\"sk-toggleable__control sk-hidden--visually\" id=\"sk-estimator-id-2\" type=\"checkbox\" checked><label for=\"sk-estimator-id-2\" class=\"sk-toggleable__label sk-toggleable__label-arrow\">GaussianNB</label><div class=\"sk-toggleable__content\"><pre>GaussianNB()</pre></div></div></div></div></div>"
            ]
          },
          "metadata": {},
          "execution_count": 38
        }
      ]
    },
    {
      "cell_type": "code",
      "source": [
        "#Predição e Acurácia de Teste\n",
        "predicao_5 = NB.predict(X_test)\n",
        "acuracia_5 = accuracy_score(y_test, predicao_5)\n",
        "print('Acurácia da classificação: {}' . format(round(acuracia_5,4)))"
      ],
      "metadata": {
        "colab": {
          "base_uri": "https://localhost:8080/"
        },
        "id": "_oXMcbB4lZlb",
        "outputId": "5b094946-76ea-4a57-8160-9d32290858df"
      },
      "execution_count": 39,
      "outputs": [
        {
          "output_type": "stream",
          "name": "stdout",
          "text": [
            "Acurácia da classificação: 1.0\n"
          ]
        }
      ]
    },
    {
      "cell_type": "code",
      "source": [
        "#Matriz de confusão\n",
        "class_labels = ['normal', 'backdoor', 'injection', 'password', 'xss', 'scanning']\n",
        "\n",
        "sns.heatmap(confusion_matrix(y_test, predicao_5), annot=True, fmt='d', cmap='Blues', xticklabels=class_labels, yticklabels=class_labels)\n",
        "plt.show()"
      ],
      "metadata": {
        "colab": {
          "base_uri": "https://localhost:8080/",
          "height": 433
        },
        "id": "VrsCOp0G2O2m",
        "outputId": "30e2e30c-946d-49da-8664-209d7cb0fb19"
      },
      "execution_count": 40,
      "outputs": [
        {
          "output_type": "display_data",
          "data": {
            "text/plain": [
              "<Figure size 640x480 with 2 Axes>"
            ],
            "image/png": "[encoded data removed]"
          },
          "metadata": {}
        }
      ]
    },
    {
      "cell_type": "code",
      "source": [
        "print(classification_report(y_test, predicao_5))"
      ],
      "metadata": {
        "colab": {
          "base_uri": "https://localhost:8080/"
        },
        "id": "_8_cnbOw53fi",
        "outputId": "9457fd48-9590-4739-8409-abef1c068135"
      },
      "execution_count": 41,
      "outputs": [
        {
          "output_type": "stream",
          "name": "stdout",
          "text": [
            "              precision    recall  f1-score   support\n",
            "\n",
            "           0       1.00      1.00      1.00      7037\n",
            "           1       1.00      1.00      1.00      1007\n",
            "           2       1.00      1.00      1.00      1009\n",
            "           3       1.00      1.00      1.00       963\n",
            "           4       1.00      1.00      1.00        97\n",
            "           5       1.00      1.00      1.00       109\n",
            "\n",
            "    accuracy                           1.00     10222\n",
            "   macro avg       1.00      1.00      1.00     10222\n",
            "weighted avg       1.00      1.00      1.00     10222\n",
            "\n"
          ]
        }
      ]
    },
    {
      "cell_type": "markdown",
      "source": [
        "# 7º Técnica - Random Forest"
      ],
      "metadata": {
        "id": "9q-ddZTIoQGf"
      }
    },
    {
      "cell_type": "code",
      "source": [
        "#definindo um classificador NB\n",
        "RF = RandomForestClassifier()\n",
        "\n",
        "#Validação cruzada usando KFold com 4 folds\n",
        "kf = KFold(n_splits=4, shuffle=True, random_state=42)\n",
        "\n",
        "#Acurácia média durante a validação cruzada\n",
        "acuracias_cruzadas = cross_val_score(NB, X_train, y_train, cv=kf, scoring='accuracy')\n",
        "print('Acurácia média durante a validação cruzada: {}'.format(round(acuracias_cruzadas.mean(), 4)))\n",
        "\n",
        "#Modelo com dados de treinamento\n",
        "RF.fit(X_train,y_train)"
      ],
      "metadata": {
        "colab": {
          "base_uri": "https://localhost:8080/",
          "height": 92
        },
        "id": "YRkq_h7boizx",
        "outputId": "05fe0ef3-ab48-470d-b0e5-5bdeb7b5d072"
      },
      "execution_count": 42,
      "outputs": [
        {
          "output_type": "stream",
          "name": "stdout",
          "text": [
            "Acurácia média durante a validação cruzada: 1.0\n"
          ]
        },
        {
          "output_type": "execute_result",
          "data": {
            "text/plain": [
              "RandomForestClassifier()"
            ],
            "text/html": [
              "<style>#sk-container-id-3 {color: black;background-color: white;}#sk-container-id-3 pre{padding: 0;}#sk-container-id-3 div.sk-toggleable {background-color: white;}#sk-container-id-3 label.sk-toggleable__label {cursor: pointer;display: block;width: 100%;margin-bottom: 0;padding: 0.3em;box-sizing: border-box;text-align: center;}#sk-container-id-3 label.sk-toggleable__label-arrow:before {content: \"▸\";float: left;margin-right: 0.25em;color: #696969;}#sk-container-id-3 label.sk-toggleable__label-arrow:hover:before {color: black;}#sk-container-id-3 div.sk-estimator:hover label.sk-toggleable__label-arrow:before {color: black;}#sk-container-id-3 div.sk-toggleable__content {max-height: 0;max-width: 0;overflow: hidden;text-align: left;background-color: #f0f8ff;}#sk-container-id-3 div.sk-toggleable__content pre {margin: 0.2em;color: black;border-radius: 0.25em;background-color: #f0f8ff;}#sk-container-id-3 input.sk-toggleable__control:checked~div.sk-toggleable__content {max-height: 200px;max-width: 100%;overflow: auto;}#sk-container-id-3 input.sk-toggleable__control:checked~label.sk-toggleable__label-arrow:before {content: \"▾\";}#sk-container-id-3 div.sk-estimator input.sk-toggleable__control:checked~label.sk-toggleable__label {background-color: #d4ebff;}#sk-container-id-3 div.sk-label input.sk-toggleable__control:checked~label.sk-toggleable__label {background-color: #d4ebff;}#sk-container-id-3 input.sk-hidden--visually {border: 0;clip: rect(1px 1px 1px 1px);clip: rect(1px, 1px, 1px, 1px);height: 1px;margin: -1px;overflow: hidden;padding: 0;position: absolute;width: 1px;}#sk-container-id-3 div.sk-estimator {font-family: monospace;background-color: #f0f8ff;border: 1px dotted black;border-radius: 0.25em;box-sizing: border-box;margin-bottom: 0.5em;}#sk-container-id-3 div.sk-estimator:hover {background-color: #d4ebff;}#sk-container-id-3 div.sk-parallel-item::after {content: \"\";width: 100%;border-bottom: 1px solid gray;flex-grow: 1;}#sk-container-id-3 div.sk-label:hover label.sk-toggleable__label {background-color: #d4ebff;}#sk-container-id-3 div.sk-serial::before {content: \"\";position: absolute;border-left: 1px solid gray;box-sizing: border-box;top: 0;bottom: 0;left: 50%;z-index: 0;}#sk-container-id-3 div.sk-serial {display: flex;flex-direction: column;align-items: center;background-color: white;padding-right: 0.2em;padding-left: 0.2em;position: relative;}#sk-container-id-3 div.sk-item {position: relative;z-index: 1;}#sk-container-id-3 div.sk-parallel {display: flex;align-items: stretch;justify-content: center;background-color: white;position: relative;}#sk-container-id-3 div.sk-item::before, #sk-container-id-3 div.sk-parallel-item::before {content: \"\";position: absolute;border-left: 1px solid gray;box-sizing: border-box;top: 0;bottom: 0;left: 50%;z-index: -1;}#sk-container-id-3 div.sk-parallel-item {display: flex;flex-direction: column;z-index: 1;position: relative;background-color: white;}#sk-container-id-3 div.sk-parallel-item:first-child::after {align-self: flex-end;width: 50%;}#sk-container-id-3 div.sk-parallel-item:last-child::after {align-self: flex-start;width: 50%;}#sk-container-id-3 div.sk-parallel-item:only-child::after {width: 0;}#sk-container-id-3 div.sk-dashed-wrapped {border: 1px dashed gray;margin: 0 0.4em 0.5em 0.4em;box-sizing: border-box;padding-bottom: 0.4em;background-color: white;}#sk-container-id-3 div.sk-label label {font-family: monospace;font-weight: bold;display: inline-block;line-height: 1.2em;}#sk-container-id-3 div.sk-label-container {text-align: center;}#sk-container-id-3 div.sk-container {/* jupyter's `normalize.less` sets `[hidden] { display: none; }` but bootstrap.min.css set `[hidden] { display: none !important; }` so we also need the `!important` here to be able to override the default hidden behavior on the sphinx rendered scikit-learn.org. See: https://github.com/scikit-learn/scikit-learn/issues/21755 */display: inline-block !important;position: relative;}#sk-container-id-3 div.sk-text-repr-fallback {display: none;}</style><div id=\"sk-container-id-3\" class=\"sk-top-container\"><div class=\"sk-text-repr-fallback\"><pre>RandomForestClassifier()</pre><b>In a Jupyter environment, please rerun this cell to show the HTML representation or trust the notebook. <br />On GitHub, the HTML representation is unable to render, please try loading this page with nbviewer.org.</b></div><div class=\"sk-container\" hidden><div class=\"sk-item\"><div class=\"sk-estimator sk-toggleable\"><input class=\"sk-toggleable__control sk-hidden--visually\" id=\"sk-estimator-id-3\" type=\"checkbox\" checked><label for=\"sk-estimator-id-3\" class=\"sk-toggleable__label sk-toggleable__label-arrow\">RandomForestClassifier</label><div class=\"sk-toggleable__content\"><pre>RandomForestClassifier()</pre></div></div></div></div></div>"
            ]
          },
          "metadata": {},
          "execution_count": 42
        }
      ]
    },
    {
      "cell_type": "code",
      "source": [
        "#Predição e Acurácia de Teste\n",
        "predicao_6 = RF.predict(X_test)\n",
        "acuracia_6 = accuracy_score(y_test, predicao_6)\n",
        "print('Acurácia da classificação: {}' . format(round(acuracia_6,4)))"
      ],
      "metadata": {
        "colab": {
          "base_uri": "https://localhost:8080/"
        },
        "id": "l5Z5TU_ypKUL",
        "outputId": "cd93f50f-4131-4128-89eb-5eee4ee0c5a9"
      },
      "execution_count": 43,
      "outputs": [
        {
          "output_type": "stream",
          "name": "stdout",
          "text": [
            "Acurácia da classificação: 1.0\n"
          ]
        }
      ]
    },
    {
      "cell_type": "code",
      "source": [
        "#Matriz de confusão\n",
        "class_labels = ['normal', 'backdoor', 'injection', 'password', 'xss', 'scanning']\n",
        "\n",
        "sns.heatmap(confusion_matrix(y_test, predicao_6), annot=True, fmt='d', cmap='Blues', xticklabels=class_labels, yticklabels=class_labels)\n",
        "plt.show()"
      ],
      "metadata": {
        "colab": {
          "base_uri": "https://localhost:8080/",
          "height": 433
        },
        "id": "aKKreJxz2nVh",
        "outputId": "11e64969-bf63-4ab0-d3ab-fe8598063798"
      },
      "execution_count": 44,
      "outputs": [
        {
          "output_type": "display_data",
          "data": {
            "text/plain": [
              "<Figure size 640x480 with 2 Axes>"
            ],
            "image/png": "[encoded data removed]"
          },
          "metadata": {}
        }
      ]
    },
    {
      "cell_type": "code",
      "source": [
        "print(classification_report(y_test, predicao_6))"
      ],
      "metadata": {
        "colab": {
          "base_uri": "https://localhost:8080/"
        },
        "id": "e7QTTyg76CPg",
        "outputId": "ac006764-cbc8-43fe-c8e4-9acae735ecf3"
      },
      "execution_count": 45,
      "outputs": [
        {
          "output_type": "stream",
          "name": "stdout",
          "text": [
            "              precision    recall  f1-score   support\n",
            "\n",
            "           0       1.00      1.00      1.00      7037\n",
            "           1       1.00      1.00      1.00      1007\n",
            "           2       1.00      1.00      1.00      1009\n",
            "           3       1.00      1.00      1.00       963\n",
            "           4       1.00      1.00      1.00        97\n",
            "           5       1.00      1.00      1.00       109\n",
            "\n",
            "    accuracy                           1.00     10222\n",
            "   macro avg       1.00      1.00      1.00     10222\n",
            "weighted avg       1.00      1.00      1.00     10222\n",
            "\n"
          ]
        }
      ]
    },
    {
      "cell_type": "markdown",
      "source": [
        "## LSTM"
      ],
      "metadata": {
        "id": "0awROBnEsJY-"
      }
    },
    {
      "cell_type": "code",
      "source": [
        "atributos"
      ],
      "metadata": {
        "colab": {
          "base_uri": "https://localhost:8080/",
          "height": 424
        },
        "id": "Rjx2SySt0ZRE",
        "outputId": "005196ae-872b-40f7-ac1e-671a1c1bbc3f"
      },
      "execution_count": 46,
      "outputs": [
        {
          "output_type": "execute_result",
          "data": {
            "text/plain": [
              "             ts  FC1_Read_Input_Register  FC2_Read_Discrete_Value  \\\n",
              "0      0.887750                 0.753720                 0.807523   \n",
              "1      0.887750                 0.753720                 0.807523   \n",
              "2      0.887751                 0.753720                 0.807523   \n",
              "3      0.887751                 0.753720                 0.807523   \n",
              "4      0.887752                 0.620584                 0.682811   \n",
              "...         ...                      ...                      ...   \n",
              "51101  0.050641                 0.955362                 0.019120   \n",
              "51102  0.050642                 0.955362                 0.019120   \n",
              "51103  0.050643                 0.003022                 0.583902   \n",
              "51104  0.050643                 0.003022                 0.583902   \n",
              "51105  0.050644                 0.003022                 0.583902   \n",
              "\n",
              "       FC3_Read_Holding_Register  FC4_Read_Coil  \n",
              "0                       0.393285       0.207907  \n",
              "1                       0.393285       0.207907  \n",
              "2                       0.393285       0.207907  \n",
              "3                       0.393285       0.207907  \n",
              "4                       0.321984       0.539735  \n",
              "...                          ...            ...  \n",
              "51101                   0.194918       0.447386  \n",
              "51102                   0.194918       0.447386  \n",
              "51103                   0.513529       0.680471  \n",
              "51104                   0.513529       0.680471  \n",
              "51105                   0.513529       0.680471  \n",
              "\n",
              "[51106 rows x 5 columns]"
            ],
            "text/html": [
              "\n",
              "  <div id=\"df-07a8b5d7-128b-421b-9bed-5573ea7b60aa\" class=\"colab-df-container\">\n",
              "    <div>\n",
              "<style scoped>\n",
              "    .dataframe tbody tr th:only-of-type {\n",
              "        vertical-align: middle;\n",
              "    }\n",
              "\n",
              "    .dataframe tbody tr th {\n",
              "        vertical-align: top;\n",
              "    }\n",
              "\n",
              "    .dataframe thead th {\n",
              "        text-align: right;\n",
              "    }\n",
              "</style>\n",
              "<table border=\"1\" class=\"dataframe\">\n",
              "  <thead>\n",
              "    <tr style=\"text-align: right;\">\n",
              "      <th></th>\n",
              "      <th>ts</th>\n",
              "      <th>FC1_Read_Input_Register</th>\n",
              "      <th>FC2_Read_Discrete_Value</th>\n",
              "      <th>FC3_Read_Holding_Register</th>\n",
              "      <th>FC4_Read_Coil</th>\n",
              "    </tr>\n",
              "  </thead>\n",
              "  <tbody>\n",
              "    <tr>\n",
              "      <th>0</th>\n",
              "      <td>0.887750</td>\n",
              "      <td>0.753720</td>\n",
              "      <td>0.807523</td>\n",
              "      <td>0.393285</td>\n",
              "      <td>0.207907</td>\n",
              "    </tr>\n",
              "    <tr>\n",
              "      <th>1</th>\n",
              "      <td>0.887750</td>\n",
              "      <td>0.753720</td>\n",
              "      <td>0.807523</td>\n",
              "      <td>0.393285</td>\n",
              "      <td>0.207907</td>\n",
              "    </tr>\n",
              "    <tr>\n",
              "      <th>2</th>\n",
              "      <td>0.887751</td>\n",
              "      <td>0.753720</td>\n",
              "      <td>0.807523</td>\n",
              "      <td>0.393285</td>\n",
              "      <td>0.207907</td>\n",
              "    </tr>\n",
              "    <tr>\n",
              "      <th>3</th>\n",
              "      <td>0.887751</td>\n",
              "      <td>0.753720</td>\n",
              "      <td>0.807523</td>\n",
              "      <td>0.393285</td>\n",
              "      <td>0.207907</td>\n",
              "    </tr>\n",
              "    <tr>\n",
              "      <th>4</th>\n",
              "      <td>0.887752</td>\n",
              "      <td>0.620584</td>\n",
              "      <td>0.682811</td>\n",
              "      <td>0.321984</td>\n",
              "      <td>0.539735</td>\n",
              "    </tr>\n",
              "    <tr>\n",
              "      <th>...</th>\n",
              "      <td>...</td>\n",
              "      <td>...</td>\n",
              "      <td>...</td>\n",
              "      <td>...</td>\n",
              "      <td>...</td>\n",
              "    </tr>\n",
              "    <tr>\n",
              "      <th>51101</th>\n",
              "      <td>0.050641</td>\n",
              "      <td>0.955362</td>\n",
              "      <td>0.019120</td>\n",
              "      <td>0.194918</td>\n",
              "      <td>0.447386</td>\n",
              "    </tr>\n",
              "    <tr>\n",
              "      <th>51102</th>\n",
              "      <td>0.050642</td>\n",
              "      <td>0.955362</td>\n",
              "      <td>0.019120</td>\n",
              "      <td>0.194918</td>\n",
              "      <td>0.447386</td>\n",
              "    </tr>\n",
              "    <tr>\n",
              "      <th>51103</th>\n",
              "      <td>0.050643</td>\n",
              "      <td>0.003022</td>\n",
              "      <td>0.583902</td>\n",
              "      <td>0.513529</td>\n",
              "      <td>0.680471</td>\n",
              "    </tr>\n",
              "    <tr>\n",
              "      <th>51104</th>\n",
              "      <td>0.050643</td>\n",
              "      <td>0.003022</td>\n",
              "      <td>0.583902</td>\n",
              "      <td>0.513529</td>\n",
              "      <td>0.680471</td>\n",
              "    </tr>\n",
              "    <tr>\n",
              "      <th>51105</th>\n",
              "      <td>0.050644</td>\n",
              "      <td>0.003022</td>\n",
              "      <td>0.583902</td>\n",
              "      <td>0.513529</td>\n",
              "      <td>0.680471</td>\n",
              "    </tr>\n",
              "  </tbody>\n",
              "</table>\n",
              "<p>51106 rows × 5 columns</p>\n",
              "</div>\n",
              "    <div class=\"colab-df-buttons\">\n",
              "\n",
              "  <div class=\"colab-df-container\">\n",
              "    <button class=\"colab-df-convert\" onclick=\"convertToInteractive('df-07a8b5d7-128b-421b-9bed-5573ea7b60aa')\"\n",
              "            title=\"Convert this dataframe to an interactive table.\"\n",
              "            style=\"display:none;\">\n",
              "\n",
              "  <svg xmlns=\"http://www.w3.org/2000/svg\" height=\"24px\" viewBox=\"0 -960 960 960\">\n",
              "    <path d=\"M120-120v-720h720v720H120Zm60-500h600v-160H180v160Zm220 220h160v-160H400v160Zm0 220h160v-160H400v160ZM180-400h160v-160H180v160Zm440 0h160v-160H620v160ZM180-180h160v-160H180v160Zm440 0h160v-160H620v160Z\"/>\n",
              "  </svg>\n",
              "    </button>\n",
              "\n",
              "  <style>\n",
              "    .colab-df-container {\n",
              "      display:flex;\n",
              "      gap: 12px;\n",
              "    }\n",
              "\n",
              "    .colab-df-convert {\n",
              "      background-color: #E8F0FE;\n",
              "      border: none;\n",
              "      border-radius: 50%;\n",
              "      cursor: pointer;\n",
              "      display: none;\n",
              "      fill: #1967D2;\n",
              "      height: 32px;\n",
              "      padding: 0 0 0 0;\n",
              "      width: 32px;\n",
              "    }\n",
              "\n",
              "    .colab-df-convert:hover {\n",
              "      background-color: #E2EBFA;\n",
              "      box-shadow: 0px 1px 2px rgba(60, 64, 67, 0.3), 0px 1px 3px 1px rgba(60, 64, 67, 0.15);\n",
              "      fill: #174EA6;\n",
              "    }\n",
              "\n",
              "    .colab-df-buttons div {\n",
              "      margin-bottom: 4px;\n",
              "    }\n",
              "\n",
              "    [theme=dark] .colab-df-convert {\n",
              "      background-color: #3B4455;\n",
              "      fill: #D2E3FC;\n",
              "    }\n",
              "\n",
              "    [theme=dark] .colab-df-convert:hover {\n",
              "      background-color: #434B5C;\n",
              "      box-shadow: 0px 1px 3px 1px rgba(0, 0, 0, 0.15);\n",
              "      filter: drop-shadow(0px 1px 2px rgba(0, 0, 0, 0.3));\n",
              "      fill: #FFFFFF;\n",
              "    }\n",
              "  </style>\n",
              "\n",
              "    <script>\n",
              "      const buttonEl =\n",
              "        document.querySelector('#df-07a8b5d7-128b-421b-9bed-5573ea7b60aa button.colab-df-convert');\n",
              "      buttonEl.style.display =\n",
              "        google.colab.kernel.accessAllowed ? 'block' : 'none';\n",
              "\n",
              "      async function convertToInteractive(key) {\n",
              "        const element = document.querySelector('#df-07a8b5d7-128b-421b-9bed-5573ea7b60aa');\n",
              "        const dataTable =\n",
              "          await google.colab.kernel.invokeFunction('convertToInteractive',\n",
              "                                                    [key], {});\n",
              "        if (!dataTable) return;\n",
              "\n",
              "        const docLinkHtml = 'Like what you see? Visit the ' +\n",
              "          '<a target=\"_blank\" href=https://colab.research.google.com/notebooks/data_table.ipynb>data table notebook</a>'\n",
              "          + ' to learn more about interactive tables.';\n",
              "        element.innerHTML = '';\n",
              "        dataTable['output_type'] = 'display_data';\n",
              "        await google.colab.output.renderOutput(dataTable, element);\n",
              "        const docLink = document.createElement('div');\n",
              "        docLink.innerHTML = docLinkHtml;\n",
              "        element.appendChild(docLink);\n",
              "      }\n",
              "    </script>\n",
              "  </div>\n",
              "\n",
              "\n",
              "<div id=\"df-ded6088b-68c1-41e9-939f-763114e45431\">\n",
              "  <button class=\"colab-df-quickchart\" onclick=\"quickchart('df-ded6088b-68c1-41e9-939f-763114e45431')\"\n",
              "            title=\"Suggest charts\"\n",
              "            style=\"display:none;\">\n",
              "\n",
              "<svg xmlns=\"http://www.w3.org/2000/svg\" height=\"24px\"viewBox=\"0 0 24 24\"\n",
              "     width=\"24px\">\n",
              "    <g>\n",
              "        <path d=\"M19 3H5c-1.1 0-2 .9-2 2v14c0 1.1.9 2 2 2h14c1.1 0 2-.9 2-2V5c0-1.1-.9-2-2-2zM9 17H7v-7h2v7zm4 0h-2V7h2v10zm4 0h-2v-4h2v4z\"/>\n",
              "    </g>\n",
              "</svg>\n",
              "  </button>\n",
              "\n",
              "<style>\n",
              "  .colab-df-quickchart {\n",
              "      --bg-color: #E8F0FE;\n",
              "      --fill-color: #1967D2;\n",
              "      --hover-bg-color: #E2EBFA;\n",
              "      --hover-fill-color: #174EA6;\n",
              "      --disabled-fill-color: #AAA;\n",
              "      --disabled-bg-color: #DDD;\n",
              "  }\n",
              "\n",
              "  [theme=dark] .colab-df-quickchart {\n",
              "      --bg-color: #3B4455;\n",
              "      --fill-color: #D2E3FC;\n",
              "      --hover-bg-color: #434B5C;\n",
              "      --hover-fill-color: #FFFFFF;\n",
              "      --disabled-bg-color: #3B4455;\n",
              "      --disabled-fill-color: #666;\n",
              "  }\n",
              "\n",
              "  .colab-df-quickchart {\n",
              "    background-color: var(--bg-color);\n",
              "    border: none;\n",
              "    border-radius: 50%;\n",
              "    cursor: pointer;\n",
              "    display: none;\n",
              "    fill: var(--fill-color);\n",
              "    height: 32px;\n",
              "    padding: 0;\n",
              "    width: 32px;\n",
              "  }\n",
              "\n",
              "  .colab-df-quickchart:hover {\n",
              "    background-color: var(--hover-bg-color);\n",
              "    box-shadow: 0 1px 2px rgba(60, 64, 67, 0.3), 0 1px 3px 1px rgba(60, 64, 67, 0.15);\n",
              "    fill: var(--button-hover-fill-color);\n",
              "  }\n",
              "\n",
              "  .colab-df-quickchart-complete:disabled,\n",
              "  .colab-df-quickchart-complete:disabled:hover {\n",
              "    background-color: var(--disabled-bg-color);\n",
              "    fill: var(--disabled-fill-color);\n",
              "    box-shadow: none;\n",
              "  }\n",
              "\n",
              "  .colab-df-spinner {\n",
              "    border: 2px solid var(--fill-color);\n",
              "    border-color: transparent;\n",
              "    border-bottom-color: var(--fill-color);\n",
              "    animation:\n",
              "      spin 1s steps(1) infinite;\n",
              "  }\n",
              "\n",
              "  @keyframes spin {\n",
              "    0% {\n",
              "      border-color: transparent;\n",
              "      border-bottom-color: var(--fill-color);\n",
              "      border-left-color: var(--fill-color);\n",
              "    }\n",
              "    20% {\n",
              "      border-color: transparent;\n",
              "      border-left-color: var(--fill-color);\n",
              "      border-top-color: var(--fill-color);\n",
              "    }\n",
              "    30% {\n",
              "      border-color: transparent;\n",
              "      border-left-color: var(--fill-color);\n",
              "      border-top-color: var(--fill-color);\n",
              "      border-right-color: var(--fill-color);\n",
              "    }\n",
              "    40% {\n",
              "      border-color: transparent;\n",
              "      border-right-color: var(--fill-color);\n",
              "      border-top-color: var(--fill-color);\n",
              "    }\n",
              "    60% {\n",
              "      border-color: transparent;\n",
              "      border-right-color: var(--fill-color);\n",
              "    }\n",
              "    80% {\n",
              "      border-color: transparent;\n",
              "      border-right-color: var(--fill-color);\n",
              "      border-bottom-color: var(--fill-color);\n",
              "    }\n",
              "    90% {\n",
              "      border-color: transparent;\n",
              "      border-bottom-color: var(--fill-color);\n",
              "    }\n",
              "  }\n",
              "</style>\n",
              "\n",
              "  <script>\n",
              "    async function quickchart(key) {\n",
              "      const quickchartButtonEl =\n",
              "        document.querySelector('#' + key + ' button');\n",
              "      quickchartButtonEl.disabled = true;  // To prevent multiple clicks.\n",
              "      quickchartButtonEl.classList.add('colab-df-spinner');\n",
              "      try {\n",
              "        const charts = await google.colab.kernel.invokeFunction(\n",
              "            'suggestCharts', [key], {});\n",
              "      } catch (error) {\n",
              "        console.error('Error during call to suggestCharts:', error);\n",
              "      }\n",
              "      quickchartButtonEl.classList.remove('colab-df-spinner');\n",
              "      quickchartButtonEl.classList.add('colab-df-quickchart-complete');\n",
              "    }\n",
              "    (() => {\n",
              "      let quickchartButtonEl =\n",
              "        document.querySelector('#df-ded6088b-68c1-41e9-939f-763114e45431 button');\n",
              "      quickchartButtonEl.style.display =\n",
              "        google.colab.kernel.accessAllowed ? 'block' : 'none';\n",
              "    })();\n",
              "  </script>\n",
              "</div>\n",
              "\n",
              "  <div id=\"id_172078ba-e85b-495f-820a-124eb5c7aa5c\">\n",
              "    <style>\n",
              "      .colab-df-generate {\n",
              "        background-color: #E8F0FE;\n",
              "        border: none;\n",
              "        border-radius: 50%;\n",
              "        cursor: pointer;\n",
              "        display: none;\n",
              "        fill: #1967D2;\n",
              "        height: 32px;\n",
              "        padding: 0 0 0 0;\n",
              "        width: 32px;\n",
              "      }\n",
              "\n",
              "      .colab-df-generate:hover {\n",
              "        background-color: #E2EBFA;\n",
              "        box-shadow: 0px 1px 2px rgba(60, 64, 67, 0.3), 0px 1px 3px 1px rgba(60, 64, 67, 0.15);\n",
              "        fill: #174EA6;\n",
              "      }\n",
              "\n",
              "      [theme=dark] .colab-df-generate {\n",
              "        background-color: #3B4455;\n",
              "        fill: #D2E3FC;\n",
              "      }\n",
              "\n",
              "      [theme=dark] .colab-df-generate:hover {\n",
              "        background-color: #434B5C;\n",
              "        box-shadow: 0px 1px 3px 1px rgba(0, 0, 0, 0.15);\n",
              "        filter: drop-shadow(0px 1px 2px rgba(0, 0, 0, 0.3));\n",
              "        fill: #FFFFFF;\n",
              "      }\n",
              "    </style>\n",
              "    <button class=\"colab-df-generate\" onclick=\"generateWithVariable('atributos')\"\n",
              "            title=\"Generate code using this dataframe.\"\n",
              "            style=\"display:none;\">\n",
              "\n",
              "  <svg xmlns=\"http://www.w3.org/2000/svg\" height=\"24px\"viewBox=\"0 0 24 24\"\n",
              "       width=\"24px\">\n",
              "    <path d=\"M7,19H8.4L18.45,9,17,7.55,7,17.6ZM5,21V16.75L18.45,3.32a2,2,0,0,1,2.83,0l1.4,1.43a1.91,1.91,0,0,1,.58,1.4,1.91,1.91,0,0,1-.58,1.4L9.25,21ZM18.45,9,17,7.55Zm-12,3A5.31,5.31,0,0,0,4.9,8.1,5.31,5.31,0,0,0,1,6.5,5.31,5.31,0,0,0,4.9,4.9,5.31,5.31,0,0,0,6.5,1,5.31,5.31,0,0,0,8.1,4.9,5.31,5.31,0,0,0,12,6.5,5.46,5.46,0,0,0,6.5,12Z\"/>\n",
              "  </svg>\n",
              "    </button>\n",
              "    <script>\n",
              "      (() => {\n",
              "      const buttonEl =\n",
              "        document.querySelector('#id_172078ba-e85b-495f-820a-124eb5c7aa5c button.colab-df-generate');\n",
              "      buttonEl.style.display =\n",
              "        google.colab.kernel.accessAllowed ? 'block' : 'none';\n",
              "\n",
              "      buttonEl.onclick = () => {\n",
              "        google.colab.notebook.generateWithVariable('atributos');\n",
              "      }\n",
              "      })();\n",
              "    </script>\n",
              "  </div>\n",
              "\n",
              "    </div>\n",
              "  </div>\n"
            ],
            "application/vnd.google.colaboratory.intrinsic+json": {
              "type": "dataframe",
              "variable_name": "atributos",
              "summary": "{\n  \"name\": \"atributos\",\n  \"rows\": 51106,\n  \"fields\": [\n    {\n      \"column\": \"ts\",\n      \"properties\": {\n        \"dtype\": \"number\",\n        \"std\": 0.42925015325790433,\n        \"min\": 0.0,\n        \"max\": 1.0,\n        \"num_unique_values\": 24889,\n        \"samples\": [\n          0.039303035538475146,\n          0.04212438920958285,\n          0.8865535590140721\n        ],\n        \"semantic_type\": \"\",\n        \"description\": \"\"\n      }\n    },\n    {\n      \"column\": \"FC1_Read_Input_Register\",\n      \"properties\": {\n        \"dtype\": \"number\",\n        \"std\": 0.28816892966136304,\n        \"min\": 0.0,\n        \"max\": 1.0,\n        \"num_unique_values\": 12478,\n        \"samples\": [\n          0.40172753216231477,\n          0.5007554137988921,\n          0.4590779373388069\n        ],\n        \"semantic_type\": \"\",\n        \"description\": \"\"\n      }\n    },\n    {\n      \"column\": \"FC2_Read_Discrete_Value\",\n      \"properties\": {\n        \"dtype\": \"number\",\n        \"std\": 0.2901253958446972,\n        \"min\": 0.0,\n        \"max\": 1.0,\n        \"num_unique_values\": 12511,\n        \"samples\": [\n          0.2909895475700008,\n          0.10901045242999924,\n          0.7397573815518426\n        ],\n        \"semantic_type\": \"\",\n        \"description\": \"\"\n      }\n    },\n    {\n      \"column\": \"FC3_Read_Holding_Register\",\n      \"properties\": {\n        \"dtype\": \"number\",\n        \"std\": 0.28869972535431604,\n        \"min\": 0.0,\n        \"max\": 1.0,\n        \"num_unique_values\": 12465,\n        \"samples\": [\n          0.2222663105684853,\n          0.5513620755436857,\n          0.2716520412056467\n        ],\n        \"semantic_type\": \"\",\n        \"description\": \"\"\n      }\n    },\n    {\n      \"column\": \"FC4_Read_Coil\",\n      \"properties\": {\n        \"dtype\": \"number\",\n        \"std\": 0.287851638904275,\n        \"min\": 0.0,\n        \"max\": 1.0,\n        \"num_unique_values\": 12503,\n        \"samples\": [\n          0.9579149754325998,\n          0.4323404644917142,\n          0.2967162083803827\n        ],\n        \"semantic_type\": \"\",\n        \"description\": \"\"\n      }\n    }\n  ]\n}"
            }
          },
          "metadata": {},
          "execution_count": 46
        }
      ]
    },
    {
      "cell_type": "code",
      "source": [
        "# Definindo um modelador de dados para a entrada da rede LSTM\n",
        "def df_to_X_y2(df, window_size = 5):\n",
        "  df_as_np = df.to_numpy()\n",
        "  X = []\n",
        "  y = []\n",
        "  for i in range(len(df_as_np)- window_size):\n",
        "    row = [r for r in df_as_np[i:i+window_size]]\n",
        "    X.append(row)\n",
        "    label = df_as_np[i+window_size][0]\n",
        "    y.append(label)\n",
        "  return np.array(X), np.array(y)"
      ],
      "metadata": {
        "id": "Ce0632ADztmA"
      },
      "execution_count": 47,
      "outputs": []
    },
    {
      "cell_type": "code",
      "source": [
        "# Modelando os dados com janela tamanho 5\n",
        "WINDOW_SIZE = 5\n",
        "X1, y1 = df_to_X_y2(atributos, WINDOW_SIZE)"
      ],
      "metadata": {
        "id": "KITJNd1oslQF"
      },
      "execution_count": 48,
      "outputs": []
    },
    {
      "cell_type": "code",
      "source": [
        "X1.shape\n"
      ],
      "metadata": {
        "colab": {
          "base_uri": "https://localhost:8080/"
        },
        "id": "XPvecHwDtP4m",
        "outputId": "b5ee922c-6d1f-4a9d-cfc1-dec796f5e345"
      },
      "execution_count": 49,
      "outputs": [
        {
          "output_type": "execute_result",
          "data": {
            "text/plain": [
              "(51101, 5, 5)"
            ]
          },
          "metadata": {},
          "execution_count": 49
        }
      ]
    },
    {
      "cell_type": "code",
      "source": [
        "labels_2 = classe[5:]"
      ],
      "metadata": {
        "id": "I0iKcr91tbN3"
      },
      "execution_count": 50,
      "outputs": []
    },
    {
      "cell_type": "code",
      "source": [
        "labels_2.shape"
      ],
      "metadata": {
        "colab": {
          "base_uri": "https://localhost:8080/"
        },
        "id": "1nAK7z91tpvH",
        "outputId": "ffe4ecc8-2243-450a-8f28-84ef370c323c"
      },
      "execution_count": 51,
      "outputs": [
        {
          "output_type": "execute_result",
          "data": {
            "text/plain": [
              "(51101,)"
            ]
          },
          "metadata": {},
          "execution_count": 51
        }
      ]
    },
    {
      "cell_type": "code",
      "source": [
        "# Dividindo dados de treino e teste na proporção 80% e 20%\n",
        "X_train, X_test, y_train, y_test = train_test_split(X1, labels_2, test_size=0.2, random_state=42)"
      ],
      "metadata": {
        "id": "0Hn9ZD0at-uo"
      },
      "execution_count": 52,
      "outputs": []
    },
    {
      "cell_type": "code",
      "source": [
        "X_train.shape"
      ],
      "metadata": {
        "colab": {
          "base_uri": "https://localhost:8080/"
        },
        "id": "CFAioJIpuzbV",
        "outputId": "7047ab2f-a334-4987-ef52-fab0711e57a3"
      },
      "execution_count": 53,
      "outputs": [
        {
          "output_type": "execute_result",
          "data": {
            "text/plain": [
              "(40880, 5, 5)"
            ]
          },
          "metadata": {},
          "execution_count": 53
        }
      ]
    },
    {
      "cell_type": "code",
      "source": [
        "model1 = Sequential()\n",
        "model1.add(InputLayer(input_shape=(5,5)))  # Adicione input_shape para representar timesteps e features\n",
        "model1.add(LSTM(64))\n",
        "model1.add(Dense(128, activation='tanh'))\n",
        "model1.add(Dropout(0.2))\n",
        "model1.add(Dense(100, activation='tanh'))\n",
        "model1.add(Dropout(0.2))\n",
        "model1.add(Dense(64, activation='tanh'))\n",
        "model1.add(Dropout(0.2))\n",
        "model1.add(Dense(8, activation='sigmoid'))\n",
        "\n",
        "model1.build(input_shape=(None, 1, 2))"
      ],
      "metadata": {
        "id": "6cEmtLEXtA04"
      },
      "execution_count": 54,
      "outputs": []
    },
    {
      "cell_type": "code",
      "source": [
        "model1.summary()"
      ],
      "metadata": {
        "colab": {
          "base_uri": "https://localhost:8080/"
        },
        "id": "e85zbMbptLRN",
        "outputId": "093854e9-05cf-446d-9c3e-92a93c3c99b5"
      },
      "execution_count": 55,
      "outputs": [
        {
          "output_type": "stream",
          "name": "stdout",
          "text": [
            "Model: \"sequential\"\n",
            "_________________________________________________________________\n",
            " Layer (type)                Output Shape              Param #   \n",
            "=================================================================\n",
            " lstm (LSTM)                 (None, 64)                17920     \n",
            "                                                                 \n",
            " dense (Dense)               (None, 128)               8320      \n",
            "                                                                 \n",
            " dropout (Dropout)           (None, 128)               0         \n",
            "                                                                 \n",
            " dense_1 (Dense)             (None, 100)               12900     \n",
            "                                                                 \n",
            " dropout_1 (Dropout)         (None, 100)               0         \n",
            "                                                                 \n",
            " dense_2 (Dense)             (None, 64)                6464      \n",
            "                                                                 \n",
            " dropout_2 (Dropout)         (None, 64)                0         \n",
            "                                                                 \n",
            " dense_3 (Dense)             (None, 8)                 520       \n",
            "                                                                 \n",
            "=================================================================\n",
            "Total params: 46124 (180.17 KB)\n",
            "Trainable params: 46124 (180.17 KB)\n",
            "Non-trainable params: 0 (0.00 Byte)\n",
            "_________________________________________________________________\n"
          ]
        }
      ]
    },
    {
      "cell_type": "code",
      "source": [
        "cp1 = ModelCheckpoint('model1/', save_best_only=True)\n",
        "model1.compile(loss = 'sparse_categorical_crossentropy' , optimizer = Adam(learning_rate=0.0001), metrics = ['sparse_categorical_accuracy'])"
      ],
      "metadata": {
        "id": "hOxo6hLntOgI"
      },
      "execution_count": 56,
      "outputs": []
    },
    {
      "cell_type": "code",
      "source": [
        "history = model1.fit(X_train, y_train, validation_data=(X_test, y_test), epochs=40, callbacks=[cp1])"
      ],
      "metadata": {
        "colab": {
          "base_uri": "https://localhost:8080/"
        },
        "id": "cJjH51zWuKLu",
        "outputId": "29471ccf-bb75-4ae8-ff07-565237a318f7"
      },
      "execution_count": 57,
      "outputs": [
        {
          "output_type": "stream",
          "name": "stdout",
          "text": [
            "Epoch 1/40\n",
            "1278/1278 [==============================] - 15s 10ms/step - loss: 0.5377 - sparse_categorical_accuracy: 0.7885 - val_loss: 0.3660 - val_sparse_categorical_accuracy: 0.8545\n",
            "Epoch 2/40\n",
            "1278/1278 [==============================] - 13s 10ms/step - loss: 0.2631 - sparse_categorical_accuracy: 0.9133 - val_loss: 0.1159 - val_sparse_categorical_accuracy: 0.9775\n",
            "Epoch 3/40\n",
            "1278/1278 [==============================] - 12s 9ms/step - loss: 0.0951 - sparse_categorical_accuracy: 0.9766 - val_loss: 0.0495 - val_sparse_categorical_accuracy: 0.9879\n",
            "Epoch 4/40\n",
            "1278/1278 [==============================] - 13s 10ms/step - loss: 0.0534 - sparse_categorical_accuracy: 0.9857 - val_loss: 0.0315 - val_sparse_categorical_accuracy: 0.9921\n",
            "Epoch 5/40\n",
            "1278/1278 [==============================] - 14s 11ms/step - loss: 0.0407 - sparse_categorical_accuracy: 0.9885 - val_loss: 0.0302 - val_sparse_categorical_accuracy: 0.9975\n",
            "Epoch 6/40\n",
            "1278/1278 [==============================] - 26s 21ms/step - loss: 0.0301 - sparse_categorical_accuracy: 0.9923 - val_loss: 0.0198 - val_sparse_categorical_accuracy: 0.9972\n",
            "Epoch 7/40\n",
            "1278/1278 [==============================] - 10s 8ms/step - loss: 0.0286 - sparse_categorical_accuracy: 0.9924 - val_loss: 0.0328 - val_sparse_categorical_accuracy: 0.9940\n",
            "Epoch 8/40\n",
            "1278/1278 [==============================] - 12s 10ms/step - loss: 0.0228 - sparse_categorical_accuracy: 0.9944 - val_loss: 0.0163 - val_sparse_categorical_accuracy: 0.9985\n",
            "Epoch 9/40\n",
            "1278/1278 [==============================] - 13s 10ms/step - loss: 0.0201 - sparse_categorical_accuracy: 0.9959 - val_loss: 0.0148 - val_sparse_categorical_accuracy: 0.9986\n",
            "Epoch 10/40\n",
            "1278/1278 [==============================] - 13s 10ms/step - loss: 0.0186 - sparse_categorical_accuracy: 0.9957 - val_loss: 0.0143 - val_sparse_categorical_accuracy: 0.9987\n",
            "Epoch 11/40\n",
            "1278/1278 [==============================] - 9s 7ms/step - loss: 0.0182 - sparse_categorical_accuracy: 0.9962 - val_loss: 0.0635 - val_sparse_categorical_accuracy: 0.9706\n",
            "Epoch 12/40\n",
            "1278/1278 [==============================] - 13s 10ms/step - loss: 0.0201 - sparse_categorical_accuracy: 0.9949 - val_loss: 0.0137 - val_sparse_categorical_accuracy: 0.9989\n",
            "Epoch 13/40\n",
            "1278/1278 [==============================] - 8s 6ms/step - loss: 0.0176 - sparse_categorical_accuracy: 0.9964 - val_loss: 0.0139 - val_sparse_categorical_accuracy: 0.9988\n",
            "Epoch 14/40\n",
            "1278/1278 [==============================] - 12s 10ms/step - loss: 0.0181 - sparse_categorical_accuracy: 0.9957 - val_loss: 0.0132 - val_sparse_categorical_accuracy: 0.9988\n",
            "Epoch 15/40\n",
            "1278/1278 [==============================] - 15s 12ms/step - loss: 0.0194 - sparse_categorical_accuracy: 0.9957 - val_loss: 0.0234 - val_sparse_categorical_accuracy: 0.9932\n",
            "Epoch 16/40\n",
            "1278/1278 [==============================] - 9s 7ms/step - loss: 0.0161 - sparse_categorical_accuracy: 0.9965 - val_loss: 0.0139 - val_sparse_categorical_accuracy: 0.9982\n",
            "Epoch 17/40\n",
            "1278/1278 [==============================] - 10s 8ms/step - loss: 0.0177 - sparse_categorical_accuracy: 0.9964 - val_loss: 0.0133 - val_sparse_categorical_accuracy: 0.9989\n",
            "Epoch 18/40\n",
            "1278/1278 [==============================] - 15s 11ms/step - loss: 0.0152 - sparse_categorical_accuracy: 0.9971 - val_loss: 0.0129 - val_sparse_categorical_accuracy: 0.9988\n",
            "Epoch 19/40\n",
            "1278/1278 [==============================] - 9s 7ms/step - loss: 0.0189 - sparse_categorical_accuracy: 0.9957 - val_loss: 0.0679 - val_sparse_categorical_accuracy: 0.9893\n",
            "Epoch 20/40\n",
            "1278/1278 [==============================] - 13s 10ms/step - loss: 0.0176 - sparse_categorical_accuracy: 0.9961 - val_loss: 0.0127 - val_sparse_categorical_accuracy: 0.9990\n",
            "Epoch 21/40\n",
            "1278/1278 [==============================] - 9s 7ms/step - loss: 0.0179 - sparse_categorical_accuracy: 0.9962 - val_loss: 0.0276 - val_sparse_categorical_accuracy: 0.9938\n",
            "Epoch 22/40\n",
            "1278/1278 [==============================] - 13s 10ms/step - loss: 0.0186 - sparse_categorical_accuracy: 0.9961 - val_loss: 0.0123 - val_sparse_categorical_accuracy: 0.9989\n",
            "Epoch 23/40\n",
            "1278/1278 [==============================] - 10s 8ms/step - loss: 0.0153 - sparse_categorical_accuracy: 0.9969 - val_loss: 0.0603 - val_sparse_categorical_accuracy: 0.9893\n",
            "Epoch 24/40\n",
            "1278/1278 [==============================] - 9s 7ms/step - loss: 0.0165 - sparse_categorical_accuracy: 0.9963 - val_loss: 0.0128 - val_sparse_categorical_accuracy: 0.9987\n",
            "Epoch 25/40\n",
            "1278/1278 [==============================] - 10s 8ms/step - loss: 0.0162 - sparse_categorical_accuracy: 0.9965 - val_loss: 0.0314 - val_sparse_categorical_accuracy: 0.9917\n",
            "Epoch 26/40\n",
            "1278/1278 [==============================] - 10s 8ms/step - loss: 0.0131 - sparse_categorical_accuracy: 0.9977 - val_loss: 0.3160 - val_sparse_categorical_accuracy: 0.9057\n",
            "Epoch 27/40\n",
            "1278/1278 [==============================] - 14s 11ms/step - loss: 0.0211 - sparse_categorical_accuracy: 0.9956 - val_loss: 0.0121 - val_sparse_categorical_accuracy: 0.9989\n",
            "Epoch 28/40\n",
            "1278/1278 [==============================] - 8s 7ms/step - loss: 0.0155 - sparse_categorical_accuracy: 0.9969 - val_loss: 0.0124 - val_sparse_categorical_accuracy: 0.9989\n",
            "Epoch 29/40\n",
            "1278/1278 [==============================] - 9s 7ms/step - loss: 0.0163 - sparse_categorical_accuracy: 0.9968 - val_loss: 0.0223 - val_sparse_categorical_accuracy: 0.9932\n",
            "Epoch 30/40\n",
            "1278/1278 [==============================] - 9s 7ms/step - loss: 0.0114 - sparse_categorical_accuracy: 0.9981 - val_loss: 0.0173 - val_sparse_categorical_accuracy: 0.9965\n",
            "Epoch 31/40\n",
            "1278/1278 [==============================] - 8s 6ms/step - loss: 0.0170 - sparse_categorical_accuracy: 0.9962 - val_loss: 0.0596 - val_sparse_categorical_accuracy: 0.9893\n",
            "Epoch 32/40\n",
            "1278/1278 [==============================] - 9s 7ms/step - loss: 0.0162 - sparse_categorical_accuracy: 0.9962 - val_loss: 0.0121 - val_sparse_categorical_accuracy: 0.9989\n",
            "Epoch 33/40\n",
            "1278/1278 [==============================] - 8s 7ms/step - loss: 0.0105 - sparse_categorical_accuracy: 0.9983 - val_loss: 0.0339 - val_sparse_categorical_accuracy: 0.9906\n",
            "Epoch 34/40\n",
            "1278/1278 [==============================] - 12s 10ms/step - loss: 0.0164 - sparse_categorical_accuracy: 0.9963 - val_loss: 0.0119 - val_sparse_categorical_accuracy: 0.9989\n",
            "Epoch 35/40\n",
            "1278/1278 [==============================] - 8s 7ms/step - loss: 0.0145 - sparse_categorical_accuracy: 0.9971 - val_loss: 0.0302 - val_sparse_categorical_accuracy: 0.9913\n",
            "Epoch 36/40\n",
            "1278/1278 [==============================] - 9s 7ms/step - loss: 0.0150 - sparse_categorical_accuracy: 0.9965 - val_loss: 0.0156 - val_sparse_categorical_accuracy: 0.9973\n",
            "Epoch 37/40\n",
            "1278/1278 [==============================] - 8s 6ms/step - loss: 0.0140 - sparse_categorical_accuracy: 0.9974 - val_loss: 0.0247 - val_sparse_categorical_accuracy: 0.9954\n",
            "Epoch 38/40\n",
            "1278/1278 [==============================] - 11s 9ms/step - loss: 0.0174 - sparse_categorical_accuracy: 0.9964 - val_loss: 0.0123 - val_sparse_categorical_accuracy: 0.9984\n",
            "Epoch 39/40\n",
            "1278/1278 [==============================] - 8s 6ms/step - loss: 0.0139 - sparse_categorical_accuracy: 0.9973 - val_loss: 0.0128 - val_sparse_categorical_accuracy: 0.9981\n",
            "Epoch 40/40\n",
            "1278/1278 [==============================] - 13s 10ms/step - loss: 0.0145 - sparse_categorical_accuracy: 0.9967 - val_loss: 0.0117 - val_sparse_categorical_accuracy: 0.9986\n"
          ]
        }
      ]
    },
    {
      "cell_type": "code",
      "source": [
        "# Obtendo a acurácia do histórico\n",
        "accuracy = history.history['sparse_categorical_accuracy']\n",
        "val_accuracy = history.history['val_sparse_categorical_accuracy']\n",
        "\n",
        "# Obtendo as épocas\n",
        "epochs = range(1, len(accuracy) + 1)\n",
        "\n",
        "# Plotando a acurácia\n",
        "plt.plot(epochs, accuracy, '-', label='Accuracy Train')\n",
        "plt.plot(epochs, val_accuracy, '--', label='Accuracy Validation')\n",
        "plt.title('Accuracy of training and validation over time')\n",
        "plt.xlabel('Epoch')\n",
        "plt.ylabel('Accuracy')\n",
        "plt.legend()\n",
        "plt.grid()\n",
        "plt.show()"
      ],
      "metadata": {
        "colab": {
          "base_uri": "https://localhost:8080/",
          "height": 472
        },
        "id": "wigMCVCneG3p",
        "outputId": "bd00b144-0679-469f-fa15-98f5610d3ed5"
      },
      "execution_count": 58,
      "outputs": [
        {
          "output_type": "display_data",
          "data": {
            "text/plain": [
              "<Figure size 640x480 with 1 Axes>"
            ],
            "image/png": "[encoded data removed]"
          },
          "metadata": {}
        }
      ]
    },
    {
      "cell_type": "code",
      "source": [
        "test_loss, test_accuracy = model1.evaluate(X_test, y_test)"
      ],
      "metadata": {
        "colab": {
          "base_uri": "https://localhost:8080/"
        },
        "id": "WVh3n-023S7G",
        "outputId": "50e0a39b-e929-4bac-973c-f971c0c9bc09"
      },
      "execution_count": 59,
      "outputs": [
        {
          "output_type": "stream",
          "name": "stdout",
          "text": [
            "320/320 [==============================] - 1s 3ms/step - loss: 0.0117 - sparse_categorical_accuracy: 0.9986\n"
          ]
        }
      ]
    },
    {
      "cell_type": "code",
      "source": [
        "# Obtém as previsões do modelo para os dados de teste\n",
        "y_pred = model1.predict(X_test)\n",
        "\n",
        "# Converte as previsões para rótulos binários (0 ou 1) para cada classe individualmente\n",
        "y_pred_binary = np.argmax(y_pred, axis=1)\n",
        "\n",
        "# Calcula o recall para cada classe individualmente\n",
        "recall_per_class = recall_score(y_test, y_pred_binary, average=None)\n",
        "\n",
        "# Calcula a precisão para cada classe individualmente\n",
        "precision_per_class = precision_score(y_test, y_pred_binary, average=None)\n",
        "\n",
        "# Calcula o F-score para cada classe individualmente\n",
        "f_score_per_class = f1_score(y_test, y_pred_binary, average=None)\n",
        "\n",
        "# Calcula a média ponderada dos recalls\n",
        "weighted_recall = recall_score(y_test, y_pred_binary, average='weighted')\n",
        "\n",
        "# Calcula a média ponderada da precisão\n",
        "weighted_precision = precision_score(y_test, y_pred_binary, average='weighted')\n",
        "\n",
        "# Calcula a média ponderada do F-score\n",
        "weighted_f_score = f1_score(y_test, y_pred_binary, average='weighted')\n",
        "\n",
        "# Imprime a Accuracy\n",
        "print(\"Accuracy: {:.4f}\".format(test_accuracy))\n",
        "\n",
        "# Imprime a média ponderada da precisão\n",
        "print(\"Weighted Precision: {:.4f}\".format(weighted_precision))\n",
        "\n",
        "# Imprime a média ponderada do F-score\n",
        "print(\"Weighted F-score: {:.4f}\".format(weighted_f_score))\n",
        "\n",
        "# Imprime a média ponderada dos recalls\n",
        "print(\"Weighted Recall: {:.4f}\".format(weighted_recall))"
      ],
      "metadata": {
        "colab": {
          "base_uri": "https://localhost:8080/"
        },
        "id": "wRxp_zA9g93L",
        "outputId": "479d3e90-6b1d-417c-80e1-52427a3b4511"
      },
      "execution_count": 60,
      "outputs": [
        {
          "output_type": "stream",
          "name": "stdout",
          "text": [
            "320/320 [==============================] - 1s 2ms/step\n",
            "Accuracy: 0.9986\n",
            "Weighted Precision: 0.9986\n",
            "Weighted F-score: 0.9986\n",
            "Weighted Recall: 0.9986\n"
          ]
        }
      ]
    }
  ]
}